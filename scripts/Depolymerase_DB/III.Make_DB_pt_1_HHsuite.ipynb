{
 "cells": [
  {
   "cell_type": "markdown",
   "metadata": {},
   "source": [
    "# Generate the a3m and hmm files for the DBv3\n",
    "***\n"
   ]
  },
  {
   "cell_type": "markdown",
   "metadata": {},
   "source": [
    "## 0. Inspection"
   ]
  },
  {
   "cell_type": "code",
   "execution_count": null,
   "metadata": {},
   "outputs": [],
   "source": [
    "from tqdm import tqdm\n",
    "import os \n",
    "\n",
    "path_db = \"/home/conchae/databases/depolymerase_building/make_db_try3\"\n",
    "path_fasta = [f\"{path_db}/{file}\" for file in os.listdir(path_db) if file.count(\"MSA\")<1]\n",
    "\n",
    "dico_length = {}\n",
    "for path in tqdm(path_fasta) :\n",
    "    ipr = path.split(\"/\")[-1].split(\".fasta\")[0]\n",
    "    len_sequence = len(open(path).read().split(\">\")[0:-1])\n",
    "    dico_length[ipr] = len_sequence"
   ]
  },
  {
   "cell_type": "markdown",
   "metadata": {},
   "source": [
    "***\n",
    "## I. Build the MSA (FAMSA)"
   ]
  },
  {
   "cell_type": "code",
   "execution_count": null,
   "metadata": {},
   "outputs": [],
   "source": [
    "import pandas as pd\n",
    "from tqdm import tqdm\n",
    "import os \n",
    "import subprocess\n",
    "from multiprocessing.pool import ThreadPool\n",
    "from Bio import SeqIO\n",
    "\n",
    "path_db = \"/home/conchae/databases/depolymerase_building/make_db_try3\"\n",
    "path_fasta = [f\"{path_db}/{file}\" for file in os.listdir(path_db) if file.count(\"MSA\")<1]\n",
    "\n",
    "def run_famsa(path_fasta) :\n",
    "    import subprocess\n",
    "    ipr = path.split(\"/\")[-1].split(\".fasta\")[0]\n",
    "    path_out =  \"/\".join(path.split(\"/\")[0:-1]) + f\"/{ipr}.MSA.fasta\"\n",
    "    align_cmd = f\"famsa -gt sl -t 10 {path_fasta} {path_out}\"    \n",
    "    align_subprocess = subprocess.Popen (align_cmd , shell = True, stdout = subprocess.PIPE, stderr = subprocess.STDOUT)\n",
    "    align_out, align_err = align_subprocess.communicate()\n",
    "    return align_out, align_err\n",
    "        \n",
    "if __name__ == '__main__':\n",
    "    with ThreadPool(3) as pool:\n",
    "        pool.map(run_famsa,path_fasta, chunksize = len(path_fasta)/3)\n",
    "        \n",
    "# *****************************************************************************************************************************\n",
    "#!/bin/bash\n",
    "#BATCH --job-name=FAMSA\n",
    "#SBATCH --partition=long\n",
    "#SBATCH --ntasks=1 \n",
    "#SBATCH --cpus-per-task=60 \n",
    "#SBATCH --mem=100gb \n",
    "#SBATCH --time=01-00:00:00 \n",
    "#SBATCH --output=FAMSA__%j.log \n",
    "\n",
    "source /storage/apps/ANACONDA/anaconda3/etc/profile.d/conda.sh\n",
    "conda activate bio_phylo\n",
    "\n",
    "python /home/conchae/databases/depolymerase_building/script_files/try_3/famsa_c50.py"
   ]
  },
  {
   "cell_type": "markdown",
   "metadata": {},
   "source": [
    "***\n",
    "## II. Filter the MSA"
   ]
  },
  {
   "cell_type": "code",
   "execution_count": null,
   "metadata": {},
   "outputs": [],
   "source": [
    "import pandas as pd\n",
    "from tqdm import tqdm\n",
    "import os \n",
    "import subprocess\n",
    "from multiprocessing.pool import ThreadPool\n",
    "from Bio import SeqIO\n",
    "\n",
    "path_db = \"/home/conchae/databases/depolymerase_building/make_db_try3\"\n",
    "path_fasta = [f\"{path_db}/{file}\" for file in os.listdir(path_db) if file.count(\"MSA.fasta\")>0]\n",
    "\n",
    "def filter_MSA(i_file) :\n",
    "    out_path = \"/\".join(i_file.split(\"/\")[0:-1])\n",
    "    file_name = i_file.split(\"/\")[-1].split(\".MSA.fasta\")[0]\n",
    "    o_file = f\"{out_path}/{file_name}.filtered.MSA.fasta\"    \n",
    "    # ***********************************\n",
    "    filter_cmd = f\"hhfilter -i {i_file} -o {o_file} -id 95\"\n",
    "    filter_subprocess = subprocess.Popen (filter_cmd , shell = True, stdout = subprocess.PIPE, stderr = subprocess.STDOUT)\n",
    "    filter_out, filter_err = filter_subprocess.communicate()\n",
    "    print(i_file, \"Done\", sep=\"\\t\")\n",
    "    \n",
    "results = list(map(filter_MSA, path_fasta))"
   ]
  },
  {
   "cell_type": "markdown",
   "metadata": {},
   "source": [
    "***\n",
    "## III. Reformat the MSA into a3m"
   ]
  },
  {
   "cell_type": "code",
   "execution_count": null,
   "metadata": {},
   "outputs": [],
   "source": [
    "import pandas as pd\n",
    "from tqdm import tqdm\n",
    "import os \n",
    "import subprocess\n",
    "from multiprocessing.pool import ThreadPool\n",
    "from Bio import SeqIO\n",
    "\n",
    "path_db = \"/home/conchae/databases/depolymerase_building/make_db_try3\"\n",
    "path_fasta = [f\"{path_db}/{file}\" for file in os.listdir(path_db) if file.count(\"filtered.MSA.fasta\")>0]\n",
    "\n",
    "\n",
    "def reformat_MSA(i_file) :\n",
    "    import subprocess\n",
    "    out_path = \"/\".join(i_file.split(\"/\")[0:-1])\n",
    "    file_name = i_file.split(\"/\")[-1].split(\".fasta\")[0]\n",
    "    o_file = f\"{out_path}/{file_name}.a3m\"    \n",
    "    # ***********************************\n",
    "    filter_cmd = f\"reformat.pl fas a3m  {i_file} {o_file}\"\n",
    "    filter_subprocess = subprocess.Popen (filter_cmd , shell = True, stdout = subprocess.PIPE, stderr = subprocess.STDOUT)\n",
    "    filter_out, filter_err = filter_subprocess.communicate()\n",
    "    print(i_file, \"Done\", sep=\"\\t\")\n",
    "    \n",
    "results = list(map(reformat_MSA, path_fasta))"
   ]
  },
  {
   "cell_type": "markdown",
   "metadata": {},
   "source": [
    "***\n",
    "### III. Build HMM profile "
   ]
  },
  {
   "cell_type": "code",
   "execution_count": null,
   "metadata": {},
   "outputs": [],
   "source": [
    "import pandas as pd\n",
    "from tqdm import tqdm\n",
    "import os \n",
    "import subprocess\n",
    "from multiprocessing.pool import ThreadPool\n",
    "from Bio import SeqIO\n",
    "\n",
    "path_db = \"/home/conchae/databases/depolymerase_building/make_db_try3\"\n",
    "path_fasta = [f\"{path_db}/{file}\" for file in os.listdir(path_db) if file.count(\"filtered.MSA.fasta\")>0]\n",
    "\n",
    "def build_hmm(i_file) :\n",
    "    import subprocess\n",
    "    out_path = \"/\".join(i_file.split(\"/\")[0:-1])\n",
    "    file_name = i_file.split(\"/\")[-1].split(\".a3m\")[0]\n",
    "    o_file = f\"{out_path}/{file_name}.hmm\"    \n",
    "    # ***********************************\n",
    "    build_cmd = f\"hmmbuild {o_file} {i_file}\"\n",
    "    build_subprocess = subprocess.Popen (build_cmd , shell = True, stdout = subprocess.PIPE, stderr = subprocess.STDOUT)\n",
    "    filter_out, filter_err = build_subprocess.communicate()\n",
    "    print(o_file , filter_out , filter_err)\n",
    "    \n",
    "results = list(map(build_hmm, path_fasta))"
   ]
  },
  {
   "cell_type": "markdown",
   "metadata": {},
   "source": [
    "***\n",
    "### IV. Make the DB"
   ]
  },
  {
   "cell_type": "code",
   "execution_count": null,
   "metadata": {},
   "outputs": [],
   "source": [
    "# ! conda activate HH-suite3\n",
    "export PATH=\"/media/concha-eloko/Linux/softwares/hh-suite/lib/ffindex/src:$PATH\"\n",
    "HHLIB=\"/media/concha-eloko/Linux/conda_envs/HH-suite3\"\n",
    "# modify the script hhsuitedb.py : \n",
    "# l 110 :  hhlib_environment = os.environ['HHLIB'] -- > hhlib_environment = \"/media/concha-eloko/Linux/conda_envs/HH-suite3\"\n",
    "python3 /media/concha-eloko/Linux/softwares/hh-suite/scripts/hhsuitedb.py \\\n",
    "-o /media/concha-eloko/Linux/depolymerase_project/DBsuite_depolymerase/depolymerase_db.suite \\\n",
    "--ihhm=/media/concha-eloko/Linux/depolymerase_project/clean_files/*.hmm \\\n",
    "--ia3m=/media/concha-eloko/Linux/depolymerase_project/clean_files/*.a3m \\\n",
    "--cpu=2 \\\n",
    "--force"
   ]
  }
 ],
 "metadata": {
  "kernelspec": {
   "display_name": "Python 3",
   "language": "python",
   "name": "python3"
  },
  "language_info": {
   "codemirror_mode": {
    "name": "ipython",
    "version": 3
   },
   "file_extension": ".py",
   "mimetype": "text/x-python",
   "name": "python",
   "nbconvert_exporter": "python",
   "pygments_lexer": "ipython3",
   "version": "3.7.6"
  }
 },
 "nbformat": 4,
 "nbformat_minor": 4
}
