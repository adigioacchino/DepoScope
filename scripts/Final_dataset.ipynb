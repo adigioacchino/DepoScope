{
 "cells": [
  {
   "cell_type": "code",
   "execution_count": null,
   "metadata": {},
   "outputs": [],
   "source": [
    "# The current millard_depo contains 11513 proteins. Let's cluster at 95% to reduce the dataset:\n",
    "\n",
    "import os\n",
    "\n",
    "path_work = \"/media/concha-eloko/Linux/DepoPhagedetection_work\"\n",
    "\n",
    "\n",
    "dataset = f\"{path_work}/millard_depo.indexed.v3.fasta\"\n",
    "\n",
    "cd-hit -i millard_depo.indexed.v3.fasta -o millard_depo.indexed.v3.reduced.fasta -c 0.95 -G 0 -aL 0.8"
   ]
  },
  {
   "cell_type": "code",
   "execution_count": 4,
   "metadata": {},
   "outputs": [
    {
     "data": {
      "text/plain": [
       "6973"
      ]
     },
     "execution_count": 4,
     "metadata": {},
     "output_type": "execute_result"
    }
   ],
   "source": [
    "from Bio import SeqIO\n",
    "import os\n",
    "\n",
    "path_work = \"/media/concha-eloko/Linux/DepoPhagedetection_work\"\n",
    "\n",
    "reduced = SeqIO.parse(f\"{path_work}/millard_depo.indexed.v3.reduced.fasta\" , \"fasta\")\n",
    "\n",
    "n = 0\n",
    "for record in reduced :\n",
    "    n+=1\n",
    "n"
   ]
  },
  {
   "cell_type": "code",
   "execution_count": null,
   "metadata": {},
   "outputs": [],
   "source": [
    "n = 0\n",
    "for record in reduced :\n",
    "    if record.\n",
    "    n+=1"
   ]
  }
 ],
 "metadata": {
  "kernelspec": {
   "display_name": "Python 3",
   "language": "python",
   "name": "python3"
  },
  "language_info": {
   "codemirror_mode": {
    "name": "ipython",
    "version": 3
   },
   "file_extension": ".py",
   "mimetype": "text/x-python",
   "name": "python",
   "nbconvert_exporter": "python",
   "pygments_lexer": "ipython3",
   "version": "3.7.6"
  }
 },
 "nbformat": 4,
 "nbformat_minor": 4
}
