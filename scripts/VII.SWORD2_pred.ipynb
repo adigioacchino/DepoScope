{
 "cells": [
  {
   "cell_type": "markdown",
   "metadata": {},
   "source": [
    "# Make the SWORD2 prediction \n",
    "***\n",
    "### I. The prediction \n",
    "### II. Scan through the IPR results\n",
    "***"
   ]
  },
  {
   "cell_type": "code",
   "execution_count": null,
   "metadata": {},
   "outputs": [],
   "source": [
    "import os \n",
    "import subprocess\n",
    "from multiprocessing.pool import ThreadPool\n",
    "\n",
    "path_work = \"/home/conchae/PhageDepo_pdb\"\n",
    "path_pdb = f\"{path_work}/phagedepo_out\"\n",
    "path_out = f\"{path_work}/sword2_out\"\n",
    "\n",
    "\n",
    "def sword2_pred(pdb_file) :\n",
    "    \"\"\"\n",
    "    This function makes a sword prediction from a pdb_file.\n",
    "    It takes as an input a pdb file, and outputs swords2 files.     \n",
    "    The path_out is to be adjusted to the context.\n",
    "    \"\"\"\n",
    "    with open(f\"{path_out}/sword2.log\" ,\"a+\") as outfile :\n",
    "        path_sword = \"/home/conchae/software/SWORD2\"\n",
    "        name = pdb_file.split(\"/\")[-1].split(\".pdb\")[0]\n",
    "        sword_command = f\" {path_sword}/SWORD2.py -i {pdb_file} -o {path_out}/{name} -x 5\"\n",
    "        sword_subprocess = subprocess.Popen (sword_command , shell = True, stdout = subprocess.PIPE, stderr = subprocess.STDOUT)\n",
    "        hmm_out, hmm_err = sword_subprocess.communicate()\n",
    "        print(hmm_out)\n",
    "        outfile.write(f\"{name} is done.\\n\")\n",
    "    \n",
    "paths = [f\"{path_pdb}/{file}\" for file in os.listdir(path_pdb)]\n",
    "    \n",
    "if __name__ == '__main__':\n",
    "    with ThreadPool(10) as p:\n",
    "        p.map(sword2_pred, paths)"
   ]
  },
  {
   "cell_type": "code",
   "execution_count": null,
   "metadata": {},
   "outputs": [],
   "source": [
    "#!/bin/bash\n",
    "#BATCH --job-name=SWORD2__\n",
    "#SBATCH --qos=long \n",
    "#SBATCH --ntasks=1 \n",
    "#SBATCH --cpus-per-task=60\n",
    "#SBATCH --mem=50gb \n",
    "#SBATCH --time=10-00:00:00 \n",
    "#SBATCH --output=SWORD2__%j.log \n",
    "\n",
    "source /storage/apps/ANACONDA/anaconda3/etc/profile.d/conda.sh\n",
    "conda activate sword2\n",
    "\n",
    "python /home/conchae/PhageDepo_pdb/script_files/sword2_phagedepo.py\n",
    "\n",
    "\n"
   ]
  }
 ],
 "metadata": {
  "kernelspec": {
   "display_name": "Python 3",
   "language": "python",
   "name": "python3"
  },
  "language_info": {
   "codemirror_mode": {
    "name": "ipython",
    "version": 3
   },
   "file_extension": ".py",
   "mimetype": "text/x-python",
   "name": "python",
   "nbconvert_exporter": "python",
   "pygments_lexer": "ipython3",
   "version": "3.7.6"
  }
 },
 "nbformat": 4,
 "nbformat_minor": 4
}
