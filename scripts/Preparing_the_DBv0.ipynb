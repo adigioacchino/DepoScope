{
 "cells": [
  {
   "attachments": {},
   "cell_type": "markdown",
   "metadata": {},
   "source": [
    "# Generate the depolymerase DB based on Interproscan entries.\n",
    "***\n",
    "#### The multi fasta files of the intersting entries have already been downloaded. Here are the steps to follow :\n",
    "### I. Create a rep for each IPR entry\n",
    "### II. Cluster each entry using cd-hit\n",
    "### III. Generate the required files for the final DB\n",
    "### IV. Make the DB \n",
    "***"
   ]
  },
  {
   "attachments": {},
   "cell_type": "markdown",
   "metadata": {},
   "source": [
    "I."
   ]
  },
  {
   "cell_type": "code",
   "execution_count": null,
   "metadata": {},
   "outputs": [],
   "source": [
    "import os \n",
    "\n",
    "path_try = \"/home/conchae/databases/depolymerase_building/db_try3\"\n",
    "\n",
    "for file in os.listdir(path_try):\n",
    "    if os.path.isfile(f\"{path_try}/{file}\")==True :\n",
    "        entry = file.split(\".\")[0]\n",
    "        try :\n",
    "            os.mkdir(f\"{path_try}/{entry}\")\n",
    "        except Exception as e :\n",
    "            pass\n",
    "        os.system(f\"mv {path_try}/{file} {path_try}/{entry}/{file}\")"
   ]
  }
 ],
 "metadata": {
  "language_info": {
   "name": "python"
  },
  "orig_nbformat": 4
 },
 "nbformat": 4,
 "nbformat_minor": 2
}
