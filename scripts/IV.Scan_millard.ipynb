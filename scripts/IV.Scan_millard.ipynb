{
 "cells": [
  {
   "cell_type": "code",
   "execution_count": null,
   "metadata": {},
   "outputs": [],
   "source": [
    "import os\n",
    "import random\n",
    "import subprocess\n",
    "from multiprocessing.pool import ThreadPool\n",
    "import time\n",
    "import pandas as pd\n",
    "# Generate a list of path of filtered MSA\n",
    "path_proteins = \"/home/conchae/ML_depolymerase/get_candidates/millard/scanned_MSA\"\n",
    "\n",
    "paths = [f\"{path_proteins}/{msa}\" for msa in os.listdir(f\"{path_proteins}\")]\n",
    "\n",
    "def scan_depolymerase(path_query) :\n",
    "    path_db = \"/home/conchae/databases/depolymerase_building/DBsuite_Dpo.v3/DBsuite_Dpo.v3\"\n",
    "    query = path_query.split(\"/\")[-1].split(\".MSA\")[0]\n",
    "    path_out = f\"/home/conchae/ML_depolymerase/get_candidates/millard/DBsuite_depo3/{query}\"\n",
    "    hhmscan_cmmd = f\"hhsearch -i {path_query} -d  {path_db} -o {path_out}.suite.hhr -blasttab {path_out}.suite.tab\"\n",
    "    hhmscan_process = subprocess.Popen(hhmscan_cmmd, shell =True, stdout=subprocess.PIPE, stderr=subprocess.STDOUT) \n",
    "    hhmscan_process = subprocess.Popen(hhmscan_cmmd, shell =True, stdout=subprocess.PIPE, stderr=subprocess.STDOUT)\n",
    "    scan_out, scan_err = hhmscan_process.communicate()\n",
    "\n",
    "if __name__ == '__main__':\n",
    "    with ThreadPool(20) as pool:\n",
    "        pool.map(scan_depolymerase,paths, chunksize = len(paths)/30)\n",
    "                \n",
    "\n",
    "# *********************************************************** \n",
    "#!/bin/bash\n",
    "#BATCH --job-name=scan_millard__\n",
    "#SBATCH --qos=medium\n",
    "#SBATCH --ntasks=1 \n",
    "#SBATCH --cpus-per-task=40 \n",
    "#SBATCH --mem=100gb \n",
    "#SBATCH --time=03-00:00:00 \n",
    "#SBATCH --output=scan_millard__%j.log \n",
    "\n",
    "source /storage/apps/ANACONDA/anaconda3/etc/profile.d/conda.sh\n",
    "conda activate HH-suite3\n",
    "\n",
    "python /home/conchae/ML_depolymerase/scripts/dbdepo_scan_v3.py"
   ]
  }
 ],
 "metadata": {
  "kernelspec": {
   "display_name": "Python 3",
   "language": "python",
   "name": "python3"
  },
  "language_info": {
   "codemirror_mode": {
    "name": "ipython",
    "version": 3
   },
   "file_extension": ".py",
   "mimetype": "text/x-python",
   "name": "python",
   "nbconvert_exporter": "python",
   "pygments_lexer": "ipython3",
   "version": "3.7.6"
  }
 },
 "nbformat": 4,
 "nbformat_minor": 4
}
