{
 "cells": [
  {
   "cell_type": "code",
   "execution_count": null,
   "metadata": {},
   "outputs": [],
   "source": [
    "import os \n",
    "import subprocess\n",
    "from multiprocessing.pool import ThreadPool\n",
    "\n",
    "path_work = \"/home/conchae/depolymerase\"\n",
    "path_pdb = f\"{path_work}/pdb_depolymerase_proteins_Bea\"\n",
    "path_out = f\"{path_work}/Bea_sword2_out\"\n",
    "\n",
    "\n",
    "def sword2_pred(pdb_file) :\n",
    "    \"\"\"\n",
    "    This function makes a sword prediction from a pdb_file.\n",
    "    It takes as an input a pdb file, and outputs swords2 files.     \n",
    "    The path_out is to be adjusted to the context.\n",
    "    \"\"\"\n",
    "    with open(f\"{path_out}/sword2.log\" ,\"a+\") as outfile :\n",
    "        path_sword = \"/home/conchae/software/SWORD2\"\n",
    "        name = pdb_file.split(\"/\")[-1].split(\".pdb\")[0]\n",
    "        sword_command = f\" {path_sword}/SWORD2.py -i {pdb_file} -o {path_out}/{name} -x 5\"\n",
    "        sword_subprocess = subprocess.Popen (sword_command , shell = True, stdout = subprocess.PIPE, stderr = subprocess.STDOUT)\n",
    "        hmm_out, hmm_err = sword_subprocess.communicate()\n",
    "        print(hmm_out)\n",
    "        outfile.write(f\"{name} is done.\")\n",
    "    \n",
    "#paths = [f\"{path_pdb}/{file}\" for file in os.listdir(path_pdb) if os.path.isdir(f\"{path_out}/{file.split('.pdb')[0]}/{file.split('.pdb')[0]}_A/Protein_Units\")==False]\n",
    "#paths_test = [f\"{path_out}/{file.split('.pdb')[0]}/{file.split('.pdb')[0]}_A/Protein_Units\" for file in os.listdir(path_pdb)]\n",
    "\n",
    "paths = [f\"{path_pdb}/{file}.pdb\" for  file in [\"S13c_00055\"]]\n",
    "\n",
    "\n",
    "if __name__ == '__main__':\n",
    "    with ThreadPool(1) as p:\n",
    "        p.map(sword2_pred, paths)"
   ]
  },
  {
   "cell_type": "code",
   "execution_count": null,
   "metadata": {},
   "outputs": [],
   "source": [
    "#!/bin/bash\n",
    "#BATCH --job-name=SWORD2__\n",
    "#SBATCH --qos=short \n",
    "#SBATCH --ntasks=1 \n",
    "#SBATCH --cpus-per-task=40\n",
    "#SBATCH --mem=50gb \n",
    "#SBATCH --time=1-00:00:00 \n",
    "#SBATCH --output=SWORD2__%j.log \n",
    "\n",
    "source /storage/apps/ANACONDA/anaconda3/etc/profile.d/conda.sh\n",
    "conda activate sword2\n",
    "\n",
    "python /home/conchae/depolymerase/script_files/sword2_pred.py"
   ]
  },
  {
   "cell_type": "code",
   "execution_count": null,
   "metadata": {},
   "outputs": [],
   "source": [
    "import os \n",
    "import subprocess\n",
    "from multiprocessing.pool import ThreadPool\n",
    "\n",
    "path_work = \"/home/conchae/depolymerase\"\n",
    "path_pdb = f\"{path_work}/pdb_depolymerase_domains\"\n",
    "path_out = f\"{path_work}/pdb_domains_db_sword2_out\"\n",
    "\n",
    "\n",
    "def sword2_pred(pdb_file) :\n",
    "    \"\"\"\n",
    "    This function makes a sword prediction from a pdb_file.\n",
    "    It takes as an input a pdb file, and outputs swords2 files.     \n",
    "    The path_out is to be adjusted to the context.\n",
    "    \"\"\"\n",
    "    with open(f\"{path_out}/sword2.log\" ,\"a+\") as outfile :\n",
    "        path_sword = \"/home/conchae/software/SWORD2\"\n",
    "        name = pdb_file.split(\"/\")[-1].split(\".pdb\")[0]\n",
    "        sword_command = f\" {path_sword}/SWORD2.py -i {pdb_file} -o {path_out}/{name} -x 5\"\n",
    "        sword_subprocess = subprocess.Popen (sword_command , shell = True, stdout = subprocess.PIPE, stderr = subprocess.STDOUT)\n",
    "        hmm_out, hmm_err = sword_subprocess.communicate()\n",
    "        print(hmm_out)\n",
    "        outfile.write(f\"{name} is done.\")\n",
    "    \n",
    "paths = [f\"{path_pdb}/{file}\" for file in os.listdir(path_pdb) if file != \"A1l_00058_A_1_129_274.pdb\" if file.split(\"-\")[1] in [\"A0A496B6X2\",\"A0A658Y395\"]]\n",
    "\n",
    "\n",
    "if __name__ == '__main__':\n",
    "    with ThreadPool(2) as p:\n",
    "        p.map(sword2_pred, paths)"
   ]
  }
 ],
 "metadata": {
  "kernelspec": {
   "display_name": "Python 3",
   "language": "python",
   "name": "python3"
  },
  "language_info": {
   "codemirror_mode": {
    "name": "ipython",
    "version": 3
   },
   "file_extension": ".py",
   "mimetype": "text/x-python",
   "name": "python",
   "nbconvert_exporter": "python",
   "pygments_lexer": "ipython3",
   "version": "3.7.6"
  }
 },
 "nbformat": 4,
 "nbformat_minor": 4
}
