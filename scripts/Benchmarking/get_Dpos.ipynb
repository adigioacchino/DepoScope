{
 "cells": [
  {
   "cell_type": "markdown",
   "id": "96c094af-d6ff-41e9-85b0-1ce81bf575c9",
   "metadata": {},
   "source": [
    "# Webscrapp the depolymerase sequences : "
   ]
  },
  {
   "cell_type": "code",
   "execution_count": 21,
   "id": "aefa0941-a9b9-44a8-9dd2-80ee0f114c75",
   "metadata": {
    "collapsed": true,
    "jupyter": {
     "outputs_hidden": true
    },
    "tags": []
   },
   "outputs": [
    {
     "name": "stdout",
     "output_type": "stream",
     "text": [
      "\n"
     ]
    },
    {
     "name": "stderr",
     "output_type": "stream",
     "text": [
      "[WDM] - ====== WebDriver manager ======\n",
      "[WDM] - Current firefox version is 114.0\n",
      "[WDM] - Get LATEST geckodriver version for 114.0 firefox\n",
      "[WDM] - Driver [/home/robbyce/.wdm/drivers/geckodriver/linux64/v0.33.0/geckodriver] found in cache\n"
     ]
    },
    {
     "name": "stdout",
     "output_type": "stream",
     "text": [
      "\n"
     ]
    },
    {
     "name": "stderr",
     "output_type": "stream",
     "text": [
      "[WDM] - ====== WebDriver manager ======\n",
      "[WDM] - Current firefox version is 114.0\n",
      "[WDM] - Get LATEST geckodriver version for 114.0 firefox\n",
      "[WDM] - Driver [/home/robbyce/.wdm/drivers/geckodriver/linux64/v0.33.0/geckodriver] found in cache\n"
     ]
    },
    {
     "name": "stdout",
     "output_type": "stream",
     "text": [
      "\n"
     ]
    },
    {
     "name": "stderr",
     "output_type": "stream",
     "text": [
      "[WDM] - ====== WebDriver manager ======\n",
      "[WDM] - Current firefox version is 114.0\n",
      "[WDM] - Get LATEST geckodriver version for 114.0 firefox\n",
      "[WDM] - Driver [/home/robbyce/.wdm/drivers/geckodriver/linux64/v0.33.0/geckodriver] found in cache\n"
     ]
    },
    {
     "name": "stdout",
     "output_type": "stream",
     "text": [
      "\n"
     ]
    },
    {
     "name": "stderr",
     "output_type": "stream",
     "text": [
      "[WDM] - ====== WebDriver manager ======\n",
      "[WDM] - Current firefox version is 114.0\n",
      "[WDM] - Get LATEST geckodriver version for 114.0 firefox\n",
      "[WDM] - Driver [/home/robbyce/.wdm/drivers/geckodriver/linux64/v0.33.0/geckodriver] found in cache\n"
     ]
    },
    {
     "name": "stdout",
     "output_type": "stream",
     "text": [
      "\n"
     ]
    },
    {
     "name": "stderr",
     "output_type": "stream",
     "text": [
      "[WDM] - ====== WebDriver manager ======\n",
      "[WDM] - Current firefox version is 114.0\n",
      "[WDM] - Get LATEST geckodriver version for 114.0 firefox\n",
      "[WDM] - Driver [/home/robbyce/.wdm/drivers/geckodriver/linux64/v0.33.0/geckodriver] found in cache\n"
     ]
    },
    {
     "name": "stdout",
     "output_type": "stream",
     "text": [
      "\n"
     ]
    },
    {
     "name": "stderr",
     "output_type": "stream",
     "text": [
      "[WDM] - ====== WebDriver manager ======\n",
      "[WDM] - Current firefox version is 114.0\n",
      "[WDM] - Get LATEST geckodriver version for 114.0 firefox\n",
      "[WDM] - Driver [/home/robbyce/.wdm/drivers/geckodriver/linux64/v0.33.0/geckodriver] found in cache\n"
     ]
    },
    {
     "name": "stdout",
     "output_type": "stream",
     "text": [
      "\n"
     ]
    },
    {
     "name": "stderr",
     "output_type": "stream",
     "text": [
      "[WDM] - ====== WebDriver manager ======\n",
      "[WDM] - Current firefox version is 114.0\n",
      "[WDM] - Get LATEST geckodriver version for 114.0 firefox\n",
      "[WDM] - Driver [/home/robbyce/.wdm/drivers/geckodriver/linux64/v0.33.0/geckodriver] found in cache\n"
     ]
    },
    {
     "name": "stdout",
     "output_type": "stream",
     "text": [
      "\n"
     ]
    },
    {
     "name": "stderr",
     "output_type": "stream",
     "text": [
      "[WDM] - ====== WebDriver manager ======\n",
      "[WDM] - Current firefox version is 114.0\n",
      "[WDM] - Get LATEST geckodriver version for 114.0 firefox\n",
      "[WDM] - Driver [/home/robbyce/.wdm/drivers/geckodriver/linux64/v0.33.0/geckodriver] found in cache\n"
     ]
    },
    {
     "name": "stdout",
     "output_type": "stream",
     "text": [
      "\n"
     ]
    },
    {
     "name": "stderr",
     "output_type": "stream",
     "text": [
      "[WDM] - ====== WebDriver manager ======\n",
      "[WDM] - Current firefox version is 114.0\n",
      "[WDM] - Get LATEST geckodriver version for 114.0 firefox\n",
      "[WDM] - Driver [/home/robbyce/.wdm/drivers/geckodriver/linux64/v0.33.0/geckodriver] found in cache\n"
     ]
    },
    {
     "name": "stdout",
     "output_type": "stream",
     "text": [
      "\n"
     ]
    },
    {
     "name": "stderr",
     "output_type": "stream",
     "text": [
      "[WDM] - ====== WebDriver manager ======\n",
      "[WDM] - Current firefox version is 114.0\n",
      "[WDM] - Get LATEST geckodriver version for 114.0 firefox\n",
      "[WDM] - Driver [/home/robbyce/.wdm/drivers/geckodriver/linux64/v0.33.0/geckodriver] found in cache\n"
     ]
    },
    {
     "name": "stdout",
     "output_type": "stream",
     "text": [
      "\n"
     ]
    },
    {
     "name": "stderr",
     "output_type": "stream",
     "text": [
      "[WDM] - ====== WebDriver manager ======\n",
      "[WDM] - Current firefox version is 114.0\n",
      "[WDM] - Get LATEST geckodriver version for 114.0 firefox\n",
      "[WDM] - Driver [/home/robbyce/.wdm/drivers/geckodriver/linux64/v0.33.0/geckodriver] found in cache\n"
     ]
    },
    {
     "name": "stdout",
     "output_type": "stream",
     "text": [
      "\n"
     ]
    },
    {
     "name": "stderr",
     "output_type": "stream",
     "text": [
      "[WDM] - ====== WebDriver manager ======\n",
      "[WDM] - Current firefox version is 114.0\n",
      "[WDM] - Get LATEST geckodriver version for 114.0 firefox\n",
      "[WDM] - Driver [/home/robbyce/.wdm/drivers/geckodriver/linux64/v0.33.0/geckodriver] found in cache\n"
     ]
    },
    {
     "name": "stdout",
     "output_type": "stream",
     "text": [
      "\n"
     ]
    },
    {
     "name": "stderr",
     "output_type": "stream",
     "text": [
      "[WDM] - ====== WebDriver manager ======\n",
      "[WDM] - Current firefox version is 114.0\n",
      "[WDM] - Get LATEST geckodriver version for 114.0 firefox\n",
      "[WDM] - Driver [/home/robbyce/.wdm/drivers/geckodriver/linux64/v0.33.0/geckodriver] found in cache\n"
     ]
    },
    {
     "name": "stdout",
     "output_type": "stream",
     "text": [
      "\n"
     ]
    },
    {
     "name": "stderr",
     "output_type": "stream",
     "text": [
      "[WDM] - ====== WebDriver manager ======\n",
      "[WDM] - Current firefox version is 114.0\n",
      "[WDM] - Get LATEST geckodriver version for 114.0 firefox\n",
      "[WDM] - Driver [/home/robbyce/.wdm/drivers/geckodriver/linux64/v0.33.0/geckodriver] found in cache\n"
     ]
    },
    {
     "name": "stdout",
     "output_type": "stream",
     "text": [
      "\n"
     ]
    },
    {
     "name": "stderr",
     "output_type": "stream",
     "text": [
      "[WDM] - ====== WebDriver manager ======\n",
      "[WDM] - Current firefox version is 114.0\n",
      "[WDM] - Get LATEST geckodriver version for 114.0 firefox\n",
      "[WDM] - Driver [/home/robbyce/.wdm/drivers/geckodriver/linux64/v0.33.0/geckodriver] found in cache\n"
     ]
    },
    {
     "name": "stdout",
     "output_type": "stream",
     "text": [
      "\n"
     ]
    },
    {
     "name": "stderr",
     "output_type": "stream",
     "text": [
      "[WDM] - ====== WebDriver manager ======\n",
      "[WDM] - Current firefox version is 114.0\n",
      "[WDM] - Get LATEST geckodriver version for 114.0 firefox\n",
      "[WDM] - Driver [/home/robbyce/.wdm/drivers/geckodriver/linux64/v0.33.0/geckodriver] found in cache\n"
     ]
    },
    {
     "name": "stdout",
     "output_type": "stream",
     "text": [
      "\n"
     ]
    },
    {
     "name": "stderr",
     "output_type": "stream",
     "text": [
      "[WDM] - ====== WebDriver manager ======\n",
      "[WDM] - Current firefox version is 114.0\n",
      "[WDM] - Get LATEST geckodriver version for 114.0 firefox\n",
      "[WDM] - Driver [/home/robbyce/.wdm/drivers/geckodriver/linux64/v0.33.0/geckodriver] found in cache\n"
     ]
    },
    {
     "name": "stdout",
     "output_type": "stream",
     "text": [
      "\n"
     ]
    },
    {
     "name": "stderr",
     "output_type": "stream",
     "text": [
      "[WDM] - ====== WebDriver manager ======\n",
      "[WDM] - Current firefox version is 114.0\n",
      "[WDM] - Get LATEST geckodriver version for 114.0 firefox\n",
      "[WDM] - Driver [/home/robbyce/.wdm/drivers/geckodriver/linux64/v0.33.0/geckodriver] found in cache\n"
     ]
    },
    {
     "name": "stdout",
     "output_type": "stream",
     "text": [
      "\n"
     ]
    },
    {
     "name": "stderr",
     "output_type": "stream",
     "text": [
      "[WDM] - ====== WebDriver manager ======\n",
      "[WDM] - Current firefox version is 114.0\n",
      "[WDM] - Get LATEST geckodriver version for 114.0 firefox\n",
      "[WDM] - Driver [/home/robbyce/.wdm/drivers/geckodriver/linux64/v0.33.0/geckodriver] found in cache\n"
     ]
    },
    {
     "name": "stdout",
     "output_type": "stream",
     "text": [
      "\n"
     ]
    },
    {
     "name": "stderr",
     "output_type": "stream",
     "text": [
      "[WDM] - ====== WebDriver manager ======\n",
      "[WDM] - Current firefox version is 114.0\n",
      "[WDM] - Get LATEST geckodriver version for 114.0 firefox\n",
      "[WDM] - Driver [/home/robbyce/.wdm/drivers/geckodriver/linux64/v0.33.0/geckodriver] found in cache\n"
     ]
    },
    {
     "name": "stdout",
     "output_type": "stream",
     "text": [
      "\n"
     ]
    },
    {
     "name": "stderr",
     "output_type": "stream",
     "text": [
      "[WDM] - ====== WebDriver manager ======\n",
      "[WDM] - Current firefox version is 114.0\n",
      "[WDM] - Get LATEST geckodriver version for 114.0 firefox\n",
      "[WDM] - Driver [/home/robbyce/.wdm/drivers/geckodriver/linux64/v0.33.0/geckodriver] found in cache\n"
     ]
    },
    {
     "name": "stdout",
     "output_type": "stream",
     "text": [
      "\n"
     ]
    },
    {
     "name": "stderr",
     "output_type": "stream",
     "text": [
      "[WDM] - ====== WebDriver manager ======\n",
      "[WDM] - Current firefox version is 114.0\n",
      "[WDM] - Get LATEST geckodriver version for 114.0 firefox\n",
      "[WDM] - Driver [/home/robbyce/.wdm/drivers/geckodriver/linux64/v0.33.0/geckodriver] found in cache\n"
     ]
    },
    {
     "name": "stdout",
     "output_type": "stream",
     "text": [
      "\n"
     ]
    },
    {
     "name": "stderr",
     "output_type": "stream",
     "text": [
      "[WDM] - ====== WebDriver manager ======\n",
      "[WDM] - Current firefox version is 114.0\n",
      "[WDM] - Get LATEST geckodriver version for 114.0 firefox\n",
      "[WDM] - Driver [/home/robbyce/.wdm/drivers/geckodriver/linux64/v0.33.0/geckodriver] found in cache\n"
     ]
    },
    {
     "name": "stdout",
     "output_type": "stream",
     "text": [
      "\n"
     ]
    },
    {
     "name": "stderr",
     "output_type": "stream",
     "text": [
      "[WDM] - ====== WebDriver manager ======\n",
      "[WDM] - Current firefox version is 114.0\n",
      "[WDM] - Get LATEST geckodriver version for 114.0 firefox\n",
      "[WDM] - Driver [/home/robbyce/.wdm/drivers/geckodriver/linux64/v0.33.0/geckodriver] found in cache\n"
     ]
    },
    {
     "name": "stdout",
     "output_type": "stream",
     "text": [
      "\n"
     ]
    },
    {
     "name": "stderr",
     "output_type": "stream",
     "text": [
      "[WDM] - ====== WebDriver manager ======\n",
      "[WDM] - Current firefox version is 114.0\n",
      "[WDM] - Get LATEST geckodriver version for 114.0 firefox\n",
      "[WDM] - Driver [/home/robbyce/.wdm/drivers/geckodriver/linux64/v0.33.0/geckodriver] found in cache\n"
     ]
    },
    {
     "name": "stdout",
     "output_type": "stream",
     "text": [
      "\n"
     ]
    },
    {
     "name": "stderr",
     "output_type": "stream",
     "text": [
      "[WDM] - ====== WebDriver manager ======\n",
      "[WDM] - Current firefox version is 114.0\n",
      "[WDM] - Get LATEST geckodriver version for 114.0 firefox\n",
      "[WDM] - Driver [/home/robbyce/.wdm/drivers/geckodriver/linux64/v0.33.0/geckodriver] found in cache\n"
     ]
    },
    {
     "name": "stdout",
     "output_type": "stream",
     "text": [
      "\n"
     ]
    },
    {
     "name": "stderr",
     "output_type": "stream",
     "text": [
      "[WDM] - ====== WebDriver manager ======\n",
      "[WDM] - Current firefox version is 114.0\n",
      "[WDM] - Get LATEST geckodriver version for 114.0 firefox\n",
      "[WDM] - Driver [/home/robbyce/.wdm/drivers/geckodriver/linux64/v0.33.0/geckodriver] found in cache\n"
     ]
    },
    {
     "name": "stdout",
     "output_type": "stream",
     "text": [
      "\n"
     ]
    },
    {
     "name": "stderr",
     "output_type": "stream",
     "text": [
      "[WDM] - ====== WebDriver manager ======\n",
      "[WDM] - Current firefox version is 114.0\n",
      "[WDM] - Get LATEST geckodriver version for 114.0 firefox\n",
      "[WDM] - Driver [/home/robbyce/.wdm/drivers/geckodriver/linux64/v0.33.0/geckodriver] found in cache\n"
     ]
    },
    {
     "name": "stdout",
     "output_type": "stream",
     "text": [
      "\n"
     ]
    },
    {
     "name": "stderr",
     "output_type": "stream",
     "text": [
      "[WDM] - ====== WebDriver manager ======\n",
      "[WDM] - Current firefox version is 114.0\n",
      "[WDM] - Get LATEST geckodriver version for 114.0 firefox\n",
      "[WDM] - Driver [/home/robbyce/.wdm/drivers/geckodriver/linux64/v0.33.0/geckodriver] found in cache\n"
     ]
    },
    {
     "name": "stdout",
     "output_type": "stream",
     "text": [
      "\n"
     ]
    },
    {
     "name": "stderr",
     "output_type": "stream",
     "text": [
      "[WDM] - ====== WebDriver manager ======\n",
      "[WDM] - Current firefox version is 114.0\n",
      "[WDM] - Get LATEST geckodriver version for 114.0 firefox\n",
      "[WDM] - Driver [/home/robbyce/.wdm/drivers/geckodriver/linux64/v0.33.0/geckodriver] found in cache\n"
     ]
    },
    {
     "name": "stdout",
     "output_type": "stream",
     "text": [
      "\n"
     ]
    },
    {
     "name": "stderr",
     "output_type": "stream",
     "text": [
      "[WDM] - ====== WebDriver manager ======\n",
      "[WDM] - Current firefox version is 114.0\n",
      "[WDM] - Get LATEST geckodriver version for 114.0 firefox\n",
      "[WDM] - Driver [/home/robbyce/.wdm/drivers/geckodriver/linux64/v0.33.0/geckodriver] found in cache\n"
     ]
    },
    {
     "name": "stdout",
     "output_type": "stream",
     "text": [
      "\n"
     ]
    },
    {
     "name": "stderr",
     "output_type": "stream",
     "text": [
      "[WDM] - ====== WebDriver manager ======\n",
      "[WDM] - Current firefox version is 114.0\n",
      "[WDM] - Get LATEST geckodriver version for 114.0 firefox\n",
      "[WDM] - Driver [/home/robbyce/.wdm/drivers/geckodriver/linux64/v0.33.0/geckodriver] found in cache\n"
     ]
    },
    {
     "name": "stdout",
     "output_type": "stream",
     "text": [
      "\n"
     ]
    },
    {
     "name": "stderr",
     "output_type": "stream",
     "text": [
      "[WDM] - ====== WebDriver manager ======\n",
      "[WDM] - Current firefox version is 114.0\n",
      "[WDM] - Get LATEST geckodriver version for 114.0 firefox\n",
      "[WDM] - Driver [/home/robbyce/.wdm/drivers/geckodriver/linux64/v0.33.0/geckodriver] found in cache\n"
     ]
    },
    {
     "name": "stdout",
     "output_type": "stream",
     "text": [
      "\n"
     ]
    },
    {
     "name": "stderr",
     "output_type": "stream",
     "text": [
      "[WDM] - ====== WebDriver manager ======\n",
      "[WDM] - Current firefox version is 114.0\n",
      "[WDM] - Get LATEST geckodriver version for 114.0 firefox\n",
      "[WDM] - Driver [/home/robbyce/.wdm/drivers/geckodriver/linux64/v0.33.0/geckodriver] found in cache\n"
     ]
    },
    {
     "name": "stdout",
     "output_type": "stream",
     "text": [
      "\n"
     ]
    },
    {
     "name": "stderr",
     "output_type": "stream",
     "text": [
      "[WDM] - ====== WebDriver manager ======\n",
      "[WDM] - Current firefox version is 114.0\n",
      "[WDM] - Get LATEST geckodriver version for 114.0 firefox\n",
      "[WDM] - Driver [/home/robbyce/.wdm/drivers/geckodriver/linux64/v0.33.0/geckodriver] found in cache\n"
     ]
    },
    {
     "name": "stdout",
     "output_type": "stream",
     "text": [
      "\n"
     ]
    },
    {
     "name": "stderr",
     "output_type": "stream",
     "text": [
      "[WDM] - ====== WebDriver manager ======\n",
      "[WDM] - Current firefox version is 114.0\n",
      "[WDM] - Get LATEST geckodriver version for 114.0 firefox\n",
      "[WDM] - Driver [/home/robbyce/.wdm/drivers/geckodriver/linux64/v0.33.0/geckodriver] found in cache\n"
     ]
    },
    {
     "name": "stdout",
     "output_type": "stream",
     "text": [
      "\n"
     ]
    },
    {
     "name": "stderr",
     "output_type": "stream",
     "text": [
      "[WDM] - ====== WebDriver manager ======\n",
      "[WDM] - Current firefox version is 114.0\n",
      "[WDM] - Get LATEST geckodriver version for 114.0 firefox\n",
      "[WDM] - Driver [/home/robbyce/.wdm/drivers/geckodriver/linux64/v0.33.0/geckodriver] found in cache\n"
     ]
    },
    {
     "name": "stdout",
     "output_type": "stream",
     "text": [
      "\n"
     ]
    },
    {
     "name": "stderr",
     "output_type": "stream",
     "text": [
      "[WDM] - ====== WebDriver manager ======\n",
      "[WDM] - Current firefox version is 114.0\n",
      "[WDM] - Get LATEST geckodriver version for 114.0 firefox\n",
      "[WDM] - Driver [/home/robbyce/.wdm/drivers/geckodriver/linux64/v0.33.0/geckodriver] found in cache\n"
     ]
    },
    {
     "name": "stdout",
     "output_type": "stream",
     "text": [
      "\n"
     ]
    },
    {
     "name": "stderr",
     "output_type": "stream",
     "text": [
      "[WDM] - ====== WebDriver manager ======\n",
      "[WDM] - Current firefox version is 114.0\n",
      "[WDM] - Get LATEST geckodriver version for 114.0 firefox\n",
      "[WDM] - Driver [/home/robbyce/.wdm/drivers/geckodriver/linux64/v0.33.0/geckodriver] found in cache\n"
     ]
    },
    {
     "name": "stdout",
     "output_type": "stream",
     "text": [
      "\n"
     ]
    },
    {
     "name": "stderr",
     "output_type": "stream",
     "text": [
      "[WDM] - ====== WebDriver manager ======\n",
      "[WDM] - Current firefox version is 114.0\n",
      "[WDM] - Get LATEST geckodriver version for 114.0 firefox\n",
      "[WDM] - Driver [/home/robbyce/.wdm/drivers/geckodriver/linux64/v0.33.0/geckodriver] found in cache\n"
     ]
    },
    {
     "name": "stdout",
     "output_type": "stream",
     "text": [
      "\n"
     ]
    },
    {
     "name": "stderr",
     "output_type": "stream",
     "text": [
      "[WDM] - ====== WebDriver manager ======\n",
      "[WDM] - Current firefox version is 114.0\n",
      "[WDM] - Get LATEST geckodriver version for 114.0 firefox\n",
      "[WDM] - Driver [/home/robbyce/.wdm/drivers/geckodriver/linux64/v0.33.0/geckodriver] found in cache\n"
     ]
    },
    {
     "name": "stdout",
     "output_type": "stream",
     "text": [
      "\n"
     ]
    },
    {
     "name": "stderr",
     "output_type": "stream",
     "text": [
      "[WDM] - ====== WebDriver manager ======\n",
      "[WDM] - Current firefox version is 114.0\n",
      "[WDM] - Get LATEST geckodriver version for 114.0 firefox\n",
      "[WDM] - Driver [/home/robbyce/.wdm/drivers/geckodriver/linux64/v0.33.0/geckodriver] found in cache\n"
     ]
    },
    {
     "name": "stdout",
     "output_type": "stream",
     "text": [
      "\n"
     ]
    },
    {
     "name": "stderr",
     "output_type": "stream",
     "text": [
      "[WDM] - ====== WebDriver manager ======\n",
      "[WDM] - Current firefox version is 114.0\n",
      "[WDM] - Get LATEST geckodriver version for 114.0 firefox\n",
      "[WDM] - Driver [/home/robbyce/.wdm/drivers/geckodriver/linux64/v0.33.0/geckodriver] found in cache\n"
     ]
    },
    {
     "name": "stdout",
     "output_type": "stream",
     "text": [
      "\n"
     ]
    },
    {
     "name": "stderr",
     "output_type": "stream",
     "text": [
      "[WDM] - ====== WebDriver manager ======\n",
      "[WDM] - Current firefox version is 114.0\n",
      "[WDM] - Get LATEST geckodriver version for 114.0 firefox\n",
      "[WDM] - Driver [/home/robbyce/.wdm/drivers/geckodriver/linux64/v0.33.0/geckodriver] found in cache\n"
     ]
    },
    {
     "name": "stdout",
     "output_type": "stream",
     "text": [
      "\n"
     ]
    },
    {
     "name": "stderr",
     "output_type": "stream",
     "text": [
      "[WDM] - ====== WebDriver manager ======\n",
      "[WDM] - Current firefox version is 114.0\n",
      "[WDM] - Get LATEST geckodriver version for 114.0 firefox\n",
      "[WDM] - Driver [/home/robbyce/.wdm/drivers/geckodriver/linux64/v0.33.0/geckodriver] found in cache\n"
     ]
    },
    {
     "name": "stdout",
     "output_type": "stream",
     "text": [
      "\n"
     ]
    },
    {
     "name": "stderr",
     "output_type": "stream",
     "text": [
      "[WDM] - ====== WebDriver manager ======\n",
      "[WDM] - Current firefox version is 114.0\n",
      "[WDM] - Get LATEST geckodriver version for 114.0 firefox\n",
      "[WDM] - Driver [/home/robbyce/.wdm/drivers/geckodriver/linux64/v0.33.0/geckodriver] found in cache\n"
     ]
    },
    {
     "name": "stdout",
     "output_type": "stream",
     "text": [
      "\n"
     ]
    },
    {
     "name": "stderr",
     "output_type": "stream",
     "text": [
      "[WDM] - ====== WebDriver manager ======\n",
      "[WDM] - Current firefox version is 114.0\n",
      "[WDM] - Get LATEST geckodriver version for 114.0 firefox\n",
      "[WDM] - Driver [/home/robbyce/.wdm/drivers/geckodriver/linux64/v0.33.0/geckodriver] found in cache\n"
     ]
    },
    {
     "name": "stdout",
     "output_type": "stream",
     "text": [
      "\n"
     ]
    },
    {
     "name": "stderr",
     "output_type": "stream",
     "text": [
      "[WDM] - ====== WebDriver manager ======\n",
      "[WDM] - Current firefox version is 114.0\n",
      "[WDM] - Get LATEST geckodriver version for 114.0 firefox\n",
      "[WDM] - Driver [/home/robbyce/.wdm/drivers/geckodriver/linux64/v0.33.0/geckodriver] found in cache\n"
     ]
    },
    {
     "name": "stdout",
     "output_type": "stream",
     "text": [
      "\n"
     ]
    },
    {
     "name": "stderr",
     "output_type": "stream",
     "text": [
      "[WDM] - ====== WebDriver manager ======\n",
      "[WDM] - Current firefox version is 114.0\n",
      "[WDM] - Get LATEST geckodriver version for 114.0 firefox\n",
      "[WDM] - Driver [/home/robbyce/.wdm/drivers/geckodriver/linux64/v0.33.0/geckodriver] found in cache\n"
     ]
    },
    {
     "name": "stdout",
     "output_type": "stream",
     "text": [
      "\n"
     ]
    },
    {
     "name": "stderr",
     "output_type": "stream",
     "text": [
      "[WDM] - ====== WebDriver manager ======\n",
      "[WDM] - Current firefox version is 114.0\n",
      "[WDM] - Get LATEST geckodriver version for 114.0 firefox\n",
      "[WDM] - Driver [/home/robbyce/.wdm/drivers/geckodriver/linux64/v0.33.0/geckodriver] found in cache\n"
     ]
    }
   ],
   "source": [
    "from selenium import webdriver\n",
    "from webdriver_manager.firefox import GeckoDriverManager\n",
    "from selenium.webdriver.common.by import By\n",
    "from selenium.webdriver.firefox.options import Options\n",
    "from selenium.webdriver.support.ui import WebDriverWait\n",
    "from selenium.webdriver.support import expected_conditions as EC\n",
    "import os \n",
    "\n",
    "path_download = \"/home/robbyce/Downloads\"\n",
    "path_gold = \"/home/robbyce/Documents/bioinformatics/PhageDpoDetection_files\"\n",
    "\n",
    "def setup_driver():\n",
    "    # Set up Selenium with a headless Firefox browser\n",
    "    firefox_options = Options()\n",
    "    firefox_options.add_argument(\"--headless\")\n",
    "    driver = webdriver.Firefox(executable_path=GeckoDriverManager().install(), options=firefox_options)\n",
    "    return driver\n",
    "\n",
    "def download_fasta(accessions):\n",
    "    for accession in accessions:\n",
    "        driver = setup_driver()\n",
    "        try:\n",
    "            url = f\"https://www.ncbi.nlm.nih.gov/search/all/?term={accession}\"\n",
    "            driver.get(url)\n",
    "            \n",
    "            button_locator = (By.XPATH, '/html/body/main/div/div/div[1]/section/div[2]/div/button/span')\n",
    "            button = WebDriverWait(driver, 10).until(EC.element_to_be_clickable(button_locator))\n",
    "            button.click()\n",
    "\n",
    "            input_field = driver.find_element_by_xpath('//*[@id=\"filename_value\"]')\n",
    "            input_field.clear()\n",
    "            input_field.send_keys(f\"{accession}.fasta\")\n",
    "\n",
    "            download_locator = (By.XPATH, '/html/body/main/div/div/div[1]/section/div[2]/div/div/div[1]/div[2]/div[2]/button[2]/span')\n",
    "            download_button = WebDriverWait(driver, 10).until(EC.element_to_be_clickable(download_locator))\n",
    "            download_button.click()\n",
    "        except Exception as e:\n",
    "            print(f\"An error occurred with accession {accession}: {e}\")\n",
    "        finally:\n",
    "            driver.quit()\n",
    "            try : \n",
    "                os.system(f\"mv {path_download}/{accession}.fasta {path_gold}/GOLD_depo\")\n",
    "            except Exception as e2 :\n",
    "                print(accession , e2)\n",
    "\n",
    "# Example usage\n",
    "GoldDpo_df =  pd.read_csv(f\"{path_gold}/GOLD_dpo.tsv\", header = None)\n",
    "accessions = GoldDpo_df[0].tolist()\n",
    "download_fasta(accessions)"
   ]
  },
  {
   "cell_type": "code",
   "execution_count": 10,
   "id": "6c12244e-fd5e-4399-94eb-d866e0b93ffe",
   "metadata": {},
   "outputs": [],
   "source": [
    "import pandas as pd \n",
    "\n",
    "path_download = \"/home/robbyce/Downloads\"\n",
    "path_gold = \"/home/robbyce/Documents/bioinformatics/PhageDpoDetection_files\"\n",
    "\n",
    "GoldDpo_df = pd.read_csv(f\"{path_gold}/GOLD_dpo.tsv\", header = None)"
   ]
  },
  {
   "cell_type": "code",
   "execution_count": 20,
   "id": "2bed3a2e-7508-4d51-a9fd-712899b73e97",
   "metadata": {},
   "outputs": [
    {
     "data": {
      "text/plain": [
       "['ALJ97635',\n",
       " 'AYP28214',\n",
       " 'QDF14644',\n",
       " 'ATG86239',\n",
       " 'YP_003347555',\n",
       " 'YP_003347556',\n",
       " 'ARM70447',\n",
       " 'YP_009226011',\n",
       " 'AYP68900',\n",
       " 'AGY48011',\n",
       " 'ARV77571',\n",
       " 'AZF88843',\n",
       " 'BAQ02805',\n",
       " 'BAQ02835',\n",
       " 'BAQ02836',\n",
       " 'BAQ02837',\n",
       " 'BAQ02838',\n",
       " 'BAQ02839',\n",
       " 'BAQ02841',\n",
       " 'BAQ02842',\n",
       " 'BAQ02844',\n",
       " 'AWD93192',\n",
       " 'ALA12264',\n",
       " 'AXE28435',\n",
       " 'YP_004678762',\n",
       " 'BBF66844',\n",
       " 'BBF66867',\n",
       " 'BBF66868',\n",
       " 'BBF66888',\n",
       " 'QHI00738',\n",
       " 'APZ82804',\n",
       " 'APZ82805',\n",
       " 'APZ82847',\n",
       " 'APZ82848',\n",
       " 'APD20249',\n",
       " 'AUV57247',\n",
       " 'AVO22848',\n",
       " 'ALT58497',\n",
       " 'ALT58498',\n",
       " 'APU03184',\n",
       " 'AMQ66478',\n",
       " 'APZ82768',\n",
       " 'ATW62160',\n",
       " 'QEP53229',\n",
       " 'QIW86419',\n",
       " 'QIW86428',\n",
       " 'QJI52623',\n",
       " 'QJI52632',\n",
       " 'ATI16495',\n",
       " 'AOZ65519']"
      ]
     },
     "execution_count": 20,
     "metadata": {},
     "output_type": "execute_result"
    }
   ],
   "source": [
    "GoldDpo_df[0].tolist()"
   ]
  },
  {
   "cell_type": "code",
   "execution_count": null,
   "id": "29a41095-eb32-408f-b2bd-2cb308412680",
   "metadata": {},
   "outputs": [],
   "source": []
  }
 ],
 "metadata": {
  "kernelspec": {
   "display_name": "webscrapping",
   "language": "python",
   "name": "webscrapping"
  },
  "language_info": {
   "codemirror_mode": {
    "name": "ipython",
    "version": 3
   },
   "file_extension": ".py",
   "mimetype": "text/x-python",
   "name": "python",
   "nbconvert_exporter": "python",
   "pygments_lexer": "ipython3",
   "version": "3.6.13"
  }
 },
 "nbformat": 4,
 "nbformat_minor": 5
}
