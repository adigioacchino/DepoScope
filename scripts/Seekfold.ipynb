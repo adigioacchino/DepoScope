{
 "cells": [
  {
   "cell_type": "markdown",
   "metadata": {},
   "source": [
    "***\n",
    "# Local work : "
   ]
  },
  {
   "cell_type": "code",
   "execution_count": null,
   "metadata": {},
   "outputs": [],
   "source": [
    "import subprocess\n",
    "import os\n",
    "\n",
    "path_project = \"/media/concha-eloko/Linux/depolymerase_building\"\n",
    "path_pdb = f\"{path_project}/phagedepo_out\"\n",
    "path_db = f\"/media/concha-eloko/Linux/depolymerase_building/RefDepo_domains/RefDepo_domains_db\"\n",
    "path_tmp = f\"{path_project}/tmp\"\n",
    "\n",
    "def seek_beta_helix(path_in) :\n",
    "    dir_out = f\"{path_project}/seekfold_phagedepo\"\n",
    "    protein_id = path_in.split(\"/\")[-1].split(\".pdb\")[0]\n",
    "    path_out = f\"{dir_out}/{protein_id}.out\"\n",
    "    output_frmt = f\"query,target,pident,alnlen,gapopen,qstart,qend,tstart,tend,bits,prob\"\n",
    "    seek = f\"foldseek easy-search {path_in} {path_db} {path_out} {path_tmp} --format-output {output_frmt}\"\n",
    "    #seek = f\"foldseek easy-search {path_in} {path_db} {path_out}.html {path_tmp} --format-mode 3\"\n",
    "    seek_process = subprocess.Popen(seek, shell=True, stdout=subprocess.PIPE, stderr=subprocess.STDOUT)\n",
    "    press_out, press_err = seek_process.communicate()\n",
    "    print (press_out, press_err)\n",
    "\n",
    "paths = [f\"{path_pdb}/{file}\" for file in os.listdir(f\"{path_pdb}\")]\n",
    "\n",
    "for path in paths :\n",
    "    seek_beta_helix(path)"
   ]
  },
  {
   "cell_type": "code",
   "execution_count": 1,
   "metadata": {},
   "outputs": [
    {
     "name": "stdout",
     "output_type": "stream",
     "text": [
      "So far, out of 1926 proteins searched, 1058 seemed to be positive in the phagedepo dataset (0.54932502596054 %).\n",
      "The proportion of very good is 0.7372400756143668\n",
      "The proportion of good is 0.16729678638941398\n",
      "The proportion of decent is 0.045368620037807186\n",
      "The rest is 0.0500945179584121\n"
     ]
    }
   ],
   "source": [
    "path_project = \"/media/concha-eloko/Linux/depolymerase_building\"\n",
    "dir_out = f\"{path_project}/seekfold_phagedepo\"\n",
    "import pandas as pd\n",
    "import os \n",
    "\n",
    "outputs = [f\"{dir_out}/{file}\" for file in os.listdir(dir_out) if file[-3:]==\"out\"]\n",
    "\n",
    "header_seekfold = [\"query\",\"target\",\"pident\",\"alnlen\",\"gapopen\",\"qstart\",\"qend\",\"tstart\",\"tend\",\"bits\",\"prob\"]\n",
    "\n",
    "depo_ppt = {}\n",
    "very_good = 0\n",
    "good = 0\n",
    "decent = 0 \n",
    "passable = 0\n",
    "for results in outputs :\n",
    "    results_df = pd.read_csv(f\"{results}\", sep = \"\\t\" , names = header_seekfold)\n",
    "    try : \n",
    "        if results_df[\"prob\"][0] > 0.1 :\n",
    "            depo_ppt[results_df[\"query\"][0]] = (results_df[\"target\"][0] , results_df[\"prob\"][0])\n",
    "            if results_df[\"prob\"][0] > 0.9 :\n",
    "                very_good += 1\n",
    "            elif results_df[\"prob\"][0] > 0.5 :\n",
    "                good += 1\n",
    "            elif results_df[\"prob\"][0] > 0.25 :\n",
    "                decent += 1\n",
    "            else :\n",
    "                passable += 1\n",
    "                \n",
    "    except IndexError :\n",
    "        pass\n",
    "\n",
    "import pprint\n",
    "#pp = pprint.PrettyPrinter(width = 100, sort_dicts = True, compact = True)\n",
    "\n",
    "\n",
    "print(f\"So far, out of {len((outputs))} proteins searched, {len(depo_ppt)} seemed to be positive in the phagedepo dataset ({len(depo_ppt)/len(outputs)} %).\\nThe proportion of very good is {very_good/len(depo_ppt)}\\nThe proportion of good is {good/len(depo_ppt)}\\nThe proportion of decent is {decent/len(depo_ppt)}\\nThe rest is {passable/len(depo_ppt)}\")\n"
   ]
  },
  {
   "cell_type": "code",
   "execution_count": 2,
   "metadata": {},
   "outputs": [
    {
     "name": "stdout",
     "output_type": "stream",
     "text": [
      "The jelly-roll presented 101 depolymerases.\n",
      "\n",
      "The alpha/alpha toroid presented 0 depolymerases.\n",
      "\n",
      "The right-handed beta-helix presented 828 depolymerases.\n",
      "\n",
      "The TIM beta/alpha-barrel presented 7 depolymerases.\n",
      "\n",
      "The 6-bladed beta-propeller presented 118 depolymerases.\n",
      "\n",
      "The Flavodoxin-like presented 0 depolymerases.\n",
      "\n",
      "The Alpha/Beta hydrolase fold presented 0 depolymerases.\n",
      "\n",
      "The Other presented 4 depolymerases.\n",
      "\n"
     ]
    }
   ],
   "source": [
    "path_project = \"/media/concha-eloko/Linux/depolymerase_building\"\n",
    "dir_out = f\"{path_project}/seekfold_phagedepo\"\n",
    "import pandas as pd\n",
    "import os \n",
    "\n",
    "path_info = f\"/media/concha-eloko/Linux/depolymerase_building/depolymerase_fold.csv\"\n",
    "info_df = pd.read_csv(path_info , sep = \"\\t\", header = 0)\n",
    "dico_folds = {\"jelly-roll\" : [],\n",
    "              \"alpha/alpha toroid\" : [],\n",
    "              \"right-handed beta-helix\" : [] ,\n",
    "              \"TIM beta/alpha-barrel\" : [],\n",
    "              \"6-bladed beta-propeller\" : [] ,\n",
    "              \"Flavodoxin-like\" : [] ,\n",
    "              \"Alpha/Beta hydrolase fold\" : [] ,\n",
    "              \"Other\" : [],\n",
    "             }\n",
    "\n",
    "outputs = [f\"{dir_out}/{file}\" for file in os.listdir(dir_out) if file[-3:]==\"out\"]\n",
    "header_seekfold = [\"query\",\"target\",\"pident\",\"alnlen\",\"gapopen\",\"qstart\",\"qend\",\"tstart\",\"tend\",\"bits\",\"prob\"]\n",
    "depo_results = {}\n",
    "for results in outputs :\n",
    "    results_df = pd.read_csv(f\"{results}\", sep = \"\\t\" , names = header_seekfold)\n",
    "    for _,row in results_df.iterrows() :\n",
    "        fold = info_df[info_df[\"ID\"] == row[\"target\"]][\"X_Group_Name\"].values[0]\n",
    "        if row[\"prob\"] >= 0.5 :\n",
    "            if row[\"query\"] not in dico_folds[fold] :\n",
    "                dico_folds[fold].append(row[\"query\"])\n",
    "        elif fold == \"right-handed beta-helix\" and row[\"prob\"] >= 0.2 :\n",
    "            if row[\"query\"] not in dico_folds[fold] :\n",
    "                dico_folds[fold].append(row[\"query\"])\n",
    "                \n",
    "for fold in dico_folds : \n",
    "    print(f\"The {fold} presented {len(dico_folds[fold])} depolymerases.\\n\")"
   ]
  },
  {
   "cell_type": "code",
   "execution_count": 4,
   "metadata": {},
   "outputs": [
    {
     "data": {
      "text/plain": [
       "['2417.pdb',\n",
       " '4206.pdb',\n",
       " '5668.pdb',\n",
       " '4208.pdb',\n",
       " '3091.pdb',\n",
       " '4171.pdb',\n",
       " '5113.pdb']"
      ]
     },
     "execution_count": 4,
     "metadata": {},
     "output_type": "execute_result"
    }
   ],
   "source": [
    "dico_folds[\"TIM beta/alpha-barrel\"]"
   ]
  },
  {
   "cell_type": "code",
   "execution_count": 12,
   "metadata": {},
   "outputs": [
    {
     "name": "stdout",
     "output_type": "stream",
     "text": [
      "index 0 is out of bounds for axis 0 with size 0\n",
      "index 0 is out of bounds for axis 0 with size 0\n"
     ]
    }
   ],
   "source": [
    "path_project = \"/media/concha-eloko/Linux/depolymerase_building\"\n",
    "dir_out = f\"{path_project}/seekfold_phagedepo\"\n",
    "path_pdb = f\"{path_project}/phagedepo_out\"\n",
    "\n",
    "import pandas as pd\n",
    "import os \n",
    "\n",
    "outputs = [f\"{dir_out}/{file}\" for file in os.listdir(dir_out) if file[-3:]==\"out\"]\n",
    "\n",
    "header_seekfold = [\"query\",\"target\",\"pident\",\"alnlen\",\"gapopen\",\"qstart\",\"qend\",\"tstart\",\"tend\",\"bits\",\"prob\"]\n",
    "\n",
    "\n",
    "paths_decipher = [] \n",
    "good_phagedepo = {}\n",
    "decipher_phagedepo = {}\n",
    "for results in outputs :\n",
    "    results_df = pd.read_csv(f\"{results}\", sep = \"\\t\" , names = header_seekfold)\n",
    "    try : \n",
    "        if results_df[\"prob\"][0] >= 0.5 :\n",
    "            good_phagedepo[results_df[\"query\"][0]] = (results_df[\"target\"][0] , results_df[\"prob\"][0])\n",
    "        elif results_df[\"prob\"][0] >= 0.25 :\n",
    "            decipher_phagedepo[results_df[\"query\"][0]] = (results_df[\"target\"][0] , results_df[\"prob\"][0])\n",
    "            paths_decipher.append(f\"{path_pdb}/{results_df['query'][0]}\")\n",
    "    except Exception as e :\n",
    "        print(e)\n",
    "        pass\n"
   ]
  },
  {
   "cell_type": "code",
   "execution_count": 7,
   "metadata": {
    "collapsed": true,
    "jupyter": {
     "outputs_hidden": true
    }
   },
   "outputs": [
    {
     "name": "stdout",
     "output_type": "stream",
     "text": [
      "{'1043.pdb': ('AF-A0A202B6A7-F1-model_v4.pdb', 0.353),\n",
      " '1125.pdb': ('AF-A0A4V2M274-F1-model_v4_A_1_91_268.pdb', 0.353),\n",
      " '1574.pdb': ('A1l_00058_A_1_129_274.pdb', 0.473),\n",
      " '1810.pdb': ('AF-A0A0A6QEK9-F1-model_v4.pdb', 0.411),\n",
      " '1842.pdb': ('AF-A0A7K3HGV9-F1-model_v4.pdb', 0.353),\n",
      " '1873.pdb': ('AF-A0A0F6AK51-F1-model_v4.pdb', 0.277),\n",
      " '1918.pdb': ('AF-A0A0D3A0D6-F1-model_v4.pdb', 0.326),\n",
      " '2001.pdb': ('AF-A0A4V2M274-F1-model_v4_A_1_91_268.pdb', 0.442),\n",
      " '2048.pdb': ('A1l_00058_A_1_129_274.pdb', 0.411),\n",
      " '2170.pdb': ('7fhv.pdb_B', 0.277),\n",
      " '2190.pdb': ('AF-A0A4V2M274-F1-model_v4_A_1_91_268.pdb', 0.382),\n",
      " '2217.pdb': ('AF-A0A1E5LEG1-F1-model_v4.pdb', 0.473),\n",
      " '2588.pdb': ('AF-A0A7W9JCS6-F1-model_v4_A_1_95_273.pdb', 0.473),\n",
      " '2617.pdb': ('AF-A0A562WF65-F1-model_v4.pdb', 0.326),\n",
      " '2641.pdb': ('AF-A0A7G2DEW9-F1-model_v4.pdb', 0.254),\n",
      " '2691.pdb': ('AF-A0A0A6QEK9-F1-model_v4.pdb', 0.442),\n",
      " '2753.pdb': ('AF-A0A7C4BP91-F1-model_v4.pdb', 0.473),\n",
      " '2786.pdb': ('AF-A0A7G2DEW9-F1-model_v4.pdb', 0.254),\n",
      " '2976.pdb': ('AF-A0A4V2M274-F1-model_v4_A_1_91_268.pdb', 0.353),\n",
      " '343.pdb': ('AF-A0A654UB90-F1-model_v4.pdb', 0.442),\n",
      " '3492.pdb': ('AF-A0A7W9JCS6-F1-model_v4_A_1_95_273.pdb', 0.353),\n",
      " '3509.pdb': ('A1l_00058_A_1_129_274.pdb', 0.382),\n",
      " '36.pdb': ('AF-A0A7W9JCS6-F1-model_v4_A_1_95_273.pdb', 0.326),\n",
      " '3611.pdb': ('AF-A0A4V2M274-F1-model_v4_A_1_91_268.pdb', 0.326),\n",
      " '373.pdb': ('AF-A0A658Y395-F1-model_v4.pdb', 0.473),\n",
      " '3812.pdb': ('AF-A0A496B6X2-F1-model_v4.pdb', 0.353),\n",
      " '4083.pdb': ('AF-A0A7G2DEW9-F1-model_v4.pdb', 0.254),\n",
      " '4154.pdb': ('AF-A0A7G2DEW9-F1-model_v4.pdb', 0.277),\n",
      " '4220.pdb': ('A1l_00058_A_1_129_274.pdb', 0.473),\n",
      " '4493.pdb': ('AF-A0A496B6X2-F1-model_v4.pdb', 0.473),\n",
      " '489.pdb': ('AF-A0A658Y395-F1-model_v4.pdb', 0.473),\n",
      " '5089.pdb': ('AF-A0A7W9JCS6-F1-model_v4_A_1_95_273.pdb', 0.442),\n",
      " '5168.pdb': ('A1l_00058_A_1_129_274.pdb', 0.277),\n",
      " '5265.pdb': ('A1l_00058_A_1_129_274.pdb', 0.277),\n",
      " '5305.pdb': ('AF-A0A658Y395-F1-model_v4.pdb', 0.326),\n",
      " '5347.pdb': ('AF-A0A658Y395-F1-model_v4.pdb', 0.326),\n",
      " '5360.pdb': ('AF-A0A7W9JCS6-F1-model_v4_A_1_95_273.pdb', 0.254),\n",
      " '543.pdb': ('A1l_00058_A_1_129_274.pdb', 0.353),\n",
      " '5664.pdb': ('A1l_00058_A_1_129_274.pdb', 0.442),\n",
      " '5938.pdb': ('AF-A0A654UB90-F1-model_v4.pdb', 0.473),\n",
      " '6230.pdb': ('AF-A0A4V2M274-F1-model_v4_A_1_91_268.pdb', 0.442),\n",
      " '631.pdb': ('AF-A0A654UB90-F1-model_v4.pdb', 0.301),\n",
      " '633.pdb': ('AF-A0A1E5LEG1-F1-model_v4.pdb', 0.353),\n",
      " '6332.pdb': ('AF-A0A654UB90-F1-model_v4.pdb', 0.442),\n",
      " '634.pdb': ('A1l_00058_A_1_129_274.pdb', 0.382),\n",
      " '6450.pdb': ('AF-A0A0E2ALL6-F1-model_v4.pdb', 0.411),\n",
      " '6519.pdb': ('AF-A0A0E2ALL6-F1-model_v4.pdb', 0.411),\n",
      " '6542.pdb': ('AF-A0A7G2DEW9-F1-model_v4.pdb', 0.277),\n",
      " '655.pdb': ('AF-A0A0R3Q9P4-F1-model_v4.pdb', 0.473),\n",
      " '657.pdb': ('AF-A0A7W9JCS6-F1-model_v4_A_1_95_273.pdb', 0.301),\n",
      " '660.pdb': ('AF-A0A7W9JCS6-F1-model_v4_A_1_95_273.pdb', 0.353),\n",
      " '665.pdb': ('AF-H9BBE9-F1-model_v4.pdb', 0.254),\n",
      " '814.pdb': ('AF-A0A7W9JCS6-F1-model_v4_A_1_95_273.pdb', 0.277),\n",
      " '817.pdb': ('AF-A0A7W9JCS6-F1-model_v4_A_1_95_273.pdb', 0.301)}\n"
     ]
    }
   ],
   "source": [
    "pp = pprint.PrettyPrinter(width = 100, sort_dicts = True, compact = True)\n",
    "\n",
    "pp.pprint(decipher_phagedepo)"
   ]
  },
  {
   "cell_type": "code",
   "execution_count": 13,
   "metadata": {
    "collapsed": true,
    "jupyter": {
     "outputs_hidden": true
    }
   },
   "outputs": [
    {
     "data": {
      "text/plain": [
       "['/media/concha-eloko/Linux/depolymerase_building/phagedepo_out/2641.pdb',\n",
       " '/media/concha-eloko/Linux/depolymerase_building/phagedepo_out/5938.pdb',\n",
       " '/media/concha-eloko/Linux/depolymerase_building/phagedepo_out/2588.pdb',\n",
       " '/media/concha-eloko/Linux/depolymerase_building/phagedepo_out/2617.pdb',\n",
       " '/media/concha-eloko/Linux/depolymerase_building/phagedepo_out/6542.pdb',\n",
       " '/media/concha-eloko/Linux/depolymerase_building/phagedepo_out/660.pdb',\n",
       " '/media/concha-eloko/Linux/depolymerase_building/phagedepo_out/5360.pdb',\n",
       " '/media/concha-eloko/Linux/depolymerase_building/phagedepo_out/3611.pdb',\n",
       " '/media/concha-eloko/Linux/depolymerase_building/phagedepo_out/543.pdb',\n",
       " '/media/concha-eloko/Linux/depolymerase_building/phagedepo_out/4220.pdb',\n",
       " '/media/concha-eloko/Linux/depolymerase_building/phagedepo_out/3492.pdb',\n",
       " '/media/concha-eloko/Linux/depolymerase_building/phagedepo_out/2217.pdb',\n",
       " '/media/concha-eloko/Linux/depolymerase_building/phagedepo_out/2691.pdb',\n",
       " '/media/concha-eloko/Linux/depolymerase_building/phagedepo_out/3509.pdb',\n",
       " '/media/concha-eloko/Linux/depolymerase_building/phagedepo_out/6230.pdb',\n",
       " '/media/concha-eloko/Linux/depolymerase_building/phagedepo_out/2786.pdb',\n",
       " '/media/concha-eloko/Linux/depolymerase_building/phagedepo_out/5168.pdb',\n",
       " '/media/concha-eloko/Linux/depolymerase_building/phagedepo_out/6332.pdb',\n",
       " '/media/concha-eloko/Linux/depolymerase_building/phagedepo_out/657.pdb',\n",
       " '/media/concha-eloko/Linux/depolymerase_building/phagedepo_out/1043.pdb',\n",
       " '/media/concha-eloko/Linux/depolymerase_building/phagedepo_out/1918.pdb',\n",
       " '/media/concha-eloko/Linux/depolymerase_building/phagedepo_out/1842.pdb',\n",
       " '/media/concha-eloko/Linux/depolymerase_building/phagedepo_out/814.pdb',\n",
       " '/media/concha-eloko/Linux/depolymerase_building/phagedepo_out/2753.pdb',\n",
       " '/media/concha-eloko/Linux/depolymerase_building/phagedepo_out/2976.pdb',\n",
       " '/media/concha-eloko/Linux/depolymerase_building/phagedepo_out/2048.pdb',\n",
       " '/media/concha-eloko/Linux/depolymerase_building/phagedepo_out/343.pdb',\n",
       " '/media/concha-eloko/Linux/depolymerase_building/phagedepo_out/633.pdb',\n",
       " '/media/concha-eloko/Linux/depolymerase_building/phagedepo_out/655.pdb',\n",
       " '/media/concha-eloko/Linux/depolymerase_building/phagedepo_out/4493.pdb',\n",
       " '/media/concha-eloko/Linux/depolymerase_building/phagedepo_out/665.pdb',\n",
       " '/media/concha-eloko/Linux/depolymerase_building/phagedepo_out/631.pdb',\n",
       " '/media/concha-eloko/Linux/depolymerase_building/phagedepo_out/6450.pdb',\n",
       " '/media/concha-eloko/Linux/depolymerase_building/phagedepo_out/36.pdb',\n",
       " '/media/concha-eloko/Linux/depolymerase_building/phagedepo_out/5347.pdb',\n",
       " '/media/concha-eloko/Linux/depolymerase_building/phagedepo_out/1873.pdb',\n",
       " '/media/concha-eloko/Linux/depolymerase_building/phagedepo_out/5089.pdb',\n",
       " '/media/concha-eloko/Linux/depolymerase_building/phagedepo_out/489.pdb',\n",
       " '/media/concha-eloko/Linux/depolymerase_building/phagedepo_out/2170.pdb',\n",
       " '/media/concha-eloko/Linux/depolymerase_building/phagedepo_out/5265.pdb',\n",
       " '/media/concha-eloko/Linux/depolymerase_building/phagedepo_out/2001.pdb',\n",
       " '/media/concha-eloko/Linux/depolymerase_building/phagedepo_out/1574.pdb',\n",
       " '/media/concha-eloko/Linux/depolymerase_building/phagedepo_out/1810.pdb',\n",
       " '/media/concha-eloko/Linux/depolymerase_building/phagedepo_out/817.pdb',\n",
       " '/media/concha-eloko/Linux/depolymerase_building/phagedepo_out/4154.pdb',\n",
       " '/media/concha-eloko/Linux/depolymerase_building/phagedepo_out/4083.pdb',\n",
       " '/media/concha-eloko/Linux/depolymerase_building/phagedepo_out/1125.pdb',\n",
       " '/media/concha-eloko/Linux/depolymerase_building/phagedepo_out/2190.pdb',\n",
       " '/media/concha-eloko/Linux/depolymerase_building/phagedepo_out/373.pdb',\n",
       " '/media/concha-eloko/Linux/depolymerase_building/phagedepo_out/6519.pdb',\n",
       " '/media/concha-eloko/Linux/depolymerase_building/phagedepo_out/634.pdb',\n",
       " '/media/concha-eloko/Linux/depolymerase_building/phagedepo_out/5305.pdb',\n",
       " '/media/concha-eloko/Linux/depolymerase_building/phagedepo_out/5664.pdb',\n",
       " '/media/concha-eloko/Linux/depolymerase_building/phagedepo_out/3812.pdb']"
      ]
     },
     "execution_count": 13,
     "metadata": {},
     "output_type": "execute_result"
    }
   ],
   "source": [
    "import subprocess\n",
    "import os\n",
    "\n",
    "path_project = \"/media/concha-eloko/Linux/depolymerase_building\"\n",
    "path_pdb = f\"{path_project}/phagedepo_out\"\n",
    "path_db = f\"/media/concha-eloko/Linux/depolymerase_building/RefDepo_domains/RefDepo_domains_db\"\n",
    "path_tmp = f\"{path_project}/tmp\"\n",
    "\n",
    "def seek_beta_helix(path_in) :\n",
    "    dir_out = f\"{path_project}/seekfold_decipher\"\n",
    "    protein_id = path_in.split(\"/\")[-1].split(\".pdb\")[0]\n",
    "    path_out = f\"{dir_out}/{protein_id}.out\"\n",
    "    output_frmt = f\"query,target,pident,alnlen,gapopen,qstart,qend,tstart,tend,bits,prob\"\n",
    "    #seek = f\"foldseek easy-search {path_in} {path_db} {path_out} {path_tmp} --format-output {output_frmt}\"\n",
    "    seek = f\"foldseek easy-search {path_in} {path_db} {path_out}.html {path_tmp} --format-mode 3\"\n",
    "    seek_process = subprocess.Popen(seek, shell=True, stdout=subprocess.PIPE, stderr=subprocess.STDOUT)\n",
    "    press_out, press_err = seek_process.communicate()\n",
    "    print (press_out, press_err)\n",
    "\n",
    "for path in paths_decipher :\n",
    "    seek_beta_helix(path)"
   ]
  },
  {
   "cell_type": "code",
   "execution_count": null,
   "metadata": {},
   "outputs": [],
   "source": []
  }
 ],
 "metadata": {
  "kernelspec": {
   "display_name": "sklearn-env",
   "language": "python",
   "name": "sklearn-env"
  },
  "language_info": {
   "codemirror_mode": {
    "name": "ipython",
    "version": 3
   },
   "file_extension": ".py",
   "mimetype": "text/x-python",
   "name": "python",
   "nbconvert_exporter": "python",
   "pygments_lexer": "ipython3",
   "version": "3.8.16"
  }
 },
 "nbformat": 4,
 "nbformat_minor": 4
}
