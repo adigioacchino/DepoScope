{
 "cells": [
  {
   "cell_type": "markdown",
   "id": "293b2e58-6487-482e-839f-dad32fb23d36",
   "metadata": {},
   "source": [
    "## ColabFold Deposcope\n",
    "\n",
    "This is the repository related to our manuscript [Deposcope](https://www.biorxiv.org/content/10.1101/2024.01.15.575807v1): accurate phage depolymerase annotation and domain delineation using large language models, currently in submission at PLOS Computational Biology.\n"
   ]
  },
  {
   "cell_type": "markdown",
   "id": "1b0d6243-a12e-4612-a8c6-e296d4d08a31",
   "metadata": {},
   "source": [
    "# @title Install dependencies\n",
    "%%time\n",
    "import os\n",
    "USE_AMBER = use_amber\n",
    "USE_TEMPLATES = use_templates\n",
    "PYTHON_VERSION = python_version\n",
    "\n",
    "if not os.path.isfile(\"COLABFOLD_READY\"):\n",
    "  print(\"installing colabfold...\")\n",
    "  os.system(\"pip install -q --no-warn-conflicts 'colabfold[alphafold-minus-jax] @ git+https://github.com/sokrypton/ColabFold'\")\n",
    "  if os.environ.get('TPU_NAME', False) != False:\n",
    "    os.system(\"pip install -q --no-warn-conflicts -U dm-haiku==0.0.10 jax==0.3.25\")\n",
    "  os.system(\"ln -s /usr/local/lib/python3.*/dist-packages/colabfold colabfold\")\n",
    "  os.system(\"ln -s /usr/local/lib/python3.*/dist-packages/alphafold alphafold\")\n",
    "  os.system(\"touch COLABFOLD_READY\")\n",
    "\n",
    "if USE_AMBER or USE_TEMPLATES:\n",
    "  if not os.path.isfile(\"CONDA_READY\"):\n",
    "    print(\"installing conda...\")\n",
    "    os.system(\"wget -qnc https://github.com/conda-forge/miniforge/releases/latest/download/Mambaforge-Linux-x86_64.sh\")\n",
    "    os.system(\"bash Mambaforge-Linux-x86_64.sh -bfp /usr/local\")\n",
    "    os.system(\"mamba config --set auto_update_conda false\")\n",
    "    os.system(\"touch CONDA_READY\")\n",
    "\n",
    "if USE_TEMPLATES and not os.path.isfile(\"HH_READY\") and USE_AMBER and not os.path.isfile(\"AMBER_READY\"):\n",
    "  print(\"installing hhsuite and amber...\")\n",
    "  os.system(f\"mamba install -y -c conda-forge -c bioconda kalign2=2.04 hhsuite=3.3.0 openmm=7.7.0 python='{PYTHON_VERSION}' pdbfixer\")\n",
    "  os.system(\"touch HH_READY\")\n",
    "  os.system(\"touch AMBER_READY\")\n",
    "else:\n",
    "  if USE_TEMPLATES and not os.path.isfile(\"HH_READY\"):\n",
    "    print(\"installing hhsuite...\")\n",
    "    os.system(f\"mamba install -y -c conda-forge -c bioconda kalign2=2.04 hhsuite=3.3.0 python='{PYTHON_VERSION}'\")\n",
    "    os.system(\"touch HH_READY\")\n",
    "  if USE_AMBER and not os.path.isfile(\"AMBER_READY\"):\n",
    "    print(\"installing amber...\")\n",
    "    os.system(f\"mamba install -y -c conda-forge openmm=7.7.0 python='{PYTHON_VERSION}' pdbfixer\")\n",
    "    os.system(\"touch AMBER_READY\")"
   ]
  },
  {
   "cell_type": "raw",
   "id": "d4a62348-6f0b-4b2d-80d4-e387d9612f74",
   "metadata": {},
   "source": []
  }
 ],
 "metadata": {
  "kernelspec": {
   "display_name": "Python 3 (ipykernel)",
   "language": "python",
   "name": "python3"
  },
  "language_info": {
   "codemirror_mode": {
    "name": "ipython",
    "version": 3
   },
   "file_extension": ".py",
   "mimetype": "text/x-python",
   "name": "python",
   "nbconvert_exporter": "python",
   "pygments_lexer": "ipython3",
   "version": "3.11.4"
  },
  "widgets": {
   "application/vnd.jupyter.widget-state+json": {
    "state": {},
    "version_major": 2,
    "version_minor": 0
   }
  }
 },
 "nbformat": 4,
 "nbformat_minor": 5
}
