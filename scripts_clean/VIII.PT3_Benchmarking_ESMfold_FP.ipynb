{
 "cells": [
  {
   "cell_type": "markdown",
   "metadata": {},
   "source": [
    "# The goal here is to make esmfold prediction on the FP then sceen them with foldseek\n",
    "***\n",
    "# I. ESMfold script\n",
    "***\n",
    "# II. Foldseek script\n",
    "***\n",
    "# III. Foldseek scan\n",
    "***"
   ]
  },
  {
   "cell_type": "markdown",
   "metadata": {},
   "source": [
    "I.\n",
    "> Move the files around"
   ]
  },
  {
   "cell_type": "code",
   "execution_count": null,
   "metadata": {},
   "outputs": [],
   "source": [
    "rsync -avzhe ssh \\\n",
    "/media/concha-eloko/Linux/PhageDEPOdetection/Dpos_reference.T12_FP.multi.fasta \\\n",
    "conchae@garnatxa.srv.cpd:/home/conchae/PhageDepo_pdb/benchmarking\n"
   ]
  },
  {
   "cell_type": "markdown",
   "metadata": {},
   "source": [
    "> ESMfold script"
   ]
  },
  {
   "cell_type": "code",
   "execution_count": null,
   "metadata": {},
   "outputs": [],
   "source": [
    "from multiprocessing.pool import ThreadPool\n",
    "import pandas as pd \n",
    "from transformers import AutoTokenizer, EsmForProteinFolding\n",
    "import torch\n",
    "\n",
    "from transformers.models.esm.openfold_utils.protein import to_pdb, Protein as OFProtein\n",
    "from transformers.models.esm.openfold_utils.feats import atom14_to_atom37\n",
    "\n",
    "torch.backends.cuda.matmul.allow_tf32 = True\n",
    "tokenizer = AutoTokenizer.from_pretrained(\"facebook/esmfold_v1\")\n",
    "model = EsmForProteinFolding.from_pretrained(\"facebook/esmfold_v1\")\n",
    "\n",
    "def tokenized_sequences(sequences, fasta_or_csv) :\n",
    "    \"\"\"\n",
    "    The function takes as an input a either a multifasta file or a dataframe with two columns.\n",
    "    If the input is a dataframe, the shape would consist of two columns with :\n",
    "    - 'id', which corresponds to the protein name\n",
    "    - 'sequence', which corresponds to the aa sequence\n",
    "    The function returns a list of tuples (a,b) with a as the id and b as the tokenized inputs\n",
    "    \"\"\"\n",
    "    starting = 0\n",
    "    if fasta_or_csv == \"csv\" :\n",
    "        dico_seq = {}\n",
    "        for i, row in sequences.iterrows():\n",
    "            if row[\"id\"] >= starting and row[\"id\"] not in not_processed : \n",
    "                dico_seq[row[\"id\"]] =  row[\"sequence\"]\n",
    "    elif fasta_or_csv == \"fasta\" :\n",
    "        from Bio import SeqIO\n",
    "        dico_seq = {record.description.split()[0] : str(record.seq) for record in SeqIO.parse(sequences, \"fasta\") if len(str(record.seq)) > 400}\n",
    "    tokenized_sequences = []\n",
    "    for idd in dico_seq :\n",
    "        if os.path.isfile(f\"/home/conchae/PhageDepo_pdb/benchmarking/{idd}.pdb\") == False :\n",
    "            print(idd)\n",
    "            tokenized_input = tokenizer(dico_seq[idd], return_tensors=\"pt\", add_special_tokens=False)['input_ids']\n",
    "            a = (idd , tokenized_input)\n",
    "            tokenized_sequences.append(a)\n",
    "    return tokenized_sequences\n",
    "\n",
    "def convert_outputs_to_pdb(outputs):\n",
    "    final_atom_positions = atom14_to_atom37(outputs[\"positions\"][-1], outputs)\n",
    "    outputs = {k: v.to(\"cpu\").numpy() for k, v in outputs.items()}\n",
    "    final_atom_positions = final_atom_positions.cpu().numpy()\n",
    "    final_atom_mask = outputs[\"atom37_atom_exists\"]\n",
    "    pdbs = []\n",
    "    for i in range(outputs[\"aatype\"].shape[0]):\n",
    "        aa = outputs[\"aatype\"][i]\n",
    "        pred_pos = final_atom_positions[i]\n",
    "        mask = final_atom_mask[i]\n",
    "        resid = outputs[\"residue_index\"][i] + 1\n",
    "        pred = OFProtein(\n",
    "            aatype=aa,\n",
    "            atom_positions=pred_pos,\n",
    "            atom_mask=mask,\n",
    "            residue_index=resid,\n",
    "            b_factors=outputs[\"plddt\"][i],\n",
    "            chain_index=outputs[\"chain_index\"][i] if \"chain_index\" in outputs else None,\n",
    "        )\n",
    "        pdbs.append(to_pdb(pred))\n",
    "    return pdbs\n",
    "\n",
    "\n",
    "def esmfold_prediction(protein) :\n",
    "    \"\"\"\n",
    "    The function takes as an input :\n",
    "    - 'tokenized_sequences', the output of the function tokenize_fasta\n",
    "    - 'path_out', the path of the directory when the pdb files are to be written\n",
    "    The function generates the pdb files in the path_out    \n",
    "    # Changed for the map process\n",
    "    \"\"\"\n",
    "    path_out = \"/home/conchae/PhageDepo_pdb/benchmarking\"\n",
    "    with torch.no_grad():\n",
    "        output = model(protein[1])\n",
    "        pdb_txt = convert_outputs_to_pdb(output)\n",
    "        with open(f\"{path_out}/{protein[0]}.pdb\" ,\"w\") as outfile :\n",
    "            outfile.write(pdb_txt[0])\n",
    "\n",
    "# The predictions\n",
    "path_data = \"/home/conchae/PhageDepo_pdb/benchmarking\"\n",
    "FP_tokenized = tokenized_sequences(f\"{path_data}/Dpos_reference.T12_FP.multi.fasta\" , \"fasta\")\n",
    "FP_tokenized_r = FP_tokenized.reverse()\n",
    "results = list(map(esmfold_prediction ,FP_tokenized_r))\n",
    "\n"
   ]
  },
  {
   "cell_type": "code",
   "execution_count": null,
   "metadata": {},
   "outputs": [],
   "source": [
    "#!/bin/bash\n",
    "#BATCH --job-name=ESM_fold_millard_\n",
    "#SBATCH --qos=long-mem\n",
    "#SBATCH --ntasks=1 \n",
    "#SBATCH --cpus-per-task=60 \n",
    "#SBATCH --mem=200gb \n",
    "#SBATCH --time=10-00:00:00 \n",
    "#SBATCH --output=ESM_fold__%j.log \n",
    "\n",
    "source /storage/apps/ANACONDA/anaconda3/etc/profile.d/conda.sh\n",
    "conda activate embeddings\n",
    "\n",
    "python /home/conchae/PhageDepo_pdb/script_files/esmfold_FP.py\n"
   ]
  }
 ],
 "metadata": {
  "kernelspec": {
   "display_name": "Python 3 (ipykernel)",
   "language": "python",
   "name": "python3"
  },
  "language_info": {
   "codemirror_mode": {
    "name": "ipython",
    "version": 3
   },
   "file_extension": ".py",
   "mimetype": "text/x-python",
   "name": "python",
   "nbconvert_exporter": "python",
   "pygments_lexer": "ipython3",
   "version": "3.11.4"
  },
  "widgets": {
   "application/vnd.jupyter.widget-state+json": {
    "state": {},
    "version_major": 2,
    "version_minor": 0
   }
  }
 },
 "nbformat": 4,
 "nbformat_minor": 4
}
