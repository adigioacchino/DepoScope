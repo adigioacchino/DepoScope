{
 "cells": [
  {
   "cell_type": "markdown",
   "metadata": {},
   "source": [
    "# Goal : Scan the 3D predcitions with the PD fold database (12/09/2023). \n",
    "\n",
    "### A. Make the DB\n",
    "### B. Run Foldseek\n",
    "### C. Get the hits with good proba\n",
    "### D. Report the folds\n",
    "***"
   ]
  },
  {
   "cell_type": "markdown",
   "metadata": {},
   "source": [
    "# A"
   ]
  },
  {
   "cell_type": "code",
   "execution_count": null,
   "metadata": {},
   "outputs": [],
   "source": [
    "# Generates the database :\n",
    "# mkdir /media/concha-eloko/Linux/PhageDEPOdetection/PD_fold_database_foldseek\n",
    "foldseek createdb \\\n",
    "/media/concha-eloko/Linux/PhageDEPOdetection/PD_fold_database \\\n",
    "/media/concha-eloko/Linux/PhageDEPOdetection/PD_fold_database_foldseek/PD_fold_database_foldseek\n",
    "\n",
    "# Generate index files : \n",
    "foldseek createindex \\\n",
    "/media/concha-eloko/Linux/PhageDEPOdetection/PD_fold_database_foldseek/PD_fold_database_foldseek \\ \n",
    "/media/concha-eloko/Linux/PhageDEPOdetection/PD_fold_database\n",
    "\n",
    "# Move to server :\n",
    "rsync -avzhe ssh \\\n",
    "/media/concha-eloko/Linux/PhageDEPOdetection/PD_fold_database \\\n",
    "conchae@garnatxa.srv.cpd:/home/conchae/depolymerase\n",
    "    \n",
    "rsync -avzhe ssh \\\n",
    "/media/concha-eloko/Linux/PhageDEPOdetection/PD_fold_database_foldseek \\\n",
    "conchae@garnatxa.srv.cpd:/home/conchae/depolymerase"
   ]
  },
  {
   "cell_type": "markdown",
   "metadata": {},
   "source": [
    "***\n",
    "## B  "
   ]
  },
  {
   "cell_type": "code",
   "execution_count": null,
   "metadata": {},
   "outputs": [],
   "source": [
    "import subprocess\n",
    "import os\n",
    "\n",
    "path_project = \"/media/concha-eloko/Linux/PhageDEPOdetection\"\n",
    "path_pdb = f\"{path_project}/phagedepo_out\"\n",
    "path_db = f\"/media/concha-eloko/Linux/PhageDEPOdetection/PD_fold_database_foldseek/PD_fold_database_foldseek\"\n",
    "path_tmp = f\"{path_project}/tmp\"\n",
    "\n",
    "def seek_beta_helix(path_in) :\n",
    "    dir_out = f\"{path_project}/PD_fold_seekfold\"\n",
    "    protein_id = path_in.split(\"/\")[-1].split(\".pdb\")[0]\n",
    "    path_out = f\"{dir_out}/{protein_id}.out\"\n",
    "    output_frmt = f\"query,target,pident,alnlen,gapopen,qstart,qend,tstart,tend,bits,prob\"\n",
    "    seek = f\"foldseek easy-search {path_in} {path_db} {path_out} {path_tmp} --format-output {output_frmt}\"\n",
    "    #seek = f\"foldseek easy-search {path_in} {path_db} {path_out}.html {path_tmp} --format-mode 3\"\n",
    "    seek_process = subprocess.Popen(seek, shell=True, stdout=subprocess.PIPE, stderr=subprocess.STDOUT)\n",
    "    press_out, press_err = seek_process.communicate()\n",
    "    print (press_out, press_err)\n",
    "\n",
    "paths = [f\"{path_pdb}/{file}\" for file in os.listdir(f\"{path_pdb}\")]\n",
    "\n",
    "\n",
    "for path in paths :\n",
    "    seek_beta_helix(path)"
   ]
  },
  {
   "cell_type": "markdown",
   "metadata": {},
   "source": [
    "***\n",
    "## C."
   ]
  },
  {
   "cell_type": "code",
   "execution_count": 1,
   "metadata": {},
   "outputs": [
    {
     "name": "stdout",
     "output_type": "stream",
     "text": [
      "So far, out of 680 proteins searched, 398 seemed to be positive in the phagedepo dataset (0.5852941176470589 %).\n",
      "The proportion of very good is 0.7889447236180904\n",
      "The proportion of good is 0.10301507537688442\n",
      "The proportion of decent is 0.052763819095477386\n",
      "The rest is 0.05527638190954774\n"
     ]
    }
   ],
   "source": [
    "import pandas as pd\n",
    "import os \n",
    "\n",
    "path_project = \"/media/concha-eloko/Linux/PhageDEPOdetection\"\n",
    "dir_out = f\"{path_project}/PD_fold_seekfold\"\n",
    "outputs = [f\"{dir_out}/{file}\" for file in os.listdir(dir_out) if file[-3:]==\"out\"]\n",
    "\n",
    "header_seekfold = [\"query\",\"target\",\"pident\",\"alnlen\",\"gapopen\",\"qstart\",\"qend\",\"tstart\",\"tend\",\"bits\",\"prob\"]\n",
    "\n",
    "depo_ppt = {}\n",
    "very_good = 0\n",
    "good = 0\n",
    "decent = 0 \n",
    "passable = 0\n",
    "for results in outputs :\n",
    "    results_df = pd.read_csv(f\"{results}\", sep = \"\\t\" , names = header_seekfold)\n",
    "    try : \n",
    "        if results_df[\"prob\"][0] > 0.1 :\n",
    "            depo_ppt[results_df[\"query\"][0]] = (results_df[\"target\"][0] , results_df[\"prob\"][0])\n",
    "            if results_df[\"prob\"][0] > 0.9 :\n",
    "                very_good += 1\n",
    "            elif results_df[\"prob\"][0] > 0.5 :\n",
    "                good += 1\n",
    "            elif results_df[\"prob\"][0] > 0.25 :\n",
    "                decent += 1\n",
    "            else :\n",
    "                passable += 1\n",
    "                \n",
    "    except IndexError :\n",
    "        pass\n",
    "\n",
    "import pprint\n",
    "#pp = pprint.PrettyPrinter(width = 100, sort_dicts = True, compact = True)\n",
    "\n",
    "\n",
    "print(f\"So far, out of {len((outputs))} proteins searched, {len(depo_ppt)} seemed to be positive in the phagedepo dataset ({len(depo_ppt)/len(outputs)} %).\\nThe proportion of very good is {very_good/len(depo_ppt)}\\nThe proportion of good is {good/len(depo_ppt)}\\nThe proportion of decent is {decent/len(depo_ppt)}\\nThe rest is {passable/len(depo_ppt)}\")\n"
   ]
  },
  {
   "cell_type": "code",
   "execution_count": 6,
   "metadata": {},
   "outputs": [
    {
     "data": {
      "text/html": [
       "<div>\n",
       "<style scoped>\n",
       "    .dataframe tbody tr th:only-of-type {\n",
       "        vertical-align: middle;\n",
       "    }\n",
       "\n",
       "    .dataframe tbody tr th {\n",
       "        vertical-align: top;\n",
       "    }\n",
       "\n",
       "    .dataframe thead th {\n",
       "        text-align: right;\n",
       "    }\n",
       "</style>\n",
       "<table border=\"1\" class=\"dataframe\">\n",
       "  <thead>\n",
       "    <tr style=\"text-align: right;\">\n",
       "      <th></th>\n",
       "      <th>Activity</th>\n",
       "      <th>ID</th>\n",
       "      <th>Folds</th>\n",
       "    </tr>\n",
       "  </thead>\n",
       "  <tbody>\n",
       "    <tr>\n",
       "      <th>0</th>\n",
       "      <td>xylanase</td>\n",
       "      <td>2d97.pdb</td>\n",
       "      <td>jelly-roll</td>\n",
       "    </tr>\n",
       "    <tr>\n",
       "      <th>1</th>\n",
       "      <td>Polysaccharide lyase 8</td>\n",
       "      <td>7fhv.pdb_A</td>\n",
       "      <td>alpha/alpha toroid</td>\n",
       "    </tr>\n",
       "    <tr>\n",
       "      <th>2</th>\n",
       "      <td>Polysaccharide lyase 8</td>\n",
       "      <td>7fhv.pdb_B</td>\n",
       "      <td>alpha/alpha toroid</td>\n",
       "    </tr>\n",
       "    <tr>\n",
       "      <th>3</th>\n",
       "      <td>Polysaccharide lyase 8</td>\n",
       "      <td>7fhy.pdb_A</td>\n",
       "      <td>alpha/alpha toroid</td>\n",
       "    </tr>\n",
       "    <tr>\n",
       "      <th>4</th>\n",
       "      <td>Polysaccharide lyase 8</td>\n",
       "      <td>7fhy.pdb_B</td>\n",
       "      <td>alpha/alpha toroid</td>\n",
       "    </tr>\n",
       "    <tr>\n",
       "      <th>...</th>\n",
       "      <td>...</td>\n",
       "      <td>...</td>\n",
       "      <td>...</td>\n",
       "    </tr>\n",
       "    <tr>\n",
       "      <th>61</th>\n",
       "      <td>GH5_4</td>\n",
       "      <td>4YZPA_1_1_313.pdb</td>\n",
       "      <td>TIM beta/alpha-barrel</td>\n",
       "    </tr>\n",
       "    <tr>\n",
       "      <th>62</th>\n",
       "      <td>GH5_8</td>\n",
       "      <td>1WKYA_1_1_302.pdb</td>\n",
       "      <td>TIM beta/alpha-barrel</td>\n",
       "    </tr>\n",
       "    <tr>\n",
       "      <th>63</th>\n",
       "      <td>GH5_34</td>\n",
       "      <td>2Y8KA_1_1_313.pdb</td>\n",
       "      <td>TIM beta/alpha-barrel</td>\n",
       "    </tr>\n",
       "    <tr>\n",
       "      <th>64</th>\n",
       "      <td>GH15</td>\n",
       "      <td>1UG9A_3_270_687.pdb</td>\n",
       "      <td>alpha/alpha toroid</td>\n",
       "    </tr>\n",
       "    <tr>\n",
       "      <th>65</th>\n",
       "      <td>GH76</td>\n",
       "      <td>6U4ZA_1_99_473.pdb</td>\n",
       "      <td>alpha/alpha toroid</td>\n",
       "    </tr>\n",
       "  </tbody>\n",
       "</table>\n",
       "<p>66 rows × 3 columns</p>\n",
       "</div>"
      ],
      "text/plain": [
       "                  Activity                   ID                  Folds\n",
       "0                 xylanase             2d97.pdb             jelly-roll\n",
       "1   Polysaccharide lyase 8           7fhv.pdb_A     alpha/alpha toroid\n",
       "2   Polysaccharide lyase 8           7fhv.pdb_B     alpha/alpha toroid\n",
       "3   Polysaccharide lyase 8           7fhy.pdb_A     alpha/alpha toroid\n",
       "4   Polysaccharide lyase 8           7fhy.pdb_B     alpha/alpha toroid\n",
       "..                     ...                  ...                    ...\n",
       "61                   GH5_4    4YZPA_1_1_313.pdb  TIM beta/alpha-barrel\n",
       "62                   GH5_8    1WKYA_1_1_302.pdb  TIM beta/alpha-barrel\n",
       "63                  GH5_34    2Y8KA_1_1_313.pdb  TIM beta/alpha-barrel\n",
       "64                    GH15  1UG9A_3_270_687.pdb     alpha/alpha toroid\n",
       "65                    GH76   6U4ZA_1_99_473.pdb     alpha/alpha toroid\n",
       "\n",
       "[66 rows x 3 columns]"
      ]
     },
     "execution_count": 6,
     "metadata": {},
     "output_type": "execute_result"
    }
   ],
   "source": [
    "path_info = f\"/media/concha-eloko/Linux/depolymerase_building/depolymerase_fold.csv\"\n",
    "info_df = pd.read_csv(path_info , sep = \"\\t\", header = 0)\n",
    "\n",
    "info_df[\"Folds\"].unique()\n",
    "info_df"
   ]
  },
  {
   "cell_type": "markdown",
   "metadata": {},
   "source": [
    "***\n",
    "## C."
   ]
  },
  {
   "cell_type": "code",
   "execution_count": 9,
   "metadata": {
    "scrolled": true
   },
   "outputs": [
    {
     "name": "stderr",
     "output_type": "stream",
     "text": [
      "100%|███████████████████████████████████████████████████████████████████████████████████████████████████████████████████████████████████████████████████| 1926/1926 [00:20<00:00, 94.25it/s]"
     ]
    },
    {
     "name": "stdout",
     "output_type": "stream",
     "text": [
      "The jelly-roll presented 101 depolymerases.\n",
      "\n",
      "The alpha/alpha toroid presented 11 depolymerases.\n",
      "\n",
      "The right-handed beta-helix presented 844 depolymerases.\n",
      "\n",
      "The TIM beta/alpha-barrel presented 10 depolymerases.\n",
      "\n",
      "The 6-bladed beta-propeller presented 119 depolymerases.\n",
      "\n",
      "The Flavodoxin-like presented 0 depolymerases.\n",
      "\n",
      "The Alpha/Beta hydrolase fold presented 0 depolymerases.\n",
      "\n",
      "The Other presented 4 depolymerases.\n",
      "\n"
     ]
    },
    {
     "name": "stderr",
     "output_type": "stream",
     "text": [
      "\n"
     ]
    }
   ],
   "source": [
    "import pandas as pd\n",
    "import os \n",
    "from tqdm import tqdm\n",
    "\n",
    "path_project = \"/media/concha-eloko/Linux/PhageDEPOdetection\"\n",
    "dir_out = f\"{path_project}/PD_fold_seekfold\"\n",
    "\n",
    "path_info = f\"/media/concha-eloko/Linux/depolymerase_building/depolymerase_fold.csv\"\n",
    "info_df = pd.read_csv(path_info , sep = \"\\t\", header = 0)\n",
    "\n",
    "dico_folds = {\"jelly-roll\" : [],\n",
    "              \"alpha/alpha toroid\" : [],\n",
    "              \"right-handed beta-helix\" : [] ,\n",
    "              \"TIM beta/alpha-barrel\" : [],\n",
    "              \"6-bladed beta-propeller\" : [] ,\n",
    "              \"Flavodoxin-like\" : [] ,\n",
    "              \"Alpha/Beta hydrolase fold\" : [] ,\n",
    "              \"Other\" : [],\n",
    "             }\n",
    "\n",
    "outputs = [f\"{dir_out}/{file}\" for file in os.listdir(dir_out) if file[-3:]==\"out\"]\n",
    "header_seekfold = [\"query\",\"target\",\"pident\",\"alnlen\",\"gapopen\",\"qstart\",\"qend\",\"tstart\",\"tend\",\"bits\",\"prob\"]\n",
    "depo_results = {}\n",
    "for results in tqdm(outputs) :\n",
    "    results_df = pd.read_csv(f\"{results}\", sep = \"\\t\" , names = header_seekfold)\n",
    "    for _,row in results_df.iterrows() :\n",
    "        fold = info_df[info_df[\"ID\"] == row[\"target\"]][\"Folds\"].values[0]\n",
    "        if row[\"prob\"] >= 0.5 :\n",
    "            if row[\"query\"] not in dico_folds[fold] :\n",
    "                dico_folds[fold].append(row[\"query\"])\n",
    "        elif fold == \"right-handed beta-helix\" and row[\"prob\"] >= 0.2 :\n",
    "            if row[\"query\"] not in dico_folds[fold] :\n",
    "                dico_folds[fold].append(row[\"query\"])\n",
    "                \n",
    "for fold in dico_folds : \n",
    "    print(f\"The {fold} presented {len(dico_folds[fold])} depolymerases.\\n\")"
   ]
  },
  {
   "cell_type": "code",
   "execution_count": 16,
   "metadata": {},
   "outputs": [
    {
     "data": {
      "text/plain": [
       "['4206.pdb',\n",
       " '914.pdb',\n",
       " '1043.pdb',\n",
       " '5668.pdb',\n",
       " '4208.pdb',\n",
       " '1903.pdb',\n",
       " '6513.pdb',\n",
       " '3091.pdb',\n",
       " '4171.pdb',\n",
       " '5113.pdb']"
      ]
     },
     "execution_count": 16,
     "metadata": {},
     "output_type": "execute_result"
    }
   ],
   "source": [
    "dico_folds[\"TIM beta/alpha-barrel\"]"
   ]
  },
  {
   "cell_type": "markdown",
   "metadata": {},
   "source": [
    "> Make files :"
   ]
  },
  {
   "cell_type": "code",
   "execution_count": 17,
   "metadata": {},
   "outputs": [],
   "source": [
    "from Bio import SeqIO\n",
    "\n",
    "def extract_sequence_from_pdb(pdb_path):\n",
    "    for record in SeqIO.parse(pdb_path, \"pdb-atom\"):\n",
    "        return str(record.seq)"
   ]
  },
  {
   "cell_type": "code",
   "execution_count": 18,
   "metadata": {
    "scrolled": true
   },
   "outputs": [
    {
     "name": "stderr",
     "output_type": "stream",
     "text": [
      "/home/concha-eloko/miniconda3/lib/python3.11/site-packages/Bio/PDB/PDBParser.py:395: PDBConstructionWarning: Ignoring unrecognized record 'END' at line 6906\n",
      "  warnings.warn(\n",
      "/home/concha-eloko/miniconda3/lib/python3.11/site-packages/Bio/SeqIO/PdbIO.py:322: BiopythonParserWarning: 'HEADER' line not found; can't determine PDB ID.\n",
      "  warnings.warn(\n",
      "/home/concha-eloko/miniconda3/lib/python3.11/site-packages/Bio/PDB/PDBParser.py:395: PDBConstructionWarning: Ignoring unrecognized record 'END' at line 3729\n",
      "  warnings.warn(\n",
      "/home/concha-eloko/miniconda3/lib/python3.11/site-packages/Bio/SeqIO/PdbIO.py:322: BiopythonParserWarning: 'HEADER' line not found; can't determine PDB ID.\n",
      "  warnings.warn(\n",
      "/home/concha-eloko/miniconda3/lib/python3.11/site-packages/Bio/PDB/PDBParser.py:395: PDBConstructionWarning: Ignoring unrecognized record 'END' at line 7820\n",
      "  warnings.warn(\n",
      "/home/concha-eloko/miniconda3/lib/python3.11/site-packages/Bio/SeqIO/PdbIO.py:322: BiopythonParserWarning: 'HEADER' line not found; can't determine PDB ID.\n",
      "  warnings.warn(\n",
      "/home/concha-eloko/miniconda3/lib/python3.11/site-packages/Bio/PDB/PDBParser.py:395: PDBConstructionWarning: Ignoring unrecognized record 'END' at line 7653\n",
      "  warnings.warn(\n",
      "/home/concha-eloko/miniconda3/lib/python3.11/site-packages/Bio/SeqIO/PdbIO.py:322: BiopythonParserWarning: 'HEADER' line not found; can't determine PDB ID.\n",
      "  warnings.warn(\n",
      "/home/concha-eloko/miniconda3/lib/python3.11/site-packages/Bio/PDB/PDBParser.py:395: PDBConstructionWarning: Ignoring unrecognized record 'END' at line 7962\n",
      "  warnings.warn(\n",
      "/home/concha-eloko/miniconda3/lib/python3.11/site-packages/Bio/SeqIO/PdbIO.py:322: BiopythonParserWarning: 'HEADER' line not found; can't determine PDB ID.\n",
      "  warnings.warn(\n",
      "/home/concha-eloko/miniconda3/lib/python3.11/site-packages/Bio/PDB/PDBParser.py:395: PDBConstructionWarning: Ignoring unrecognized record 'END' at line 7563\n",
      "  warnings.warn(\n",
      "/home/concha-eloko/miniconda3/lib/python3.11/site-packages/Bio/SeqIO/PdbIO.py:322: BiopythonParserWarning: 'HEADER' line not found; can't determine PDB ID.\n",
      "  warnings.warn(\n",
      "/home/concha-eloko/miniconda3/lib/python3.11/site-packages/Bio/PDB/PDBParser.py:395: PDBConstructionWarning: Ignoring unrecognized record 'END' at line 6904\n",
      "  warnings.warn(\n",
      "/home/concha-eloko/miniconda3/lib/python3.11/site-packages/Bio/SeqIO/PdbIO.py:322: BiopythonParserWarning: 'HEADER' line not found; can't determine PDB ID.\n",
      "  warnings.warn(\n",
      "/home/concha-eloko/miniconda3/lib/python3.11/site-packages/Bio/PDB/PDBParser.py:395: PDBConstructionWarning: Ignoring unrecognized record 'END' at line 4601\n",
      "  warnings.warn(\n",
      "/home/concha-eloko/miniconda3/lib/python3.11/site-packages/Bio/SeqIO/PdbIO.py:322: BiopythonParserWarning: 'HEADER' line not found; can't determine PDB ID.\n",
      "  warnings.warn(\n",
      "/home/concha-eloko/miniconda3/lib/python3.11/site-packages/Bio/PDB/PDBParser.py:395: PDBConstructionWarning: Ignoring unrecognized record 'END' at line 7664\n",
      "  warnings.warn(\n",
      "/home/concha-eloko/miniconda3/lib/python3.11/site-packages/Bio/SeqIO/PdbIO.py:322: BiopythonParserWarning: 'HEADER' line not found; can't determine PDB ID.\n",
      "  warnings.warn(\n",
      "/home/concha-eloko/miniconda3/lib/python3.11/site-packages/Bio/PDB/PDBParser.py:395: PDBConstructionWarning: Ignoring unrecognized record 'END' at line 7516\n",
      "  warnings.warn(\n",
      "/home/concha-eloko/miniconda3/lib/python3.11/site-packages/Bio/SeqIO/PdbIO.py:322: BiopythonParserWarning: 'HEADER' line not found; can't determine PDB ID.\n",
      "  warnings.warn(\n",
      "/home/concha-eloko/miniconda3/lib/python3.11/site-packages/Bio/PDB/PDBParser.py:395: PDBConstructionWarning: Ignoring unrecognized record 'END' at line 7519\n",
      "  warnings.warn(\n",
      "/home/concha-eloko/miniconda3/lib/python3.11/site-packages/Bio/SeqIO/PdbIO.py:322: BiopythonParserWarning: 'HEADER' line not found; can't determine PDB ID.\n",
      "  warnings.warn(\n",
      "/home/concha-eloko/miniconda3/lib/python3.11/site-packages/Bio/PDB/PDBParser.py:395: PDBConstructionWarning: Ignoring unrecognized record 'END' at line 6439\n",
      "  warnings.warn(\n",
      "/home/concha-eloko/miniconda3/lib/python3.11/site-packages/Bio/SeqIO/PdbIO.py:322: BiopythonParserWarning: 'HEADER' line not found; can't determine PDB ID.\n",
      "  warnings.warn(\n",
      "/home/concha-eloko/miniconda3/lib/python3.11/site-packages/Bio/PDB/PDBParser.py:395: PDBConstructionWarning: Ignoring unrecognized record 'END' at line 1901\n",
      "  warnings.warn(\n",
      "/home/concha-eloko/miniconda3/lib/python3.11/site-packages/Bio/SeqIO/PdbIO.py:322: BiopythonParserWarning: 'HEADER' line not found; can't determine PDB ID.\n",
      "  warnings.warn(\n",
      "/home/concha-eloko/miniconda3/lib/python3.11/site-packages/Bio/PDB/PDBParser.py:395: PDBConstructionWarning: Ignoring unrecognized record 'END' at line 4796\n",
      "  warnings.warn(\n",
      "/home/concha-eloko/miniconda3/lib/python3.11/site-packages/Bio/SeqIO/PdbIO.py:322: BiopythonParserWarning: 'HEADER' line not found; can't determine PDB ID.\n",
      "  warnings.warn(\n",
      "/home/concha-eloko/miniconda3/lib/python3.11/site-packages/Bio/PDB/PDBParser.py:395: PDBConstructionWarning: Ignoring unrecognized record 'END' at line 6296\n",
      "  warnings.warn(\n",
      "/home/concha-eloko/miniconda3/lib/python3.11/site-packages/Bio/SeqIO/PdbIO.py:322: BiopythonParserWarning: 'HEADER' line not found; can't determine PDB ID.\n",
      "  warnings.warn(\n",
      "/home/concha-eloko/miniconda3/lib/python3.11/site-packages/Bio/PDB/PDBParser.py:395: PDBConstructionWarning: Ignoring unrecognized record 'END' at line 6436\n",
      "  warnings.warn(\n",
      "/home/concha-eloko/miniconda3/lib/python3.11/site-packages/Bio/SeqIO/PdbIO.py:322: BiopythonParserWarning: 'HEADER' line not found; can't determine PDB ID.\n",
      "  warnings.warn(\n",
      "/home/concha-eloko/miniconda3/lib/python3.11/site-packages/Bio/PDB/PDBParser.py:395: PDBConstructionWarning: Ignoring unrecognized record 'END' at line 6426\n",
      "  warnings.warn(\n",
      "/home/concha-eloko/miniconda3/lib/python3.11/site-packages/Bio/SeqIO/PdbIO.py:322: BiopythonParserWarning: 'HEADER' line not found; can't determine PDB ID.\n",
      "  warnings.warn(\n",
      "/home/concha-eloko/miniconda3/lib/python3.11/site-packages/Bio/PDB/PDBParser.py:395: PDBConstructionWarning: Ignoring unrecognized record 'END' at line 4607\n",
      "  warnings.warn(\n",
      "/home/concha-eloko/miniconda3/lib/python3.11/site-packages/Bio/SeqIO/PdbIO.py:322: BiopythonParserWarning: 'HEADER' line not found; can't determine PDB ID.\n",
      "  warnings.warn(\n",
      "/home/concha-eloko/miniconda3/lib/python3.11/site-packages/Bio/PDB/PDBParser.py:395: PDBConstructionWarning: Ignoring unrecognized record 'END' at line 4904\n",
      "  warnings.warn(\n",
      "/home/concha-eloko/miniconda3/lib/python3.11/site-packages/Bio/SeqIO/PdbIO.py:322: BiopythonParserWarning: 'HEADER' line not found; can't determine PDB ID.\n",
      "  warnings.warn(\n",
      "/home/concha-eloko/miniconda3/lib/python3.11/site-packages/Bio/PDB/PDBParser.py:395: PDBConstructionWarning: Ignoring unrecognized record 'END' at line 6502\n",
      "  warnings.warn(\n",
      "/home/concha-eloko/miniconda3/lib/python3.11/site-packages/Bio/SeqIO/PdbIO.py:322: BiopythonParserWarning: 'HEADER' line not found; can't determine PDB ID.\n",
      "  warnings.warn(\n",
      "/home/concha-eloko/miniconda3/lib/python3.11/site-packages/Bio/PDB/PDBParser.py:395: PDBConstructionWarning: Ignoring unrecognized record 'END' at line 5371\n",
      "  warnings.warn(\n",
      "/home/concha-eloko/miniconda3/lib/python3.11/site-packages/Bio/SeqIO/PdbIO.py:322: BiopythonParserWarning: 'HEADER' line not found; can't determine PDB ID.\n",
      "  warnings.warn(\n"
     ]
    }
   ],
   "source": [
    "path_project = \"/media/concha-eloko/Linux/PhageDEPOdetection\"\n",
    "path_pdb = f\"{path_project}/phagedepo_out\"\n",
    "\n",
    "with open(f\"{path_project}/rare_folds.tsv\" , \"w\") as outfile :    \n",
    "    outfile.write(f\"Fold\\tprotein_id\\taa_sequence\\n\")\n",
    "    for fold in dico_folds :\n",
    "        for file in dico_folds[fold] : \n",
    "            try : \n",
    "                if fold in [\"TIM beta/alpha-barrel\" , \"alpha/alpha toroid\"] : \n",
    "                    seq = extract_sequence_from_pdb(f\"{path_pdb}/{file}\")\n",
    "                    os.system(f\"cp {path_pdb}/{file} /media/concha-eloko/Linux/PhageDEPOdetection/rare_folds_pdb\")\n",
    "                    outfile.write(f\"{fold}\\t{file}\\t{seq}\\n\")\n",
    "            except Exception as e :\n",
    "                pass"
   ]
  },
  {
   "cell_type": "code",
   "execution_count": null,
   "metadata": {
    "tags": []
   },
   "outputs": [],
   "source": [
    "pp = pprint.PrettyPrinter(width = 100, sort_dicts = True, compact = True)\n",
    "\n",
    "pp.pprint(decipher_phagedepo)"
   ]
  }
 ],
 "metadata": {
  "kernelspec": {
   "display_name": "Python 3 (ipykernel)",
   "language": "python",
   "name": "python3"
  },
  "language_info": {
   "codemirror_mode": {
    "name": "ipython",
    "version": 3
   },
   "file_extension": ".py",
   "mimetype": "text/x-python",
   "name": "python",
   "nbconvert_exporter": "python",
   "pygments_lexer": "ipython3",
   "version": "3.11.4"
  },
  "widgets": {
   "application/vnd.jupyter.widget-state+json": {
    "state": {},
    "version_major": 2,
    "version_minor": 0
   }
  }
 },
 "nbformat": 4,
 "nbformat_minor": 4
}
