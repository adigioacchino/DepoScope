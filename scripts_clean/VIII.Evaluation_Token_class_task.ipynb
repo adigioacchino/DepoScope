{
 "cells": [
  {
   "cell_type": "code",
   "execution_count": null,
   "metadata": {},
   "outputs": [],
   "source": [
    "# T6\n",
    "rsync -avzhe ssh \\\n",
    "conchae@garnatxa.srv.cpd:/home/conchae/PhageDepo_pdb/script_files/esm2_t6_8M_UR50D-finetuned-depolymerase.labels_4 \\\n",
    "/media/concha-eloko/Linux/depolymerase_building\n",
    "\n",
    "rsync -avzhe ssh \\\n",
    "conchae@garnatxa.srv.cpd:/home/conchae/PhageDepo_pdb/DepoDetection.T6.4Labels.1908.model \\\n",
    "/media/concha-eloko/Linux/depolymerase_building\n",
    "\n",
    "rsync -avzhe ssh \\\n",
    "conchae@garnatxa.srv.cpd:/home/conchae/PhageDepo_pdb/script_files/esm2_t6_8M_UR50D-finetuned-depolymerase.labels_3 \\\n",
    "/media/concha-eloko/Linux/depolymerase_building\n",
    "\n",
    "rsync -avzhe ssh \\\n",
    "conchae@garnatxa.srv.cpd:/home/conchae/PhageDepo_pdb/DepoDetection.T6.3Labels.1908.model \\\n",
    "/media/concha-eloko/Linux/depolymerase_building\n",
    "\n",
    "# 12\n",
    "rsync -avzhe ssh \\\n",
    "conchae@garnatxa.srv.cpd:/home/conchae/PhageDepo_pdb/script_files/esm2_t12_35M_UR50D-finetuned-depolymerase.labels_3 \\\n",
    "/media/concha-eloko/Linux/depolymerase_building\n",
    "\n",
    "rsync -avzhe ssh \\\n",
    "conchae@garnatxa.srv.cpd:/home/conchae/PhageDepo_pdb/DepoDetection.T12.3Labels.1908.model \\\n",
    "/media/concha-eloko/Linux/depolymerase_building\n",
    "\n",
    "rsync -avzhe ssh \\\n",
    "conchae@garnatxa.srv.cpd:/home/conchae/PhageDepo_pdb/script_files/esm2_t12_35M_UR50D-finetuned-depolymerase.labels_4 \\\n",
    "/media/concha-eloko/Linux/depolymerase_building\n",
    "\n",
    "rsync -avzhe ssh \\\n",
    "conchae@garnatxa.srv.cpd:/home/conchae/PhageDepo_pdb/DepoDetection.T12.4Labels.1908.model \\\n",
    "/media/concha-eloko/Linux/depolymerase_building"
   ]
  },
  {
   "cell_type": "code",
   "execution_count": 13,
   "metadata": {},
   "outputs": [
    {
     "name": "stderr",
     "output_type": "stream",
     "text": [
      "/media/concha-eloko/Linux/conda_envs/ML_work/lib/python3.11/site-packages/tqdm/auto.py:21: TqdmWarning: IProgress not found. Please update jupyter and ipywidgets. See https://ipywidgets.readthedocs.io/en/stable/user_install.html\n",
      "  from .autonotebook import tqdm as notebook_tqdm\n"
     ]
    }
   ],
   "source": [
    "from transformers import AutoModelForTokenClassification, AutoTokenizer\n",
    "import torch\n",
    "from torch import nn \n",
    "import torch.nn.functional as F\n",
    "from sklearn.metrics import accuracy_score, precision_score, recall_score, f1_score, roc_auc_score , matthews_corrcoef, confusion_matrix\n",
    "from sklearn.model_selection import train_test_split\n",
    "\n",
    "import os\n",
    "import numpy as np\n",
    "from tqdm import tqdm\n",
    "import matplotlib.pyplot as plt\n",
    "import pandas as pd \n",
    "\n",
    "import warnings\n",
    "warnings.filterwarnings(\"ignore\") \n",
    "\n",
    "#path_work = \"/home/conchae/PhageDepo_pdb\"\n",
    "path_work = \"/media/concha-eloko/Linux/depolymerase_building\"\n",
    "\n",
    "df_depo = pd.read_csv(f\"{path_work}/Phagedepo.Dataset.2007.tsv\" , sep = \"\\t\" , header = 0)\n",
    "\n",
    "df_beta_helix = df_depo[df_depo[\"Fold\"] == \"right-handed beta-helix\"]\n",
    "df_beta_prope = df_depo[df_depo[\"Fold\"] == \"6-bladed beta-propeller\"]\n",
    "df_beta_triple =  df_depo[df_depo[\"Fold\"] == \"triple-helix\"]\n",
    "df_negative = df_depo[df_depo[\"Fold\"] == \"Negative\"]"
   ]
  },
  {
   "cell_type": "code",
   "execution_count": 14,
   "metadata": {},
   "outputs": [
    {
     "data": {
      "text/html": [
       "<div>\n",
       "<style scoped>\n",
       "    .dataframe tbody tr th:only-of-type {\n",
       "        vertical-align: middle;\n",
       "    }\n",
       "\n",
       "    .dataframe tbody tr th {\n",
       "        vertical-align: top;\n",
       "    }\n",
       "\n",
       "    .dataframe thead th {\n",
       "        text-align: right;\n",
       "    }\n",
       "</style>\n",
       "<table border=\"1\" class=\"dataframe\">\n",
       "  <thead>\n",
       "    <tr style=\"text-align: right;\">\n",
       "      <th></th>\n",
       "      <th>Seq_ID</th>\n",
       "      <th>Fold</th>\n",
       "      <th>Prob</th>\n",
       "      <th>Boundaries</th>\n",
       "      <th>Full_seq</th>\n",
       "    </tr>\n",
       "  </thead>\n",
       "  <tbody>\n",
       "    <tr>\n",
       "      <th>0</th>\n",
       "      <td>MF417929_00038</td>\n",
       "      <td>Negative</td>\n",
       "      <td>manual</td>\n",
       "      <td>Negative</td>\n",
       "      <td>MRQNRERKLAEKAVRLAQSPDPRLRKKKMSMGFDPGSPEGDYSATV...</td>\n",
       "    </tr>\n",
       "    <tr>\n",
       "      <th>1</th>\n",
       "      <td>MF417929_00041</td>\n",
       "      <td>Negative</td>\n",
       "      <td>manual</td>\n",
       "      <td>Negative</td>\n",
       "      <td>MNTPQPIQFDLMNPRQHGRILFAMGMSVSEIAKQIDEKRATVESWK...</td>\n",
       "    </tr>\n",
       "    <tr>\n",
       "      <th>2</th>\n",
       "      <td>MH616963_00015</td>\n",
       "      <td>Negative</td>\n",
       "      <td>manual</td>\n",
       "      <td>Negative</td>\n",
       "      <td>MAKDNYPFLDYINEDKSHYKTAASAGYKDDENLFLIGESGGFLMNI...</td>\n",
       "    </tr>\n",
       "    <tr>\n",
       "      <th>3</th>\n",
       "      <td>MH552500_00058</td>\n",
       "      <td>Negative</td>\n",
       "      <td>manual</td>\n",
       "      <td>Negative</td>\n",
       "      <td>MVKLEANVEEVINNYPFLNYINEDKSQYKTATNAGYDDPDNLFLIG...</td>\n",
       "    </tr>\n",
       "    <tr>\n",
       "      <th>4</th>\n",
       "      <td>BK010471_00079</td>\n",
       "      <td>Negative</td>\n",
       "      <td>manual</td>\n",
       "      <td>Negative</td>\n",
       "      <td>MADGKYPFLEYIEEPDKEKKYKKASDCGWYDPHNNFLIGDSGGFLL...</td>\n",
       "    </tr>\n",
       "    <tr>\n",
       "      <th>...</th>\n",
       "      <td>...</td>\n",
       "      <td>...</td>\n",
       "      <td>...</td>\n",
       "      <td>...</td>\n",
       "      <td>...</td>\n",
       "    </tr>\n",
       "    <tr>\n",
       "      <th>1404</th>\n",
       "      <td>OP820468_00017</td>\n",
       "      <td>Negative</td>\n",
       "      <td>manual</td>\n",
       "      <td>Negative</td>\n",
       "      <td>MSWPLNPAGTHYLFEGIVEIPVDPTAGAAILQLRPQGGIGVGVPAI...</td>\n",
       "    </tr>\n",
       "    <tr>\n",
       "      <th>1405</th>\n",
       "      <td>OP820468_00018</td>\n",
       "      <td>Negative</td>\n",
       "      <td>manual</td>\n",
       "      <td>Negative</td>\n",
       "      <td>MTSSFDPLPEWAHAVPSEPGIHPEQSALQWQRPFTVQQLLEIGEQF...</td>\n",
       "    </tr>\n",
       "    <tr>\n",
       "      <th>1406</th>\n",
       "      <td>OP820468_00019</td>\n",
       "      <td>Negative</td>\n",
       "      <td>manual</td>\n",
       "      <td>Negative</td>\n",
       "      <td>MTIKGYFVYAKEKDAPGDFVQLNPDPVLPPYGTNGLKSNTTYEFYV...</td>\n",
       "    </tr>\n",
       "    <tr>\n",
       "      <th>1407</th>\n",
       "      <td>OP820468_00020</td>\n",
       "      <td>Negative</td>\n",
       "      <td>manual</td>\n",
       "      <td>Negative</td>\n",
       "      <td>MSVAVGWWAESHVSFGVTITPEVGFRYGGPKQEFGVTLTPEIGMSA...</td>\n",
       "    </tr>\n",
       "    <tr>\n",
       "      <th>1408</th>\n",
       "      <td>OP820468_00023</td>\n",
       "      <td>Negative</td>\n",
       "      <td>manual</td>\n",
       "      <td>Negative</td>\n",
       "      <td>MAYSKQSWENVPSTNTPLSADRLNHIEDGIEGAHEGLDDKADLAHD...</td>\n",
       "    </tr>\n",
       "  </tbody>\n",
       "</table>\n",
       "<p>1409 rows × 5 columns</p>\n",
       "</div>"
      ],
      "text/plain": [
       "              Seq_ID      Fold    Prob Boundaries  \\\n",
       "0     MF417929_00038  Negative  manual   Negative   \n",
       "1     MF417929_00041  Negative  manual   Negative   \n",
       "2     MH616963_00015  Negative  manual   Negative   \n",
       "3     MH552500_00058  Negative  manual   Negative   \n",
       "4     BK010471_00079  Negative  manual   Negative   \n",
       "...              ...       ...     ...        ...   \n",
       "1404  OP820468_00017  Negative  manual   Negative   \n",
       "1405  OP820468_00018  Negative  manual   Negative   \n",
       "1406  OP820468_00019  Negative  manual   Negative   \n",
       "1407  OP820468_00020  Negative  manual   Negative   \n",
       "1408  OP820468_00023  Negative  manual   Negative   \n",
       "\n",
       "                                               Full_seq  \n",
       "0     MRQNRERKLAEKAVRLAQSPDPRLRKKKMSMGFDPGSPEGDYSATV...  \n",
       "1     MNTPQPIQFDLMNPRQHGRILFAMGMSVSEIAKQIDEKRATVESWK...  \n",
       "2     MAKDNYPFLDYINEDKSHYKTAASAGYKDDENLFLIGESGGFLMNI...  \n",
       "3     MVKLEANVEEVINNYPFLNYINEDKSQYKTATNAGYDDPDNLFLIG...  \n",
       "4     MADGKYPFLEYIEEPDKEKKYKKASDCGWYDPHNNFLIGDSGGFLL...  \n",
       "...                                                 ...  \n",
       "1404  MSWPLNPAGTHYLFEGIVEIPVDPTAGAAILQLRPQGGIGVGVPAI...  \n",
       "1405  MTSSFDPLPEWAHAVPSEPGIHPEQSALQWQRPFTVQQLLEIGEQF...  \n",
       "1406  MTIKGYFVYAKEKDAPGDFVQLNPDPVLPPYGTNGLKSNTTYEFYV...  \n",
       "1407  MSVAVGWWAESHVSFGVTITPEVGFRYGGPKQEFGVTLTPEIGMSA...  \n",
       "1408  MAYSKQSWENVPSTNTPLSADRLNHIEDGIEGAHEGLDDKADLAHD...  \n",
       "\n",
       "[1409 rows x 5 columns]"
      ]
     },
     "execution_count": 14,
     "metadata": {},
     "output_type": "execute_result"
    }
   ],
   "source": [
    "df_negative"
   ]
  },
  {
   "cell_type": "code",
   "execution_count": 31,
   "metadata": {},
   "outputs": [],
   "source": [
    "# T12\n",
    "#esm2_model_path = f\"{path_work}/esm2_t12_35M_UR50D-finetuned-depolymerase.labels_3/checkpoint-6015\"\n",
    "#DpoDetection_path = f\"{path_work}/DepoDetection.T12.3Labels.1908.model\"\n",
    "\n",
    "esm2_model_path = f\"{path_work}/esm2_t12_35M_UR50D-finetuned-depolymerase.labels_4/checkpoint-6015\"\n",
    "DpoDetection_path = f\"{path_work}/DepoDetection.T12.4Labels.1908.model\"\n",
    "\n",
    "# T6\n",
    "#esm2_model_path = f\"{path_work}/esm2_t6_8M_UR50D-finetuned-depolymerase.labels_4/checkpoint-6015\"\n",
    "#DpoDetection_path = f\"{path_work}/DepoDetection.T6.4Labels.1908.model\"\n",
    "\n",
    "#esm2_model_path = f\"{path_work}/esm2_t6_8M_UR50D-finetuned-depolymerase.labels_3/checkpoint-6015\"\n",
    "#DpoDetection_path = f\"{path_work}/DepoDetection.T6.3Labels.1908.model\"\n",
    "\n",
    "# T30\n",
    "#esm2_model_path = f\"{path_work}/script_files/esm2_t30_150M_UR50D-finetuned-depolymerase.labels_4/checkpoint-6015\"\n",
    "#DpoDetection_path = f\"{path_work}/DepoDetection.T30.4Labels.1908.model\"\n",
    "\n",
    "tokenizer = AutoTokenizer.from_pretrained(esm2_model_path)\n",
    "esm2_finetuned = AutoModelForTokenClassification.from_pretrained(esm2_model_path)\n"
   ]
  },
  {
   "cell_type": "code",
   "execution_count": 32,
   "metadata": {
    "scrolled": true
   },
   "outputs": [
    {
     "data": {
      "text/plain": [
       "Dpo_classifier(\n",
       "  (pretrained_model): EsmForTokenClassification(\n",
       "    (esm): EsmModel(\n",
       "      (embeddings): EsmEmbeddings(\n",
       "        (word_embeddings): Embedding(33, 480, padding_idx=1)\n",
       "        (dropout): Dropout(p=0.0, inplace=False)\n",
       "        (position_embeddings): Embedding(1026, 480, padding_idx=1)\n",
       "      )\n",
       "      (encoder): EsmEncoder(\n",
       "        (layer): ModuleList(\n",
       "          (0-11): 12 x EsmLayer(\n",
       "            (attention): EsmAttention(\n",
       "              (self): EsmSelfAttention(\n",
       "                (query): Linear(in_features=480, out_features=480, bias=True)\n",
       "                (key): Linear(in_features=480, out_features=480, bias=True)\n",
       "                (value): Linear(in_features=480, out_features=480, bias=True)\n",
       "                (dropout): Dropout(p=0.0, inplace=False)\n",
       "                (rotary_embeddings): RotaryEmbedding()\n",
       "              )\n",
       "              (output): EsmSelfOutput(\n",
       "                (dense): Linear(in_features=480, out_features=480, bias=True)\n",
       "                (dropout): Dropout(p=0.0, inplace=False)\n",
       "              )\n",
       "              (LayerNorm): LayerNorm((480,), eps=1e-05, elementwise_affine=True)\n",
       "            )\n",
       "            (intermediate): EsmIntermediate(\n",
       "              (dense): Linear(in_features=480, out_features=1920, bias=True)\n",
       "            )\n",
       "            (output): EsmOutput(\n",
       "              (dense): Linear(in_features=1920, out_features=480, bias=True)\n",
       "              (dropout): Dropout(p=0.0, inplace=False)\n",
       "            )\n",
       "            (LayerNorm): LayerNorm((480,), eps=1e-05, elementwise_affine=True)\n",
       "          )\n",
       "        )\n",
       "        (emb_layer_norm_after): LayerNorm((480,), eps=1e-05, elementwise_affine=True)\n",
       "      )\n",
       "      (contact_head): EsmContactPredictionHead(\n",
       "        (regression): Linear(in_features=240, out_features=1, bias=True)\n",
       "        (activation): Sigmoid()\n",
       "      )\n",
       "    )\n",
       "    (dropout): Dropout(p=0.0, inplace=False)\n",
       "    (classifier): Linear(in_features=480, out_features=4, bias=True)\n",
       "  )\n",
       "  (conv1): Conv1d(1, 64, kernel_size=(5,), stride=(1,))\n",
       "  (conv2): Conv1d(64, 128, kernel_size=(5,), stride=(1,))\n",
       "  (fc1): Linear(in_features=130048, out_features=32, bias=True)\n",
       "  (classifier): Linear(in_features=32, out_features=1, bias=True)\n",
       ")"
      ]
     },
     "execution_count": 32,
     "metadata": {},
     "output_type": "execute_result"
    }
   ],
   "source": [
    "class Dpo_classifier(nn.Module):\n",
    "    def __init__(self, pretrained_model):\n",
    "        super(Dpo_classifier, self).__init__()\n",
    "        self.max_length = 1024\n",
    "        self.pretrained_model = pretrained_model\n",
    "        self.conv1 = nn.Conv1d(1, 64, kernel_size=5, stride=1)  # Convolutional layer\n",
    "        self.conv2 = nn.Conv1d(64, 128, kernel_size=5, stride=1)  # Convolutional layer\n",
    "        self.fc1 = nn.Linear(128 * (self.max_length - 2 * (5 - 1)), 32)  # calculate the output shape after 2 conv layers\n",
    "        self.classifier = nn.Linear(32, 1)  # Binary classification\n",
    "\n",
    "    def make_prediction(self, fasta_txt):\n",
    "        input_ids = tokenizer.encode(fasta_txt, truncation=True, return_tensors='pt')\n",
    "        with torch.no_grad():\n",
    "            outputs = self.pretrained_model(input_ids)\n",
    "            probs = torch.nn.functional.softmax(outputs.logits, dim=-1)\n",
    "            token_probs, token_ids = torch.max(probs, dim=-1)            \n",
    "            tokens = token_ids.view(1, -1) # ensure 2D shape\n",
    "            return tokens\n",
    "\n",
    "    def pad_or_truncate(self, tokens):\n",
    "        if tokens.size(1) < self.max_length:\n",
    "            tokens = F.pad(tokens, (0, self.max_length - tokens.size(1)))\n",
    "        elif tokens.size(1) > self.max_length:\n",
    "            tokens = tokens[:, :self.max_length]\n",
    "        return tokens\n",
    "\n",
    "    def forward(self, sequences):\n",
    "        batch_size = len(sequences)\n",
    "        tokens_batch = []\n",
    "        for seq in sequences:\n",
    "            tokens = self.make_prediction(seq)\n",
    "            tokens = self.pad_or_truncate(tokens)\n",
    "            tokens_batch.append(tokens)\n",
    "        \n",
    "        outputs = torch.cat(tokens_batch).view(batch_size, 1, self.max_length)  # ensure 3D shape\n",
    "        outputs = outputs.float()  # Convert to float\n",
    "        \n",
    "        out = F.relu(self.conv1(outputs))\n",
    "        out = F.relu(self.conv2(out))\n",
    "        out = out.view(batch_size, -1)  # Flatten the tensor\n",
    "        out = F.relu(self.fc1(out))\n",
    "        out = self.classifier(out)\n",
    "        return out, outputs\n",
    "\n",
    "model_classifier = Dpo_classifier(esm2_finetuned) # Create an instance of Dpo_classifier\n",
    "model_classifier.load_state_dict(torch.load(DpoDetection_path), strict = False) # Load the saved weights ; weird Error with some of the keys \n",
    "model_classifier.eval() # Set the model to evaluation mode for inference\n"
   ]
  },
  {
   "cell_type": "code",
   "execution_count": 5,
   "metadata": {},
   "outputs": [],
   "source": [
    "def predict_sequence(model, sequence):\n",
    "    model.eval()\n",
    "    with torch.no_grad():\n",
    "        sequence = [sequence]  # Wrap the sequence in a list to match the model's input format\n",
    "        outputs, sequence_outputs = model(sequence)\n",
    "        probas = torch.sigmoid(outputs)  # Apply sigmoid activation for binary classification\n",
    "        predictions = (probas > 0.5).float()  # Convert probabilities to binary predictions\n",
    "        sequence_outputs_list = sequence_outputs.cpu().numpy().tolist()[0][0]\n",
    "        prob_predicted = probas[0].item()\n",
    "        return (predictions.item(), prob_predicted), sequence_outputs_list\n"
   ]
  },
  {
   "cell_type": "code",
   "execution_count": 6,
   "metadata": {},
   "outputs": [],
   "source": [
    "def get_labels(df , label = 1) :\n",
    "    labels_df = []\n",
    "    for _,row in df.iterrows():\n",
    "        info = row[\"Boundaries\"]\n",
    "        seq_length = len(row[\"Full_seq\"])\n",
    "        if info == \"Negative\" :\n",
    "            labels = [label] * seq_length\n",
    "            labels_df.append(labels)\n",
    "        elif info == \"full_protein\" or info == \"full\" :\n",
    "            labels = [label] * seq_length\n",
    "            labels_df.append(labels)\n",
    "        elif info.count(\":\") > 0 : \n",
    "            start = int(info.split(\":\")[0])\n",
    "            end = int(info.split(\":\")[1])\n",
    "            labels = [0 if i < start or i >= end else label for i in range(seq_length)]\n",
    "            labels_df.append(labels)\n",
    "        else :\n",
    "            start = int(info.split(\"_\")[-2])\n",
    "            end = int(info.split(\"_\")[-1])\n",
    "            labels = [0 if i < start or i >= end else label for i in range(seq_length)]\n",
    "            labels_df.append(labels)\n",
    "    return labels_df\n",
    "\n"
   ]
  },
  {
   "cell_type": "code",
   "execution_count": 7,
   "metadata": {},
   "outputs": [],
   "source": [
    "# ********************************************\n",
    "# Transforming the data. Choose the label to associate with the triple helix :\n",
    "# Beta-helix :\n",
    "labels_beta_helix = get_labels(df_beta_helix , label = 1)\n",
    "seq_beta_helix = df_beta_helix[\"Full_seq\"].to_list()\n",
    "\n",
    "# Beta propeller : \n",
    "labels_beta_propeller = get_labels(df_beta_prope , label = 2)\n",
    "seq_beta_propeller = df_beta_prope[\"Full_seq\"].to_list()\n",
    "\n",
    "# Triple helix : \n",
    "labels_triple_helix = get_labels(df_beta_triple , label = 3)\n",
    "seq_triple_helix = df_beta_triple[\"Full_seq\"].to_list()\n",
    "\n",
    "# Negative :\n",
    "labels_negative = get_labels(df_negative , label = 0)\n",
    "seq_negative = df_negative[\"Full_seq\"].to_list()\n",
    "\n",
    "# The input data :\n",
    "sequences = seq_beta_helix + seq_beta_propeller + seq_triple_helix + seq_negative\n",
    "labels = labels_beta_helix + labels_beta_propeller + labels_triple_helix + labels_negative\n",
    "\n",
    "train_sequences, test_sequences, train_labels, test_labels = train_test_split(sequences, labels, test_size=0.2, random_state = 243)\n",
    "train_esm2 , train_CNV , esm2_labels , CNV_labels = train_test_split(train_sequences, train_labels, test_size=0.125, random_state = 243)\n"
   ]
  },
  {
   "cell_type": "markdown",
   "metadata": {},
   "source": [
    "> Make predictions on the test dataset :"
   ]
  },
  {
   "cell_type": "code",
   "execution_count": 33,
   "metadata": {},
   "outputs": [
    {
     "name": "stderr",
     "output_type": "stream",
     "text": [
      "458it [04:33,  1.67it/s]\n"
     ]
    }
   ],
   "source": [
    "predicted_labels = []\n",
    "for _,seq in tqdm(enumerate(test_sequences)) : \n",
    "    _, sequence_outputs = predict_sequence(model_classifier, seq)\n",
    "    predicted_labels.append(sequence_outputs)"
   ]
  },
  {
   "cell_type": "markdown",
   "metadata": {},
   "source": [
    "> get right format : concatenate the test labels and the predicted labels then input it into the metric calculator"
   ]
  },
  {
   "cell_type": "code",
   "execution_count": 34,
   "metadata": {},
   "outputs": [],
   "source": [
    "tmp_labels = tuple(zip(test_labels,predicted_labels))\n",
    "final_test = []\n",
    "final_pred = []\n",
    "\n",
    "for _,label_tup in enumerate(tmp_labels) : \n",
    "    l = len(label_tup[0]) \n",
    "    if l > 1024 :\n",
    "        final_test.append(label_tup[0][0:1024])\n",
    "        final_pred.append(label_tup[1][0:1024])\n",
    "    else : \n",
    "        final_test.append(label_tup[0][0:l])\n",
    "        final_pred.append(label_tup[1][0:l])\n",
    "\n",
    "# the big test label list\n",
    "real_labels = []\n",
    "for _,label_list in enumerate(final_test) : \n",
    "    real_labels = real_labels + label_list\n",
    "\n",
    "# the big predicted label list\n",
    "pred_labels = []\n",
    "for _,label_list in enumerate(final_pred) : \n",
    "    pred_labels = pred_labels + label_list\n"
   ]
  },
  {
   "cell_type": "code",
   "execution_count": 35,
   "metadata": {},
   "outputs": [
    {
     "data": {
      "text/plain": [
       "(233864, 233864)"
      ]
     },
     "execution_count": 35,
     "metadata": {},
     "output_type": "execute_result"
    }
   ],
   "source": [
    "len(real_labels) , len(pred_labels)"
   ]
  },
  {
   "cell_type": "code",
   "execution_count": 36,
   "metadata": {},
   "outputs": [],
   "source": [
    "f1 = f1_score(real_labels, pred_labels,average=\"weighted\" )\n",
    "precision = precision_score(real_labels, pred_labels,average=\"weighted\")\n",
    "recall = recall_score(real_labels, pred_labels,average=\"weighted\" )  # Calculate recall\n",
    "mcc = matthews_corrcoef(real_labels, pred_labels)  # Calculate MCC\n",
    "accuracy = accuracy_score(real_labels, pred_labels)\n",
    "cm = confusion_matrix(real_labels, pred_labels, normalize=\"true\")"
   ]
  },
  {
   "cell_type": "code",
   "execution_count": 37,
   "metadata": {},
   "outputs": [
    {
     "name": "stdout",
     "output_type": "stream",
     "text": [
      "0.95957\t0.95963\t0.95963\t0.95959\t0.89837\n"
     ]
    }
   ],
   "source": [
    "print(round(precision,5) , round(recall,5) , round(accuracy,5) , round(f1,5) , round(mcc,5), sep = \"\\t\")"
   ]
  },
  {
   "cell_type": "code",
   "execution_count": 38,
   "metadata": {},
   "outputs": [
    {
     "data": {
      "text/plain": [
       "array([[0.97375687, 0.02110836, 0.00142316, 0.00371161],\n",
       "       [0.09089484, 0.90910516, 0.        , 0.        ],\n",
       "       [0.02721911, 0.        , 0.97278089, 0.        ],\n",
       "       [0.08543438, 0.        , 0.        , 0.91456562]])"
      ]
     },
     "execution_count": 38,
     "metadata": {},
     "output_type": "execute_result"
    }
   ],
   "source": [
    "cm"
   ]
  },
  {
   "cell_type": "code",
   "execution_count": null,
   "metadata": {
    "jupyter": {
     "source_hidden": true
    }
   },
   "outputs": [],
   "source": [
    "with open(f\"{path_work}/T30_eval.metrics.1808.txt\", \"w\") as outfile : \n",
    "    outfile.write(f\"F1 : {round(f1,5)},precision : {round(precision,5)},recall : {round(recall,5)},accuracy : {round(accuracy,5)},mcc : {round(mcc,5)},cm : {cm}\")"
   ]
  },
  {
   "cell_type": "code",
   "execution_count": null,
   "metadata": {
    "jupyter": {
     "source_hidden": true
    }
   },
   "outputs": [],
   "source": [
    "#!/bin/bash\n",
    "#BATCH --job-name=big_pred__\n",
    "#SBATCH --qos=short \n",
    "#SBATCH --ntasks=1\n",
    "#SBATCH --cpus-per-task=5\n",
    "#SBATCH --mem=10gb \n",
    "#SBATCH --time=0-01:00:00 \n",
    "#SBATCH --output=big_pred__%j.log \n",
    "\n",
    "source /storage/apps/ANACONDA/anaconda3/etc/profile.d/conda.sh\n",
    "conda activate embeddings\n",
    "\n",
    "python /home/conchae/PhageDepo_pdb/script_files/Metrics.T30.token_class.py\n"
   ]
  },
  {
   "cell_type": "markdown",
   "metadata": {},
   "source": [
    "***\n",
    "### Plot the confusion matrix : "
   ]
  },
  {
   "cell_type": "code",
   "execution_count": 2,
   "metadata": {},
   "outputs": [],
   "source": [
    "import seaborn as sns\n",
    "import matplotlib.pyplot as plt\n",
    "path_figures = \"/media/concha-eloko/Linux/PhageDEPOdetection/figures\"\n"
   ]
  },
  {
   "cell_type": "code",
   "execution_count": 12,
   "metadata": {},
   "outputs": [
    {
     "data": {
      "image/png": "[encoded data removed]",
      "text/plain": [
       "<Figure size 1200x1200 with 2 Axes>"
      ]
     },
     "metadata": {},
     "output_type": "display_data"
    }
   ],
   "source": [
    "# Create a list of class labels for the x and y axes\n",
    "class_labels = ['negative', 'right-handed β-helix',\"bladed β-propeller\",\"triple helix\"]\n",
    "\n",
    "confusion_matrix_T6 = [[0.97185552, 0.02242906, 0.00196966, 0.00374577],\n",
    "[0.10169112, 0.89302273, 0.00528615, 0],\n",
    "[0.06850144, 0, 0.93149856, 0],\n",
    "[0.08183259, 0, 0, 0.91816741]]\n",
    "\n",
    "confusion_matrix_T12 = [[0.97375687, 0.02110836, 0.00142316, 0.00371161],\n",
    " [0.09089484, 0.90910516, 0.        , 0.        ],\n",
    " [0.02721911, 0.        , 0.97278089, 0.        ],\n",
    " [0.08543438, 0.        , 0.        , 0.91456562]]\n",
    "\n",
    "confusion_matrix_T30 = [[0.96663536, 0.02740443, 0.00190135, 0.00405886],\n",
    " [0.06126106, 0.93640945, 0.       ,  0.00232949],\n",
    " [0.00241948, 0.        , 0.99758052, 0.        ],\n",
    " [0.07434087, 0,         0,         0.92565913]]\n",
    "\n",
    "# Create a Seaborn heatmap\n",
    "sns.set(font_scale=1.5)  # Adjust font scale for better readability\n",
    "plt.figure(figsize=(12, 12))  # Adjust the width and height as needed\n",
    "\n",
    "sns.heatmap(confusion_matrix_T30, annot=True, cmap='Blues',\n",
    "            xticklabels=class_labels, yticklabels=class_labels)\n",
    "\n",
    "# Add labels and title\n",
    "plt.xlabel('Predicted')\n",
    "plt.ylabel('Actual')\n",
    "plt.title('Confusion Matrix')\n",
    "plt.savefig(f'{path_figures}/T30.confusion_matrix.svg', bbox_inches='tight')  # You can change the file format and name as needed\n",
    "plt.show()\n"
   ]
  },
  {
   "cell_type": "code",
   "execution_count": null,
   "metadata": {},
   "outputs": [],
   "source": []
  }
 ],
 "metadata": {
  "kernelspec": {
   "display_name": "ML_work",
   "language": "python",
   "name": "ml_work"
  },
  "language_info": {
   "codemirror_mode": {
    "name": "ipython",
    "version": 3
   },
   "file_extension": ".py",
   "mimetype": "text/x-python",
   "name": "python",
   "nbconvert_exporter": "python",
   "pygments_lexer": "ipython3",
   "version": "3.11.4"
  },
  "widgets": {
   "application/vnd.jupyter.widget-state+json": {
    "state": {},
    "version_major": 2,
    "version_minor": 0
   }
  }
 },
 "nbformat": 4,
 "nbformat_minor": 4
}
