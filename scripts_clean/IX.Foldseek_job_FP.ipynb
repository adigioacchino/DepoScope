{
 "cells": [
  {
   "cell_type": "markdown",
   "metadata": {},
   "source": [
    "# Goal : Scan the 3D predcitions of the FP with the Dpo fold database. \n",
    "\n",
    "### A. Run Foldseek\n",
    "### B. Get the hits with good proba\n",
    "### C. Report the folds\n",
    "***"
   ]
  },
  {
   "cell_type": "markdown",
   "metadata": {},
   "source": [
    "# A"
   ]
  },
  {
   "cell_type": "code",
   "execution_count": 18,
   "metadata": {
    "collapsed": true,
    "jupyter": {
     "outputs_hidden": true
    }
   },
   "outputs": [
    {
     "name": "stdout",
     "output_type": "stream",
     "text": [
      "NC_022772.1_prot_YP_008771659.1_41\n",
      "NC_027364.1_prot_YP_009150385.1_71\n",
      "NC_019526.1_prot_YP_007007686.1_531\n",
      "NC_023694.1_prot_YP_009012583.1_2\n",
      "KC821608.1_prot_AGO47494.1_90\n",
      "NC_017971.2_prot_YP_006382482.1_22\n",
      "NC_019487.1_prot_YP_007003405.1_148\n",
      "CP000711.1_prot_ABQ88395.1_14\n",
      "NC_020883.1_prot_YP_007678101.1_75\n",
      "AY349011.3_prot_AAQ54997.1_62\n",
      "NC_006883.2_prot_YP_214361.1_128\n",
      "NC_027364.1_prot_YP_009150600.1_286\n",
      "NC_003157.5_prot_NP_438158.1_46\n",
      "FJ230960.1_prot_ACI90966.1_61\n",
      "GQ413937.1_prot_ACY66694.1_32\n",
      "NC_024792.1_prot_YP_009056509.1_240\n",
      "NC_019400.1_prot_YP_006987067.1_234\n",
      "NC_019526.1_prot_YP_007007683.1_528\n",
      "NC_016071.1_prot_YP_004893846.1_39\n",
      "HQ632825.1_prot_AGN12307.1_149\n",
      "NC_019414.1_prot_YP_006990136.1_21\n",
      "NC_019526.1_prot_YP_007007684.1_529\n",
      "NC_006883.2_prot_YP_214546.1_315\n",
      "NC_015296.1_prot_YP_004327541.1_170\n",
      "NC_022772.1_prot_YP_008771658.1_40\n",
      "FJ230960.1_prot_ACI91001.1_96\n",
      "NC_025446.1_prot_YP_009101512.1_116\n",
      "NC_027364.1_prot_YP_009150848.1_534\n",
      "NC_002730.1_prot_NP_112082.1_49\n",
      "NC_017971.2_prot_YP_006382515.1_57\n",
      "NC_015296.1_prot_YP_004327542.1_171\n",
      "NC_027364.1_prot_YP_009150318.1_4\n",
      "NC_016071.1_prot_YP_004893847.1_40\n",
      "NC_007055.1_prot_YP_240100.1_25\n",
      "NC_022770.1_prot_YP_008771333.1_15\n",
      "FQ482084.1_prot_CBX44498.1_37\n",
      "HQ632825.1_prot_AGN12247.1_89\n",
      "NC_020860.1_prot_YP_007675705.1_29\n",
      "NC_009014.1_prot_YP_001039670.1_39\n",
      "NC_019454.1_prot_YP_007002897.1_44\n",
      "NC_022764.1_prot_YP_008770522.1_15\n",
      "NC_019526.1_prot_YP_007007233.1_78\n",
      "HQ632825.1_prot_AGN12302.1_144\n",
      "KC821621.1_prot_AGO48656.1_21\n",
      "GQ413937.1_prot_ACY66700.1_38\n",
      "NC_020083.1_prot_YP_007349010.1_31\n",
      "NC_019526.1_prot_YP_007007688.1_533\n",
      "NC_006883.2_prot_YP_214266.1_30\n",
      "NC_019446.1_prot_YP_007002029.1_21\n",
      "NC_020078.1_prot_YP_007348357.1_38\n",
      "NC_008152.1_prot_YP_654134.1_36\n",
      "NC_019929.1_prot_YP_007237854.1_204\n",
      "NC_007637.1_prot_YP_425011.1_45\n",
      "NC_020079.1_prot_YP_007348548.1_180\n",
      "NC_025446.1_prot_YP_009101514.1_118\n",
      "HQ632825.1_prot_AGN12459.1_301\n",
      "NC_019526.1_prot_YP_007007680.1_525\n",
      "NC_022768.1_prot_YP_008770867.1_40\n",
      "NC_027351.1_prot_YP_009148844.1_48\n",
      "NC_017972.1_prot_YP_006382630.1_100\n",
      "NC_007636.1_prot_YP_424954.1_46\n",
      "NC_019923.1_prot_YP_007237187.1_12\n",
      "NC_019526.1_prot_YP_007007253.1_98\n",
      "NC_025446.1_prot_YP_009101515.1_119\n",
      "NC_019526.1_prot_YP_007007689.1_534\n",
      "NC_019917.1_prot_YP_007236806.1_60\n",
      "NC_006883.2_prot_YP_214258.1_22\n",
      "KC556894.1_prot_AHB81137.1_21\n",
      "NC_019530.1_prot_YP_007008118.1_138\n",
      "NC_019530.1_prot_YP_007008116.1_136\n",
      "NC_006883.2_prot_YP_214524.1_293\n",
      "NC_025422.1_prot_YP_009098974.1_216\n",
      "NC_019510.1_prot_YP_007005461.1_37\n",
      "NC_019917.1_prot_YP_007236809.1_63\n",
      "HQ632825.1_prot_AGN12239.1_81\n",
      "KC821625.1_prot_AGO49026.1_15\n",
      "NC_019403.1_prot_YP_006987800.1_38\n",
      "NC_015296.1_prot_YP_004327543.1_172\n",
      "NC_022768.1_prot_YP_008770866.1_39\n",
      "NC_015208.1_prot_YP_004286217.1_39\n",
      "NC_006883.2_prot_YP_214532.1_301\n",
      "NC_027364.1_prot_YP_009150315.1_1\n",
      "NC_020842.1_prot_YP_007673467.1_85\n",
      "KF669657.1_prot_AGY48032.1_15\n",
      "HQ632825.1_prot_AGN12298.1_140\n",
      "AY349011.3_prot_AAQ55000.1_65\n",
      "NC_023557.1_prot_YP_009004812.1_20\n",
      "NC_027351.1_prot_YP_009148843.1_47\n",
      "NC_041856.1_prot_YP_009592102.1_23\n",
      "NC_021792.1_prot_YP_008241126.1_83\n",
      "NC_019401.1_prot_YP_006987325.1_223\n",
      "NC_019526.1_prot_YP_007007682.1_527\n",
      "NC_025422.1_prot_YP_009098968.1_210\n",
      "NC_020083.1_prot_YP_007349017.1_38\n",
      "NC_027364.1_prot_YP_009150602.1_288\n",
      "NC_022768.1_prot_YP_008770868.1_41\n",
      "HQ632825.1_prot_AGN12305.1_147\n",
      "NC_019530.1_prot_YP_007008119.1_139\n",
      "NC_027364.1_prot_YP_009150606.1_292\n",
      "NC_006883.2_prot_YP_214526.1_295\n",
      "KC821630.1_prot_AGO49349.1_30\n",
      "NC_019400.1_prot_YP_006987068.1_235\n",
      "NC_006883.2_prot_YP_214253.1_17\n",
      "NC_005344.1_prot_NP_958184.1_8\n",
      "JX262376.1_prot_AFO10887.1_21\n",
      "NC_025422.1_prot_YP_009098911.1_153\n",
      "KC821634.1_prot_AGO49767.1_30\n",
      "NC_011976.1_prot_YP_002533467.1_8\n",
      "HQ632825.1_prot_AGN12284.1_126\n",
      "NC_020083.1_prot_YP_007349020.1_41\n",
      "NC_019526.1_prot_YP_007007687.1_532\n",
      "NC_021802.1_prot_YP_008242011.1_92\n"
     ]
    }
   ],
   "source": [
    "import subprocess\n",
    "import os\n",
    "\n",
    "path_project = \"/media/concha-eloko/Linux/PhageDEPOdetection\"\n",
    "path_pdb = f\"{path_project}/FP_pdb\"\n",
    "\n",
    "for file in os.listdir(path_pdb) :\n",
    "    file_name = file.split(\"|\")[1].split(\".pdb\")[0]\n",
    "    print(file_name)\n",
    "    os.rename(f\"{path_pdb}/{file}\", f\"{path_pdb}/{file_name}.pdb\")"
   ]
  },
  {
   "cell_type": "code",
   "execution_count": 2,
   "metadata": {
    "tags": []
   },
   "outputs": [],
   "source": [
    "import subprocess\n",
    "import os\n",
    "\n",
    "path_project = \"/media/concha-eloko/Linux/PhageDEPOdetection\"\n",
    "path_pdb = f\"{path_project}/FP_2108\"\n",
    "path_db = f\"/media/concha-eloko/Linux/depolymerase_building/RefDepo_domains/RefDepo_domains_db\"\n",
    "path_tmp = f\"{path_project}/tmp\"\n",
    "\n",
    "def seek_beta_helix(path_in) :\n",
    "    dir_out = f\"{path_project}/FP_2108_foldseek\"\n",
    "    protein_id = path_in.split(\"/\")[-1].split(\".pdb\")[0].split(\"'\")[1]\n",
    "    path_out = f\"{dir_out}/{protein_id}.out\"\n",
    "    output_frmt = f\"query,target,pident,alnlen,gapopen,qstart,qend,tstart,tend,bits,prob\"\n",
    "    seek = f\"foldseek easy-search {path_in} {path_db} {path_out} {path_tmp} --format-output {output_frmt}\"\n",
    "    #seek = f\"foldseek easy-search {path_in} {path_db} {path_out}.html {path_tmp} --format-mode 3\"\n",
    "    seek_process = subprocess.Popen(seek, shell=True, stdout=subprocess.PIPE, stderr=subprocess.STDOUT)\n",
    "    press_out, press_err = seek_process.communicate()\n",
    "    print (press_out, press_err)\n",
    "\n",
    "paths = [f\"{path_pdb}/'{file}'\" for file in os.listdir(f\"{path_pdb}\") if file[-3:]==\"pdb\" if os.path.isfile(f\"{path_project}/FP_2108_foldseek/{file.split('.pdb')[0]}.out\")== False]\n",
    "\n",
    "for path in paths :\n",
    "    seek_beta_helix(path)"
   ]
  },
  {
   "cell_type": "markdown",
   "metadata": {},
   "source": [
    "***\n",
    "## B  "
   ]
  },
  {
   "cell_type": "markdown",
   "metadata": {},
   "source": [
    "> Get a list of the failed Dpos"
   ]
  },
  {
   "cell_type": "code",
   "execution_count": 3,
   "metadata": {},
   "outputs": [],
   "source": [
    "import pandas as pd\n",
    "import os \n",
    "\n",
    "path_project = \"/media/concha-eloko/Linux/PhageDEPOdetection\"\n",
    "dir_out = f\"{path_project}/FP_2108_foldseek\"\n",
    "\n",
    "path_info = f\"/media/concha-eloko/Linux/depolymerase_building/depolymerase_fold.csv\"\n",
    "info_df = pd.read_csv(path_info , sep = \"\\t\", header = 0)\n",
    "\n",
    "FP_results = {}\n",
    "no_structure = []\n",
    "outputs = [f\"{dir_out}/{file}\" for file in os.listdir(dir_out) if file[-3:]==\"out\"]\n",
    "header_seekfold = [\"query\",\"target\",\"pident\",\"alnlen\",\"gapopen\",\"qstart\",\"qend\",\"tstart\",\"tend\",\"bits\",\"prob\"]\n",
    "\n",
    "for results in outputs :\n",
    "    results_df = pd.read_csv(f\"{results}\", sep = \"\\t\" , names = header_seekfold)\n",
    "    for _,row in results_df.iterrows() :\n",
    "        fold = info_df[info_df[\"ID\"] == row[\"target\"]][\"X_Group_Name\"].values[0]\n",
    "        if fold != \"jelly-roll\" :\n",
    "            if row[\"prob\"] >= 0.2 :\n",
    "                FP_results[row[\"query\"]]= (row[\"prob\"],row[\"target\"] , fold)\n",
    "                break\n",
    "    else :\n",
    "        no_structure.append(row[\"query\"])\n",
    "                \n"
   ]
  },
  {
   "cell_type": "code",
   "execution_count": 4,
   "metadata": {},
   "outputs": [
    {
     "name": "stdout",
     "output_type": "stream",
     "text": [
      "{'33__FP__T12.pdb': (1.0, 'AF-A0A1E5LEG1-F1-model_v4.pdb', 'right-handed beta-helix'),\n",
      " '36__FP__T12.pdb': (0.998, 'K17alfa62__cds_64_A_3_129_548.pdb', 'right-handed beta-helix'),\n",
      " '67__FP__T12.pdb': (0.855, 'AF-A0A654UB90-F1-model_v4.pdb', '6-bladed beta-propeller'),\n",
      " '6__FP__T12.pdb': (1.0, 'AF-A0A1E5LEG1-F1-model_v4.pdb', 'right-handed beta-helix'),\n",
      " '79__FP__T12.pdb': (0.996, 'AF-A0A496B6X2-F1-model_v4.pdb', '6-bladed beta-propeller'),\n",
      " '97__FP__T12.pdb': (0.353, 'AF-A0A7G2DEW9-F1-model_v4.pdb', '6-bladed beta-propeller'),\n",
      " '99__FP__T12.pdb': (0.923, 'AF-A0A654UB90-F1-model_v4.pdb', '6-bladed beta-propeller'),\n",
      " 'FQ482084.1_prot_CBX44498.1_37.pdb': (0.632, 'AF-A0A654UB90-F1-model_v4.pdb', '6-bladed beta-propeller'),\n",
      " 'GQ413937.1_prot_ACY66694.1_32.pdb': (0.353, 'AF-A0A654UB90-F1-model_v4.pdb', '6-bladed beta-propeller'),\n",
      " 'GQ413937.1_prot_ACY66700.1_38.pdb': (1.0, 'K17alfa62__cds_64_A_3_129_548.pdb', 'right-handed beta-helix'),\n",
      " 'HQ632825.1_prot_AGN12247.1_89.pdb': (1.0, 'K39PH122C2__cds_55_A_5_286_658.pdb', 'right-handed beta-helix'),\n",
      " 'HQ632825.1_prot_AGN12298.1_140.pdb': (0.382, 'AF-A0A0R3Q9P4-F1-model_v4.pdb', 'right-handed beta-helix'),\n",
      " 'HQ632825.1_prot_AGN12307.1_149.pdb': (0.949, 'AF-A0A562WF65-F1-model_v4.pdb', 'right-handed beta-helix'),\n",
      " 'KC556894.1_prot_AHB81137.1_21.pdb': (0.326, 'AF-A0A7C4BP91-F1-model_v4.pdb', '6-bladed beta-propeller'),\n",
      " 'KC821608.1_prot_AGO47494.1_90.pdb': (1.0, 'K17alfa62__cds_64_A_3_129_548.pdb', 'right-handed beta-helix'),\n",
      " 'NC_002730.1_prot_NP_112082.1_49.pdb': (0.912, 'AF-A0A7C4BP91-F1-model_v4.pdb', '6-bladed beta-propeller'),\n",
      " 'NC_006883.2_prot_YP_214253.1_17.pdb': (0.569, 'K40PH129C1__cds_56_A_4_239_860.pdb', 'right-handed beta-helix'),\n",
      " 'NC_006883.2_prot_YP_214524.1_293.pdb': (0.912, 'AF-A0A562WF65-F1-model_v4.pdb', 'right-handed beta-helix'),\n",
      " 'NC_007055.1_prot_YP_240100.1_25.pdb': (1.0, 'AF-A0A0R3Q9P4-F1-model_v4.pdb', 'right-handed beta-helix'),\n",
      " 'NC_007636.1_prot_YP_424954.1_46.pdb': (0.772, 'AF-A0A654UB90-F1-model_v4.pdb', '6-bladed beta-propeller'),\n",
      " 'NC_007637.1_prot_YP_425011.1_45.pdb': (0.632, 'AF-A0A7C4BP91-F1-model_v4.pdb', '6-bladed beta-propeller'),\n",
      " 'NC_008152.1_prot_YP_654134.1_36.pdb': (0.442, 'AF-A0A7C4BP91-F1-model_v4.pdb', '6-bladed beta-propeller'),\n",
      " 'NC_009014.1_prot_YP_001039670.1_39.pdb': (0.663, 'AF-A0A7G2DEW9-F1-model_v4.pdb', '6-bladed beta-propeller'),\n",
      " 'NC_011976.1_prot_YP_002533467.1_8.pdb': (0.961, 'AF-A0A7C4BP91-F1-model_v4.pdb', '6-bladed beta-propeller'),\n",
      " 'NC_015208.1_prot_YP_004286217.1_39.pdb': (0.569, 'AF-A0A654UB90-F1-model_v4.pdb', '6-bladed beta-propeller'),\n",
      " 'NC_015296.1_prot_YP_004327541.1_170.pdb': (0.999, 'K39PH122C2__cds_55_A_5_286_658.pdb', 'right-handed beta-helix'),\n",
      " 'NC_015296.1_prot_YP_004327543.1_172.pdb': (1.0, 'K40PH129C1__cds_56_A_4_239_860.pdb', 'right-handed beta-helix'),\n",
      " 'NC_019400.1_prot_YP_006987068.1_235.pdb': (0.537, 'AF-A0A7G2DEW9-F1-model_v4.pdb', '6-bladed beta-propeller'),\n",
      " 'NC_019403.1_prot_YP_006987800.1_38.pdb': (0.601, 'AF-A0A7C4BP91-F1-model_v4.pdb', '6-bladed beta-propeller'),\n",
      " 'NC_019446.1_prot_YP_007002029.1_21.pdb': (0.326, 'AF-A0A7C4BP91-F1-model_v4.pdb', '6-bladed beta-propeller'),\n",
      " 'NC_019454.1_prot_YP_007002897.1_44.pdb': (0.692, 'AF-A0A654UB90-F1-model_v4.pdb', '6-bladed beta-propeller'),\n",
      " 'NC_019510.1_prot_YP_007005461.1_37.pdb': (0.382, 'AF-A0A654UB90-F1-model_v4.pdb', '6-bladed beta-propeller'),\n",
      " 'NC_019526.1_prot_YP_007007680.1_525.pdb': (0.993, 'K39PH122C2__cds_55_A_5_286_658.pdb', 'right-handed beta-helix'),\n",
      " 'NC_019526.1_prot_YP_007007682.1_527.pdb': (0.995, 'K14PH164C1__cds_24_A_4_221_871.pdb', 'right-handed beta-helix'),\n",
      " 'NC_019526.1_prot_YP_007007683.1_528.pdb': (0.978, 'K39PH122C2__cds_55_A_5_286_658.pdb', 'right-handed beta-helix'),\n",
      " 'NC_019526.1_prot_YP_007007684.1_529.pdb': (1.0, 'K39PH122C2__cds_55_A_5_286_658.pdb', 'right-handed beta-helix'),\n",
      " 'NC_019526.1_prot_YP_007007686.1_531.pdb': (1.0, 'K39PH122C2__cds_55_A_5_286_658.pdb', 'right-handed beta-helix'),\n",
      " 'NC_019526.1_prot_YP_007007687.1_532.pdb': (1.0, 'K17alfa62__cds_64_A_3_129_548.pdb', 'right-handed beta-helix'),\n",
      " 'NC_019526.1_prot_YP_007007688.1_533.pdb': (1.0, 'K39PH122C2__cds_55_A_5_286_658.pdb', 'right-handed beta-helix'),\n",
      " 'NC_019530.1_prot_YP_007008116.1_136.pdb': (0.912, 'K40PH129C1__cds_56_A_4_239_860.pdb', 'right-handed beta-helix'),\n",
      " 'NC_019530.1_prot_YP_007008118.1_138.pdb': (1.0, 'AF-A0A0R3Q9P4-F1-model_v4.pdb', 'right-handed beta-helix'),\n",
      " 'NC_019530.1_prot_YP_007008119.1_139.pdb': (1.0, 'K17alfa62__cds_64_A_3_129_548.pdb', 'right-handed beta-helix'),\n",
      " 'NC_019917.1_prot_YP_007236809.1_63.pdb': (0.473, 'AF-A0A7G2DEW9-F1-model_v4.pdb', '6-bladed beta-propeller'),\n",
      " 'NC_020078.1_prot_YP_007348357.1_38.pdb': (0.747, 'AF-A0A654UB90-F1-model_v4.pdb', '6-bladed beta-propeller'),\n",
      " 'NC_020079.1_prot_YP_007348548.1_180.pdb': (0.214, 'AF-A0A7C4BP91-F1-model_v4.pdb', '6-bladed beta-propeller'),\n",
      " 'NC_020083.1_prot_YP_007349010.1_31.pdb': (0.99, 'AF-A0A1E5LEG1-F1-model_v4.pdb', 'right-handed beta-helix'),\n",
      " 'NC_020083.1_prot_YP_007349017.1_38.pdb': (1.0, 'K74PH129C2__cds_51_A_3_291_808.pdb', 'right-handed beta-helix'),\n",
      " 'NC_020083.1_prot_YP_007349020.1_41.pdb': (1.0, 'AF-A0A1E5LEG1-F1-model_v4.pdb', 'right-handed beta-helix'),\n",
      " 'NC_020883.1_prot_YP_007678101.1_75.pdb': (0.855, 'AF-A0A654UB90-F1-model_v4.pdb', '6-bladed beta-propeller'),\n",
      " 'NC_021792.1_prot_YP_008241126.1_83.pdb': (1.0, 'K17alfa62__cds_64_A_3_129_548.pdb', 'right-handed beta-helix'),\n",
      " 'NC_021802.1_prot_YP_008242011.1_92.pdb': (1.0, 'AF-A0A0A6QEK9-F1-model_v4.pdb', 'right-handed beta-helix'),\n",
      " 'NC_022764.1_prot_YP_008770522.1_15.pdb': (0.277, 'AF-A0A654UB90-F1-model_v4.pdb', '6-bladed beta-propeller'),\n",
      " 'NC_022768.1_prot_YP_008770866.1_39.pdb': (0.999, 'AF-A0A0R3Q9P4-F1-model_v4.pdb', 'right-handed beta-helix'),\n",
      " 'NC_022768.1_prot_YP_008770867.1_40.pdb': (1.0, 'K17alfa62__cds_64_A_3_129_548.pdb', 'right-handed beta-helix'),\n",
      " 'NC_022768.1_prot_YP_008770868.1_41.pdb': (0.632, 'K17alfa62__cds_64_A_3_129_548.pdb', 'right-handed beta-helix'),\n",
      " 'NC_022770.1_prot_YP_008771333.1_15.pdb': (0.382, 'AF-A0A496B6X2-F1-model_v4.pdb', '6-bladed beta-propeller'),\n",
      " 'NC_022772.1_prot_YP_008771658.1_40.pdb': (1.0, 'K39PH122C2__cds_55_A_5_286_658.pdb', 'right-handed beta-helix'),\n",
      " 'NC_022772.1_prot_YP_008771659.1_41.pdb': (1.0, 'AF-A0A1E5LEG1-F1-model_v4.pdb', 'right-handed beta-helix'),\n",
      " 'NC_023694.1_prot_YP_009012583.1_2.pdb': (1.0, 'K14PH164C1__cds_24_A_4_221_871.pdb', 'right-handed beta-helix'),\n",
      " 'NC_024792.1_prot_YP_009056509.1_240.pdb': (1.0, 'AF-A0A1E5LEG1-F1-model_v4.pdb', 'right-handed beta-helix'),\n",
      " 'NC_025422.1_prot_YP_009098911.1_153.pdb': (0.986, 'AF-A0A831UGW4-F1-model_v4.pdb', 'right-handed beta-helix'),\n",
      " 'NC_025446.1_prot_YP_009101512.1_116.pdb': (1.0, 'K17alfa62__cds_64_A_3_129_548.pdb', 'right-handed beta-helix'),\n",
      " 'NC_025446.1_prot_YP_009101514.1_118.pdb': (1.0, 'K17alfa62__cds_64_A_3_129_548.pdb', 'right-handed beta-helix'),\n",
      " 'NC_025446.1_prot_YP_009101515.1_119.pdb': (1.0, 'AF-A0A496B6X2-F1-model_v4.pdb', '6-bladed beta-propeller'),\n",
      " 'NC_027364.1_prot_YP_009150385.1_71.pdb': (0.537, 'AF-A0A7C4BP91-F1-model_v4.pdb', '6-bladed beta-propeller')}\n"
     ]
    }
   ],
   "source": [
    "import pprint\n",
    "pp = pprint.PrettyPrinter(width = 150, sort_dicts = True, compact = False)\n",
    "pp.pprint(FP_results)\n",
    "\n",
    "\n"
   ]
  },
  {
   "cell_type": "code",
   "execution_count": 7,
   "metadata": {},
   "outputs": [
    {
     "data": {
      "text/plain": [
       "(20, 65)"
      ]
     },
     "execution_count": 7,
     "metadata": {},
     "output_type": "execute_result"
    }
   ],
   "source": [
    "len(no_structure) , len(FP_results)"
   ]
  },
  {
   "cell_type": "code",
   "execution_count": 1,
   "metadata": {},
   "outputs": [
    {
     "data": {
      "application/vnd.jupyter.widget-view+json": {
       "model_id": "2a3778ef679d4f7f8579ddd34c4a8236",
       "version_major": 2,
       "version_minor": 0
      },
      "text/plain": []
     },
     "metadata": {},
     "output_type": "display_data"
    }
   ],
   "source": [
    "import nglview as nv\n",
    "\n",
    "def view_pdb(file) : \n",
    "    path_project = \"/media/concha-eloko/Linux/PhageDEPOdetection\"\n",
    "    path_pdb = f\"{path_project}/FP_2108\"\n",
    "    view = nv.show_structure_file(f\"{path_pdb}/{file}\")\n",
    "    view\n"
   ]
  },
  {
   "cell_type": "code",
   "execution_count": 2,
   "metadata": {},
   "outputs": [
    {
     "data": {
      "application/vnd.jupyter.widget-view+json": {
       "model_id": "3ed690d2b0384f569d9c29532d192819",
       "version_major": 2,
       "version_minor": 0
      },
      "text/plain": [
       "NGLWidget(background='black')"
      ]
     },
     "metadata": {},
     "output_type": "display_data"
    }
   ],
   "source": [
    "path_project = \"/media/concha-eloko/Linux/PhageDEPOdetection\"\n",
    "path_pdb = f\"{path_project}/FP_pdb\"\n",
    "\n",
    "view = nv.show_file(f\"{path_pdb}/KC821625.1_prot_AGO49026.1_15.pdb\")\n",
    "view.background = 'black'\n",
    "view"
   ]
  },
  {
   "cell_type": "code",
   "execution_count": 28,
   "metadata": {
    "editable": true,
    "scrolled": true,
    "slideshow": {
     "slide_type": ""
    },
    "tags": []
   },
   "outputs": [
    {
     "data": {
      "text/plain": [
       "['NC_017972.1_prot_YP_006382630.1_100.pdb',\n",
       " 'NC_016071.1_prot_YP_004893846.1_39.pdb',\n",
       " 'KC821625.1_prot_AGO49026.1_15.pdb',\n",
       " 'NC_019401.1_prot_YP_006987325.1_223.pdb',\n",
       " 'NC_027364.1_prot_YP_009150318.1_4.pdb',\n",
       " 'NC_019526.1_prot_YP_007007689.1_534.pdb',\n",
       " 'NC_019929.1_prot_YP_007237854.1_204.pdb',\n",
       " 'NC_006883.2_prot_YP_214266.1_30.pdb',\n",
       " 'NC_025422.1_prot_YP_009098968.1_210.pdb',\n",
       " 'NC_027364.1_prot_YP_009150602.1_288.pdb',\n",
       " 'KC821621.1_prot_AGO48656.1_21.pdb',\n",
       " 'HQ632825.1_prot_AGN12459.1_301.pdb',\n",
       " 'NC_027364.1_prot_YP_009150315.1_1.pdb',\n",
       " 'NC_017971.2_prot_YP_006382482.1_22.pdb',\n",
       " 'JX262376.1_prot_AFO10887.1_21.pdb',\n",
       " 'AY349011.3_prot_AAQ55000.1_65.pdb',\n",
       " 'NC_006883.2_prot_YP_214361.1_128.pdb',\n",
       " 'NC_019526.1_prot_YP_007007233.1_78.pdb',\n",
       " 'NC_023557.1_prot_YP_009004812.1_20.pdb',\n",
       " 'NC_003157.5_prot_NP_438158.1_46.pdb',\n",
       " 'NC_019917.1_prot_YP_007236806.1_60.pdb',\n",
       " 'HQ632825.1_prot_AGN12302.1_144.pdb',\n",
       " 'NC_020079.1_prot_YP_007348548.1_180.pdb',\n",
       " 'NC_027364.1_prot_YP_009150606.1_292.pdb',\n",
       " 'NC_015296.1_prot_YP_004327542.1_171.pdb',\n",
       " 'NC_027351.1_prot_YP_009148844.1_48.pdb',\n",
       " 'HQ632825.1_prot_AGN12284.1_126.pdb',\n",
       " 'NC_019400.1_prot_YP_006987067.1_234.pdb',\n",
       " 'NC_025422.1_prot_YP_009098974.1_216.pdb',\n",
       " 'NC_019487.1_prot_YP_007003405.1_148.pdb',\n",
       " 'NC_020842.1_prot_YP_007673467.1_85.pdb',\n",
       " 'NC_019414.1_prot_YP_006990136.1_21.pdb',\n",
       " 'NC_027364.1_prot_YP_009150600.1_286.pdb',\n",
       " 'HQ632825.1_prot_AGN12305.1_147.pdb',\n",
       " 'NC_016071.1_prot_YP_004893847.1_40.pdb',\n",
       " 'NC_041856.1_prot_YP_009592102.1_23.pdb',\n",
       " 'AY349011.3_prot_AAQ54997.1_62.pdb',\n",
       " 'FJ230960.1_prot_ACI90966.1_61.pdb',\n",
       " 'HQ632825.1_prot_AGN12239.1_81.pdb',\n",
       " 'NC_027351.1_prot_YP_009148843.1_47.pdb',\n",
       " 'NC_027364.1_prot_YP_009150848.1_534.pdb',\n",
       " 'NC_019526.1_prot_YP_007007253.1_98.pdb',\n",
       " 'NC_006883.2_prot_YP_214546.1_315.pdb',\n",
       " 'NC_006883.2_prot_YP_214526.1_295.pdb']"
      ]
     },
     "execution_count": 28,
     "metadata": {},
     "output_type": "execute_result"
    }
   ],
   "source": [
    "no_structure"
   ]
  },
  {
   "cell_type": "code",
   "execution_count": null,
   "metadata": {},
   "outputs": [],
   "source": [
    "import subprocess\n",
    "import os\n",
    "\n",
    "path_project = \"/media/concha-eloko/Linux/depolymerase_building\"\n",
    "path_pdb = f\"{path_project}/phagedepo_out\"\n",
    "path_db = f\"/media/concha-eloko/Linux/depolymerase_building/Dpo_RefDB_v2/Dpo_RefDB_v2_db\"\n",
    "path_tmp = f\"{path_project}/tmp\"\n",
    "\n",
    "def seek_beta_helix(path_in) :\n",
    "    dir_out = f\"{path_project}/CAZY_seekfold\"\n",
    "    protein_id = path_in.split(\"/\")[-1].split(\".pdb\")[0]\n",
    "    path_out = f\"{dir_out}/{protein_id}.out\"\n",
    "    output_frmt = f\"query,target,pident,alnlen,gapopen,qstart,qend,tstart,tend,bits,prob\"\n",
    "    seek = f\"foldseek easy-search {path_in} {path_db} {path_out} {path_tmp} --format-output {output_frmt}\"\n",
    "    #seek = f\"foldseek easy-search {path_in} {path_db} {path_out}.html {path_tmp} --format-mode 3\"\n",
    "    seek_process = subprocess.Popen(seek, shell=True, stdout=subprocess.PIPE, stderr=subprocess.STDOUT)\n",
    "    press_out, press_err = seek_process.communicate()\n",
    "    print (press_out, press_err)\n",
    "\n",
    "paths = [f\"{path_pdb}/{file}\" for file in os.listdir(f\"{path_pdb}\") if file not in first_batch_dpos]\n",
    "\n",
    "\n",
    "for path in paths :\n",
    "    seek_beta_helix(path)"
   ]
  },
  {
   "cell_type": "markdown",
   "metadata": {},
   "source": [
    "***\n",
    "## C."
   ]
  },
  {
   "cell_type": "code",
   "execution_count": 7,
   "metadata": {
    "collapsed": true,
    "jupyter": {
     "outputs_hidden": true
    },
    "tags": []
   },
   "outputs": [
    {
     "name": "stdout",
     "output_type": "stream",
     "text": [
      "{'1043.pdb': ('AF-A0A202B6A7-F1-model_v4.pdb', 0.353),\n",
      " '1125.pdb': ('AF-A0A4V2M274-F1-model_v4_A_1_91_268.pdb', 0.353),\n",
      " '1574.pdb': ('A1l_00058_A_1_129_274.pdb', 0.473),\n",
      " '1810.pdb': ('AF-A0A0A6QEK9-F1-model_v4.pdb', 0.411),\n",
      " '1842.pdb': ('AF-A0A7K3HGV9-F1-model_v4.pdb', 0.353),\n",
      " '1873.pdb': ('AF-A0A0F6AK51-F1-model_v4.pdb', 0.277),\n",
      " '1918.pdb': ('AF-A0A0D3A0D6-F1-model_v4.pdb', 0.326),\n",
      " '2001.pdb': ('AF-A0A4V2M274-F1-model_v4_A_1_91_268.pdb', 0.442),\n",
      " '2048.pdb': ('A1l_00058_A_1_129_274.pdb', 0.411),\n",
      " '2170.pdb': ('7fhv.pdb_B', 0.277),\n",
      " '2190.pdb': ('AF-A0A4V2M274-F1-model_v4_A_1_91_268.pdb', 0.382),\n",
      " '2217.pdb': ('AF-A0A1E5LEG1-F1-model_v4.pdb', 0.473),\n",
      " '2588.pdb': ('AF-A0A7W9JCS6-F1-model_v4_A_1_95_273.pdb', 0.473),\n",
      " '2617.pdb': ('AF-A0A562WF65-F1-model_v4.pdb', 0.326),\n",
      " '2641.pdb': ('AF-A0A7G2DEW9-F1-model_v4.pdb', 0.254),\n",
      " '2691.pdb': ('AF-A0A0A6QEK9-F1-model_v4.pdb', 0.442),\n",
      " '2753.pdb': ('AF-A0A7C4BP91-F1-model_v4.pdb', 0.473),\n",
      " '2786.pdb': ('AF-A0A7G2DEW9-F1-model_v4.pdb', 0.254),\n",
      " '2976.pdb': ('AF-A0A4V2M274-F1-model_v4_A_1_91_268.pdb', 0.353),\n",
      " '343.pdb': ('AF-A0A654UB90-F1-model_v4.pdb', 0.442),\n",
      " '3492.pdb': ('AF-A0A7W9JCS6-F1-model_v4_A_1_95_273.pdb', 0.353),\n",
      " '3509.pdb': ('A1l_00058_A_1_129_274.pdb', 0.382),\n",
      " '36.pdb': ('AF-A0A7W9JCS6-F1-model_v4_A_1_95_273.pdb', 0.326),\n",
      " '3611.pdb': ('AF-A0A4V2M274-F1-model_v4_A_1_91_268.pdb', 0.326),\n",
      " '373.pdb': ('AF-A0A658Y395-F1-model_v4.pdb', 0.473),\n",
      " '3812.pdb': ('AF-A0A496B6X2-F1-model_v4.pdb', 0.353),\n",
      " '4083.pdb': ('AF-A0A7G2DEW9-F1-model_v4.pdb', 0.254),\n",
      " '4154.pdb': ('AF-A0A7G2DEW9-F1-model_v4.pdb', 0.277),\n",
      " '4220.pdb': ('A1l_00058_A_1_129_274.pdb', 0.473),\n",
      " '4493.pdb': ('AF-A0A496B6X2-F1-model_v4.pdb', 0.473),\n",
      " '489.pdb': ('AF-A0A658Y395-F1-model_v4.pdb', 0.473),\n",
      " '5089.pdb': ('AF-A0A7W9JCS6-F1-model_v4_A_1_95_273.pdb', 0.442),\n",
      " '5168.pdb': ('A1l_00058_A_1_129_274.pdb', 0.277),\n",
      " '5265.pdb': ('A1l_00058_A_1_129_274.pdb', 0.277),\n",
      " '5305.pdb': ('AF-A0A658Y395-F1-model_v4.pdb', 0.326),\n",
      " '5347.pdb': ('AF-A0A658Y395-F1-model_v4.pdb', 0.326),\n",
      " '5360.pdb': ('AF-A0A7W9JCS6-F1-model_v4_A_1_95_273.pdb', 0.254),\n",
      " '543.pdb': ('A1l_00058_A_1_129_274.pdb', 0.353),\n",
      " '5664.pdb': ('A1l_00058_A_1_129_274.pdb', 0.442),\n",
      " '5938.pdb': ('AF-A0A654UB90-F1-model_v4.pdb', 0.473),\n",
      " '6230.pdb': ('AF-A0A4V2M274-F1-model_v4_A_1_91_268.pdb', 0.442),\n",
      " '631.pdb': ('AF-A0A654UB90-F1-model_v4.pdb', 0.301),\n",
      " '633.pdb': ('AF-A0A1E5LEG1-F1-model_v4.pdb', 0.353),\n",
      " '6332.pdb': ('AF-A0A654UB90-F1-model_v4.pdb', 0.442),\n",
      " '634.pdb': ('A1l_00058_A_1_129_274.pdb', 0.382),\n",
      " '6450.pdb': ('AF-A0A0E2ALL6-F1-model_v4.pdb', 0.411),\n",
      " '6519.pdb': ('AF-A0A0E2ALL6-F1-model_v4.pdb', 0.411),\n",
      " '6542.pdb': ('AF-A0A7G2DEW9-F1-model_v4.pdb', 0.277),\n",
      " '655.pdb': ('AF-A0A0R3Q9P4-F1-model_v4.pdb', 0.473),\n",
      " '657.pdb': ('AF-A0A7W9JCS6-F1-model_v4_A_1_95_273.pdb', 0.301),\n",
      " '660.pdb': ('AF-A0A7W9JCS6-F1-model_v4_A_1_95_273.pdb', 0.353),\n",
      " '665.pdb': ('AF-H9BBE9-F1-model_v4.pdb', 0.254),\n",
      " '814.pdb': ('AF-A0A7W9JCS6-F1-model_v4_A_1_95_273.pdb', 0.277),\n",
      " '817.pdb': ('AF-A0A7W9JCS6-F1-model_v4_A_1_95_273.pdb', 0.301)}\n"
     ]
    }
   ],
   "source": [
    "pp = pprint.PrettyPrinter(width = 100, sort_dicts = True, compact = True)\n",
    "\n",
    "pp.pprint(decipher_phagedepo)"
   ]
  }
 ],
 "metadata": {
  "kernelspec": {
   "display_name": "Python 3 (ipykernel)",
   "language": "python",
   "name": "python3"
  },
  "language_info": {
   "codemirror_mode": {
    "name": "ipython",
    "version": 3
   },
   "file_extension": ".py",
   "mimetype": "text/x-python",
   "name": "python",
   "nbconvert_exporter": "python",
   "pygments_lexer": "ipython3",
   "version": "3.11.4"
  },
  "widgets": {
   "application/vnd.jupyter.widget-state+json": {
    "state": {},
    "version_major": 2,
    "version_minor": 0
   }
  }
 },
 "nbformat": 4,
 "nbformat_minor": 4
}
