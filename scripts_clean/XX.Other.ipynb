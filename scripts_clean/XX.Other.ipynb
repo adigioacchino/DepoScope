{
 "cells": [
  {
   "cell_type": "code",
   "execution_count": 8,
   "metadata": {},
   "outputs": [],
   "source": [
    "path_PL16 = \"/media/concha-eloko/Linux/PhageDEPOdetection/PL16_proteins\"\n",
    "import os \n",
    "from Bio import SeqIO\n",
    "n = 0\n",
    "\n",
    "sequences_to_ATLAS = {}\n",
    "sequences_to_ATLAS_set = set()\n",
    "for file in os.listdir(path_PL16) :\n",
    "    seq = SeqIO.parse(f\"{path_PL16}/{file}\" , \"fasta\") \n",
    "    for record in seq : \n",
    "        name = file.split(\".multi\")[0]\n",
    "        sequence = str(record.seq)\n",
    "        if len(sequence) < 400 :\n",
    "            sequences_to_ATLAS_set.add(sequence)\n",
    "                \n",
    "with open(f\"{path_PL16}/PL16.index.multi.fasta\" , \"w\") as outfile : \n",
    "    for index, seq in enumerate(list(sequences_to_ATLAS_set)) :\n",
    "        outfile.write(f\">PL16__{index}\\n{seq}\\n\")"
   ]
  },
  {
   "cell_type": "markdown",
   "metadata": {},
   "source": [
    "> ESMfold server predictions :"
   ]
  },
  {
   "cell_type": "code",
   "execution_count": 12,
   "metadata": {},
   "outputs": [],
   "source": [
    "from selenium import webdriver\n",
    "from selenium.webdriver.support.ui import Select\n",
    "from webdriver_manager.firefox import GeckoDriverManager\n",
    "from selenium.webdriver.common.by import By\n",
    "from selenium.webdriver.firefox.options import Options\n",
    "from selenium.webdriver.support.ui import WebDriverWait\n",
    "from selenium.webdriver.support import expected_conditions as EC\n",
    "import os \n",
    "\n",
    "path_download = \"/home/concha-eloko/Téléchargements\"\n",
    "path_out = \"/media/concha-eloko/Linux/PhageDEPOdetection/PL16_proteins_pdb\"\n",
    "\n",
    "path_driver = \"/home/concha-eloko/.wdm/drivers/geckodriver/linux64/0.33/geckodriver\"\n",
    "\n",
    "def setup_driver():\n",
    "    firefox_options = Options()\n",
    "    firefox_options.add_argument(\"--headless\")\n",
    "    driver = webdriver.Firefox(executable_path=path_driver, options=firefox_options)\n",
    "    return driver\n",
    "\n",
    "def download_pdb(seqio_obj):\n",
    "    driver = setup_driver()\n",
    "    try : \n",
    "        for record in seqio_obj :\n",
    "            url = f\"https://esmatlas.com/resources?action=fold\"\n",
    "            driver.get(url)\n",
    "\n",
    "            if len(str(record.seq)) <= 400 and  len(str(record.seq)) >= 150:\n",
    "                # Input the name of the accession.fasta\n",
    "                input_field_locator = (By.XPATH, '//*[@id=\"search-input\"]')\n",
    "                input_field = WebDriverWait(driver, 10).until(EC.presence_of_element_located(input_field_locator))\n",
    "                input_field.clear()\n",
    "                input_field.send_keys(f\">{record.id}\\n{str(record.seq)}\")\n",
    "                \n",
    "                print(\"Sending the fasta file.\")\n",
    "                \n",
    "                button_locator = (By.XPATH, '/html/body/div/div/section/div[2]/div[2]/div[2]/div/div')\n",
    "                button = WebDriverWait(driver, 10).until(EC.element_to_be_clickable(button_locator))\n",
    "                button.click()\n",
    "                \n",
    "                print(\"Making the search.\")\n",
    "                \n",
    "                button_locator = (By.XPATH, '/html/body/div/div/div[3]/div/div[2]/div[1]/div[1]/a[1]')\n",
    "                button = WebDriverWait(driver, 300).until(EC.element_to_be_clickable(button_locator))\n",
    "                button.click()\n",
    "                \n",
    "                if os.path.isfile(f\"{path_download}/{record.id}.pdb\") == True :\n",
    "                    print(\"Computation over and succesful !\")\n",
    "\n",
    "                os.system(f\"cp {path_download}/{record.id}.pdb {path_out}\")\n",
    "                print(f\"Everything well with {record.id}.\")\n",
    "    except Exception as e:\n",
    "        print(f\"An error occurred with accession {record.id}: {e}\")\n",
    "    finally:\n",
    "        driver.quit()\n"
   ]
  },
  {
   "cell_type": "code",
   "execution_count": 13,
   "metadata": {},
   "outputs": [
    {
     "name": "stderr",
     "output_type": "stream",
     "text": [
      "/media/concha-eloko/Linux/conda_envs/webscrapping/lib/python3.7/site-packages/ipykernel_launcher.py:18: DeprecationWarning: executable_path has been deprecated, please pass in a Service object\n"
     ]
    },
    {
     "name": "stdout",
     "output_type": "stream",
     "text": [
      "Sending the fasta file.\n",
      "Making the search.\n",
      "Everything well with PL16__1.\n",
      "Sending the fasta file.\n",
      "Making the search.\n",
      "An error occurred with accession PL16__2: Message: \n",
      "Stacktrace:\n",
      "RemoteError@chrome://remote/content/shared/RemoteError.sys.mjs:8:8\n",
      "WebDriverError@chrome://remote/content/shared/webdriver/Errors.sys.mjs:183:5\n",
      "NoSuchElementError@chrome://remote/content/shared/webdriver/Errors.sys.mjs:395:5\n",
      "element.find/</<@chrome://remote/content/marionette/element.sys.mjs:134:16\n",
      "\n"
     ]
    }
   ],
   "source": [
    "import os \n",
    "from Bio import SeqIO\n",
    "\n",
    "PL16_seq = SeqIO.parse(f\"/media/concha-eloko/Linux/PhageDEPOdetection/PL16.index.multi.fasta\" , \"fasta\")\n",
    "download_pdb(PL16_seq)"
   ]
  },
  {
   "cell_type": "code",
   "execution_count": null,
   "metadata": {},
   "outputs": [],
   "source": []
  }
 ],
 "metadata": {
  "kernelspec": {
   "display_name": "webscrapping",
   "language": "python",
   "name": "webscrapping"
  },
  "language_info": {
   "codemirror_mode": {
    "name": "ipython",
    "version": 3
   },
   "file_extension": ".py",
   "mimetype": "text/x-python",
   "name": "python",
   "nbconvert_exporter": "python",
   "pygments_lexer": "ipython3",
   "version": "3.7.12"
  }
 },
 "nbformat": 4,
 "nbformat_minor": 4
}
