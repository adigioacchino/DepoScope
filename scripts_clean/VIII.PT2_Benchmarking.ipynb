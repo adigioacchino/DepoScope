{
 "cells": [
  {
   "cell_type": "markdown",
   "metadata": {},
   "source": [
    "# The goal here is to benchmark the DpoDetection tool with other depolymerase detection tools \n",
    "***\n",
    "# I. Load the models :\n",
    "#### 77 phages candidates \n",
    ">Detected Dpos <br>\n",
    ">Missed Dpos <br>\n",
    "***\n",
    "# II. Getting the resulting predictions\n",
    "#### Pires Dpos\n",
    "\n",
    "***\n",
    "# III. Make figures\n",
    "***"
   ]
  },
  {
   "cell_type": "markdown",
   "metadata": {},
   "source": [
    "I.\n",
    "> Make the predictions : DpoDetection Tool :"
   ]
  },
  {
   "cell_type": "code",
   "execution_count": null,
   "metadata": {},
   "outputs": [],
   "source": [
    "rsync -avzhe ssh \\\n",
    "conchae@garnatxa.srv.cpd:/home/conchae/PhageDepo_pdb/DepoDetection.S1.conv.model \\\n",
    "/media/concha-eloko/Linux/depolymerase_building"
   ]
  },
  {
   "cell_type": "code",
   "execution_count": 33,
   "metadata": {},
   "outputs": [],
   "source": [
    "from transformers import AutoModelForTokenClassification, AutoTokenizer\n",
    "import torch\n",
    "from torch import nn \n",
    "import torch.nn.functional as F\n",
    "\n",
    "import os\n",
    "import numpy as np\n",
    "import tqdm\n",
    "import matplotlib.pyplot as plt\n",
    "\n",
    "import warnings\n",
    "warnings.filterwarnings(\"ignore\", category=RuntimeWarning) \n",
    "\n",
    "path_work = \"/media/concha-eloko/Linux/depolymerase_building\"\n",
    "\n",
    "#esm2_model_path = f\"{path_work}/esm2_t12_35M_UR50D-finetuned-depolymerase.1907.LR5.4_labels/checkpoint-4277\"\n",
    "#DpoDetection_path = f\"{path_work}/DepoDetection.esm2_t12_35M_UR50D.LR5.4L.1907.model\"\n",
    "\n",
    "esm2_model_path = f\"{path_work}/esm2_t12_35M_UR50D-finetuned-depolymerase.2007.3_labels/checkpoint-3784\"\n",
    "DpoDetection_path = f\"{path_work}/DepoDetection.esm2_t12_35M_UR50D.LR5.3L.2007.model\"\n",
    "\n",
    "tokenizer = AutoTokenizer.from_pretrained(esm2_model_path)\n",
    "esm2_finetuned = AutoModelForTokenClassification.from_pretrained(esm2_model_path)\n"
   ]
  },
  {
   "cell_type": "code",
   "execution_count": 34,
   "metadata": {},
   "outputs": [],
   "source": [
    "class Dpo_classifier(nn.Module):\n",
    "    def __init__(self, pretrained_model):\n",
    "        super(Dpo_classifier, self).__init__()\n",
    "        self.max_length = 1024\n",
    "        self.pretrained_model = pretrained_model\n",
    "        self.conv1 = nn.Conv1d(1, 64, kernel_size=5, stride=1)  # Convolutional layer\n",
    "        self.conv2 = nn.Conv1d(64, 128, kernel_size=5, stride=1)  # Convolutional layer\n",
    "        self.fc1 = nn.Linear(128 * (self.max_length - 2 * (5 - 1)), 32)  # calculate the output shape after 2 conv layers\n",
    "        self.classifier = nn.Linear(32, 2)  # Binary classification\n",
    "\n",
    "    def make_prediction(self, fasta_txt):\n",
    "        input_ids = tokenizer.encode(fasta_txt, truncation=True, return_tensors='pt')\n",
    "        with torch.no_grad():\n",
    "            outputs = self.pretrained_model(input_ids)\n",
    "            probs = torch.nn.functional.softmax(outputs.logits, dim=-1)\n",
    "            token_probs, token_ids = torch.max(probs, dim=-1)            \n",
    "            tokens = token_ids.view(1, -1) # ensure 2D shape\n",
    "            return tokens\n",
    "\n",
    "    def pad_or_truncate(self, tokens):\n",
    "        if tokens.size(1) < self.max_length:\n",
    "            tokens = F.pad(tokens, (0, self.max_length - tokens.size(1)))\n",
    "        elif tokens.size(1) > self.max_length:\n",
    "            tokens = tokens[:, :self.max_length]\n",
    "        return tokens\n",
    "\n",
    "    def forward(self, sequences):\n",
    "        batch_size = len(sequences)\n",
    "        tokens_batch = []\n",
    "        for seq in sequences:\n",
    "            tokens = self.make_prediction(seq)\n",
    "            tokens = self.pad_or_truncate(tokens)\n",
    "            tokens_batch.append(tokens)\n",
    "        \n",
    "        outputs = torch.cat(tokens_batch).view(batch_size, 1, self.max_length)  # ensure 3D shape\n",
    "        outputs = outputs.float()  # Convert to float\n",
    "        \n",
    "        out = F.relu(self.conv1(outputs))\n",
    "        out = F.relu(self.conv2(out))\n",
    "        out = out.view(batch_size, -1)  # Flatten the tensor\n",
    "        out = F.relu(self.fc1(out))\n",
    "        out = self.classifier(out)\n",
    "        return out, outputs\n"
   ]
  },
  {
   "cell_type": "code",
   "execution_count": 35,
   "metadata": {},
   "outputs": [
    {
     "data": {
      "text/plain": [
       "Dpo_classifier(\n",
       "  (pretrained_model): EsmForTokenClassification(\n",
       "    (esm): EsmModel(\n",
       "      (embeddings): EsmEmbeddings(\n",
       "        (word_embeddings): Embedding(33, 480, padding_idx=1)\n",
       "        (dropout): Dropout(p=0.0, inplace=False)\n",
       "        (position_embeddings): Embedding(1026, 480, padding_idx=1)\n",
       "      )\n",
       "      (encoder): EsmEncoder(\n",
       "        (layer): ModuleList(\n",
       "          (0-11): 12 x EsmLayer(\n",
       "            (attention): EsmAttention(\n",
       "              (self): EsmSelfAttention(\n",
       "                (query): Linear(in_features=480, out_features=480, bias=True)\n",
       "                (key): Linear(in_features=480, out_features=480, bias=True)\n",
       "                (value): Linear(in_features=480, out_features=480, bias=True)\n",
       "                (dropout): Dropout(p=0.0, inplace=False)\n",
       "                (rotary_embeddings): RotaryEmbedding()\n",
       "              )\n",
       "              (output): EsmSelfOutput(\n",
       "                (dense): Linear(in_features=480, out_features=480, bias=True)\n",
       "                (dropout): Dropout(p=0.0, inplace=False)\n",
       "              )\n",
       "              (LayerNorm): LayerNorm((480,), eps=1e-05, elementwise_affine=True)\n",
       "            )\n",
       "            (intermediate): EsmIntermediate(\n",
       "              (dense): Linear(in_features=480, out_features=1920, bias=True)\n",
       "            )\n",
       "            (output): EsmOutput(\n",
       "              (dense): Linear(in_features=1920, out_features=480, bias=True)\n",
       "              (dropout): Dropout(p=0.0, inplace=False)\n",
       "            )\n",
       "            (LayerNorm): LayerNorm((480,), eps=1e-05, elementwise_affine=True)\n",
       "          )\n",
       "        )\n",
       "        (emb_layer_norm_after): LayerNorm((480,), eps=1e-05, elementwise_affine=True)\n",
       "      )\n",
       "      (contact_head): EsmContactPredictionHead(\n",
       "        (regression): Linear(in_features=240, out_features=1, bias=True)\n",
       "        (activation): Sigmoid()\n",
       "      )\n",
       "    )\n",
       "    (dropout): Dropout(p=0.0, inplace=False)\n",
       "    (classifier): Linear(in_features=480, out_features=3, bias=True)\n",
       "  )\n",
       "  (conv1): Conv1d(1, 64, kernel_size=(5,), stride=(1,))\n",
       "  (conv2): Conv1d(64, 128, kernel_size=(5,), stride=(1,))\n",
       "  (fc1): Linear(in_features=130048, out_features=32, bias=True)\n",
       "  (classifier): Linear(in_features=32, out_features=2, bias=True)\n",
       ")"
      ]
     },
     "execution_count": 35,
     "metadata": {},
     "output_type": "execute_result"
    }
   ],
   "source": [
    "model_classifier = Dpo_classifier(esm2_finetuned) # Create an instance of Dpo_classifier\n",
    "model_classifier.load_state_dict(torch.load(DpoDetection_path), strict = False) # Load the saved weights ; weird Error with some of the keys \n",
    "model_classifier.eval() # Set the model to evaluation mode for inference\n"
   ]
  },
  {
   "cell_type": "code",
   "execution_count": 36,
   "metadata": {},
   "outputs": [],
   "source": [
    "def predict_sequence(model, sequence):\n",
    "    model.eval()  \n",
    "    with torch.no_grad():   \n",
    "        outputs, sequence_outputs = model([sequence])\n",
    "        probas = torch.nn.functional.softmax(outputs, dim=-1)\n",
    "        predictions = torch.argmax(probas, dim=1)  \n",
    "        sequence_outputs_list = sequence_outputs.cpu().numpy().tolist()[0][0]  \n",
    "        prob_predicted = probas[0][predictions].item()\n",
    "        return (predictions.item(), prob_predicted), sequence_outputs_list\n",
    "\n",
    "def plot_token(tokens) :\n",
    "    tokens = np.array(tokens)  # convert your list to numpy array for convenience\n",
    "    plt.figure(figsize=(10,6))\n",
    "    for i in range(len(tokens) - 1):\n",
    "        if tokens[i] == 0:\n",
    "            color = 'black'\n",
    "        elif tokens[i] == 1:\n",
    "            color = 'blue'\n",
    "        else:\n",
    "            color = 'red'\n",
    "        plt.plot([i, i+1], [tokens[i], tokens[i+1]], color=color, marker='o')\n",
    "    plt.xlabel('Token')\n",
    "    plt.ylabel('Label')\n",
    "    plt.title('Label for each token')\n",
    "    plt.xticks(rotation='vertical')\n",
    "    plt.yticks(np.arange(2), ['0', '1'])  \n",
    "    plt.grid(True)\n",
    "    plt.show()"
   ]
  },
  {
   "cell_type": "code",
   "execution_count": 22,
   "metadata": {
    "collapsed": true,
    "jupyter": {
     "outputs_hidden": true
    }
   },
   "outputs": [
    {
     "data": {
      "image/png": "[encoded data removed]",
      "text/plain": [
       "<Figure size 1000x600 with 1 Axes>"
      ]
     },
     "metadata": {},
     "output_type": "display_data"
    }
   ],
   "source": [
    "input_text = \"MAYDGFFADISTRSSVNEVLLEAEAIKNQVDALYQGTQTEATNAANSAITAKNEADRAQRIADSINGENPPYGTRQESPFDPEFGAKGDGVTDDTAAFAAFEAKYVGMTIDLGFAKCKVSAIPTKNVYQNGSWLIPGDPNQFTRFAFEGDTVNGRPALYHPYGGGLNRLKKALTDVLNQYVGVVWIGDSITWGSGNQPECAPFDPRNGTLKDPRDWFGTNSYVNNMRRYLIDQYLPGSTVTVEGWEQSPWGHPIVKAVKDIVTMPIGNEFSRTIIGSTVTITDEASPSLPAKWRLLISNGNTVDGDNAYGSVSFKFTGSSFRLHLGCVNDTASDYQIFIDGASIGRFSTADGATIDNGELEDNSSGTRTHTFPFVSNALVEIRALRPLLPGGSPTKVLRIHGLIIPKTLRLTNNGINGSSLYSYRLYNLPPTCWTYSESCAVNAGDQFCFVQLGTNDRGTIRGPQTTNYIQTEAKNLLDAIPSYCVPILMVSNPAIPVVGANLQQSDIRNALHMVARERAVDFVDNYGIFQGMDRLAYAKDQLHPNQWGYSVMATNIIKALEASVDTSVTPPEPPLETFAVKPDDAIFTVTAPSGTQIIDRDSSAAYLGRQRPYRMNATNGGDIYFEFAAKGKDFGIAYSSLSTNILDYEVLVDGVSQGRFSTKYLEAGGGTTVYRNIRWHSIPDDSASHTIRIVGKYRPDFPGTTQVLYIEAVLYKQGGGLSAVGGTIPDPEPPEVVQTLLPTDPRFVPHLPAGTQIVDREAPAARLGVQRLYRAGTSPSGDCSVSFNVKGPSFGFAFSATASNMLDYQLFIDGVSQGTFSMVLGEVGGAAASYQNERFHNVPNDGGTHAVQMIFKRRATWPEATHVAYLEAFLAKEGVTIT\"\n",
    "prediction, sequence_outputs = predict_sequence(model_classifier, input_text)\n",
    "plot_token(sequence_outputs)"
   ]
  },
  {
   "cell_type": "code",
   "execution_count": 51,
   "metadata": {
    "collapsed": true,
    "jupyter": {
     "outputs_hidden": true,
     "source_hidden": true
    }
   },
   "outputs": [
    {
     "name": "stdout",
     "output_type": "stream",
     "text": [
      "(1, 0.9588682651519775) K2069PH1 cds_25, tail fiber protein\n"
     ]
    },
    {
     "data": {
      "image/png": "[encoded data removed]",
      "text/plain": [
       "<Figure size 1000x600 with 1 Axes>"
      ]
     },
     "metadata": {},
     "output_type": "display_data"
    },
    {
     "name": "stdout",
     "output_type": "stream",
     "text": [
      "(1, 1.0) K50PH164C1 cds_28, tail fiber protein\n"
     ]
    },
    {
     "data": {
      "image/png": "[encoded data removed]",
      "text/plain": [
       "<Figure size 1000x600 with 1 Axes>"
      ]
     },
     "metadata": {},
     "output_type": "display_data"
    },
    {
     "name": "stdout",
     "output_type": "stream",
     "text": [
      "(1, 1.0) K29PH164C1 cds_25, tail fiber protein\n"
     ]
    },
    {
     "data": {
      "image/png": "[encoded data removed]",
      "text/plain": [
       "<Figure size 1000x600 with 1 Axes>"
      ]
     },
     "metadata": {},
     "output_type": "display_data"
    },
    {
     "name": "stdout",
     "output_type": "stream",
     "text": [
      "(1, 1.0) K62PH164C2 cds_25, tail fiber protein\n"
     ]
    },
    {
     "data": {
      "image/png": "[encoded data removed]",
      "text/plain": [
       "<Figure size 1000x600 with 1 Axes>"
      ]
     },
     "metadata": {},
     "output_type": "display_data"
    },
    {
     "name": "stdout",
     "output_type": "stream",
     "text": [
      "(1, 1.0) K9PH25C2 cds_76, tail fiber protein\n"
     ]
    },
    {
     "data": {
      "image/png": "[encoded data removed]",
      "text/plain": [
       "<Figure size 1000x600 with 1 Axes>"
      ]
     },
     "metadata": {},
     "output_type": "display_data"
    }
   ],
   "source": [
    "from Bio import SeqIO\n",
    "import os\n",
    "\n",
    "#path_fasta = f\"/media/concha-eloko/Linux/77_strains_phage_project/DetectedDpo.77_phages.multi.fasta\"\n",
    "path_fasta = f\"/media/concha-eloko/Linux/77_strains_phage_project/MissedDpos.77_phages.multi.fasta\"\n",
    "fastas = SeqIO.parse(path_fasta , \"fasta\")\n",
    "n = 0\n",
    "m = 0\n",
    "for record in fastas :\n",
    "    prediction, sequence_outputs = predict_sequence(model_classifier, str(record.seq))\n",
    "    if prediction[0] == 1 :\n",
    "        m += 1\n",
    "        print(prediction , record.description)\n",
    "        plot_token(sequence_outputs)\n",
    "    else :\n",
    "        #print(f\"Good here {record.description}\")\n",
    "        n +=1"
   ]
  },
  {
   "cell_type": "code",
   "execution_count": 42,
   "metadata": {},
   "outputs": [
    {
     "data": {
      "text/plain": [
       "(2, 11)"
      ]
     },
     "execution_count": 42,
     "metadata": {},
     "output_type": "execute_result"
    }
   ],
   "source": [
    "m ,n "
   ]
  },
  {
   "cell_type": "markdown",
   "metadata": {},
   "source": [
    "4L model :\n",
    "Not predicted : 8\n",
    "Predicted : 5\n",
    "\n",
    "3L model :\n",
    "Not predicted : 2\n",
    "Predicted : 11"
   ]
  },
  {
   "cell_type": "markdown",
   "metadata": {},
   "source": [
    "> Make the predictions : Measuring the performances of DePolymerase Predictor\n",
    "(https://timskvortsov.github.io/WebDePP/)"
   ]
  },
  {
   "cell_type": "code",
   "execution_count": null,
   "metadata": {},
   "outputs": [],
   "source": [
    "def esmfold_prediction(protein) :\n",
    "    \"\"\"\n",
    "    The function takes as an input :\n",
    "    - 'tokenized_sequences', the output of the function tokenize_fasta\n",
    "    - 'path_out', the path of the directory when the pdb files are to be written\n",
    "    The function generates the pdb files in the path_out    \n",
    "    # Changed for the map process\n",
    "    \"\"\"\n",
    "    path_out = \"/home/conchae/PhageDepo_pdb/benchmarking\"\n",
    "    try :\n",
    "        with torch.no_grad():\n",
    "            output = model(protein[1])\n",
    "            pdb_txt = convert_outputs_to_pdb(output)\n",
    "            with open(f\"{path_out}/{protein[0]}.pdb\" ,\"w\") as outfile :\n",
    "                outfile.write(pdb_txt[0])\n",
    "    except Exception as e :\n",
    "        pass\n"
   ]
  },
  {
   "cell_type": "markdown",
   "metadata": {},
   "source": [
    "***\n",
    "# VS Pires 2016"
   ]
  },
  {
   "cell_type": "markdown",
   "metadata": {},
   "source": [
    "> Make Pires predictions"
   ]
  },
  {
   "cell_type": "code",
   "execution_count": 37,
   "metadata": {
    "collapsed": true,
    "jupyter": {
     "outputs_hidden": true
    }
   },
   "outputs": [
    {
     "name": "stderr",
     "output_type": "stream",
     "text": [
      "  6%|██▍                                      | 8/133 [04:33<1:11:14, 34.19s/it]\n"
     ]
    },
    {
     "ename": "KeyboardInterrupt",
     "evalue": "",
     "output_type": "error",
     "traceback": [
      "\u001b[0;31m---------------------------------------------------------------------------\u001b[0m",
      "\u001b[0;31mKeyboardInterrupt\u001b[0m                         Traceback (most recent call last)",
      "Cell \u001b[0;32mIn[37], line 10\u001b[0m\n\u001b[1;32m      8\u001b[0m tmp_results \u001b[38;5;241m=\u001b[39m []\n\u001b[1;32m      9\u001b[0m \u001b[38;5;28;01mfor\u001b[39;00m record \u001b[38;5;129;01min\u001b[39;00m fastas :\n\u001b[0;32m---> 10\u001b[0m     prediction, sequence_outputs \u001b[38;5;241m=\u001b[39m \u001b[43mpredict_sequence\u001b[49m\u001b[43m(\u001b[49m\u001b[43mmodel_classifier\u001b[49m\u001b[43m,\u001b[49m\u001b[43m \u001b[49m\u001b[38;5;28;43mstr\u001b[39;49m\u001b[43m(\u001b[49m\u001b[43mrecord\u001b[49m\u001b[38;5;241;43m.\u001b[39;49m\u001b[43mseq\u001b[49m\u001b[43m)\u001b[49m\u001b[43m)\u001b[49m\n\u001b[1;32m     11\u001b[0m     \u001b[38;5;28;01mif\u001b[39;00m prediction[\u001b[38;5;241m0\u001b[39m] \u001b[38;5;241m==\u001b[39m \u001b[38;5;241m1\u001b[39m :\n\u001b[1;32m     12\u001b[0m         a \u001b[38;5;241m=\u001b[39m (prediction , record\u001b[38;5;241m.\u001b[39mid)\n",
      "Cell \u001b[0;32mIn[36], line 4\u001b[0m, in \u001b[0;36mpredict_sequence\u001b[0;34m(model, sequence)\u001b[0m\n\u001b[1;32m      2\u001b[0m model\u001b[38;5;241m.\u001b[39meval()  \n\u001b[1;32m      3\u001b[0m \u001b[38;5;28;01mwith\u001b[39;00m torch\u001b[38;5;241m.\u001b[39mno_grad():   \n\u001b[0;32m----> 4\u001b[0m     outputs, sequence_outputs \u001b[38;5;241m=\u001b[39m \u001b[43mmodel\u001b[49m\u001b[43m(\u001b[49m\u001b[43m[\u001b[49m\u001b[43msequence\u001b[49m\u001b[43m]\u001b[49m\u001b[43m)\u001b[49m\n\u001b[1;32m      5\u001b[0m     probas \u001b[38;5;241m=\u001b[39m torch\u001b[38;5;241m.\u001b[39mnn\u001b[38;5;241m.\u001b[39mfunctional\u001b[38;5;241m.\u001b[39msoftmax(outputs, dim\u001b[38;5;241m=\u001b[39m\u001b[38;5;241m-\u001b[39m\u001b[38;5;241m1\u001b[39m)\n\u001b[1;32m      6\u001b[0m     predictions \u001b[38;5;241m=\u001b[39m torch\u001b[38;5;241m.\u001b[39margmax(probas, dim\u001b[38;5;241m=\u001b[39m\u001b[38;5;241m1\u001b[39m)  \n",
      "File \u001b[0;32m/media/concha-eloko/Linux/conda_envs/ML_work/lib/python3.11/site-packages/torch/nn/modules/module.py:1501\u001b[0m, in \u001b[0;36mModule._call_impl\u001b[0;34m(self, *args, **kwargs)\u001b[0m\n\u001b[1;32m   1496\u001b[0m \u001b[38;5;66;03m# If we don't have any hooks, we want to skip the rest of the logic in\u001b[39;00m\n\u001b[1;32m   1497\u001b[0m \u001b[38;5;66;03m# this function, and just call forward.\u001b[39;00m\n\u001b[1;32m   1498\u001b[0m \u001b[38;5;28;01mif\u001b[39;00m \u001b[38;5;129;01mnot\u001b[39;00m (\u001b[38;5;28mself\u001b[39m\u001b[38;5;241m.\u001b[39m_backward_hooks \u001b[38;5;129;01mor\u001b[39;00m \u001b[38;5;28mself\u001b[39m\u001b[38;5;241m.\u001b[39m_backward_pre_hooks \u001b[38;5;129;01mor\u001b[39;00m \u001b[38;5;28mself\u001b[39m\u001b[38;5;241m.\u001b[39m_forward_hooks \u001b[38;5;129;01mor\u001b[39;00m \u001b[38;5;28mself\u001b[39m\u001b[38;5;241m.\u001b[39m_forward_pre_hooks\n\u001b[1;32m   1499\u001b[0m         \u001b[38;5;129;01mor\u001b[39;00m _global_backward_pre_hooks \u001b[38;5;129;01mor\u001b[39;00m _global_backward_hooks\n\u001b[1;32m   1500\u001b[0m         \u001b[38;5;129;01mor\u001b[39;00m _global_forward_hooks \u001b[38;5;129;01mor\u001b[39;00m _global_forward_pre_hooks):\n\u001b[0;32m-> 1501\u001b[0m     \u001b[38;5;28;01mreturn\u001b[39;00m \u001b[43mforward_call\u001b[49m\u001b[43m(\u001b[49m\u001b[38;5;241;43m*\u001b[39;49m\u001b[43margs\u001b[49m\u001b[43m,\u001b[49m\u001b[43m \u001b[49m\u001b[38;5;241;43m*\u001b[39;49m\u001b[38;5;241;43m*\u001b[39;49m\u001b[43mkwargs\u001b[49m\u001b[43m)\u001b[49m\n\u001b[1;32m   1502\u001b[0m \u001b[38;5;66;03m# Do not call functions when jit is used\u001b[39;00m\n\u001b[1;32m   1503\u001b[0m full_backward_hooks, non_full_backward_hooks \u001b[38;5;241m=\u001b[39m [], []\n",
      "Cell \u001b[0;32mIn[34], line 31\u001b[0m, in \u001b[0;36mDpo_classifier.forward\u001b[0;34m(self, sequences)\u001b[0m\n\u001b[1;32m     29\u001b[0m tokens_batch \u001b[38;5;241m=\u001b[39m []\n\u001b[1;32m     30\u001b[0m \u001b[38;5;28;01mfor\u001b[39;00m seq \u001b[38;5;129;01min\u001b[39;00m sequences:\n\u001b[0;32m---> 31\u001b[0m     tokens \u001b[38;5;241m=\u001b[39m \u001b[38;5;28;43mself\u001b[39;49m\u001b[38;5;241;43m.\u001b[39;49m\u001b[43mmake_prediction\u001b[49m\u001b[43m(\u001b[49m\u001b[43mseq\u001b[49m\u001b[43m)\u001b[49m\n\u001b[1;32m     32\u001b[0m     tokens \u001b[38;5;241m=\u001b[39m \u001b[38;5;28mself\u001b[39m\u001b[38;5;241m.\u001b[39mpad_or_truncate(tokens)\n\u001b[1;32m     33\u001b[0m     tokens_batch\u001b[38;5;241m.\u001b[39mappend(tokens)\n",
      "Cell \u001b[0;32mIn[34], line 14\u001b[0m, in \u001b[0;36mDpo_classifier.make_prediction\u001b[0;34m(self, fasta_txt)\u001b[0m\n\u001b[1;32m     12\u001b[0m input_ids \u001b[38;5;241m=\u001b[39m tokenizer\u001b[38;5;241m.\u001b[39mencode(fasta_txt, truncation\u001b[38;5;241m=\u001b[39m\u001b[38;5;28;01mTrue\u001b[39;00m, return_tensors\u001b[38;5;241m=\u001b[39m\u001b[38;5;124m'\u001b[39m\u001b[38;5;124mpt\u001b[39m\u001b[38;5;124m'\u001b[39m)\n\u001b[1;32m     13\u001b[0m \u001b[38;5;28;01mwith\u001b[39;00m torch\u001b[38;5;241m.\u001b[39mno_grad():\n\u001b[0;32m---> 14\u001b[0m     outputs \u001b[38;5;241m=\u001b[39m \u001b[38;5;28;43mself\u001b[39;49m\u001b[38;5;241;43m.\u001b[39;49m\u001b[43mpretrained_model\u001b[49m\u001b[43m(\u001b[49m\u001b[43minput_ids\u001b[49m\u001b[43m)\u001b[49m\n\u001b[1;32m     15\u001b[0m     probs \u001b[38;5;241m=\u001b[39m torch\u001b[38;5;241m.\u001b[39mnn\u001b[38;5;241m.\u001b[39mfunctional\u001b[38;5;241m.\u001b[39msoftmax(outputs\u001b[38;5;241m.\u001b[39mlogits, dim\u001b[38;5;241m=\u001b[39m\u001b[38;5;241m-\u001b[39m\u001b[38;5;241m1\u001b[39m)\n\u001b[1;32m     16\u001b[0m     token_probs, token_ids \u001b[38;5;241m=\u001b[39m torch\u001b[38;5;241m.\u001b[39mmax(probs, dim\u001b[38;5;241m=\u001b[39m\u001b[38;5;241m-\u001b[39m\u001b[38;5;241m1\u001b[39m)            \n",
      "File \u001b[0;32m/media/concha-eloko/Linux/conda_envs/ML_work/lib/python3.11/site-packages/torch/nn/modules/module.py:1501\u001b[0m, in \u001b[0;36mModule._call_impl\u001b[0;34m(self, *args, **kwargs)\u001b[0m\n\u001b[1;32m   1496\u001b[0m \u001b[38;5;66;03m# If we don't have any hooks, we want to skip the rest of the logic in\u001b[39;00m\n\u001b[1;32m   1497\u001b[0m \u001b[38;5;66;03m# this function, and just call forward.\u001b[39;00m\n\u001b[1;32m   1498\u001b[0m \u001b[38;5;28;01mif\u001b[39;00m \u001b[38;5;129;01mnot\u001b[39;00m (\u001b[38;5;28mself\u001b[39m\u001b[38;5;241m.\u001b[39m_backward_hooks \u001b[38;5;129;01mor\u001b[39;00m \u001b[38;5;28mself\u001b[39m\u001b[38;5;241m.\u001b[39m_backward_pre_hooks \u001b[38;5;129;01mor\u001b[39;00m \u001b[38;5;28mself\u001b[39m\u001b[38;5;241m.\u001b[39m_forward_hooks \u001b[38;5;129;01mor\u001b[39;00m \u001b[38;5;28mself\u001b[39m\u001b[38;5;241m.\u001b[39m_forward_pre_hooks\n\u001b[1;32m   1499\u001b[0m         \u001b[38;5;129;01mor\u001b[39;00m _global_backward_pre_hooks \u001b[38;5;129;01mor\u001b[39;00m _global_backward_hooks\n\u001b[1;32m   1500\u001b[0m         \u001b[38;5;129;01mor\u001b[39;00m _global_forward_hooks \u001b[38;5;129;01mor\u001b[39;00m _global_forward_pre_hooks):\n\u001b[0;32m-> 1501\u001b[0m     \u001b[38;5;28;01mreturn\u001b[39;00m \u001b[43mforward_call\u001b[49m\u001b[43m(\u001b[49m\u001b[38;5;241;43m*\u001b[39;49m\u001b[43margs\u001b[49m\u001b[43m,\u001b[49m\u001b[43m \u001b[49m\u001b[38;5;241;43m*\u001b[39;49m\u001b[38;5;241;43m*\u001b[39;49m\u001b[43mkwargs\u001b[49m\u001b[43m)\u001b[49m\n\u001b[1;32m   1502\u001b[0m \u001b[38;5;66;03m# Do not call functions when jit is used\u001b[39;00m\n\u001b[1;32m   1503\u001b[0m full_backward_hooks, non_full_backward_hooks \u001b[38;5;241m=\u001b[39m [], []\n",
      "File \u001b[0;32m/media/concha-eloko/Linux/conda_envs/ML_work/lib/python3.11/site-packages/transformers/models/esm/modeling_esm.py:1216\u001b[0m, in \u001b[0;36mEsmForTokenClassification.forward\u001b[0;34m(self, input_ids, attention_mask, position_ids, head_mask, inputs_embeds, labels, output_attentions, output_hidden_states, return_dict)\u001b[0m\n\u001b[1;32m   1210\u001b[0m \u001b[38;5;250m\u001b[39m\u001b[38;5;124mr\u001b[39m\u001b[38;5;124;03m\"\"\"\u001b[39;00m\n\u001b[1;32m   1211\u001b[0m \u001b[38;5;124;03mlabels (`torch.LongTensor` of shape `(batch_size, sequence_length)`, *optional*):\u001b[39;00m\n\u001b[1;32m   1212\u001b[0m \u001b[38;5;124;03m    Labels for computing the token classification loss. Indices should be in `[0, ..., config.num_labels - 1]`.\u001b[39;00m\n\u001b[1;32m   1213\u001b[0m \u001b[38;5;124;03m\"\"\"\u001b[39;00m\n\u001b[1;32m   1214\u001b[0m return_dict \u001b[38;5;241m=\u001b[39m return_dict \u001b[38;5;28;01mif\u001b[39;00m return_dict \u001b[38;5;129;01mis\u001b[39;00m \u001b[38;5;129;01mnot\u001b[39;00m \u001b[38;5;28;01mNone\u001b[39;00m \u001b[38;5;28;01melse\u001b[39;00m \u001b[38;5;28mself\u001b[39m\u001b[38;5;241m.\u001b[39mconfig\u001b[38;5;241m.\u001b[39muse_return_dict\n\u001b[0;32m-> 1216\u001b[0m outputs \u001b[38;5;241m=\u001b[39m \u001b[38;5;28;43mself\u001b[39;49m\u001b[38;5;241;43m.\u001b[39;49m\u001b[43mesm\u001b[49m\u001b[43m(\u001b[49m\n\u001b[1;32m   1217\u001b[0m \u001b[43m    \u001b[49m\u001b[43minput_ids\u001b[49m\u001b[43m,\u001b[49m\n\u001b[1;32m   1218\u001b[0m \u001b[43m    \u001b[49m\u001b[43mattention_mask\u001b[49m\u001b[38;5;241;43m=\u001b[39;49m\u001b[43mattention_mask\u001b[49m\u001b[43m,\u001b[49m\n\u001b[1;32m   1219\u001b[0m \u001b[43m    \u001b[49m\u001b[43mposition_ids\u001b[49m\u001b[38;5;241;43m=\u001b[39;49m\u001b[43mposition_ids\u001b[49m\u001b[43m,\u001b[49m\n\u001b[1;32m   1220\u001b[0m \u001b[43m    \u001b[49m\u001b[43mhead_mask\u001b[49m\u001b[38;5;241;43m=\u001b[39;49m\u001b[43mhead_mask\u001b[49m\u001b[43m,\u001b[49m\n\u001b[1;32m   1221\u001b[0m \u001b[43m    \u001b[49m\u001b[43minputs_embeds\u001b[49m\u001b[38;5;241;43m=\u001b[39;49m\u001b[43minputs_embeds\u001b[49m\u001b[43m,\u001b[49m\n\u001b[1;32m   1222\u001b[0m \u001b[43m    \u001b[49m\u001b[43moutput_attentions\u001b[49m\u001b[38;5;241;43m=\u001b[39;49m\u001b[43moutput_attentions\u001b[49m\u001b[43m,\u001b[49m\n\u001b[1;32m   1223\u001b[0m \u001b[43m    \u001b[49m\u001b[43moutput_hidden_states\u001b[49m\u001b[38;5;241;43m=\u001b[39;49m\u001b[43moutput_hidden_states\u001b[49m\u001b[43m,\u001b[49m\n\u001b[1;32m   1224\u001b[0m \u001b[43m    \u001b[49m\u001b[43mreturn_dict\u001b[49m\u001b[38;5;241;43m=\u001b[39;49m\u001b[43mreturn_dict\u001b[49m\u001b[43m,\u001b[49m\n\u001b[1;32m   1225\u001b[0m \u001b[43m\u001b[49m\u001b[43m)\u001b[49m\n\u001b[1;32m   1227\u001b[0m sequence_output \u001b[38;5;241m=\u001b[39m outputs[\u001b[38;5;241m0\u001b[39m]\n\u001b[1;32m   1229\u001b[0m sequence_output \u001b[38;5;241m=\u001b[39m \u001b[38;5;28mself\u001b[39m\u001b[38;5;241m.\u001b[39mdropout(sequence_output)\n",
      "File \u001b[0;32m/media/concha-eloko/Linux/conda_envs/ML_work/lib/python3.11/site-packages/torch/nn/modules/module.py:1501\u001b[0m, in \u001b[0;36mModule._call_impl\u001b[0;34m(self, *args, **kwargs)\u001b[0m\n\u001b[1;32m   1496\u001b[0m \u001b[38;5;66;03m# If we don't have any hooks, we want to skip the rest of the logic in\u001b[39;00m\n\u001b[1;32m   1497\u001b[0m \u001b[38;5;66;03m# this function, and just call forward.\u001b[39;00m\n\u001b[1;32m   1498\u001b[0m \u001b[38;5;28;01mif\u001b[39;00m \u001b[38;5;129;01mnot\u001b[39;00m (\u001b[38;5;28mself\u001b[39m\u001b[38;5;241m.\u001b[39m_backward_hooks \u001b[38;5;129;01mor\u001b[39;00m \u001b[38;5;28mself\u001b[39m\u001b[38;5;241m.\u001b[39m_backward_pre_hooks \u001b[38;5;129;01mor\u001b[39;00m \u001b[38;5;28mself\u001b[39m\u001b[38;5;241m.\u001b[39m_forward_hooks \u001b[38;5;129;01mor\u001b[39;00m \u001b[38;5;28mself\u001b[39m\u001b[38;5;241m.\u001b[39m_forward_pre_hooks\n\u001b[1;32m   1499\u001b[0m         \u001b[38;5;129;01mor\u001b[39;00m _global_backward_pre_hooks \u001b[38;5;129;01mor\u001b[39;00m _global_backward_hooks\n\u001b[1;32m   1500\u001b[0m         \u001b[38;5;129;01mor\u001b[39;00m _global_forward_hooks \u001b[38;5;129;01mor\u001b[39;00m _global_forward_pre_hooks):\n\u001b[0;32m-> 1501\u001b[0m     \u001b[38;5;28;01mreturn\u001b[39;00m \u001b[43mforward_call\u001b[49m\u001b[43m(\u001b[49m\u001b[38;5;241;43m*\u001b[39;49m\u001b[43margs\u001b[49m\u001b[43m,\u001b[49m\u001b[43m \u001b[49m\u001b[38;5;241;43m*\u001b[39;49m\u001b[38;5;241;43m*\u001b[39;49m\u001b[43mkwargs\u001b[49m\u001b[43m)\u001b[49m\n\u001b[1;32m   1502\u001b[0m \u001b[38;5;66;03m# Do not call functions when jit is used\u001b[39;00m\n\u001b[1;32m   1503\u001b[0m full_backward_hooks, non_full_backward_hooks \u001b[38;5;241m=\u001b[39m [], []\n",
      "File \u001b[0;32m/media/concha-eloko/Linux/conda_envs/ML_work/lib/python3.11/site-packages/transformers/models/esm/modeling_esm.py:922\u001b[0m, in \u001b[0;36mEsmModel.forward\u001b[0;34m(self, input_ids, attention_mask, position_ids, head_mask, inputs_embeds, encoder_hidden_states, encoder_attention_mask, past_key_values, use_cache, output_attentions, output_hidden_states, return_dict)\u001b[0m\n\u001b[1;32m    913\u001b[0m head_mask \u001b[38;5;241m=\u001b[39m \u001b[38;5;28mself\u001b[39m\u001b[38;5;241m.\u001b[39mget_head_mask(head_mask, \u001b[38;5;28mself\u001b[39m\u001b[38;5;241m.\u001b[39mconfig\u001b[38;5;241m.\u001b[39mnum_hidden_layers)\n\u001b[1;32m    915\u001b[0m embedding_output \u001b[38;5;241m=\u001b[39m \u001b[38;5;28mself\u001b[39m\u001b[38;5;241m.\u001b[39membeddings(\n\u001b[1;32m    916\u001b[0m     input_ids\u001b[38;5;241m=\u001b[39minput_ids,\n\u001b[1;32m    917\u001b[0m     position_ids\u001b[38;5;241m=\u001b[39mposition_ids,\n\u001b[0;32m   (...)\u001b[0m\n\u001b[1;32m    920\u001b[0m     past_key_values_length\u001b[38;5;241m=\u001b[39mpast_key_values_length,\n\u001b[1;32m    921\u001b[0m )\n\u001b[0;32m--> 922\u001b[0m encoder_outputs \u001b[38;5;241m=\u001b[39m \u001b[38;5;28;43mself\u001b[39;49m\u001b[38;5;241;43m.\u001b[39;49m\u001b[43mencoder\u001b[49m\u001b[43m(\u001b[49m\n\u001b[1;32m    923\u001b[0m \u001b[43m    \u001b[49m\u001b[43membedding_output\u001b[49m\u001b[43m,\u001b[49m\n\u001b[1;32m    924\u001b[0m \u001b[43m    \u001b[49m\u001b[43mattention_mask\u001b[49m\u001b[38;5;241;43m=\u001b[39;49m\u001b[43mextended_attention_mask\u001b[49m\u001b[43m,\u001b[49m\n\u001b[1;32m    925\u001b[0m \u001b[43m    \u001b[49m\u001b[43mhead_mask\u001b[49m\u001b[38;5;241;43m=\u001b[39;49m\u001b[43mhead_mask\u001b[49m\u001b[43m,\u001b[49m\n\u001b[1;32m    926\u001b[0m \u001b[43m    \u001b[49m\u001b[43mencoder_hidden_states\u001b[49m\u001b[38;5;241;43m=\u001b[39;49m\u001b[43mencoder_hidden_states\u001b[49m\u001b[43m,\u001b[49m\n\u001b[1;32m    927\u001b[0m \u001b[43m    \u001b[49m\u001b[43mencoder_attention_mask\u001b[49m\u001b[38;5;241;43m=\u001b[39;49m\u001b[43mencoder_extended_attention_mask\u001b[49m\u001b[43m,\u001b[49m\n\u001b[1;32m    928\u001b[0m \u001b[43m    \u001b[49m\u001b[43mpast_key_values\u001b[49m\u001b[38;5;241;43m=\u001b[39;49m\u001b[43mpast_key_values\u001b[49m\u001b[43m,\u001b[49m\n\u001b[1;32m    929\u001b[0m \u001b[43m    \u001b[49m\u001b[43muse_cache\u001b[49m\u001b[38;5;241;43m=\u001b[39;49m\u001b[43muse_cache\u001b[49m\u001b[43m,\u001b[49m\n\u001b[1;32m    930\u001b[0m \u001b[43m    \u001b[49m\u001b[43moutput_attentions\u001b[49m\u001b[38;5;241;43m=\u001b[39;49m\u001b[43moutput_attentions\u001b[49m\u001b[43m,\u001b[49m\n\u001b[1;32m    931\u001b[0m \u001b[43m    \u001b[49m\u001b[43moutput_hidden_states\u001b[49m\u001b[38;5;241;43m=\u001b[39;49m\u001b[43moutput_hidden_states\u001b[49m\u001b[43m,\u001b[49m\n\u001b[1;32m    932\u001b[0m \u001b[43m    \u001b[49m\u001b[43mreturn_dict\u001b[49m\u001b[38;5;241;43m=\u001b[39;49m\u001b[43mreturn_dict\u001b[49m\u001b[43m,\u001b[49m\n\u001b[1;32m    933\u001b[0m \u001b[43m\u001b[49m\u001b[43m)\u001b[49m\n\u001b[1;32m    934\u001b[0m sequence_output \u001b[38;5;241m=\u001b[39m encoder_outputs[\u001b[38;5;241m0\u001b[39m]\n\u001b[1;32m    935\u001b[0m pooled_output \u001b[38;5;241m=\u001b[39m \u001b[38;5;28mself\u001b[39m\u001b[38;5;241m.\u001b[39mpooler(sequence_output) \u001b[38;5;28;01mif\u001b[39;00m \u001b[38;5;28mself\u001b[39m\u001b[38;5;241m.\u001b[39mpooler \u001b[38;5;129;01mis\u001b[39;00m \u001b[38;5;129;01mnot\u001b[39;00m \u001b[38;5;28;01mNone\u001b[39;00m \u001b[38;5;28;01melse\u001b[39;00m \u001b[38;5;28;01mNone\u001b[39;00m\n",
      "File \u001b[0;32m/media/concha-eloko/Linux/conda_envs/ML_work/lib/python3.11/site-packages/torch/nn/modules/module.py:1501\u001b[0m, in \u001b[0;36mModule._call_impl\u001b[0;34m(self, *args, **kwargs)\u001b[0m\n\u001b[1;32m   1496\u001b[0m \u001b[38;5;66;03m# If we don't have any hooks, we want to skip the rest of the logic in\u001b[39;00m\n\u001b[1;32m   1497\u001b[0m \u001b[38;5;66;03m# this function, and just call forward.\u001b[39;00m\n\u001b[1;32m   1498\u001b[0m \u001b[38;5;28;01mif\u001b[39;00m \u001b[38;5;129;01mnot\u001b[39;00m (\u001b[38;5;28mself\u001b[39m\u001b[38;5;241m.\u001b[39m_backward_hooks \u001b[38;5;129;01mor\u001b[39;00m \u001b[38;5;28mself\u001b[39m\u001b[38;5;241m.\u001b[39m_backward_pre_hooks \u001b[38;5;129;01mor\u001b[39;00m \u001b[38;5;28mself\u001b[39m\u001b[38;5;241m.\u001b[39m_forward_hooks \u001b[38;5;129;01mor\u001b[39;00m \u001b[38;5;28mself\u001b[39m\u001b[38;5;241m.\u001b[39m_forward_pre_hooks\n\u001b[1;32m   1499\u001b[0m         \u001b[38;5;129;01mor\u001b[39;00m _global_backward_pre_hooks \u001b[38;5;129;01mor\u001b[39;00m _global_backward_hooks\n\u001b[1;32m   1500\u001b[0m         \u001b[38;5;129;01mor\u001b[39;00m _global_forward_hooks \u001b[38;5;129;01mor\u001b[39;00m _global_forward_pre_hooks):\n\u001b[0;32m-> 1501\u001b[0m     \u001b[38;5;28;01mreturn\u001b[39;00m \u001b[43mforward_call\u001b[49m\u001b[43m(\u001b[49m\u001b[38;5;241;43m*\u001b[39;49m\u001b[43margs\u001b[49m\u001b[43m,\u001b[49m\u001b[43m \u001b[49m\u001b[38;5;241;43m*\u001b[39;49m\u001b[38;5;241;43m*\u001b[39;49m\u001b[43mkwargs\u001b[49m\u001b[43m)\u001b[49m\n\u001b[1;32m   1502\u001b[0m \u001b[38;5;66;03m# Do not call functions when jit is used\u001b[39;00m\n\u001b[1;32m   1503\u001b[0m full_backward_hooks, non_full_backward_hooks \u001b[38;5;241m=\u001b[39m [], []\n",
      "File \u001b[0;32m/media/concha-eloko/Linux/conda_envs/ML_work/lib/python3.11/site-packages/transformers/models/esm/modeling_esm.py:622\u001b[0m, in \u001b[0;36mEsmEncoder.forward\u001b[0;34m(self, hidden_states, attention_mask, head_mask, encoder_hidden_states, encoder_attention_mask, past_key_values, use_cache, output_attentions, output_hidden_states, return_dict)\u001b[0m\n\u001b[1;32m    613\u001b[0m     layer_outputs \u001b[38;5;241m=\u001b[39m torch\u001b[38;5;241m.\u001b[39mutils\u001b[38;5;241m.\u001b[39mcheckpoint\u001b[38;5;241m.\u001b[39mcheckpoint(\n\u001b[1;32m    614\u001b[0m         create_custom_forward(layer_module),\n\u001b[1;32m    615\u001b[0m         hidden_states,\n\u001b[0;32m   (...)\u001b[0m\n\u001b[1;32m    619\u001b[0m         encoder_attention_mask,\n\u001b[1;32m    620\u001b[0m     )\n\u001b[1;32m    621\u001b[0m \u001b[38;5;28;01melse\u001b[39;00m:\n\u001b[0;32m--> 622\u001b[0m     layer_outputs \u001b[38;5;241m=\u001b[39m \u001b[43mlayer_module\u001b[49m\u001b[43m(\u001b[49m\n\u001b[1;32m    623\u001b[0m \u001b[43m        \u001b[49m\u001b[43mhidden_states\u001b[49m\u001b[43m,\u001b[49m\n\u001b[1;32m    624\u001b[0m \u001b[43m        \u001b[49m\u001b[43mattention_mask\u001b[49m\u001b[43m,\u001b[49m\n\u001b[1;32m    625\u001b[0m \u001b[43m        \u001b[49m\u001b[43mlayer_head_mask\u001b[49m\u001b[43m,\u001b[49m\n\u001b[1;32m    626\u001b[0m \u001b[43m        \u001b[49m\u001b[43mencoder_hidden_states\u001b[49m\u001b[43m,\u001b[49m\n\u001b[1;32m    627\u001b[0m \u001b[43m        \u001b[49m\u001b[43mencoder_attention_mask\u001b[49m\u001b[43m,\u001b[49m\n\u001b[1;32m    628\u001b[0m \u001b[43m        \u001b[49m\u001b[43mpast_key_value\u001b[49m\u001b[43m,\u001b[49m\n\u001b[1;32m    629\u001b[0m \u001b[43m        \u001b[49m\u001b[43moutput_attentions\u001b[49m\u001b[43m,\u001b[49m\n\u001b[1;32m    630\u001b[0m \u001b[43m    \u001b[49m\u001b[43m)\u001b[49m\n\u001b[1;32m    632\u001b[0m hidden_states \u001b[38;5;241m=\u001b[39m layer_outputs[\u001b[38;5;241m0\u001b[39m]\n\u001b[1;32m    633\u001b[0m \u001b[38;5;28;01mif\u001b[39;00m use_cache:\n",
      "File \u001b[0;32m/media/concha-eloko/Linux/conda_envs/ML_work/lib/python3.11/site-packages/torch/nn/modules/module.py:1501\u001b[0m, in \u001b[0;36mModule._call_impl\u001b[0;34m(self, *args, **kwargs)\u001b[0m\n\u001b[1;32m   1496\u001b[0m \u001b[38;5;66;03m# If we don't have any hooks, we want to skip the rest of the logic in\u001b[39;00m\n\u001b[1;32m   1497\u001b[0m \u001b[38;5;66;03m# this function, and just call forward.\u001b[39;00m\n\u001b[1;32m   1498\u001b[0m \u001b[38;5;28;01mif\u001b[39;00m \u001b[38;5;129;01mnot\u001b[39;00m (\u001b[38;5;28mself\u001b[39m\u001b[38;5;241m.\u001b[39m_backward_hooks \u001b[38;5;129;01mor\u001b[39;00m \u001b[38;5;28mself\u001b[39m\u001b[38;5;241m.\u001b[39m_backward_pre_hooks \u001b[38;5;129;01mor\u001b[39;00m \u001b[38;5;28mself\u001b[39m\u001b[38;5;241m.\u001b[39m_forward_hooks \u001b[38;5;129;01mor\u001b[39;00m \u001b[38;5;28mself\u001b[39m\u001b[38;5;241m.\u001b[39m_forward_pre_hooks\n\u001b[1;32m   1499\u001b[0m         \u001b[38;5;129;01mor\u001b[39;00m _global_backward_pre_hooks \u001b[38;5;129;01mor\u001b[39;00m _global_backward_hooks\n\u001b[1;32m   1500\u001b[0m         \u001b[38;5;129;01mor\u001b[39;00m _global_forward_hooks \u001b[38;5;129;01mor\u001b[39;00m _global_forward_pre_hooks):\n\u001b[0;32m-> 1501\u001b[0m     \u001b[38;5;28;01mreturn\u001b[39;00m \u001b[43mforward_call\u001b[49m\u001b[43m(\u001b[49m\u001b[38;5;241;43m*\u001b[39;49m\u001b[43margs\u001b[49m\u001b[43m,\u001b[49m\u001b[43m \u001b[49m\u001b[38;5;241;43m*\u001b[39;49m\u001b[38;5;241;43m*\u001b[39;49m\u001b[43mkwargs\u001b[49m\u001b[43m)\u001b[49m\n\u001b[1;32m   1502\u001b[0m \u001b[38;5;66;03m# Do not call functions when jit is used\u001b[39;00m\n\u001b[1;32m   1503\u001b[0m full_backward_hooks, non_full_backward_hooks \u001b[38;5;241m=\u001b[39m [], []\n",
      "File \u001b[0;32m/media/concha-eloko/Linux/conda_envs/ML_work/lib/python3.11/site-packages/transformers/models/esm/modeling_esm.py:549\u001b[0m, in \u001b[0;36mEsmLayer.forward\u001b[0;34m(self, hidden_states, attention_mask, head_mask, encoder_hidden_states, encoder_attention_mask, past_key_value, output_attentions)\u001b[0m\n\u001b[1;32m    546\u001b[0m     cross_attn_present_key_value \u001b[38;5;241m=\u001b[39m cross_attention_outputs[\u001b[38;5;241m-\u001b[39m\u001b[38;5;241m1\u001b[39m]\n\u001b[1;32m    547\u001b[0m     present_key_value \u001b[38;5;241m=\u001b[39m present_key_value \u001b[38;5;241m+\u001b[39m cross_attn_present_key_value\n\u001b[0;32m--> 549\u001b[0m layer_output \u001b[38;5;241m=\u001b[39m \u001b[38;5;28;43mself\u001b[39;49m\u001b[38;5;241;43m.\u001b[39;49m\u001b[43mfeed_forward_chunk\u001b[49m\u001b[43m(\u001b[49m\u001b[43mattention_output\u001b[49m\u001b[43m)\u001b[49m\n\u001b[1;32m    551\u001b[0m outputs \u001b[38;5;241m=\u001b[39m (layer_output,) \u001b[38;5;241m+\u001b[39m outputs\n\u001b[1;32m    553\u001b[0m \u001b[38;5;66;03m# if decoder, return the attn key/values as the last output\u001b[39;00m\n",
      "File \u001b[0;32m/media/concha-eloko/Linux/conda_envs/ML_work/lib/python3.11/site-packages/transformers/models/esm/modeling_esm.py:560\u001b[0m, in \u001b[0;36mEsmLayer.feed_forward_chunk\u001b[0;34m(self, attention_output)\u001b[0m\n\u001b[1;32m    558\u001b[0m \u001b[38;5;28;01mdef\u001b[39;00m \u001b[38;5;21mfeed_forward_chunk\u001b[39m(\u001b[38;5;28mself\u001b[39m, attention_output):\n\u001b[1;32m    559\u001b[0m     attention_output_ln \u001b[38;5;241m=\u001b[39m \u001b[38;5;28mself\u001b[39m\u001b[38;5;241m.\u001b[39mLayerNorm(attention_output)\n\u001b[0;32m--> 560\u001b[0m     intermediate_output \u001b[38;5;241m=\u001b[39m \u001b[38;5;28;43mself\u001b[39;49m\u001b[38;5;241;43m.\u001b[39;49m\u001b[43mintermediate\u001b[49m\u001b[43m(\u001b[49m\u001b[43mattention_output_ln\u001b[49m\u001b[43m)\u001b[49m\n\u001b[1;32m    561\u001b[0m     layer_output \u001b[38;5;241m=\u001b[39m \u001b[38;5;28mself\u001b[39m\u001b[38;5;241m.\u001b[39moutput(intermediate_output, attention_output)\n\u001b[1;32m    562\u001b[0m     \u001b[38;5;28;01mreturn\u001b[39;00m layer_output\n",
      "File \u001b[0;32m/media/concha-eloko/Linux/conda_envs/ML_work/lib/python3.11/site-packages/torch/nn/modules/module.py:1501\u001b[0m, in \u001b[0;36mModule._call_impl\u001b[0;34m(self, *args, **kwargs)\u001b[0m\n\u001b[1;32m   1496\u001b[0m \u001b[38;5;66;03m# If we don't have any hooks, we want to skip the rest of the logic in\u001b[39;00m\n\u001b[1;32m   1497\u001b[0m \u001b[38;5;66;03m# this function, and just call forward.\u001b[39;00m\n\u001b[1;32m   1498\u001b[0m \u001b[38;5;28;01mif\u001b[39;00m \u001b[38;5;129;01mnot\u001b[39;00m (\u001b[38;5;28mself\u001b[39m\u001b[38;5;241m.\u001b[39m_backward_hooks \u001b[38;5;129;01mor\u001b[39;00m \u001b[38;5;28mself\u001b[39m\u001b[38;5;241m.\u001b[39m_backward_pre_hooks \u001b[38;5;129;01mor\u001b[39;00m \u001b[38;5;28mself\u001b[39m\u001b[38;5;241m.\u001b[39m_forward_hooks \u001b[38;5;129;01mor\u001b[39;00m \u001b[38;5;28mself\u001b[39m\u001b[38;5;241m.\u001b[39m_forward_pre_hooks\n\u001b[1;32m   1499\u001b[0m         \u001b[38;5;129;01mor\u001b[39;00m _global_backward_pre_hooks \u001b[38;5;129;01mor\u001b[39;00m _global_backward_hooks\n\u001b[1;32m   1500\u001b[0m         \u001b[38;5;129;01mor\u001b[39;00m _global_forward_hooks \u001b[38;5;129;01mor\u001b[39;00m _global_forward_pre_hooks):\n\u001b[0;32m-> 1501\u001b[0m     \u001b[38;5;28;01mreturn\u001b[39;00m \u001b[43mforward_call\u001b[49m\u001b[43m(\u001b[49m\u001b[38;5;241;43m*\u001b[39;49m\u001b[43margs\u001b[49m\u001b[43m,\u001b[49m\u001b[43m \u001b[49m\u001b[38;5;241;43m*\u001b[39;49m\u001b[38;5;241;43m*\u001b[39;49m\u001b[43mkwargs\u001b[49m\u001b[43m)\u001b[49m\n\u001b[1;32m   1502\u001b[0m \u001b[38;5;66;03m# Do not call functions when jit is used\u001b[39;00m\n\u001b[1;32m   1503\u001b[0m full_backward_hooks, non_full_backward_hooks \u001b[38;5;241m=\u001b[39m [], []\n",
      "File \u001b[0;32m/media/concha-eloko/Linux/conda_envs/ML_work/lib/python3.11/site-packages/transformers/models/esm/modeling_esm.py:462\u001b[0m, in \u001b[0;36mEsmIntermediate.forward\u001b[0;34m(self, hidden_states)\u001b[0m\n\u001b[1;32m    460\u001b[0m \u001b[38;5;28;01mdef\u001b[39;00m \u001b[38;5;21mforward\u001b[39m(\u001b[38;5;28mself\u001b[39m, hidden_states: torch\u001b[38;5;241m.\u001b[39mTensor) \u001b[38;5;241m-\u001b[39m\u001b[38;5;241m>\u001b[39m torch\u001b[38;5;241m.\u001b[39mTensor:\n\u001b[1;32m    461\u001b[0m     hidden_states \u001b[38;5;241m=\u001b[39m \u001b[38;5;28mself\u001b[39m\u001b[38;5;241m.\u001b[39mdense(hidden_states)\n\u001b[0;32m--> 462\u001b[0m     hidden_states \u001b[38;5;241m=\u001b[39m \u001b[43mgelu\u001b[49m\u001b[43m(\u001b[49m\u001b[43mhidden_states\u001b[49m\u001b[43m)\u001b[49m\n\u001b[1;32m    463\u001b[0m     \u001b[38;5;28;01mreturn\u001b[39;00m hidden_states\n",
      "File \u001b[0;32m/media/concha-eloko/Linux/conda_envs/ML_work/lib/python3.11/site-packages/transformers/models/esm/modeling_esm.py:67\u001b[0m, in \u001b[0;36mgelu\u001b[0;34m(x)\u001b[0m\n\u001b[1;32m     63\u001b[0m \u001b[38;5;28;01mdef\u001b[39;00m \u001b[38;5;21mgelu\u001b[39m(x):\n\u001b[1;32m     64\u001b[0m \u001b[38;5;250m    \u001b[39m\u001b[38;5;124;03m\"\"\"\u001b[39;00m\n\u001b[1;32m     65\u001b[0m \u001b[38;5;124;03m    This is the gelu implementation from the original ESM repo. Using F.gelu yields subtly wrong results.\u001b[39;00m\n\u001b[1;32m     66\u001b[0m \u001b[38;5;124;03m    \"\"\"\u001b[39;00m\n\u001b[0;32m---> 67\u001b[0m     \u001b[38;5;28;01mreturn\u001b[39;00m x \u001b[38;5;241m*\u001b[39m \u001b[38;5;241m0.5\u001b[39m \u001b[38;5;241m*\u001b[39m (\u001b[38;5;241m1.0\u001b[39m \u001b[38;5;241m+\u001b[39m \u001b[43mtorch\u001b[49m\u001b[38;5;241;43m.\u001b[39;49m\u001b[43merf\u001b[49m\u001b[43m(\u001b[49m\u001b[43mx\u001b[49m\u001b[43m \u001b[49m\u001b[38;5;241;43m/\u001b[39;49m\u001b[43m \u001b[49m\u001b[43mmath\u001b[49m\u001b[38;5;241;43m.\u001b[39;49m\u001b[43msqrt\u001b[49m\u001b[43m(\u001b[49m\u001b[38;5;241;43m2.0\u001b[39;49m\u001b[43m)\u001b[49m\u001b[43m)\u001b[49m)\n",
      "\u001b[0;31mKeyboardInterrupt\u001b[0m: "
     ]
    }
   ],
   "source": [
    "path_out = \"/media/concha-eloko/Linux/PhageDEPOdetection/Benchmarking\"\n",
    "from Bio import SeqIO\n",
    "from tqdm import tqdm \n",
    "\n",
    "prediction_results = {}\n",
    "for fasta_file in tqdm(os.listdir(path_out)) :\n",
    "    fastas = SeqIO.parse(f\"{path_out}/{fasta_file}\" , \"fasta\")\n",
    "    tmp_results = []\n",
    "    for record in fastas :\n",
    "        prediction, sequence_outputs = predict_sequence(model_classifier, str(record.seq))\n",
    "        if prediction[0] == 1 :\n",
    "            a = (prediction , record.id)\n",
    "            tmp_results.append(a)\n",
    "        else :\n",
    "            pass\n",
    "    prediction_results[fasta_file] = tmp_results\n",
    "        "
   ]
  },
  {
   "cell_type": "markdown",
   "metadata": {},
   "source": [
    "> Write the json file"
   ]
  },
  {
   "cell_type": "code",
   "execution_count": 2,
   "metadata": {},
   "outputs": [
    {
     "name": "stdout",
     "output_type": "stream",
     "text": [
      "{'AY349011.3.multi.faa': [[[1, 1.0], 'lcl|AY349011.3_prot_AAQ54995.1_60'],\n",
      "                          [[1, 0.5708374977111816], 'lcl|AY349011.3_prot_AAQ54997.1_62'],\n",
      "                          [[1, 0.6505632996559143], 'lcl|AY349011.3_prot_AAQ54998.2_63'],\n",
      "                          [[1, 0.9349229335784912], 'lcl|AY349011.3_prot_AAQ54999.1_64'],\n",
      "                          [[1, 1.0], 'lcl|AY349011.3_prot_AAQ55000.1_65']],\n",
      " 'CP000711.1.multi.faa': [[[1, 1.0], 'lcl|CP000711.1_prot_ABQ88383.1_2']],\n",
      " 'DQ831957.1.multi.faa': [[[1, 1.0], 'lcl|DQ831957.1_prot_ABI15697.1_20']],\n",
      " 'DQ834250.1.multi.faa': [[[1, 1.0], 'lcl|DQ834250.1_prot_ABI21803.1_19']],\n",
      " 'FJ230960.1.multi.faa': [[[1, 1.0], 'lcl|FJ230960.1_prot_ACI90966.1_61'],\n",
      "                          [[1, 0.995552122592926], 'lcl|FJ230960.1_prot_ACI91000.1_95'],\n",
      "                          [[1, 1.0], 'lcl|FJ230960.1_prot_ACI91001.1_96'],\n",
      "                          [[1, 1.0], 'lcl|FJ230960.1_prot_ACI91003.1_98'],\n",
      "                          [[1, 1.0], 'lcl|FJ230960.1_prot_ACI91006.1_101']],\n",
      " 'FQ482084.1.multi.faa': [[[1, 1.0], 'lcl|FQ482084.1_prot_CBX44498.1_37'],\n",
      "                          [[1, 1.0], 'lcl|FQ482084.1_prot_CBX44510.1_49']],\n",
      " 'FR671405.1.multi.faa': [],\n",
      " 'FR671406.1.multi.faa': [],\n",
      " 'FR671407.1.multi.faa': [],\n",
      " 'FR671410.1.multi.faa': [],\n",
      " 'FR671411.1.multi.faa': [],\n",
      " 'GQ413937.1.multi.faa': [[[1, 1.0], 'lcl|GQ413937.1_prot_ACY66694.1_32'],\n",
      "                          [[1, 1.0], 'lcl|GQ413937.1_prot_ACY66699.1_37'],\n",
      "                          [[1, 1.0], 'lcl|GQ413937.1_prot_ACY66700.1_38']],\n",
      " 'GU196281.1.multi.faa': [[[1, 1.0], 'lcl|GU196281.1_prot_ADA82474.1_31']],\n",
      " 'GU323708.1.multi.faa': [],\n",
      " 'HG799490.1.multi.faa': [],\n",
      " 'HG799496.1.multi.faa': [],\n",
      " 'HG799497.1.multi.faa': [],\n",
      " 'HQ632825.1.multi.faa': [[[1, 0.9918290972709656], 'lcl|HQ632825.1_prot_AGN12239.1_81'],\n",
      "                          [[1, 1.0], 'lcl|HQ632825.1_prot_AGN12240.1_82'],\n",
      "                          [[1, 1.0], 'lcl|HQ632825.1_prot_AGN12247.1_89'],\n",
      "                          [[1, 0.8116859793663025], 'lcl|HQ632825.1_prot_AGN12296.1_138'],\n",
      "                          [[1, 1.0], 'lcl|HQ632825.1_prot_AGN12298.1_140'],\n",
      "                          [[1, 1.0], 'lcl|HQ632825.1_prot_AGN12301.1_143'],\n",
      "                          [[1, 1.0], 'lcl|HQ632825.1_prot_AGN12302.1_144'],\n",
      "                          [[1, 1.0], 'lcl|HQ632825.1_prot_AGN12305.1_147'],\n",
      "                          [[1, 1.0], 'lcl|HQ632825.1_prot_AGN12307.1_149'],\n",
      "                          [[1, 1.0], 'lcl|HQ632825.1_prot_AGN12470.1_312']],\n",
      " 'JX262376.1.multi.faa': [[[1, 1.0], 'lcl|JX262376.1_prot_AFO10887.1_21']],\n",
      " 'KC330681.1.multi.faa': [[[1, 1.0], 'lcl|KC330681.1_prot_AGE60867.1_28']],\n",
      " 'KC330683.1.multi.faa': [[[1, 1.0], 'lcl|KC330683.1_prot_AGE61019.1_26']],\n",
      " 'KC556894.1.multi.faa': [[[1, 1.0], 'lcl|KC556894.1_prot_AHB81137.1_21'],\n",
      "                          [[1, 0.9999909400939941], 'lcl|KC556894.1_prot_AHB81143.1_27'],\n",
      "                          [[1, 1.0], 'lcl|KC556894.1_prot_AHB81144.1_28'],\n",
      "                          [[1, 1.0], 'lcl|KC556894.1_prot_AHB81145.1_29']],\n",
      " 'KC700556.1.multi.faa': [],\n",
      " 'KC700557.1.multi.faa': [],\n",
      " 'KC700558.1.multi.faa': [],\n",
      " 'KC821608.1.multi.faa': [[[1, 1.0], 'lcl|KC821608.1_prot_AGO47492.1_88'],\n",
      "                          [[1, 1.0], 'lcl|KC821608.1_prot_AGO47494.1_90'],\n",
      "                          [[1, 0.9986829161643982], 'lcl|KC821608.1_prot_AGO47498.1_94']],\n",
      " 'KC821610.1.multi.faa': [[[1, 1.0], 'lcl|KC821610.1_prot_AGO47740.1_9'],\n",
      "                          [[1, 1.0], 'lcl|KC821610.1_prot_AGO47761.1_30']],\n",
      " 'KC821621.1.multi.faa': [[[1, 0.998213529586792], 'lcl|KC821621.1_prot_AGO48656.1_21'],\n",
      "                          [[1, 1.0], 'lcl|KC821621.1_prot_AGO48665.1_30']],\n",
      " 'KC821625.1.multi.faa': [[[1, 0.9888324737548828], 'lcl|KC821625.1_prot_AGO49026.1_15'],\n",
      "                          [[1, 1.0], 'lcl|KC821625.1_prot_AGO49035.1_24']],\n",
      " 'KC821629.1.multi.faa': [[[1, 1.0], 'lcl|KC821629.1_prot_AGO49248.1_9'],\n",
      "                          [[1, 1.0], 'lcl|KC821629.1_prot_AGO49269.1_30']],\n",
      " 'KC821630.1.multi.faa': [[[1, 1.0], 'lcl|KC821630.1_prot_AGO49328.1_9'],\n",
      "                          [[1, 1.0], 'lcl|KC821630.1_prot_AGO49349.1_30']],\n",
      " 'KC821633.1.multi.faa': [[[1, 1.0], 'lcl|KC821633.1_prot_AGO49696.1_86'],\n",
      "                          [[1, 1.0], 'lcl|KC821633.1_prot_AGO49697.1_87']],\n",
      " 'KC821634.1.multi.faa': [[[1, 1.0], 'lcl|KC821634.1_prot_AGO49746.1_9'],\n",
      "                          [[1, 1.0], 'lcl|KC821634.1_prot_AGO49767.1_30']],\n",
      " 'KF669651.1.multi.faa': [[[1, 1.0], 'lcl|KF669651.1_prot_AGY47215.1_28']],\n",
      " 'KF669657.1.multi.faa': [[[1, 1.0], 'lcl|KF669657.1_prot_AGY48030.1_13'],\n",
      "                          [[1, 1.0], 'lcl|KF669657.1_prot_AGY48032.1_15']],\n",
      " 'KF669659.1.multi.faa': [[[1, 1.0], 'lcl|KF669659.1_prot_AGY48191.1_29']],\n",
      " 'KJ417497.1.multi.faa': [],\n",
      " 'NC_001423.1.multi.faa': [[[1, 1.0], 'lcl|NC_001423.1_prot_NP_040730.1_17']],\n",
      " 'NC_002649.1.multi.faa': [[[1, 1.0], 'lcl|NC_002649.1_prot_NP_073695.1_19']],\n",
      " 'NC_002730.1.multi.faa': [[[1, 1.0], 'lcl|NC_002730.1_prot_NP_112090.1_57']],\n",
      " 'NC_003157.5.multi.faa': [[[1, 1.0], 'lcl|NC_003157.5_prot_NP_438157.1_45']],\n",
      " 'NC_004165.1.multi.faa': [[[1, 1.0], 'lcl|NC_004165.1_prot_NP_690646.1_12']],\n",
      " 'NC_004166.2.multi.faa': [[[1, 1.0], 'lcl|NC_004166.2_prot_NP_690719.1_63'],\n",
      "                           [[1, 1.0], 'lcl|NC_004166.2_prot_NP_690729.1_73']],\n",
      " 'NC_005344.1.multi.faa': [[[1, 1.0], 'lcl|NC_005344.1_prot_NP_958190.1_14'],\n",
      "                           [[1, 0.9999969005584717], 'lcl|NC_005344.1_prot_NP_958191.1_15']],\n",
      " 'NC_006883.2.multi.faa': [[[1, 1.0], 'lcl|NC_006883.2_prot_YP_214253.1_17'],\n",
      "                           [[1, 1.0], 'lcl|NC_006883.2_prot_YP_214258.1_22'],\n",
      "                           [[1, 1.0], 'lcl|NC_006883.2_prot_YP_214265.1_29'],\n",
      "                           [[1, 0.9897612929344177], 'lcl|NC_006883.2_prot_YP_214266.1_30'],\n",
      "                           [[1, 1.0], 'lcl|NC_006883.2_prot_YP_214350.1_117'],\n",
      "                           [[1, 1.0], 'lcl|NC_006883.2_prot_YP_214524.1_293'],\n",
      "                           [[1, 1.0], 'lcl|NC_006883.2_prot_YP_214526.1_295'],\n",
      "                           [[1, 1.0], 'lcl|NC_006883.2_prot_YP_214529.1_298'],\n",
      "                           [[1, 1.0], 'lcl|NC_006883.2_prot_YP_214532.1_301'],\n",
      "                           [[1, 0.8116859793663025], 'lcl|NC_006883.2_prot_YP_214534.1_303']],\n",
      " 'NC_007055.1.multi.faa': [[[1, 1.0], 'lcl|NC_007055.1_prot_YP_240092.1_18'],\n",
      "                           [[1, 1.0], 'lcl|NC_007055.1_prot_YP_240100.1_25']],\n",
      " 'NC_007636.1.multi.faa': [[[1, 1.0], 'lcl|NC_007636.1_prot_YP_424954.1_46'],\n",
      "                           [[1, 1.0], 'lcl|NC_007636.1_prot_YP_424959.1_51']],\n",
      " 'NC_007637.1.multi.faa': [[[1, 1.0], 'lcl|NC_007637.1_prot_YP_425011.1_45'],\n",
      "                           [[1, 1.0], 'lcl|NC_007637.1_prot_YP_425027.1_61']],\n",
      " 'NC_008152.1.multi.faa': [[[1, 1.0], 'lcl|NC_008152.1_prot_YP_654134.1_36'],\n",
      "                           [[1, 1.0], 'lcl|NC_008152.1_prot_YP_654147.1_49'],\n",
      "                           [[1, 1.0], 'lcl|NC_008152.1_prot_YP_654148.1_50']],\n",
      " 'NC_009014.1.multi.faa': [[[1, 1.0], 'lcl|NC_009014.1_prot_YP_001039670.1_39'],\n",
      "                           [[1, 1.0], 'lcl|NC_009014.1_prot_YP_001039683.1_52']],\n",
      " 'NC_009819.1.multi.faa': [[[1, 1.0], 'lcl|NC_009819.1_prot_YP_001469223.1_43']],\n",
      " 'NC_011048.1.multi.faa': [[[1, 1.0], 'lcl|NC_011048.1_prot_YP_002004541.1_18']],\n",
      " 'NC_011976.1.multi.faa': [[[1, 1.0], 'lcl|NC_011976.1_prot_YP_002533478.1_19']],\n",
      " 'NC_014229.1.multi.faa': [[[1, 1.0], 'lcl|NC_014229.1_prot_YP_003714746.1_19']],\n",
      " 'NC_015208.1.multi.faa': [[[1, 1.0], 'lcl|NC_015208.1_prot_YP_004286217.1_39'],\n",
      "                           [[1, 1.0], 'lcl|NC_015208.1_prot_YP_004286222.1_44']],\n",
      " 'NC_015295.1.multi.faa': [[[1, 1.0], 'lcl|NC_015295.1_prot_YP_004327331.1_28']],\n",
      " 'NC_015296.1.multi.faa': [[[1, 1.0], 'lcl|NC_015296.1_prot_YP_004327541.1_170'],\n",
      "                           [[1, 0.990371823310852], 'lcl|NC_015296.1_prot_YP_004327542.1_171'],\n",
      "                           [[1, 1.0], 'lcl|NC_015296.1_prot_YP_004327543.1_172'],\n",
      "                           [[1, 1.0], 'lcl|NC_015296.1_prot_YP_004327544.1_173']],\n",
      " 'NC_016071.1.multi.faa': [[[1, 1.0], 'lcl|NC_016071.1_prot_YP_004893846.1_39'],\n",
      "                           [[1, 1.0], 'lcl|NC_016071.1_prot_YP_004893847.1_40'],\n",
      "                           [[1, 0.9999951124191284], 'lcl|NC_016071.1_prot_YP_004893852.1_45'],\n",
      "                           [[1, 1.0], 'lcl|NC_016071.1_prot_YP_004893855.1_48'],\n",
      "                           [[1, 0.9999979734420776], 'lcl|NC_016071.1_prot_YP_004894049.1_242']],\n",
      " 'NC_017971.2.multi.faa': [[[1, 1.0], 'lcl|NC_017971.2_prot_YP_006382515.1_57']],\n",
      " 'NC_017972.1.multi.faa': [[[1, 1.0], 'lcl|NC_017972.1_prot_YP_006382571.1_41']],\n",
      " 'NC_017980.1.multi.faa': [[[1, 1.0], 'lcl|NC_017980.1_prot_YP_006383591.1_10']],\n",
      " 'NC_017981.1.multi.faa': [[[1, 1.0], 'lcl|NC_017981.1_prot_YP_006383635.1_28'],\n",
      "                           [[1, 1.0], 'lcl|NC_017981.1_prot_YP_006383636.1_29']],\n",
      " 'NC_018083.1.multi.faa': [[[1, 1.0], 'lcl|NC_018083.1_prot_YP_006488624.1_9']],\n",
      " 'NC_018084.1.multi.faa': [[[1, 1.0], 'lcl|NC_018084.1_prot_YP_006488654.1_11']],\n",
      " 'NC_018281.1.multi.faa': [[[1, 1.0], 'lcl|NC_018281.1_prot_YP_006560960.1_19']],\n",
      " 'NC_018284.1.multi.faa': [[[1, 1.0], 'lcl|NC_018284.1_prot_YP_006561180.1_18']],\n",
      " 'NC_018836.1.multi.faa': [],\n",
      " 'NC_018856.1.multi.faa': [[[1, 1.0], 'lcl|NC_018856.1_prot_YP_006907302.1_12']],\n",
      " 'NC_018857.1.multi.faa': [[[1, 0.9373263716697693], 'lcl|NC_018857.1_prot_YP_006907673.1_114'],\n",
      "                           [[1, 1.0], 'lcl|NC_018857.1_prot_YP_006907824.1_265']],\n",
      " 'NC_019400.1.multi.faa': [[[1, 0.9999977350234985], 'lcl|NC_019400.1_prot_YP_006986837.1_4'],\n",
      "                           [[1, 1.0], 'lcl|NC_019400.1_prot_YP_006987059.1_226'],\n",
      "                           [[1, 1.0], 'lcl|NC_019400.1_prot_YP_006987067.1_234'],\n",
      "                           [[1, 1.0], 'lcl|NC_019400.1_prot_YP_006987068.1_235']],\n",
      " 'NC_019401.1.multi.faa': [[[1, 1.0], 'lcl|NC_019401.1_prot_YP_006987103.1_1'],\n",
      "                           [[1, 1.0], 'lcl|NC_019401.1_prot_YP_006987233.1_131'],\n",
      "                           [[1, 1.0], 'lcl|NC_019401.1_prot_YP_006987325.1_223'],\n",
      "                           [[1, 1.0], 'lcl|NC_019401.1_prot_YP_006987359.1_257']],\n",
      " 'NC_019403.1.multi.faa': [[[1, 1.0], 'lcl|NC_019403.1_prot_YP_006987800.1_38'],\n",
      "                           [[1, 1.0], 'lcl|NC_019403.1_prot_YP_006987816.1_54']],\n",
      " 'NC_019414.1.multi.faa': [[[1, 1.0], 'lcl|NC_019414.1_prot_YP_006990136.1_21']],\n",
      " 'NC_019446.1.multi.faa': [[[1, 1.0], 'lcl|NC_019446.1_prot_YP_007002029.1_21'],\n",
      "                           [[1, 0.9999818801879883], 'lcl|NC_019446.1_prot_YP_007002035.1_27'],\n",
      "                           [[1, 1.0], 'lcl|NC_019446.1_prot_YP_007002036.1_28'],\n",
      "                           [[1, 1.0], 'lcl|NC_019446.1_prot_YP_007002037.1_29']],\n",
      " 'NC_019454.1.multi.faa': [[[1, 1.0], 'lcl|NC_019454.1_prot_YP_007002897.1_44'],\n",
      "                           [[1, 1.0], 'lcl|NC_019454.1_prot_YP_007002901.1_48'],\n",
      "                           [[1, 1.0], 'lcl|NC_019454.1_prot_YP_007002904.1_51']],\n",
      " 'NC_019487.1.multi.faa': [[[1, 1.0], 'lcl|NC_019487.1_prot_YP_007003328.1_71'],\n",
      "                           [[1, 1.0], 'lcl|NC_019487.1_prot_YP_007003341.1_84']],\n",
      " 'NC_019510.1.multi.faa': [[[1, 1.0], 'lcl|NC_019510.1_prot_YP_007005461.1_37'],\n",
      "                           [[1, 1.0], 'lcl|NC_019510.1_prot_YP_007005466.1_42']],\n",
      " 'NC_019523.1.multi.faa': [[[1, 1.0], 'lcl|NC_019523.1_prot_YP_007006998.1_21']],\n",
      " 'NC_019526.1.multi.faa': [[[1, 1.0], 'lcl|NC_019526.1_prot_YP_007007253.1_98'],\n",
      "                           [[1, 1.0], 'lcl|NC_019526.1_prot_YP_007007680.1_525'],\n",
      "                           [[1, 1.0], 'lcl|NC_019526.1_prot_YP_007007682.1_527'],\n",
      "                           [[1, 1.0], 'lcl|NC_019526.1_prot_YP_007007683.1_528'],\n",
      "                           [[1, 1.0], 'lcl|NC_019526.1_prot_YP_007007684.1_529'],\n",
      "                           [[1, 1.0], 'lcl|NC_019526.1_prot_YP_007007685.1_530'],\n",
      "                           [[1, 1.0], 'lcl|NC_019526.1_prot_YP_007007686.1_531'],\n",
      "                           [[1, 1.0], 'lcl|NC_019526.1_prot_YP_007007687.1_532'],\n",
      "                           [[1, 1.0], 'lcl|NC_019526.1_prot_YP_007007688.1_533'],\n",
      "                           [[1, 1.0], 'lcl|NC_019526.1_prot_YP_007007689.1_534']],\n",
      " 'NC_019530.1.multi.faa': [[[1, 1.0], 'lcl|NC_019530.1_prot_YP_007008116.1_136'],\n",
      "                           [[1, 1.0], 'lcl|NC_019530.1_prot_YP_007008117.1_137'],\n",
      "                           [[1, 1.0], 'lcl|NC_019530.1_prot_YP_007008118.1_138'],\n",
      "                           [[1, 1.0], 'lcl|NC_019530.1_prot_YP_007008119.1_139']],\n",
      " 'NC_019917.1.multi.faa': [[[1, 1.0], 'lcl|NC_019917.1_prot_YP_007236804.1_58'],\n",
      "                           [[1, 0.9659432768821716], 'lcl|NC_019917.1_prot_YP_007236808.1_62'],\n",
      "                           [[1, 1.0], 'lcl|NC_019917.1_prot_YP_007236809.1_63']],\n",
      " 'NC_019923.1.multi.faa': [[[1, 1.0], 'lcl|NC_019923.1_prot_YP_007237187.1_12'],\n",
      "                           [[1, 1.0], 'lcl|NC_019923.1_prot_YP_007237194.1_19']],\n",
      " 'NC_019929.1.multi.faa': [[[1, 1.0], 'lcl|NC_019929.1_prot_YP_007237708.1_58']],\n",
      " 'NC_020078.1.multi.faa': [[[1, 1.0], 'lcl|NC_020078.1_prot_YP_007348357.1_38'],\n",
      "                           [[1, 1.0], 'lcl|NC_020078.1_prot_YP_007348361.1_42']],\n",
      " 'NC_020079.1.multi.faa': [[[1, 1.0], 'lcl|NC_020079.1_prot_YP_007348539.1_171'],\n",
      "                           [[1, 1.0], 'lcl|NC_020079.1_prot_YP_007348546.1_178'],\n",
      "                           [[1, 1.0], 'lcl|NC_020079.1_prot_YP_007348548.1_180']],\n",
      " 'NC_020081.2.multi.faa': [[[1, 0.9999995231628418], 'lcl|NC_020081.2_prot_YP_007349330.1_87'],\n",
      "                           [[1, 1.0], 'lcl|NC_020081.2_prot_YP_007349242.1_203']],\n",
      " 'NC_020083.1.multi.faa': [[[1, 1.0], 'lcl|NC_020083.1_prot_YP_007349010.1_31'],\n",
      "                           [[1, 1.0], 'lcl|NC_020083.1_prot_YP_007349013.1_34'],\n",
      "                           [[1, 1.0], 'lcl|NC_020083.1_prot_YP_007349016.1_37'],\n",
      "                           [[1, 1.0], 'lcl|NC_020083.1_prot_YP_007349017.1_38'],\n",
      "                           [[1, 1.0], 'lcl|NC_020083.1_prot_YP_007349020.1_41']],\n",
      " 'NC_020477.1.multi.faa': [[[1, 1.0], 'lcl|NC_020477.1_prot_YP_007517417.1_27']],\n",
      " 'NC_020478.1.multi.faa': [[[1, 1.0], 'lcl|NC_020478.1_prot_YP_007517493.1_28']],\n",
      " 'NC_020479.1.multi.faa': [[[1, 1.0], 'lcl|NC_020479.1_prot_YP_007517572.1_28']],\n",
      " 'NC_020842.1.multi.faa': [[[1, 1.0], 'lcl|NC_020842.1_prot_YP_007673458.1_76'],\n",
      "                           [[1, 0.9484056234359741], 'lcl|NC_020842.1_prot_YP_007673467.1_85']],\n",
      " 'NC_020860.1.multi.faa': [[[1, 1.0], 'lcl|NC_020860.1_prot_YP_007675684.1_8'],\n",
      "                           [[1, 1.0], 'lcl|NC_020860.1_prot_YP_007675705.1_29']],\n",
      " 'NC_020883.1.multi.faa': [[[1, 1.0], 'lcl|NC_020883.1_prot_YP_007678034.1_8'],\n",
      "                           [[1, 1.0], 'lcl|NC_020883.1_prot_YP_007678101.1_75']],\n",
      " 'NC_021336.1.multi.faa': [[[1, 1.0], 'lcl|NC_021336.1_prot_YP_008060120.1_31']],\n",
      " 'NC_021563.1.multi.faa': [[[1, 1.0], 'lcl|NC_021563.1_prot_YP_008130362.1_69']],\n",
      " 'NC_021792.1.multi.faa': [[[1, 1.0], 'lcl|NC_021792.1_prot_YP_008241124.1_81'],\n",
      "                           [[1, 0.9986498951911926], 'lcl|NC_021792.1_prot_YP_008241125.1_82'],\n",
      "                           [[1, 1.0], 'lcl|NC_021792.1_prot_YP_008241126.1_83']],\n",
      " 'NC_021802.1.multi.faa': [[[1, 1.0], 'lcl|NC_021802.1_prot_YP_008242011.1_92'],\n",
      "                           [[1, 1.0], 'lcl|NC_021802.1_prot_YP_008242013.1_94']],\n",
      " 'NC_021804.1.multi.faa': [[[1, 1.0], 'lcl|NC_021804.1_prot_YP_008242178.1_26']],\n",
      " 'NC_022761.1.multi.faa': [[[1, 1.0], 'lcl|NC_022761.1_prot_YP_008769996.1_62'],\n",
      "                           [[1, 1.0], 'lcl|NC_022761.1_prot_YP_008770031.1_97'],\n",
      "                           [[1, 1.0], 'lcl|NC_022761.1_prot_YP_008770033.1_99'],\n",
      "                           [[1, 1.0], 'lcl|NC_022761.1_prot_YP_008770036.1_102']],\n",
      " 'NC_022763.1.multi.faa': [[[1, 1.0], 'lcl|NC_022763.1_prot_YP_008770307.1_83']],\n",
      " 'NC_022764.1.multi.faa': [[[1, 1.0], 'lcl|NC_022764.1_prot_YP_008770520.1_13'],\n",
      "                           [[1, 1.0], 'lcl|NC_022764.1_prot_YP_008770522.1_15']],\n",
      " 'NC_022767.1.multi.faa': [[[1, 1.0], 'lcl|NC_022767.1_prot_YP_008770761.1_47']],\n",
      " 'NC_022768.1.multi.faa': [[[1, 1.0], 'lcl|NC_022768.1_prot_YP_008770865.1_38'],\n",
      "                           [[1, 1.0], 'lcl|NC_022768.1_prot_YP_008770866.1_39'],\n",
      "                           [[1, 1.0], 'lcl|NC_022768.1_prot_YP_008770867.1_40'],\n",
      "                           [[1, 1.0], 'lcl|NC_022768.1_prot_YP_008770868.1_41'],\n",
      "                           [[1, 0.9913964867591858], 'lcl|NC_022768.1_prot_YP_008770917.1_90']],\n",
      " 'NC_022769.1.multi.faa': [[[1, 1.0], 'lcl|NC_022769.1_prot_YP_008771112.1_85']],\n",
      " 'NC_022770.1.multi.faa': [[[1, 1.0], 'lcl|NC_022770.1_prot_YP_008771331.1_13'],\n",
      "                           [[1, 1.0], 'lcl|NC_022770.1_prot_YP_008771333.1_15']],\n",
      " 'NC_022771.1.multi.faa': [[[1, 1.0], 'lcl|NC_022771.1_prot_YP_008771399.1_33'],\n",
      "                           [[1, 0.7478145360946655], 'lcl|NC_022771.1_prot_YP_008771586.1_220']],\n",
      " 'NC_022772.1.multi.faa': [[[1, 1.0], 'lcl|NC_022772.1_prot_YP_008771656.1_38'],\n",
      "                           [[1, 1.0], 'lcl|NC_022772.1_prot_YP_008771657.1_39'],\n",
      "                           [[1, 1.0], 'lcl|NC_022772.1_prot_YP_008771658.1_40'],\n",
      "                           [[1, 1.0], 'lcl|NC_022772.1_prot_YP_008771659.1_41']],\n",
      " 'NC_023501.1.multi.faa': [[[1, 0.9373263716697693], 'lcl|NC_023501.1_prot_YP_009002999.1_113'],\n",
      "                           [[1, 1.0], 'lcl|NC_023501.1_prot_YP_009003154.1_268']],\n",
      " 'NC_023557.1.multi.faa': [[[1, 1.0], 'lcl|NC_023557.1_prot_YP_009004811.1_19'],\n",
      "                           [[1, 1.0], 'lcl|NC_023557.1_prot_YP_009004812.1_20'],\n",
      "                           [[1, 1.0], 'lcl|NC_023557.1_prot_YP_009004842.1_50'],\n",
      "                           [[1, 1.0], 'lcl|NC_023557.1_prot_YP_009004869.1_77']],\n",
      " 'NC_023579.1.multi.faa': [[[1, 1.0], 'lcl|NC_023579.1_prot_YP_009007463.1_90']],\n",
      " 'NC_023582.1.multi.faa': [[[1, 1.0], 'lcl|NC_023582.1_prot_YP_009007688.1_25'],\n",
      "                           [[1, 0.9999947547912598], 'lcl|NC_023582.1_prot_YP_009007713.1_50']],\n",
      " 'NC_023610.1.multi.faa': [[[1, 1.0], 'lcl|NC_023610.1_prot_YP_009010167.1_114'],\n",
      "                           [[1, 1.0], 'lcl|NC_023610.1_prot_YP_009010252.1_199']],\n",
      " 'NC_023693.1.multi.faa': [[[1, 1.0], 'lcl|NC_023693.1_prot_YP_009012475.1_144'],\n",
      "                           [[1, 1.0], 'lcl|NC_023693.1_prot_YP_009012482.1_151']],\n",
      " 'NC_023694.1.multi.faa': [[[1, 1.0], 'lcl|NC_023694.1_prot_YP_009012582.1_1'],\n",
      "                           [[1, 1.0], 'lcl|NC_023694.1_prot_YP_009012583.1_2']],\n",
      " 'NC_023735.1.multi.faa': [[[1, 1.0], 'lcl|NC_023735.1_prot_YP_009017615.1_1']],\n",
      " 'NC_024205.1.multi.faa': [[[1, 1.0], 'lcl|NC_024205.1_prot_YP_009035268.1_71']],\n",
      " 'NC_024211.1.multi.faa': [[[1, 1.0], 'lcl|NC_024211.1_prot_YP_009036150.1_79'],\n",
      "                           [[1, 0.9816484451293945], 'lcl|NC_024211.1_prot_YP_009036316.1_245']],\n",
      " 'NC_024213.1.multi.faa': [[[1, 1.0], 'lcl|NC_024213.1_prot_YP_009036526.1_77'],\n",
      "                           [[1, 0.9772413969039917], 'lcl|NC_024213.1_prot_YP_009036698.1_249']],\n",
      " 'NC_024216.1.multi.faa': [[[1, 1.0], 'lcl|NC_024216.1_prot_YP_009036975.1_72']],\n",
      " 'NC_024355.1.multi.faa': [[[1, 1.0], 'lcl|NC_024355.1_prot_YP_009042546.1_40']],\n",
      " 'NC_024378.1.multi.faa': [[[1, 1.0], 'lcl|NC_024378.1_prot_YP_009044242.1_35']],\n",
      " 'NC_024792.1.multi.faa': [[[1, 0.9999995231628418], 'lcl|NC_024792.1_prot_YP_009056384.1_115'],\n",
      "                           [[1, 1.0], 'lcl|NC_024792.1_prot_YP_009056509.1_240']],\n",
      " 'NC_025422.1.multi.faa': [[[1, 1.0], 'lcl|NC_025422.1_prot_YP_009098911.1_153'],\n",
      "                           [[1, 0.9488800168037415], 'lcl|NC_025422.1_prot_YP_009098973.1_215']],\n",
      " 'NC_025446.1.multi.faa': [[[1, 1.0], 'lcl|NC_025446.1_prot_YP_009101511.1_115'],\n",
      "                           [[1, 1.0], 'lcl|NC_025446.1_prot_YP_009101512.1_116'],\n",
      "                           [[1, 1.0], 'lcl|NC_025446.1_prot_YP_009101514.1_118'],\n",
      "                           [[1, 1.0], 'lcl|NC_025446.1_prot_YP_009101515.1_119']],\n",
      " 'NC_027351.1.multi.faa': [[[1, 1.0], 'lcl|NC_027351.1_prot_YP_009148835.1_39'],\n",
      "                           [[1, 0.9999949932098389], 'lcl|NC_027351.1_prot_YP_009148838.1_42'],\n",
      "                           [[1, 1.0], 'lcl|NC_027351.1_prot_YP_009148843.1_47'],\n",
      "                           [[1, 1.0], 'lcl|NC_027351.1_prot_YP_009148844.1_48'],\n",
      "                           [[1, 0.9999979734420776], 'lcl|NC_027351.1_prot_YP_009148884.1_88']],\n",
      " 'NC_027364.1.multi.faa': [[[1, 1.0], 'lcl|NC_027364.1_prot_YP_009150318.1_4'],\n",
      "                           [[1, 1.0], 'lcl|NC_027364.1_prot_YP_009150385.1_71'],\n",
      "                           [[1, 1.0], 'lcl|NC_027364.1_prot_YP_009150600.1_286'],\n",
      "                           [[1, 1.0], 'lcl|NC_027364.1_prot_YP_009150601.1_287'],\n",
      "                           [[1, 1.0], 'lcl|NC_027364.1_prot_YP_009150602.1_288'],\n",
      "                           [[1, 1.0], 'lcl|NC_027364.1_prot_YP_009150603.1_289'],\n",
      "                           [[1, 1.0], 'lcl|NC_027364.1_prot_YP_009150604.1_290'],\n",
      "                           [[1, 1.0], 'lcl|NC_027364.1_prot_YP_009150605.1_291'],\n",
      "                           [[1, 1.0], 'lcl|NC_027364.1_prot_YP_009150606.1_292'],\n",
      "                           [[1, 1.0], 'lcl|NC_027364.1_prot_YP_009150608.1_294'],\n",
      "                           [[1, 1.0], 'lcl|NC_027364.1_prot_YP_009150609.1_295'],\n",
      "                           [[1, 1.0], 'lcl|NC_027364.1_prot_YP_009150610.1_296'],\n",
      "                           [[1, 0.9999991655349731], 'lcl|NC_027364.1_prot_YP_009150829.1_515'],\n",
      "                           [[1, 1.0], 'lcl|NC_027364.1_prot_YP_009150861.1_547']],\n",
      " 'NC_027993.1.multi.faa': [[[1, 1.0], 'lcl|NC_027993.1_prot_YP_009168811.1_31']],\n",
      " 'NC_027994.1.multi.faa': [[[1, 0.9999068975448608], 'lcl|NC_027994.1_prot_YP_009168843.1_11'],\n",
      "                           [[1, 1.0], 'lcl|NC_027994.1_prot_YP_009168860.1_28']],\n",
      " 'NC_041856.1.multi.faa': [[[1, 0.999993085861206], 'lcl|NC_041856.1_prot_YP_009592102.1_23']],\n",
      " 'NC_041897.1.multi.faa': [[[1, 1.0], 'lcl|NC_041897.1_prot_YP_009597310.1_30']],\n",
      " 'NC_048629.1.multi.faa': [[[1, 1.0], 'lcl|NC_048629.1_prot_YP_009829936.1_10']],\n",
      " 'NC_048631.1.multi.faa': [[[1, 1.0], 'lcl|NC_048631.1_prot_YP_009829893.1_19']],\n",
      " 'NC_049976.1.multi.faa': [[[1, 1.0], 'lcl|NC_049976.1_prot_YP_009910729.1_16']]}\n"
     ]
    }
   ],
   "source": [
    "import json\n",
    "import pprint\n",
    "pp = pprint.PrettyPrinter(width = 100, sort_dicts = True, compact = True)\n",
    "\n",
    "#with open(f\"/media/concha-eloko/Linux/PhageDEPOdetection/PhageDpo_Bench.results.3L.2007.json\" , \"w\") as outfile : \n",
    "#    json.dump(prediction_results , outfile)\n",
    "\n",
    "prediction_results = json.load(open(f\"/media/concha-eloko/Linux/PhageDEPOdetection/PhageDpo_Bench.results.3L.2007.json\"))\n",
    "pp.pprint(prediction_results)\n"
   ]
  },
  {
   "cell_type": "code",
   "execution_count": 3,
   "metadata": {},
   "outputs": [],
   "source": [
    "class Dpo_model_pred:\n",
    "    def __init__(self, name, tokens, prediction, sequence):\n",
    "        self.name = name\n",
    "        self.tokens = tokens\n",
    "        self.prediction = prediction\n",
    "        self.sequence = sequence\n",
    "        \n",
    "    def plot_token(self) :\n",
    "        tokens = np.array(self.tokens)  \n",
    "        plt.figure(figsize=(10,6))\n",
    "        for i in range(len(tokens) - 1):\n",
    "            if tokens[i] == 0:\n",
    "                color = 'black'\n",
    "            elif tokens[i] == 1:\n",
    "                color = 'blue'\n",
    "            elif tokens[i] == 2:\n",
    "                color = 'red'\n",
    "            else:\n",
    "                color = 'yellow'\n",
    "            plt.plot([i, i+1], [tokens[i], tokens[i+1]], color=color, marker='o')\n",
    "        plt.xlabel('Token')\n",
    "        plt.ylabel('Label')\n",
    "        plt.title('Label for each token')\n",
    "        plt.xticks(rotation='vertical')\n",
    "        plt.yticks(np.arange(2), ['0', '1'])  \n",
    "        plt.grid(True)\n",
    "        plt.show()\n",
    "\n",
    "    def get_prediction(self):\n",
    "        return self.prediction\n",
    "    \n",
    "    def get_seq(self):\n",
    "        return self.sequence\n",
    "\n"
   ]
  },
  {
   "cell_type": "code",
   "execution_count": 4,
   "metadata": {},
   "outputs": [
    {
     "name": "stderr",
     "output_type": "stream",
     "text": [
      "  0%|                                                   | 0/133 [00:00<?, ?it/s]\n"
     ]
    },
    {
     "ename": "NameError",
     "evalue": "name 'predict_sequence' is not defined",
     "output_type": "error",
     "traceback": [
      "\u001b[0;31m---------------------------------------------------------------------------\u001b[0m",
      "\u001b[0;31mNameError\u001b[0m                                 Traceback (most recent call last)",
      "Cell \u001b[0;32mIn[4], line 12\u001b[0m\n\u001b[1;32m     10\u001b[0m \u001b[38;5;28;01mfor\u001b[39;00m record \u001b[38;5;129;01min\u001b[39;00m fastas :\n\u001b[1;32m     11\u001b[0m     \u001b[38;5;28;01mif\u001b[39;00m record\u001b[38;5;241m.\u001b[39mid \u001b[38;5;129;01min\u001b[39;00m proteins_id \u001b[38;5;129;01mand\u001b[39;00m \u001b[38;5;28mlen\u001b[39m(record\u001b[38;5;241m.\u001b[39mseq)\u001b[38;5;241m>\u001b[39m\u001b[38;5;241m=\u001b[39m\u001b[38;5;241m200\u001b[39m: \n\u001b[0;32m---> 12\u001b[0m         prediction, sequence_outputs \u001b[38;5;241m=\u001b[39m \u001b[43mpredict_sequence\u001b[49m(model_classifier, \u001b[38;5;28mstr\u001b[39m(record\u001b[38;5;241m.\u001b[39mseq))\n\u001b[1;32m     13\u001b[0m         a \u001b[38;5;241m=\u001b[39m Dpo_model_pred(record\u001b[38;5;241m.\u001b[39mid, sequence_outputs, prediction , \u001b[38;5;28mstr\u001b[39m(record\u001b[38;5;241m.\u001b[39mseq))\n\u001b[1;32m     14\u001b[0m         dico_tmp[record\u001b[38;5;241m.\u001b[39mid] \u001b[38;5;241m=\u001b[39m a\n",
      "\u001b[0;31mNameError\u001b[0m: name 'predict_sequence' is not defined"
     ]
    }
   ],
   "source": [
    "from tqdm import tqdm\n",
    "from Bio import SeqIO\n",
    "path_out = \"/media/concha-eloko/Linux/PhageDEPOdetection/Benchmarking\"\n",
    "\n",
    "Dpo_class_objects = {}\n",
    "for fasta_file in tqdm(prediction_results) :\n",
    "    dico_tmp = {}\n",
    "    fastas = SeqIO.parse(f\"{path_out}/{fasta_file}\" , \"fasta\")\n",
    "    proteins_id = [prot_id for (pred , prot_id) in prediction_results[fasta_file]]\n",
    "    for record in fastas :\n",
    "        if record.id in proteins_id and len(record.seq)>=200: \n",
    "            prediction, sequence_outputs = predict_sequence(model_classifier, str(record.seq))\n",
    "            a = Dpo_model_pred(record.id, sequence_outputs, prediction , str(record.seq))\n",
    "            dico_tmp[record.id] = a\n",
    "    Dpo_class_objects[fasta_file] = dico_tmp"
   ]
  },
  {
   "cell_type": "code",
   "execution_count": 10,
   "metadata": {
    "collapsed": true,
    "jupyter": {
     "outputs_hidden": true
    }
   },
   "outputs": [
    {
     "data": {
      "text/plain": [
       "{'NC_020860.1.multi.faa': {'lcl|NC_020860.1_prot_YP_007675684.1_8': <__main__.Dpo_model_pred at 0x7f7dfc9bcb90>,\n",
       "  'lcl|NC_020860.1_prot_YP_007675705.1_29': <__main__.Dpo_model_pred at 0x7f7dfa839910>},\n",
       " 'NC_022771.1.multi.faa': {'lcl|NC_022771.1_prot_YP_008771399.1_33': <__main__.Dpo_model_pred at 0x7f7dfc4a7090>,\n",
       "  'lcl|NC_022771.1_prot_YP_008771586.1_220': <__main__.Dpo_model_pred at 0x7f7df6c6eb90>},\n",
       " 'KC821630.1.multi.faa': {'lcl|KC821630.1_prot_AGO49328.1_9': <__main__.Dpo_model_pred at 0x7f7dfcc69850>,\n",
       "  'lcl|KC821630.1_prot_AGO49349.1_30': <__main__.Dpo_model_pred at 0x7f7df6c46b10>},\n",
       " 'NC_027994.1.multi.faa': {'lcl|NC_027994.1_prot_YP_009168860.1_28': <__main__.Dpo_model_pred at 0x7f7ed7d3d110>},\n",
       " 'NC_019923.1.multi.faa': {'lcl|NC_019923.1_prot_YP_007237187.1_12': <__main__.Dpo_model_pred at 0x7f7dfa4ebbd0>,\n",
       "  'lcl|NC_019923.1_prot_YP_007237194.1_19': <__main__.Dpo_model_pred at 0x7f7dfc4b2a50>},\n",
       " 'FR671410.1.multi.faa': {},\n",
       " 'NC_018836.1.multi.faa': {},\n",
       " 'KC821634.1.multi.faa': {'lcl|KC821634.1_prot_AGO49746.1_9': <__main__.Dpo_model_pred at 0x7f7dfc7d8210>,\n",
       "  'lcl|KC821634.1_prot_AGO49767.1_30': <__main__.Dpo_model_pred at 0x7f7ed43605d0>},\n",
       " 'NC_023557.1.multi.faa': {'lcl|NC_023557.1_prot_YP_009004811.1_19': <__main__.Dpo_model_pred at 0x7f7ed7cfc410>,\n",
       "  'lcl|NC_023557.1_prot_YP_009004842.1_50': <__main__.Dpo_model_pred at 0x7f7ed7d1d810>,\n",
       "  'lcl|NC_023557.1_prot_YP_009004869.1_77': <__main__.Dpo_model_pred at 0x7f7df6c5c150>},\n",
       " 'NC_048629.1.multi.faa': {'lcl|NC_048629.1_prot_YP_009829936.1_10': <__main__.Dpo_model_pred at 0x7f7dfa84cd90>},\n",
       " 'NC_041897.1.multi.faa': {'lcl|NC_041897.1_prot_YP_009597310.1_30': <__main__.Dpo_model_pred at 0x7f7dfa847cd0>},\n",
       " 'KF669651.1.multi.faa': {'lcl|KF669651.1_prot_AGY47209.1_22': <__main__.Dpo_model_pred at 0x7f7dfa4f4f10>,\n",
       "  'lcl|KF669651.1_prot_AGY47215.1_28': <__main__.Dpo_model_pred at 0x7f7dfc60b450>},\n",
       " 'KC330683.1.multi.faa': {'lcl|KC330683.1_prot_AGE61013.1_20': <__main__.Dpo_model_pred at 0x7f7dfe90c050>,\n",
       "  'lcl|KC330683.1_prot_AGE61019.1_26': <__main__.Dpo_model_pred at 0x7f7dfa845b50>},\n",
       " 'KC330681.1.multi.faa': {'lcl|KC330681.1_prot_AGE60867.1_28': <__main__.Dpo_model_pred at 0x7f7dfc6118d0>},\n",
       " 'NC_027993.1.multi.faa': {'lcl|NC_027993.1_prot_YP_009168811.1_31': <__main__.Dpo_model_pred at 0x7f7dfa332e10>},\n",
       " 'NC_014229.1.multi.faa': {'lcl|NC_014229.1_prot_YP_003714746.1_19': <__main__.Dpo_model_pred at 0x7f7dfc4d5690>},\n",
       " 'NC_021804.1.multi.faa': {'lcl|NC_021804.1_prot_YP_008242178.1_26': <__main__.Dpo_model_pred at 0x7f7dfca60150>},\n",
       " 'NC_041856.1.multi.faa': {'lcl|NC_041856.1_prot_YP_009592102.1_23': <__main__.Dpo_model_pred at 0x7f7dfc611950>},\n",
       " 'HG799497.1.multi.faa': {},\n",
       " 'CP000711.1.multi.faa': {'lcl|CP000711.1_prot_ABQ88383.1_2': <__main__.Dpo_model_pred at 0x7f7ed7d5f710>},\n",
       " 'NC_018856.1.multi.faa': {'lcl|NC_018856.1_prot_YP_006907302.1_12': <__main__.Dpo_model_pred at 0x7f7ed4373050>},\n",
       " 'NC_011976.1.multi.faa': {'lcl|NC_011976.1_prot_YP_002533467.1_8': <__main__.Dpo_model_pred at 0x7f7ed7cf7f90>,\n",
       "  'lcl|NC_011976.1_prot_YP_002533478.1_19': <__main__.Dpo_model_pred at 0x7f7dfa84cb90>},\n",
       " 'NC_022768.1.multi.faa': {'lcl|NC_022768.1_prot_YP_008770865.1_38': <__main__.Dpo_model_pred at 0x7f7dfa4ef310>,\n",
       "  'lcl|NC_022768.1_prot_YP_008770866.1_39': <__main__.Dpo_model_pred at 0x7f7dfc67e310>,\n",
       "  'lcl|NC_022768.1_prot_YP_008770867.1_40': <__main__.Dpo_model_pred at 0x7f7df6c5ec10>,\n",
       "  'lcl|NC_022768.1_prot_YP_008770868.1_41': <__main__.Dpo_model_pred at 0x7f7dfa847f10>},\n",
       " 'KC700556.1.multi.faa': {},\n",
       " 'NC_019400.1.multi.faa': {'lcl|NC_019400.1_prot_YP_006987059.1_226': <__main__.Dpo_model_pred at 0x7f7dfa83f190>,\n",
       "  'lcl|NC_019400.1_prot_YP_006987068.1_235': <__main__.Dpo_model_pred at 0x7f7dfa846d10>},\n",
       " 'NC_020842.1.multi.faa': {'lcl|NC_020842.1_prot_YP_007673458.1_76': <__main__.Dpo_model_pred at 0x7f7dfa846dd0>},\n",
       " 'NC_048631.1.multi.faa': {'lcl|NC_048631.1_prot_YP_009829893.1_19': <__main__.Dpo_model_pred at 0x7f7dfc5efcd0>},\n",
       " 'NC_022769.1.multi.faa': {'lcl|NC_022769.1_prot_YP_008771112.1_85': <__main__.Dpo_model_pred at 0x7f7df6c5e910>},\n",
       " 'NC_016071.1.multi.faa': {'lcl|NC_016071.1_prot_YP_004893846.1_39': <__main__.Dpo_model_pred at 0x7f7dfc6bded0>,\n",
       "  'lcl|NC_016071.1_prot_YP_004893855.1_48': <__main__.Dpo_model_pred at 0x7f7dfa4ef990>},\n",
       " 'NC_020477.1.multi.faa': {'lcl|NC_020477.1_prot_YP_007517411.1_21': <__main__.Dpo_model_pred at 0x7f7dfa844d50>,\n",
       "  'lcl|NC_020477.1_prot_YP_007517417.1_27': <__main__.Dpo_model_pred at 0x7f7dfa846ed0>},\n",
       " 'GU323708.1.multi.faa': {},\n",
       " 'NC_024205.1.multi.faa': {'lcl|NC_024205.1_prot_YP_009035268.1_71': <__main__.Dpo_model_pred at 0x7f7dfc7d8190>},\n",
       " 'NC_008152.1.multi.faa': {'lcl|NC_008152.1_prot_YP_654134.1_36': <__main__.Dpo_model_pred at 0x7f7dfc64fdd0>,\n",
       "  'lcl|NC_008152.1_prot_YP_654147.1_49': <__main__.Dpo_model_pred at 0x7f7dfa4ea250>,\n",
       "  'lcl|NC_008152.1_prot_YP_654148.1_50': <__main__.Dpo_model_pred at 0x7f7dfa333090>},\n",
       " 'NC_018857.1.multi.faa': {'lcl|NC_018857.1_prot_YP_006907824.1_265': <__main__.Dpo_model_pred at 0x7f7dfc7a0210>},\n",
       " 'JX262376.1.multi.faa': {'lcl|JX262376.1_prot_AFO10887.1_21': <__main__.Dpo_model_pred at 0x7f7dfc4b1150>},\n",
       " 'NC_027364.1.multi.faa': {'lcl|NC_027364.1_prot_YP_009150318.1_4': <__main__.Dpo_model_pred at 0x7f7df6c5ead0>,\n",
       "  'lcl|NC_027364.1_prot_YP_009150385.1_71': <__main__.Dpo_model_pred at 0x7f7dfa846b10>,\n",
       "  'lcl|NC_027364.1_prot_YP_009150600.1_286': <__main__.Dpo_model_pred at 0x7f7dfc4bc150>,\n",
       "  'lcl|NC_027364.1_prot_YP_009150601.1_287': <__main__.Dpo_model_pred at 0x7f7dfa83fed0>,\n",
       "  'lcl|NC_027364.1_prot_YP_009150602.1_288': <__main__.Dpo_model_pred at 0x7f7dfa83f150>,\n",
       "  'lcl|NC_027364.1_prot_YP_009150603.1_289': <__main__.Dpo_model_pred at 0x7f7dfa4f73d0>,\n",
       "  'lcl|NC_027364.1_prot_YP_009150604.1_290': <__main__.Dpo_model_pred at 0x7f7dfa4f0a50>,\n",
       "  'lcl|NC_027364.1_prot_YP_009150605.1_291': <__main__.Dpo_model_pred at 0x7f7dfa847b90>,\n",
       "  'lcl|NC_027364.1_prot_YP_009150606.1_292': <__main__.Dpo_model_pred at 0x7f7dfc4d5950>,\n",
       "  'lcl|NC_027364.1_prot_YP_009150608.1_294': <__main__.Dpo_model_pred at 0x7f7dfc9ca750>,\n",
       "  'lcl|NC_027364.1_prot_YP_009150609.1_295': <__main__.Dpo_model_pred at 0x7f7dfa31a810>,\n",
       "  'lcl|NC_027364.1_prot_YP_009150610.1_296': <__main__.Dpo_model_pred at 0x7f7dfa847610>,\n",
       "  'lcl|NC_027364.1_prot_YP_009150829.1_515': <__main__.Dpo_model_pred at 0x7f7dfc571910>,\n",
       "  'lcl|NC_027364.1_prot_YP_009150861.1_547': <__main__.Dpo_model_pred at 0x7f7ed4370510>},\n",
       " 'NC_019917.1.multi.faa': {'lcl|NC_019917.1_prot_YP_007236803.1_57': <__main__.Dpo_model_pred at 0x7f7ed7d0fb90>,\n",
       "  'lcl|NC_019917.1_prot_YP_007236804.1_58': <__main__.Dpo_model_pred at 0x7f7dfa847f90>,\n",
       "  'lcl|NC_019917.1_prot_YP_007236806.1_60': <__main__.Dpo_model_pred at 0x7f7dfa318f90>,\n",
       "  'lcl|NC_019917.1_prot_YP_007236807.1_61': <__main__.Dpo_model_pred at 0x7f7dfa4ecd90>,\n",
       "  'lcl|NC_019917.1_prot_YP_007236808.1_62': <__main__.Dpo_model_pred at 0x7f7df6c60790>,\n",
       "  'lcl|NC_019917.1_prot_YP_007236809.1_63': <__main__.Dpo_model_pred at 0x7f7dfa83e8d0>},\n",
       " 'NC_021563.1.multi.faa': {'lcl|NC_021563.1_prot_YP_008130362.1_69': <__main__.Dpo_model_pred at 0x7f7dfc887fd0>},\n",
       " 'NC_022767.1.multi.faa': {'lcl|NC_022767.1_prot_YP_008770761.1_47': <__main__.Dpo_model_pred at 0x7f7dfa4f6ad0>},\n",
       " 'NC_023582.1.multi.faa': {'lcl|NC_023582.1_prot_YP_009007688.1_25': <__main__.Dpo_model_pred at 0x7f7dfc4b0110>},\n",
       " 'NC_017980.1.multi.faa': {'lcl|NC_017980.1_prot_YP_006383591.1_10': <__main__.Dpo_model_pred at 0x7f7dfa4f7850>},\n",
       " 'NC_018083.1.multi.faa': {'lcl|NC_018083.1_prot_YP_006488624.1_9': <__main__.Dpo_model_pred at 0x7f7dfa36dfd0>},\n",
       " 'NC_024216.1.multi.faa': {'lcl|NC_024216.1_prot_YP_009036975.1_72': <__main__.Dpo_model_pred at 0x7f7dfa4ed4d0>},\n",
       " 'NC_017972.1.multi.faa': {'lcl|NC_017972.1_prot_YP_006382571.1_41': <__main__.Dpo_model_pred at 0x7f7dfc7a0ad0>},\n",
       " 'KC821629.1.multi.faa': {'lcl|KC821629.1_prot_AGO49248.1_9': <__main__.Dpo_model_pred at 0x7f7ed4369fd0>,\n",
       "  'lcl|KC821629.1_prot_AGO49269.1_30': <__main__.Dpo_model_pred at 0x7f7dfa320610>},\n",
       " 'NC_023610.1.multi.faa': {'lcl|NC_023610.1_prot_YP_009010167.1_114': <__main__.Dpo_model_pred at 0x7f7df6c43690>,\n",
       "  'lcl|NC_023610.1_prot_YP_009010252.1_199': <__main__.Dpo_model_pred at 0x7f7dfc61ae10>},\n",
       " 'NC_020079.1.multi.faa': {'lcl|NC_020079.1_prot_YP_007348539.1_171': <__main__.Dpo_model_pred at 0x7f7df6c40290>,\n",
       "  'lcl|NC_020079.1_prot_YP_007348546.1_178': <__main__.Dpo_model_pred at 0x7f7dfc67dcd0>,\n",
       "  'lcl|NC_020079.1_prot_YP_007348548.1_180': <__main__.Dpo_model_pred at 0x7f7dfa339350>},\n",
       " 'NC_025446.1.multi.faa': {'lcl|NC_025446.1_prot_YP_009101511.1_115': <__main__.Dpo_model_pred at 0x7f7dfa4ed5d0>,\n",
       "  'lcl|NC_025446.1_prot_YP_009101512.1_116': <__main__.Dpo_model_pred at 0x7f7dfc67e410>,\n",
       "  'lcl|NC_025446.1_prot_YP_009101514.1_118': <__main__.Dpo_model_pred at 0x7f7dfe940910>,\n",
       "  'lcl|NC_025446.1_prot_YP_009101515.1_119': <__main__.Dpo_model_pred at 0x7f7dfa8283d0>},\n",
       " 'NC_009014.1.multi.faa': {'lcl|NC_009014.1_prot_YP_001039670.1_39': <__main__.Dpo_model_pred at 0x7f7dfc8c0710>,\n",
       "  'lcl|NC_009014.1_prot_YP_001039683.1_52': <__main__.Dpo_model_pred at 0x7f7dfa4f0d10>},\n",
       " 'NC_024355.1.multi.faa': {'lcl|NC_024355.1_prot_YP_009042546.1_40': <__main__.Dpo_model_pred at 0x7f7dfa4efe90>},\n",
       " 'NC_021336.1.multi.faa': {'lcl|NC_021336.1_prot_YP_008060120.1_31': <__main__.Dpo_model_pred at 0x7f7dfa844390>},\n",
       " 'KC821625.1.multi.faa': {'lcl|KC821625.1_prot_AGO49035.1_24': <__main__.Dpo_model_pred at 0x7f7dfa4f7e50>},\n",
       " 'NC_019487.1.multi.faa': {'lcl|NC_019487.1_prot_YP_007003328.1_71': <__main__.Dpo_model_pred at 0x7f7dfa3305d0>,\n",
       "  'lcl|NC_019487.1_prot_YP_007003341.1_84': <__main__.Dpo_model_pred at 0x7f7dfa4f0ad0>},\n",
       " 'KF669657.1.multi.faa': {'lcl|KF669657.1_prot_AGY48030.1_13': <__main__.Dpo_model_pred at 0x7f7dfa331610>,\n",
       "  'lcl|KF669657.1_prot_AGY48032.1_15': <__main__.Dpo_model_pred at 0x7f7dfa36ea50>},\n",
       " 'NC_049976.1.multi.faa': {'lcl|NC_049976.1_prot_YP_009910729.1_16': <__main__.Dpo_model_pred at 0x7f7dfc680d90>},\n",
       " 'NC_015208.1.multi.faa': {'lcl|NC_015208.1_prot_YP_004286217.1_39': <__main__.Dpo_model_pred at 0x7f7dfc619e50>,\n",
       "  'lcl|NC_015208.1_prot_YP_004286222.1_44': <__main__.Dpo_model_pred at 0x7f7dfa331310>},\n",
       " 'FR671407.1.multi.faa': {},\n",
       " 'NC_005344.1.multi.faa': {'lcl|NC_005344.1_prot_NP_958190.1_14': <__main__.Dpo_model_pred at 0x7f7df6c5e150>},\n",
       " 'NC_027351.1.multi.faa': {'lcl|NC_027351.1_prot_YP_009148835.1_39': <__main__.Dpo_model_pred at 0x7f7dfa319010>,\n",
       "  'lcl|NC_027351.1_prot_YP_009148844.1_48': <__main__.Dpo_model_pred at 0x7f7dfa845190>},\n",
       " 'NC_002649.1.multi.faa': {'lcl|NC_002649.1_prot_NP_073695.1_19': <__main__.Dpo_model_pred at 0x7f7dfa318a50>},\n",
       " 'NC_019530.1.multi.faa': {'lcl|NC_019530.1_prot_YP_007008116.1_136': <__main__.Dpo_model_pred at 0x7f7dfa83da90>,\n",
       "  'lcl|NC_019530.1_prot_YP_007008117.1_137': <__main__.Dpo_model_pred at 0x7f7dfa4ee910>,\n",
       "  'lcl|NC_019530.1_prot_YP_007008118.1_138': <__main__.Dpo_model_pred at 0x7f7dfa828410>,\n",
       "  'lcl|NC_019530.1_prot_YP_007008119.1_139': <__main__.Dpo_model_pred at 0x7f7dfa4f05d0>},\n",
       " 'NC_007636.1.multi.faa': {'lcl|NC_007636.1_prot_YP_424954.1_46': <__main__.Dpo_model_pred at 0x7f7dfa36fa10>,\n",
       "  'lcl|NC_007636.1_prot_YP_424959.1_51': <__main__.Dpo_model_pred at 0x7f7dfa83ee50>},\n",
       " 'NC_020083.1.multi.faa': {'lcl|NC_020083.1_prot_YP_007349010.1_31': <__main__.Dpo_model_pred at 0x7f7ed4372ed0>,\n",
       "  'lcl|NC_020083.1_prot_YP_007349013.1_34': <__main__.Dpo_model_pred at 0x7f7dfa331bd0>,\n",
       "  'lcl|NC_020083.1_prot_YP_007349016.1_37': <__main__.Dpo_model_pred at 0x7f7dfa36f850>,\n",
       "  'lcl|NC_020083.1_prot_YP_007349017.1_38': <__main__.Dpo_model_pred at 0x7f7dfa330cd0>,\n",
       "  'lcl|NC_020083.1_prot_YP_007349020.1_41': <__main__.Dpo_model_pred at 0x7f7dfa330e50>},\n",
       " 'KC821608.1.multi.faa': {'lcl|KC821608.1_prot_AGO47492.1_88': <__main__.Dpo_model_pred at 0x7f7dfa844810>,\n",
       "  'lcl|KC821608.1_prot_AGO47494.1_90': <__main__.Dpo_model_pred at 0x7f7dfc4ca290>,\n",
       "  'lcl|KC821608.1_prot_AGO47498.1_94': <__main__.Dpo_model_pred at 0x7f7dfa31b750>},\n",
       " 'NC_022772.1.multi.faa': {'lcl|NC_022772.1_prot_YP_008771656.1_38': <__main__.Dpo_model_pred at 0x7f7dfc4b00d0>,\n",
       "  'lcl|NC_022772.1_prot_YP_008771657.1_39': <__main__.Dpo_model_pred at 0x7f7dfa318350>,\n",
       "  'lcl|NC_022772.1_prot_YP_008771658.1_40': <__main__.Dpo_model_pred at 0x7f7dfc61a950>,\n",
       "  'lcl|NC_022772.1_prot_YP_008771659.1_41': <__main__.Dpo_model_pred at 0x7f7dfa845cd0>},\n",
       " 'NC_020078.1.multi.faa': {'lcl|NC_020078.1_prot_YP_007348357.1_38': <__main__.Dpo_model_pred at 0x7f7dfa4eba90>,\n",
       "  'lcl|NC_020078.1_prot_YP_007348361.1_42': <__main__.Dpo_model_pred at 0x7f7ed436bf90>},\n",
       " 'DQ834250.1.multi.faa': {'lcl|DQ834250.1_prot_ABI21803.1_19': <__main__.Dpo_model_pred at 0x7f7dfa83ff10>},\n",
       " 'FR671411.1.multi.faa': {},\n",
       " 'NC_020478.1.multi.faa': {'lcl|NC_020478.1_prot_YP_007517487.1_22': <__main__.Dpo_model_pred at 0x7f7dfa4f3a50>,\n",
       "  'lcl|NC_020478.1_prot_YP_007517493.1_28': <__main__.Dpo_model_pred at 0x7f7dfa4ea810>},\n",
       " 'NC_023579.1.multi.faa': {'lcl|NC_023579.1_prot_YP_009007463.1_90': <__main__.Dpo_model_pred at 0x7f7dfa4f2790>},\n",
       " 'NC_007055.1.multi.faa': {'lcl|NC_007055.1_prot_YP_240092.1_18': <__main__.Dpo_model_pred at 0x7f7dfa4f0050>,\n",
       "  'lcl|NC_007055.1_prot_YP_240100.1_25': <__main__.Dpo_model_pred at 0x7f7dfa326710>},\n",
       " 'NC_019510.1.multi.faa': {'lcl|NC_019510.1_prot_YP_007005461.1_37': <__main__.Dpo_model_pred at 0x7f7dfa338690>,\n",
       "  'lcl|NC_019510.1_prot_YP_007005466.1_42': <__main__.Dpo_model_pred at 0x7f7dfc7cd3d0>},\n",
       " 'KC700557.1.multi.faa': {},\n",
       " 'NC_017971.2.multi.faa': {'lcl|NC_017971.2_prot_YP_006382515.1_57': <__main__.Dpo_model_pred at 0x7f7dfa828490>},\n",
       " 'NC_006883.2.multi.faa': {'lcl|NC_006883.2_prot_YP_214253.1_17': <__main__.Dpo_model_pred at 0x7f7dfa3334d0>,\n",
       "  'lcl|NC_006883.2_prot_YP_214257.1_21': <__main__.Dpo_model_pred at 0x7f7dfa333310>,\n",
       "  'lcl|NC_006883.2_prot_YP_214258.1_22': <__main__.Dpo_model_pred at 0x7f7dfc69c710>,\n",
       "  'lcl|NC_006883.2_prot_YP_214266.1_30': <__main__.Dpo_model_pred at 0x7f7dfc4d5c90>,\n",
       "  'lcl|NC_006883.2_prot_YP_214433.1_200': <__main__.Dpo_model_pred at 0x7f7dfa332910>,\n",
       "  'lcl|NC_006883.2_prot_YP_214524.1_293': <__main__.Dpo_model_pred at 0x7f7df6c43650>,\n",
       "  'lcl|NC_006883.2_prot_YP_214526.1_295': <__main__.Dpo_model_pred at 0x7f7dfa3236d0>,\n",
       "  'lcl|NC_006883.2_prot_YP_214529.1_298': <__main__.Dpo_model_pred at 0x7f7dfa322e90>,\n",
       "  'lcl|NC_006883.2_prot_YP_214532.1_301': <__main__.Dpo_model_pred at 0x7f7df6c5f850>,\n",
       "  'lcl|NC_006883.2_prot_YP_214534.1_303': <__main__.Dpo_model_pred at 0x7f7dfa32b750>},\n",
       " 'NC_015295.1.multi.faa': {'lcl|NC_015295.1_prot_YP_004327330.1_27': <__main__.Dpo_model_pred at 0x7f7dfa32b150>,\n",
       "  'lcl|NC_015295.1_prot_YP_004327331.1_28': <__main__.Dpo_model_pred at 0x7f7dfa324890>},\n",
       " 'KC700558.1.multi.faa': {},\n",
       " 'NC_025422.1.multi.faa': {'lcl|NC_025422.1_prot_YP_009098821.1_63': <__main__.Dpo_model_pred at 0x7f7df6c40e10>,\n",
       "  'lcl|NC_025422.1_prot_YP_009098911.1_153': <__main__.Dpo_model_pred at 0x7f7dfcc75790>,\n",
       "  'lcl|NC_025422.1_prot_YP_009098973.1_215': <__main__.Dpo_model_pred at 0x7f7dfa4ed110>},\n",
       " 'NC_001423.1.multi.faa': {'lcl|NC_001423.1_prot_NP_040730.1_17': <__main__.Dpo_model_pred at 0x7f7dfa847dd0>},\n",
       " 'NC_004166.2.multi.faa': {'lcl|NC_004166.2_prot_NP_690719.1_63': <__main__.Dpo_model_pred at 0x7f7df6c47a10>},\n",
       " 'NC_024211.1.multi.faa': {'lcl|NC_024211.1_prot_YP_009036150.1_79': <__main__.Dpo_model_pred at 0x7f7dfa36f7d0>},\n",
       " 'NC_018281.1.multi.faa': {'lcl|NC_018281.1_prot_YP_006560960.1_19': <__main__.Dpo_model_pred at 0x7f7dfa8471d0>},\n",
       " 'NC_003157.5.multi.faa': {'lcl|NC_003157.5_prot_NP_438157.1_45': <__main__.Dpo_model_pred at 0x7f7dfa3329d0>,\n",
       "  'lcl|NC_003157.5_prot_NP_438158.1_46': <__main__.Dpo_model_pred at 0x7f7dfa83eb10>},\n",
       " 'FR671405.1.multi.faa': {},\n",
       " 'NC_020081.2.multi.faa': {'lcl|NC_020081.2_prot_YP_007349330.1_87': <__main__.Dpo_model_pred at 0x7f7dfa4f1a90>,\n",
       "  'lcl|NC_020081.2_prot_YP_007349242.1_203': <__main__.Dpo_model_pred at 0x7f7dfa321010>},\n",
       " 'NC_022770.1.multi.faa': {'lcl|NC_022770.1_prot_YP_008771331.1_13': <__main__.Dpo_model_pred at 0x7f7dfa320710>,\n",
       "  'lcl|NC_022770.1_prot_YP_008771333.1_15': <__main__.Dpo_model_pred at 0x7f7df6c439d0>},\n",
       " 'NC_018084.1.multi.faa': {'lcl|NC_018084.1_prot_YP_006488654.1_11': <__main__.Dpo_model_pred at 0x7f7dfcc39c90>},\n",
       " 'AY349011.3.multi.faa': {'lcl|AY349011.3_prot_AAQ54995.1_60': <__main__.Dpo_model_pred at 0x7f7dfa4ebad0>,\n",
       "  'lcl|AY349011.3_prot_AAQ54997.1_62': <__main__.Dpo_model_pred at 0x7f7dfa32b0d0>,\n",
       "  'lcl|AY349011.3_prot_AAQ54998.2_63': <__main__.Dpo_model_pred at 0x7f7dfa84c950>,\n",
       "  'lcl|AY349011.3_prot_AAQ54999.1_64': <__main__.Dpo_model_pred at 0x7f7dfa83ed90>,\n",
       "  'lcl|AY349011.3_prot_AAQ55000.1_65': <__main__.Dpo_model_pred at 0x7f7dfa3209d0>},\n",
       " 'NC_018284.1.multi.faa': {'lcl|NC_018284.1_prot_YP_006561180.1_18': <__main__.Dpo_model_pred at 0x7f7dfa4f0810>},\n",
       " 'NC_024792.1.multi.faa': {'lcl|NC_024792.1_prot_YP_009056509.1_240': <__main__.Dpo_model_pred at 0x7f7ed4385fd0>},\n",
       " 'HG799496.1.multi.faa': {},\n",
       " 'NC_023501.1.multi.faa': {'lcl|NC_023501.1_prot_YP_009003154.1_268': <__main__.Dpo_model_pred at 0x7f7dfa320ad0>},\n",
       " 'NC_019414.1.multi.faa': {'lcl|NC_019414.1_prot_YP_006990136.1_21': <__main__.Dpo_model_pred at 0x7f7df6c5e3d0>},\n",
       " 'HG799490.1.multi.faa': {},\n",
       " 'NC_002730.1.multi.faa': {'lcl|NC_002730.1_prot_NP_112090.1_57': <__main__.Dpo_model_pred at 0x7f7dfb1bda90>},\n",
       " 'KC821633.1.multi.faa': {'lcl|KC821633.1_prot_AGO49696.1_86': <__main__.Dpo_model_pred at 0x7f7dfa321910>,\n",
       "  'lcl|KC821633.1_prot_AGO49697.1_87': <__main__.Dpo_model_pred at 0x7f7dfc8c0950>},\n",
       " 'NC_019526.1.multi.faa': {'lcl|NC_019526.1_prot_YP_007007182.1_27': <__main__.Dpo_model_pred at 0x7f7dfa32b810>,\n",
       "  'lcl|NC_019526.1_prot_YP_007007253.1_98': <__main__.Dpo_model_pred at 0x7f7dfa36ff10>,\n",
       "  'lcl|NC_019526.1_prot_YP_007007680.1_525': <__main__.Dpo_model_pred at 0x7f7dfa318050>,\n",
       "  'lcl|NC_019526.1_prot_YP_007007682.1_527': <__main__.Dpo_model_pred at 0x7f7dfa36e490>,\n",
       "  'lcl|NC_019526.1_prot_YP_007007683.1_528': <__main__.Dpo_model_pred at 0x7f7dfa326910>,\n",
       "  'lcl|NC_019526.1_prot_YP_007007684.1_529': <__main__.Dpo_model_pred at 0x7f7dfa4f67d0>,\n",
       "  'lcl|NC_019526.1_prot_YP_007007685.1_530': <__main__.Dpo_model_pred at 0x7f7df6c43910>,\n",
       "  'lcl|NC_019526.1_prot_YP_007007686.1_531': <__main__.Dpo_model_pred at 0x7f7dfa4ed010>,\n",
       "  'lcl|NC_019526.1_prot_YP_007007687.1_532': <__main__.Dpo_model_pred at 0x7f7dfc4b2d50>,\n",
       "  'lcl|NC_019526.1_prot_YP_007007688.1_533': <__main__.Dpo_model_pred at 0x7f7dfa324410>,\n",
       "  'lcl|NC_019526.1_prot_YP_007007689.1_534': <__main__.Dpo_model_pred at 0x7f7dfa36e150>},\n",
       " 'NC_023694.1.multi.faa': {'lcl|NC_023694.1_prot_YP_009012582.1_1': <__main__.Dpo_model_pred at 0x7f7dfa32ab50>,\n",
       "  'lcl|NC_023694.1_prot_YP_009012583.1_2': <__main__.Dpo_model_pred at 0x7f7dfa3561d0>},\n",
       " 'FJ230960.1.multi.faa': {'lcl|FJ230960.1_prot_ACI90965.1_60': <__main__.Dpo_model_pred at 0x7f7dfa83d8d0>,\n",
       "  'lcl|FJ230960.1_prot_ACI90966.1_61': <__main__.Dpo_model_pred at 0x7f7dfa83ffd0>,\n",
       "  'lcl|FJ230960.1_prot_ACI91000.1_95': <__main__.Dpo_model_pred at 0x7f7dfc4b0190>,\n",
       "  'lcl|FJ230960.1_prot_ACI91003.1_98': <__main__.Dpo_model_pred at 0x7f7dfa326290>,\n",
       "  'lcl|FJ230960.1_prot_ACI91006.1_101': <__main__.Dpo_model_pred at 0x7f7dfa319210>},\n",
       " 'NC_017981.1.multi.faa': {'lcl|NC_017981.1_prot_YP_006383633.1_26': <__main__.Dpo_model_pred at 0x7f7dfb1bd210>,\n",
       "  'lcl|NC_017981.1_prot_YP_006383635.1_28': <__main__.Dpo_model_pred at 0x7f7dfa32a7d0>,\n",
       "  'lcl|NC_017981.1_prot_YP_006383636.1_29': <__main__.Dpo_model_pred at 0x7f7dfa84c310>},\n",
       " 'FQ482084.1.multi.faa': {'lcl|FQ482084.1_prot_CBX44498.1_37': <__main__.Dpo_model_pred at 0x7f7dfa36e210>,\n",
       "  'lcl|FQ482084.1_prot_CBX44510.1_49': <__main__.Dpo_model_pred at 0x7f7dfa321ad0>},\n",
       " 'KC556894.1.multi.faa': {'lcl|KC556894.1_prot_AHB81137.1_21': <__main__.Dpo_model_pred at 0x7f7df6c6d590>,\n",
       "  'lcl|KC556894.1_prot_AHB81143.1_27': <__main__.Dpo_model_pred at 0x7f7dfa83d710>,\n",
       "  'lcl|KC556894.1_prot_AHB81144.1_28': <__main__.Dpo_model_pred at 0x7f7dfa844f50>,\n",
       "  'lcl|KC556894.1_prot_AHB81145.1_29': <__main__.Dpo_model_pred at 0x7f7dfa8474d0>},\n",
       " 'HQ632825.1.multi.faa': {'lcl|HQ632825.1_prot_AGN12239.1_81': <__main__.Dpo_model_pred at 0x7f7dfa326050>,\n",
       "  'lcl|HQ632825.1_prot_AGN12247.1_89': <__main__.Dpo_model_pred at 0x7f7dfa4ed390>,\n",
       "  'lcl|HQ632825.1_prot_AGN12248.1_90': <__main__.Dpo_model_pred at 0x7f7dfa844450>,\n",
       "  'lcl|HQ632825.1_prot_AGN12296.1_138': <__main__.Dpo_model_pred at 0x7f7df6c5dbd0>,\n",
       "  'lcl|HQ632825.1_prot_AGN12298.1_140': <__main__.Dpo_model_pred at 0x7f7dfa4f6850>,\n",
       "  'lcl|HQ632825.1_prot_AGN12301.1_143': <__main__.Dpo_model_pred at 0x7f7dfa324490>,\n",
       "  'lcl|HQ632825.1_prot_AGN12302.1_144': <__main__.Dpo_model_pred at 0x7f7dfb1bd3d0>,\n",
       "  'lcl|HQ632825.1_prot_AGN12305.1_147': <__main__.Dpo_model_pred at 0x7f7dfa4ec2d0>,\n",
       "  'lcl|HQ632825.1_prot_AGN12307.1_149': <__main__.Dpo_model_pred at 0x7f7dfa846390>,\n",
       "  'lcl|HQ632825.1_prot_AGN12394.1_236': <__main__.Dpo_model_pred at 0x7f7dfa8478d0>},\n",
       " 'NC_024213.1.multi.faa': {'lcl|NC_024213.1_prot_YP_009036526.1_77': <__main__.Dpo_model_pred at 0x7f7dfa844190>},\n",
       " 'NC_023735.1.multi.faa': {'lcl|NC_023735.1_prot_YP_009017615.1_1': <__main__.Dpo_model_pred at 0x7f7dfa32a810>},\n",
       " 'NC_021792.1.multi.faa': {'lcl|NC_021792.1_prot_YP_008241122.1_79': <__main__.Dpo_model_pred at 0x7f7dfa83e690>,\n",
       "  'lcl|NC_021792.1_prot_YP_008241124.1_81': <__main__.Dpo_model_pred at 0x7f7dfa83eed0>,\n",
       "  'lcl|NC_021792.1_prot_YP_008241126.1_83': <__main__.Dpo_model_pred at 0x7f7dfc6660d0>},\n",
       " 'NC_020883.1.multi.faa': {'lcl|NC_020883.1_prot_YP_007678034.1_8': <__main__.Dpo_model_pred at 0x7f7df6c5d7d0>,\n",
       "  'lcl|NC_020883.1_prot_YP_007678101.1_75': <__main__.Dpo_model_pred at 0x7f7df6c6c690>},\n",
       " 'NC_019401.1.multi.faa': {'lcl|NC_019401.1_prot_YP_006987103.1_1': <__main__.Dpo_model_pred at 0x7f7dfa4ee790>,\n",
       "  'lcl|NC_019401.1_prot_YP_006987233.1_131': <__main__.Dpo_model_pred at 0x7f7dfa83f690>,\n",
       "  'lcl|NC_019401.1_prot_YP_006987325.1_223': <__main__.Dpo_model_pred at 0x7f7dfa36fe90>,\n",
       "  'lcl|NC_019401.1_prot_YP_006987359.1_257': <__main__.Dpo_model_pred at 0x7f7dfa83ead0>},\n",
       " 'NC_021802.1.multi.faa': {'lcl|NC_021802.1_prot_YP_008242011.1_92': <__main__.Dpo_model_pred at 0x7f7dfa845a50>,\n",
       "  'lcl|NC_021802.1_prot_YP_008242013.1_94': <__main__.Dpo_model_pred at 0x7f7dfa83ecd0>},\n",
       " 'KC821610.1.multi.faa': {'lcl|KC821610.1_prot_AGO47740.1_9': <__main__.Dpo_model_pred at 0x7f7dfa36ebd0>,\n",
       "  'lcl|KC821610.1_prot_AGO47761.1_30': <__main__.Dpo_model_pred at 0x7f7dfc619f50>},\n",
       " 'NC_023693.1.multi.faa': {'lcl|NC_023693.1_prot_YP_009012475.1_144': <__main__.Dpo_model_pred at 0x7f7dfa4f7b90>,\n",
       "  'lcl|NC_023693.1_prot_YP_009012482.1_151': <__main__.Dpo_model_pred at 0x7f7dfa36e910>},\n",
       " 'NC_019929.1.multi.faa': {'lcl|NC_019929.1_prot_YP_007237708.1_58': <__main__.Dpo_model_pred at 0x7f7dfa4ee350>},\n",
       " 'NC_011048.1.multi.faa': {'lcl|NC_011048.1_prot_YP_002004541.1_18': <__main__.Dpo_model_pred at 0x7f7dfa844a50>},\n",
       " 'KJ417497.1.multi.faa': {},\n",
       " 'KC821621.1.multi.faa': {'lcl|KC821621.1_prot_AGO48665.1_30': <__main__.Dpo_model_pred at 0x7f7dfa36ff90>},\n",
       " 'NC_004165.1.multi.faa': {'lcl|NC_004165.1_prot_NP_690646.1_12': <__main__.Dpo_model_pred at 0x7f7dfc4c8e50>},\n",
       " 'NC_022761.1.multi.faa': {'lcl|NC_022761.1_prot_YP_008769995.1_61': <__main__.Dpo_model_pred at 0x7f7dfa846750>,\n",
       "  'lcl|NC_022761.1_prot_YP_008769996.1_62': <__main__.Dpo_model_pred at 0x7f7dfa4f1f50>,\n",
       "  'lcl|NC_022761.1_prot_YP_008770031.1_97': <__main__.Dpo_model_pred at 0x7f7dfa844210>,\n",
       "  'lcl|NC_022761.1_prot_YP_008770033.1_99': <__main__.Dpo_model_pred at 0x7f7dfa4f7c90>,\n",
       "  'lcl|NC_022761.1_prot_YP_008770036.1_102': <__main__.Dpo_model_pred at 0x7f7dfa36f4d0>},\n",
       " 'DQ831957.1.multi.faa': {'lcl|DQ831957.1_prot_ABI15697.1_20': <__main__.Dpo_model_pred at 0x7f7dfa33ae10>},\n",
       " 'NC_019446.1.multi.faa': {'lcl|NC_019446.1_prot_YP_007002029.1_21': <__main__.Dpo_model_pred at 0x7f7dfa4ef750>,\n",
       "  'lcl|NC_019446.1_prot_YP_007002035.1_27': <__main__.Dpo_model_pred at 0x7f7dfa83f410>,\n",
       "  'lcl|NC_019446.1_prot_YP_007002036.1_28': <__main__.Dpo_model_pred at 0x7f7dfa845e50>,\n",
       "  'lcl|NC_019446.1_prot_YP_007002037.1_29': <__main__.Dpo_model_pred at 0x7f7dfa4eddd0>},\n",
       " 'GQ413937.1.multi.faa': {'lcl|GQ413937.1_prot_ACY66694.1_32': <__main__.Dpo_model_pred at 0x7f7dfa32ab90>,\n",
       "  'lcl|GQ413937.1_prot_ACY66699.1_37': <__main__.Dpo_model_pred at 0x7f7dfa83df10>,\n",
       "  'lcl|GQ413937.1_prot_ACY66700.1_38': <__main__.Dpo_model_pred at 0x7f7dfa4efd50>},\n",
       " 'NC_020479.1.multi.faa': {'lcl|NC_020479.1_prot_YP_007517566.1_22': <__main__.Dpo_model_pred at 0x7f7dfa83fd90>,\n",
       "  'lcl|NC_020479.1_prot_YP_007517572.1_28': <__main__.Dpo_model_pred at 0x7f7dfa4eea50>},\n",
       " 'NC_019403.1.multi.faa': {'lcl|NC_019403.1_prot_YP_006987800.1_38': <__main__.Dpo_model_pred at 0x7f7dfa329f50>,\n",
       "  'lcl|NC_019403.1_prot_YP_006987816.1_54': <__main__.Dpo_model_pred at 0x7f7dfa83eb90>},\n",
       " 'NC_022763.1.multi.faa': {'lcl|NC_022763.1_prot_YP_008770307.1_83': <__main__.Dpo_model_pred at 0x7f7dfa844350>},\n",
       " 'NC_024378.1.multi.faa': {'lcl|NC_024378.1_prot_YP_009044242.1_35': <__main__.Dpo_model_pred at 0x7f7dfa4f7e90>},\n",
       " 'KF669659.1.multi.faa': {'lcl|KF669659.1_prot_AGY48185.1_23': <__main__.Dpo_model_pred at 0x7f7dfc8c0750>,\n",
       "  'lcl|KF669659.1_prot_AGY48191.1_29': <__main__.Dpo_model_pred at 0x7f7dfa338d90>},\n",
       " 'NC_015296.1.multi.faa': {'lcl|NC_015296.1_prot_YP_004327541.1_170': <__main__.Dpo_model_pred at 0x7f7dfc4a7e10>,\n",
       "  'lcl|NC_015296.1_prot_YP_004327543.1_172': <__main__.Dpo_model_pred at 0x7f7dfc67c7d0>,\n",
       "  'lcl|NC_015296.1_prot_YP_004327544.1_173': <__main__.Dpo_model_pred at 0x7f7dfa36f710>},\n",
       " 'FR671406.1.multi.faa': {},\n",
       " 'NC_009819.1.multi.faa': {'lcl|NC_009819.1_prot_YP_001469223.1_43': <__main__.Dpo_model_pred at 0x7f7dfa356310>},\n",
       " 'GU196281.1.multi.faa': {'lcl|GU196281.1_prot_ADA82474.1_31': <__main__.Dpo_model_pred at 0x7f7dfa4ee610>},\n",
       " 'NC_022764.1.multi.faa': {'lcl|NC_022764.1_prot_YP_008770520.1_13': <__main__.Dpo_model_pred at 0x7f7dfa325a90>,\n",
       "  'lcl|NC_022764.1_prot_YP_008770522.1_15': <__main__.Dpo_model_pred at 0x7f7dfa4f79d0>},\n",
       " 'NC_019454.1.multi.faa': {'lcl|NC_019454.1_prot_YP_007002897.1_44': <__main__.Dpo_model_pred at 0x7f7ed7d1c0d0>,\n",
       "  'lcl|NC_019454.1_prot_YP_007002901.1_48': <__main__.Dpo_model_pred at 0x7f7dfa844510>},\n",
       " 'NC_019523.1.multi.faa': {'lcl|NC_019523.1_prot_YP_007006998.1_21': <__main__.Dpo_model_pred at 0x7f7dfa344510>},\n",
       " 'NC_007637.1.multi.faa': {'lcl|NC_007637.1_prot_YP_425011.1_45': <__main__.Dpo_model_pred at 0x7f7dfa330910>,\n",
       "  'lcl|NC_007637.1_prot_YP_425027.1_61': <__main__.Dpo_model_pred at 0x7f7dfa4ecb90>}}"
      ]
     },
     "execution_count": 10,
     "metadata": {},
     "output_type": "execute_result"
    }
   ],
   "source": [
    "Dpo_class_objects"
   ]
  },
  {
   "cell_type": "code",
   "execution_count": 56,
   "metadata": {
    "collapsed": true,
    "jupyter": {
     "outputs_hidden": true,
     "source_hidden": true
    }
   },
   "outputs": [
    {
     "name": "stdout",
     "output_type": "stream",
     "text": [
      "NC_023557.1.multi.faa\tlcl|NC_023557.1_prot_YP_009004812.1_20\t0.8216886520385742\n",
      "NC_019400.1.multi.faa\tlcl|NC_019400.1_prot_YP_006986837.1_4\t0.5977223515510559\n",
      "NC_016071.1.multi.faa\tlcl|NC_016071.1_prot_YP_004894049.1_242\t0.5491459965705872\n",
      "JX262376.1.multi.faa\tlcl|JX262376.1_prot_AFO10887.1_21\t0.7895899415016174\n",
      "NC_027364.1.multi.faa\tlcl|NC_027364.1_prot_YP_009150547.1_233\t0.5915284752845764\n",
      "NC_019917.1.multi.faa\tlcl|NC_019917.1_prot_YP_007236803.1_57\t0.8614856600761414\n",
      "NC_027351.1.multi.faa\tlcl|NC_027351.1_prot_YP_009148884.1_88\t0.5491459965705872\n",
      "NC_006883.2.multi.faa\tlcl|NC_006883.2_prot_YP_214361.1_128\t0.8492451906204224\n",
      "AY349011.3.multi.faa\tlcl|AY349011.3_prot_AAQ54994.1_59\t0.8485224843025208\n",
      "HQ632825.1.multi.faa\tlcl|HQ632825.1_prot_AGN12459.1_301\t0.8492451906204224\n",
      "NC_019401.1.multi.faa\tlcl|NC_019401.1_prot_YP_006987205.1_103\t0.5021047592163086\n",
      "NC_015296.1.multi.faa\tlcl|NC_015296.1_prot_YP_004327542.1_171\t0.8429854512214661\n"
     ]
    }
   ],
   "source": [
    "for file_fasta in Dpo_class_objects :\n",
    "    for prot in Dpo_class_objects[file_fasta] :\n",
    "        if Dpo_class_objects[file_fasta][prot].get_prediction()[1] < 0.90 :\n",
    "            print(file_fasta , prot, Dpo_class_objects[file_fasta][prot].get_prediction()[1], sep = \"\\t\")"
   ]
  },
  {
   "cell_type": "markdown",
   "metadata": {},
   "source": [
    "> Check if the hypothetical proteins could be scaffold of beta-helix"
   ]
  },
  {
   "cell_type": "code",
   "execution_count": null,
   "metadata": {},
   "outputs": [],
   "source": [
    "path_download = \"/home/concha-eloko/Téléchargements\"\n",
    "path_out = \"/media/concha-eloko/Linux/PhageDEPOdetection\""
   ]
  },
  {
   "cell_type": "code",
   "execution_count": null,
   "metadata": {},
   "outputs": [],
   "source": [
    "import subprocess\n",
    "import os\n",
    "\n",
    "path_project = \"/media/concha-eloko/Linux/depolymerase_building\"\n",
    "path_pdb = f\"{path_project}/phagedepo_out\"\n",
    "path_db = f\"/media/concha-eloko/Linux/depolymerase_building/RefDepo_domains/RefDepo_domains_db\"\n",
    "path_tmp = f\"{path_project}/tmp\"\n",
    "\n",
    "path_download = \"/home/concha-eloko/Téléchargements\"\n",
    "path_out = \"/media/concha-eloko/Linux/PhageDEPOdetection\"\n",
    "\n",
    "def seek_beta_helix(path_in) :\n",
    "    protein_id = path_in.split(\"/\")[-1].split(\".pdb\")[0]\n",
    "    path_output = f\"{path_out}/{protein_id}.out\"\n",
    "    #output_frmt = f\"query,target,pident,alnlen,gapopen,qstart,qend,tstart,tend,bits,prob\"\n",
    "    #seek = f\"foldseek easy-search {path_in} {path_db} {path_out} {path_tmp} --format-output {output_frmt}\"\n",
    "    seek = f\"foldseek easy-search {path_in} {path_db} {path_output}.html {path_tmp} --format-mode 3\"\n",
    "    seek_process = subprocess.Popen(seek, shell=True, stdout=subprocess.PIPE, stderr=subprocess.STDOUT)\n",
    "    press_out, press_err = seek_process.communicate()\n",
    "    print (press_out, press_err)\n",
    "\n",
    "seek_beta_helix(f\"{path_download}/hypothetical_protein.scaffold.pdb\")\n",
    "\n"
   ]
  },
  {
   "cell_type": "markdown",
   "metadata": {},
   "source": [
    "***"
   ]
  },
  {
   "cell_type": "markdown",
   "metadata": {},
   "source": [
    "# Get the metrics"
   ]
  },
  {
   "cell_type": "markdown",
   "metadata": {},
   "source": [
    "> Get the N total of candidates "
   ]
  },
  {
   "cell_type": "code",
   "execution_count": 9,
   "metadata": {},
   "outputs": [
    {
     "name": "stderr",
     "output_type": "stream",
     "text": [
      "100%|████████████████████████████████████████| 133/133 [00:00<00:00, 507.72it/s]\n"
     ]
    },
    {
     "data": {
      "text/plain": [
       "4533"
      ]
     },
     "execution_count": 9,
     "metadata": {},
     "output_type": "execute_result"
    }
   ],
   "source": [
    "# N proteins \n",
    "from tqdm import tqdm\n",
    "import os \n",
    " \n",
    "path_bench = \"/media/concha-eloko/Linux/PhageDEPOdetection/Benchmarking\"\n",
    "\n",
    "all_candidates = set()\n",
    "n= 0\n",
    "for fasta_file in tqdm(os.listdir(path_bench)) :\n",
    "    fastas = SeqIO.parse(f\"{path_bench}/{fasta_file}\" , \"fasta\")\n",
    "    tmp_results = []\n",
    "    for record in fastas :\n",
    "        if len(str(record.seq)) >= 200 :\n",
    "            all_candidates.add(str(record.seq))\n",
    "            n+= 1\n",
    "# N = 4533\n",
    "len(all_candidates)            "
   ]
  },
  {
   "cell_type": "markdown",
   "metadata": {},
   "source": [
    "> Get the M positive Dpos (dataset)\n"
   ]
  },
  {
   "cell_type": "code",
   "execution_count": 10,
   "metadata": {},
   "outputs": [
    {
     "data": {
      "text/plain": [
       "154"
      ]
     },
     "execution_count": 10,
     "metadata": {},
     "output_type": "execute_result"
    }
   ],
   "source": [
    "path_bench_dpo = \"/media/concha-eloko/Linux/PhageDEPOdetection/Benchmarking_Dpos\"\n",
    "\n",
    "m = len(os.listdir(path_bench_dpo))\n",
    "m\n",
    "\n",
    "# M = 154"
   ]
  },
  {
   "cell_type": "code",
   "execution_count": 11,
   "metadata": {},
   "outputs": [],
   "source": [
    "# Create a set of all the positive sequences : \n",
    "\n",
    "dpos_reference = {record.seq for file in os.listdir(path_bench_dpo) for record in SeqIO.parse(f\"{path_bench_dpo}/{file}\", \"fasta\") if len(str(record.seq))>200}\n",
    "len(dpos_reference)\n",
    "\n",
    "dpos_reference_dico = {record.id :record.seq for file in os.listdir(path_bench_dpo) for record in SeqIO.parse(f\"{path_bench_dpo}/{file}\", \"fasta\") if len(str(record.seq))>200}\n",
    "\n"
   ]
  },
  {
   "cell_type": "code",
   "execution_count": 14,
   "metadata": {},
   "outputs": [
    {
     "data": {
      "text/plain": [
       "154"
      ]
     },
     "execution_count": 14,
     "metadata": {},
     "output_type": "execute_result"
    }
   ],
   "source": [
    "len(dpos_reference_dico)"
   ]
  },
  {
   "cell_type": "markdown",
   "metadata": {},
   "source": [
    "***\n",
    "### Get the scores for our model : "
   ]
  },
  {
   "cell_type": "code",
   "execution_count": 12,
   "metadata": {},
   "outputs": [
    {
     "data": {
      "text/plain": [
       "(118, 118)"
      ]
     },
     "execution_count": 12,
     "metadata": {},
     "output_type": "execute_result"
    }
   ],
   "source": [
    "# TP : \n",
    "tp = set()\n",
    "fp = set()\n",
    "for file_fasta in Dpo_class_objects :\n",
    "    for prot in Dpo_class_objects[file_fasta] :\n",
    "        obj = Dpo_class_objects[file_fasta][prot]\n",
    "        if obj.get_seq() in dpos_reference:\n",
    "            tp.add(obj.get_seq())\n",
    "        else :\n",
    "            fp.add(obj.get_seq())\n",
    "\n",
    "len(tp) , len(fp)\n"
   ]
  },
  {
   "cell_type": "markdown",
   "metadata": {},
   "source": [
    "(117, 172) #Old \n",
    "(118, 118) # 3L\n",
    "(118, 127) # 4L\n",
    "==> See if the 5 additional are legit "
   ]
  },
  {
   "cell_type": "code",
   "execution_count": 13,
   "metadata": {},
   "outputs": [
    {
     "data": {
      "text/plain": [
       "236"
      ]
     },
     "execution_count": 13,
     "metadata": {},
     "output_type": "execute_result"
    }
   ],
   "source": [
    "predicted_positives = set()\n",
    "for file_fasta in Dpo_class_objects :\n",
    "    for prot in Dpo_class_objects[file_fasta] :\n",
    "        obj = Dpo_class_objects[file_fasta][prot]\n",
    "        predicted_positives.add(obj.get_seq())\n",
    "        \n",
    "len(predicted_positives)"
   ]
  },
  {
   "cell_type": "markdown",
   "metadata": {},
   "source": [
    "***\n",
    "### Inspect the FN : "
   ]
  },
  {
   "cell_type": "code",
   "execution_count": 14,
   "metadata": {},
   "outputs": [],
   "source": [
    "FN_seq = []\n",
    "for seq in dpos_reference :\n",
    "    if seq not in predicted_positives :\n",
    "        FN_seq.append(seq)"
   ]
  },
  {
   "cell_type": "code",
   "execution_count": 24,
   "metadata": {
    "collapsed": true,
    "jupyter": {
     "outputs_hidden": true,
     "source_hidden": true
    },
    "scrolled": true
   },
   "outputs": [
    {
     "ename": "TypeError",
     "evalue": "'module' object is not callable",
     "output_type": "error",
     "traceback": [
      "\u001b[0;31m---------------------------------------------------------------------------\u001b[0m",
      "\u001b[0;31mTypeError\u001b[0m                                 Traceback (most recent call last)",
      "Cell \u001b[0;32mIn[24], line 2\u001b[0m\n\u001b[1;32m      1\u001b[0m \u001b[38;5;28;01mwith\u001b[39;00m \u001b[38;5;28mopen\u001b[39m(\u001b[38;5;124mf\u001b[39m\u001b[38;5;124m\"\u001b[39m\u001b[38;5;124m/media/concha-eloko/Linux/PhageDEPOdetection/Dpos_reference.T12_FN.3L.2107.multi.fasta\u001b[39m\u001b[38;5;124m\"\u001b[39m, \u001b[38;5;124m\"\u001b[39m\u001b[38;5;124mw\u001b[39m\u001b[38;5;124m\"\u001b[39m) \u001b[38;5;28;01mas\u001b[39;00m outfile : \n\u001b[0;32m----> 2\u001b[0m     \u001b[38;5;28;01mfor\u001b[39;00m fasta_file \u001b[38;5;129;01min\u001b[39;00m \u001b[43mtqdm\u001b[49m\u001b[43m(\u001b[49m\u001b[43mos\u001b[49m\u001b[38;5;241;43m.\u001b[39;49m\u001b[43mlistdir\u001b[49m\u001b[43m(\u001b[49m\u001b[43mpath_out\u001b[49m\u001b[43m)\u001b[49m\u001b[43m)\u001b[49m :\n\u001b[1;32m      3\u001b[0m         fastas \u001b[38;5;241m=\u001b[39m SeqIO\u001b[38;5;241m.\u001b[39mparse(\u001b[38;5;124mf\u001b[39m\u001b[38;5;124m\"\u001b[39m\u001b[38;5;132;01m{\u001b[39;00mpath_out\u001b[38;5;132;01m}\u001b[39;00m\u001b[38;5;124m/\u001b[39m\u001b[38;5;132;01m{\u001b[39;00mfasta_file\u001b[38;5;132;01m}\u001b[39;00m\u001b[38;5;124m\"\u001b[39m , \u001b[38;5;124m\"\u001b[39m\u001b[38;5;124mfasta\u001b[39m\u001b[38;5;124m\"\u001b[39m)\n\u001b[1;32m      4\u001b[0m         tmp_results \u001b[38;5;241m=\u001b[39m []\n",
      "\u001b[0;31mTypeError\u001b[0m: 'module' object is not callable"
     ]
    }
   ],
   "source": [
    "with open(f\"/media/concha-eloko/Linux/PhageDEPOdetection/Dpos_reference.T12_FN.3L.2107.multi.fasta\", \"w\") as outfile : \n",
    "    for fasta_file in tqdm(os.listdir(path_out)) :\n",
    "        fastas = SeqIO.parse(f\"{path_out}/{fasta_file}\" , \"fasta\")\n",
    "        tmp_results = []\n",
    "        for record in fastas :\n",
    "            if str(record.seq) in FN_seq :\n",
    "                outfile.write(f\">{record.description}\\n{record.seq}\\n\\n\")\n",
    "                break\n",
    "        else :\n",
    "            print(record.description)"
   ]
  },
  {
   "cell_type": "code",
   "execution_count": 23,
   "metadata": {},
   "outputs": [
    {
     "data": {
      "text/plain": [
       "31"
      ]
     },
     "execution_count": 23,
     "metadata": {},
     "output_type": "execute_result"
    }
   ],
   "source": [
    "len(set(FN_seq))"
   ]
  },
  {
   "cell_type": "markdown",
   "metadata": {},
   "source": [
    "12 Divide and conquer<br>\n",
    "14 real FN (mostly triple helix)\n",
    "> Check the divide and conquer"
   ]
  },
  {
   "cell_type": "code",
   "execution_count": 38,
   "metadata": {},
   "outputs": [],
   "source": [
    "#fasta_DNC = SeqIO.parse(f\"/media/concha-eloko/Linux/PhageDEPOdetection/Divide_Conquer.txt\", \"fasta\")\n",
    "\n",
    "def divide_and_conquer(fasta, window=1000, slide=250):\n",
    "    sequences = []\n",
    "    for i in range(0, len(fasta) - window + 1, slide):\n",
    "        sequences.append(fasta[i:i+window])\n",
    "    return sequences\n",
    "\n",
    "for record in FN_seq :\n",
    "    aa_seq = str(record)\n",
    "    aa_dnc = divide_and_conquer(aa_seq)\n",
    "    for index, aa_div in enumerate(aa_dnc) :\n",
    "        prediction, sequence_outputs = predict_sequence(model_classifier, aa_div)\n",
    "        if prediction[0] == 1 :\n",
    "            print(record.description , f\"with a Dpo division : {index} fragment\")\n",
    "    "
   ]
  },
  {
   "cell_type": "code",
   "execution_count": 26,
   "metadata": {
    "collapsed": true,
    "jupyter": {
     "outputs_hidden": true
    }
   },
   "outputs": [
    {
     "name": "stdout",
     "output_type": "stream",
     "text": [
      "{'AY349011.3.multi.faa': [((1, 1.0), 'lcl|AY349011.3_prot_AAQ54995.1_60'),\n",
      "                          ((1, 1.0), 'lcl|AY349011.3_prot_AAQ55000.1_65')],\n",
      " 'CP000711.1.multi.faa': [((1, 1.0), 'lcl|CP000711.1_prot_ABQ88383.1_2'),\n",
      "                          ((1, 0.991202712059021), 'lcl|CP000711.1_prot_ABQ88395.1_14')],\n",
      " 'DQ831957.1.multi.faa': [((1, 1.0), 'lcl|DQ831957.1_prot_ABI15697.1_20')],\n",
      " 'DQ834250.1.multi.faa': [((1, 1.0), 'lcl|DQ834250.1_prot_ABI21803.1_19')],\n",
      " 'FJ230960.1.multi.faa': [((1, 1.0), 'lcl|FJ230960.1_prot_ACI90991.1_86'),\n",
      "                          ((1, 1.0), 'lcl|FJ230960.1_prot_ACI91003.1_98'),\n",
      "                          ((1, 1.0), 'lcl|FJ230960.1_prot_ACI91006.1_101')],\n",
      " 'FQ482084.1.multi.faa': [((1, 1.0), 'lcl|FQ482084.1_prot_CBX44498.1_37'),\n",
      "                          ((1, 0.9999966621398926), 'lcl|FQ482084.1_prot_CBX44510.1_49')],\n",
      " 'FR671405.1.multi.faa': [],\n",
      " 'FR671406.1.multi.faa': [((1, 0.9979360103607178), 'lcl|FR671406.1_prot_CBW39009.1_42')],\n",
      " 'FR671407.1.multi.faa': [],\n",
      " 'FR671410.1.multi.faa': [],\n",
      " 'FR671411.1.multi.faa': [],\n",
      " 'GQ413937.1.multi.faa': [((1, 1.0), 'lcl|GQ413937.1_prot_ACY66694.1_32'),\n",
      "                          ((1, 1.0), 'lcl|GQ413937.1_prot_ACY66699.1_37'),\n",
      "                          ((1, 0.9999959468841553), 'lcl|GQ413937.1_prot_ACY66700.1_38')],\n",
      " 'GU196281.1.multi.faa': [((1, 1.0), 'lcl|GU196281.1_prot_ADA82474.1_31')],\n",
      " 'GU323708.1.multi.faa': [],\n",
      " 'HG799490.1.multi.faa': [],\n",
      " 'HG799496.1.multi.faa': [],\n",
      " 'HG799497.1.multi.faa': [],\n",
      " 'HQ632825.1.multi.faa': [((1, 0.9898054599761963), 'lcl|HQ632825.1_prot_AGN12237.1_79'),\n",
      "                          ((1, 1.0), 'lcl|HQ632825.1_prot_AGN12239.1_81'),\n",
      "                          ((1, 0.9948504567146301), 'lcl|HQ632825.1_prot_AGN12240.1_82'),\n",
      "                          ((1, 1.0), 'lcl|HQ632825.1_prot_AGN12247.1_89'),\n",
      "                          ((1, 0.9946962594985962), 'lcl|HQ632825.1_prot_AGN12252.1_94'),\n",
      "                          ((1, 0.9912943243980408), 'lcl|HQ632825.1_prot_AGN12289.1_131'),\n",
      "                          ((1, 0.9617698788642883), 'lcl|HQ632825.1_prot_AGN12301.1_143'),\n",
      "                          ((1, 1.0), 'lcl|HQ632825.1_prot_AGN12302.1_144'),\n",
      "                          ((1, 0.9999955892562866), 'lcl|HQ632825.1_prot_AGN12307.1_149'),\n",
      "                          ((1, 0.9528404474258423), 'lcl|HQ632825.1_prot_AGN12326.1_168'),\n",
      "                          ((1, 0.9334858059883118), 'lcl|HQ632825.1_prot_AGN12328.1_170'),\n",
      "                          ((1, 0.732051432132721), 'lcl|HQ632825.1_prot_AGN12359.1_201'),\n",
      "                          ((1, 0.8833250999450684), 'lcl|HQ632825.1_prot_AGN12408.1_250'),\n",
      "                          ((1, 0.9573630094528198), 'lcl|HQ632825.1_prot_AGN12444.1_286')],\n",
      " 'JX262376.1.multi.faa': [],\n",
      " 'KC330681.1.multi.faa': [((1, 1.0), 'lcl|KC330681.1_prot_AGE60867.1_28')],\n",
      " 'KC330683.1.multi.faa': [((1, 1.0), 'lcl|KC330683.1_prot_AGE61019.1_26')],\n",
      " 'KC556894.1.multi.faa': [((1, 1.0), 'lcl|KC556894.1_prot_AHB81137.1_21'),\n",
      "                          ((1, 0.9999994039535522), 'lcl|KC556894.1_prot_AHB81145.1_29')],\n",
      " 'KC700556.1.multi.faa': [],\n",
      " 'KC700557.1.multi.faa': [],\n",
      " 'KC700558.1.multi.faa': [],\n",
      " 'KC821608.1.multi.faa': [((1, 0.938976526260376), 'lcl|KC821608.1_prot_AGO47420.1_16'),\n",
      "                          ((1, 1.0), 'lcl|KC821608.1_prot_AGO47492.1_88'),\n",
      "                          ((1, 0.9999994039535522), 'lcl|KC821608.1_prot_AGO47494.1_90')],\n",
      " 'KC821610.1.multi.faa': [((1, 1.0), 'lcl|KC821610.1_prot_AGO47740.1_9'),\n",
      "                          ((1, 1.0), 'lcl|KC821610.1_prot_AGO47761.1_30'),\n",
      "                          ((1, 0.9709531664848328), 'lcl|KC821610.1_prot_AGO47783.1_52')],\n",
      " 'KC821621.1.multi.faa': [((1, 0.9999874830245972), 'lcl|KC821621.1_prot_AGO48665.1_30'),\n",
      "                          ((1, 0.9998483657836914), 'lcl|KC821621.1_prot_AGO48677.1_42')],\n",
      " 'KC821625.1.multi.faa': [((1, 0.9999884366989136), 'lcl|KC821625.1_prot_AGO49035.1_24'),\n",
      "                          ((1, 0.9998483657836914), 'lcl|KC821625.1_prot_AGO49047.1_36')],\n",
      " 'KC821629.1.multi.faa': [((1, 1.0), 'lcl|KC821629.1_prot_AGO49248.1_9'),\n",
      "                          ((1, 1.0), 'lcl|KC821629.1_prot_AGO49269.1_30'),\n",
      "                          ((1, 0.9709531664848328), 'lcl|KC821629.1_prot_AGO49291.1_52')],\n",
      " 'KC821630.1.multi.faa': [((1, 1.0), 'lcl|KC821630.1_prot_AGO49328.1_9'),\n",
      "                          ((1, 1.0), 'lcl|KC821630.1_prot_AGO49349.1_30'),\n",
      "                          ((1, 0.9709531664848328), 'lcl|KC821630.1_prot_AGO49371.1_52')],\n",
      " 'KC821633.1.multi.faa': [((1, 1.0), 'lcl|KC821633.1_prot_AGO49696.1_86'),\n",
      "                          ((1, 1.0), 'lcl|KC821633.1_prot_AGO49697.1_87')],\n",
      " 'KC821634.1.multi.faa': [((1, 1.0), 'lcl|KC821634.1_prot_AGO49746.1_9'),\n",
      "                          ((1, 1.0), 'lcl|KC821634.1_prot_AGO49767.1_30'),\n",
      "                          ((1, 0.9709531664848328), 'lcl|KC821634.1_prot_AGO49789.1_52')],\n",
      " 'KF669651.1.multi.faa': [((1, 1.0), 'lcl|KF669651.1_prot_AGY47215.1_28')],\n",
      " 'KF669657.1.multi.faa': [((1, 1.0), 'lcl|KF669657.1_prot_AGY48030.1_13'),\n",
      "                          ((1, 1.0), 'lcl|KF669657.1_prot_AGY48032.1_15')],\n",
      " 'KF669659.1.multi.faa': [((1, 1.0), 'lcl|KF669659.1_prot_AGY48191.1_29')],\n",
      " 'KJ417497.1.multi.faa': [((1, 0.9979360103607178), 'lcl|KJ417497.1_prot_AHN84610.1_23')],\n",
      " 'NC_001423.1.multi.faa': [((1, 1.0), 'lcl|NC_001423.1_prot_NP_040730.1_17')],\n",
      " 'NC_002649.1.multi.faa': [((1, 1.0), 'lcl|NC_002649.1_prot_NP_073695.1_19')],\n",
      " 'NC_002730.1.multi.faa': [((1, 0.993578314781189), 'lcl|NC_002730.1_prot_NP_112082.1_49'),\n",
      "                           ((1, 1.0), 'lcl|NC_002730.1_prot_NP_112090.1_57')],\n",
      " 'NC_003157.5.multi.faa': [((1, 0.9999815225601196), 'lcl|NC_003157.5_prot_NP_438157.1_45')],\n",
      " 'NC_004165.1.multi.faa': [((1, 1.0), 'lcl|NC_004165.1_prot_NP_690646.1_12')],\n",
      " 'NC_004166.2.multi.faa': [((1, 1.0), 'lcl|NC_004166.2_prot_NP_690719.1_63')],\n",
      " 'NC_005344.1.multi.faa': [((1, 0.9976164102554321), 'lcl|NC_005344.1_prot_NP_958184.1_8'),\n",
      "                           ((1, 1.0), 'lcl|NC_005344.1_prot_NP_958190.1_14')],\n",
      " 'NC_006883.2.multi.faa': [((1, 0.9946962594985962), 'lcl|NC_006883.2_prot_YP_214252.1_16'),\n",
      "                           ((1, 1.0), 'lcl|NC_006883.2_prot_YP_214258.1_22'),\n",
      "                           ((1, 0.9948504567146301), 'lcl|NC_006883.2_prot_YP_214265.1_29'),\n",
      "                           ((1, 1.0), 'lcl|NC_006883.2_prot_YP_214266.1_30'),\n",
      "                           ((1, 0.9898054599761963), 'lcl|NC_006883.2_prot_YP_214268.1_32'),\n",
      "                           ((1, 0.9573630094528198), 'lcl|NC_006883.2_prot_YP_214377.1_144'),\n",
      "                           ((1, 0.8833250999450684), 'lcl|NC_006883.2_prot_YP_214419.1_186'),\n",
      "                           ((1, 0.6586599349975586), 'lcl|NC_006883.2_prot_YP_214450.1_217'),\n",
      "                           ((1, 0.732051432132721), 'lcl|NC_006883.2_prot_YP_214466.1_233'),\n",
      "                           ((1, 0.9334858059883118), 'lcl|NC_006883.2_prot_YP_214497.1_264'),\n",
      "                           ((1, 0.9528404474258423), 'lcl|NC_006883.2_prot_YP_214499.1_266'),\n",
      "                           ((1, 0.999992847442627), 'lcl|NC_006883.2_prot_YP_214524.1_293'),\n",
      "                           ((1, 1.0), 'lcl|NC_006883.2_prot_YP_214529.1_298'),\n",
      "                           ((1, 0.9984055161476135), 'lcl|NC_006883.2_prot_YP_214541.1_310')],\n",
      " 'NC_007055.1.multi.faa': [((1, 1.0), 'lcl|NC_007055.1_prot_YP_240092.1_18'),\n",
      "                           ((1, 1.0), 'lcl|NC_007055.1_prot_YP_240100.1_25'),\n",
      "                           ((1, 0.9917433857917786), 'lcl|NC_007055.1_prot_YP_240106.1_30')],\n",
      " 'NC_007636.1.multi.faa': [((1, 1.0), 'lcl|NC_007636.1_prot_YP_424954.1_46'),\n",
      "                           ((1, 1.0), 'lcl|NC_007636.1_prot_YP_424959.1_51')],\n",
      " 'NC_007637.1.multi.faa': [((1, 1.0), 'lcl|NC_007637.1_prot_YP_425011.1_45'),\n",
      "                           ((1, 1.0), 'lcl|NC_007637.1_prot_YP_425027.1_61')],\n",
      " 'NC_008152.1.multi.faa': [((1, 1.0), 'lcl|NC_008152.1_prot_YP_654134.1_36'),\n",
      "                           ((1, 0.9999994039535522), 'lcl|NC_008152.1_prot_YP_654147.1_49'),\n",
      "                           ((1, 1.0), 'lcl|NC_008152.1_prot_YP_654148.1_50')],\n",
      " 'NC_009014.1.multi.faa': [((1, 1.0), 'lcl|NC_009014.1_prot_YP_001039670.1_39'),\n",
      "                           ((1, 0.9999967813491821), 'lcl|NC_009014.1_prot_YP_001039683.1_52')],\n",
      " 'NC_009819.1.multi.faa': [((1, 1.0), 'lcl|NC_009819.1_prot_YP_001469223.1_43')],\n",
      " 'NC_011048.1.multi.faa': [((1, 0.991133987903595), 'lcl|NC_011048.1_prot_YP_002004531.1_8'),\n",
      "                           ((1, 1.0), 'lcl|NC_011048.1_prot_YP_002004541.1_18')],\n",
      " 'NC_011976.1.multi.faa': [((1, 0.9999995231628418), 'lcl|NC_011976.1_prot_YP_002533467.1_8'),\n",
      "                           ((1, 1.0), 'lcl|NC_011976.1_prot_YP_002533478.1_19')],\n",
      " 'NC_014229.1.multi.faa': [((1, 1.0), 'lcl|NC_014229.1_prot_YP_003714746.1_19')],\n",
      " 'NC_015208.1.multi.faa': [((1, 1.0), 'lcl|NC_015208.1_prot_YP_004286217.1_39'),\n",
      "                           ((1, 1.0), 'lcl|NC_015208.1_prot_YP_004286222.1_44')],\n",
      " 'NC_015295.1.multi.faa': [((1, 1.0), 'lcl|NC_015295.1_prot_YP_004327331.1_28')],\n",
      " 'NC_015296.1.multi.faa': [((1, 0.7526516318321228), 'lcl|NC_015296.1_prot_YP_004327379.1_8'),\n",
      "                           ((1, 1.0), 'lcl|NC_015296.1_prot_YP_004327541.1_170'),\n",
      "                           ((1, 1.0), 'lcl|NC_015296.1_prot_YP_004327543.1_172'),\n",
      "                           ((1, 1.0), 'lcl|NC_015296.1_prot_YP_004327544.1_173')],\n",
      " 'NC_016071.1.multi.faa': [((1, 1.0), 'lcl|NC_016071.1_prot_YP_004893846.1_39'),\n",
      "                           ((1, 1.0), 'lcl|NC_016071.1_prot_YP_004893855.1_48')],\n",
      " 'NC_017971.2.multi.faa': [((1, 0.8104351162910461), 'lcl|NC_017971.2_prot_YP_006382480.1_20'),\n",
      "                           ((1, 1.0), 'lcl|NC_017971.2_prot_YP_006382515.1_57')],\n",
      " 'NC_017972.1.multi.faa': [((1, 0.993775486946106), 'lcl|NC_017972.1_prot_YP_006382559.1_29'),\n",
      "                           ((1, 0.9999983310699463), 'lcl|NC_017972.1_prot_YP_006382571.1_41'),\n",
      "                           ((1, 0.8503445982933044), 'lcl|NC_017972.1_prot_YP_006382723.1_193')],\n",
      " 'NC_017980.1.multi.faa': [((1, 1.0), 'lcl|NC_017980.1_prot_YP_006383591.1_10')],\n",
      " 'NC_017981.1.multi.faa': [((1, 0.9999994039535522), 'lcl|NC_017981.1_prot_YP_006383636.1_29')],\n",
      " 'NC_018083.1.multi.faa': [((1, 1.0), 'lcl|NC_018083.1_prot_YP_006488624.1_9')],\n",
      " 'NC_018084.1.multi.faa': [((1, 1.0), 'lcl|NC_018084.1_prot_YP_006488654.1_11')],\n",
      " 'NC_018281.1.multi.faa': [((1, 1.0), 'lcl|NC_018281.1_prot_YP_006560960.1_19')],\n",
      " 'NC_018284.1.multi.faa': [((1, 1.0), 'lcl|NC_018284.1_prot_YP_006561180.1_18')],\n",
      " 'NC_018836.1.multi.faa': [],\n",
      " 'NC_018856.1.multi.faa': [((1, 0.9998039603233337), 'lcl|NC_018856.1_prot_YP_006907302.1_12'),\n",
      "                           ((1, 0.8449317812919617), 'lcl|NC_018856.1_prot_YP_006907364.1_74')],\n",
      " 'NC_018857.1.multi.faa': [((1, 0.9945706725120544), 'lcl|NC_018857.1_prot_YP_006907568.1_9'),\n",
      "                           ((1, 0.997320830821991), 'lcl|NC_018857.1_prot_YP_006907769.1_210'),\n",
      "                           ((1, 0.9998039603233337), 'lcl|NC_018857.1_prot_YP_006907824.1_265')],\n",
      " 'NC_019400.1.multi.faa': [((1, 1.0), 'lcl|NC_019400.1_prot_YP_006987059.1_226'),\n",
      "                           ((1, 1.0), 'lcl|NC_019400.1_prot_YP_006987068.1_235')],\n",
      " 'NC_019401.1.multi.faa': [((1, 1.0), 'lcl|NC_019401.1_prot_YP_006987103.1_1'),\n",
      "                           ((1, 0.5309128165245056), 'lcl|NC_019401.1_prot_YP_006987215.1_113'),\n",
      "                           ((1, 1.0), 'lcl|NC_019401.1_prot_YP_006987233.1_131'),\n",
      "                           ((1, 0.999077320098877), 'lcl|NC_019401.1_prot_YP_006987250.1_148'),\n",
      "                           ((1, 1.0), 'lcl|NC_019401.1_prot_YP_006987339.1_237'),\n",
      "                           ((1, 0.8753073811531067), 'lcl|NC_019401.1_prot_YP_006987520.1_418'),\n",
      "                           ((1, 0.9990604519844055), 'lcl|NC_019401.1_prot_YP_006987587.1_485')],\n",
      " 'NC_019403.1.multi.faa': [((1, 1.0), 'lcl|NC_019403.1_prot_YP_006987800.1_38'),\n",
      "                           ((1, 1.0), 'lcl|NC_019403.1_prot_YP_006987816.1_54')],\n",
      " 'NC_019414.1.multi.faa': [],\n",
      " 'NC_019446.1.multi.faa': [((1, 1.0), 'lcl|NC_019446.1_prot_YP_007002029.1_21'),\n",
      "                           ((1, 0.9999994039535522), 'lcl|NC_019446.1_prot_YP_007002037.1_29')],\n",
      " 'NC_019454.1.multi.faa': [((1, 1.0), 'lcl|NC_019454.1_prot_YP_007002897.1_44'),\n",
      "                           ((1, 1.0), 'lcl|NC_019454.1_prot_YP_007002901.1_48')],\n",
      " 'NC_019487.1.multi.faa': [((1, 1.0), 'lcl|NC_019487.1_prot_YP_007003328.1_71'),\n",
      "                           ((1, 1.0), 'lcl|NC_019487.1_prot_YP_007003341.1_84')],\n",
      " 'NC_019510.1.multi.faa': [((1, 1.0), 'lcl|NC_019510.1_prot_YP_007005461.1_37'),\n",
      "                           ((1, 1.0), 'lcl|NC_019510.1_prot_YP_007005466.1_42')],\n",
      " 'NC_019523.1.multi.faa': [((1, 1.0), 'lcl|NC_019523.1_prot_YP_007006998.1_21')],\n",
      " 'NC_019526.1.multi.faa': [((1, 1.0), 'lcl|NC_019526.1_prot_YP_007007233.1_78'),\n",
      "                           ((1, 0.9992496371269226), 'lcl|NC_019526.1_prot_YP_007007304.1_149'),\n",
      "                           ((1, 0.7901864051818848), 'lcl|NC_019526.1_prot_YP_007007396.1_241'),\n",
      "                           ((1, 0.9890545606613159), 'lcl|NC_019526.1_prot_YP_007007653.1_498'),\n",
      "                           ((1, 0.8642849326133728), 'lcl|NC_019526.1_prot_YP_007007677.1_522'),\n",
      "                           ((1, 1.0), 'lcl|NC_019526.1_prot_YP_007007680.1_525'),\n",
      "                           ((1, 1.0), 'lcl|NC_019526.1_prot_YP_007007682.1_527'),\n",
      "                           ((1, 1.0), 'lcl|NC_019526.1_prot_YP_007007683.1_528'),\n",
      "                           ((1, 0.9999995231628418), 'lcl|NC_019526.1_prot_YP_007007684.1_529'),\n",
      "                           ((1, 1.0), 'lcl|NC_019526.1_prot_YP_007007685.1_530'),\n",
      "                           ((1, 1.0), 'lcl|NC_019526.1_prot_YP_007007686.1_531'),\n",
      "                           ((1, 1.0), 'lcl|NC_019526.1_prot_YP_007007687.1_532'),\n",
      "                           ((1, 1.0), 'lcl|NC_019526.1_prot_YP_007007688.1_533')],\n",
      " 'NC_019530.1.multi.faa': [((1, 0.9983910918235779), 'lcl|NC_019530.1_prot_YP_007007993.1_13'),\n",
      "                           ((1, 1.0), 'lcl|NC_019530.1_prot_YP_007008116.1_136'),\n",
      "                           ((1, 1.0), 'lcl|NC_019530.1_prot_YP_007008117.1_137'),\n",
      "                           ((1, 1.0), 'lcl|NC_019530.1_prot_YP_007008118.1_138'),\n",
      "                           ((1, 1.0), 'lcl|NC_019530.1_prot_YP_007008119.1_139')],\n",
      " 'NC_019917.1.multi.faa': [((1, 1.0), 'lcl|NC_019917.1_prot_YP_007236804.1_58'),\n",
      "                           ((1, 1.0), 'lcl|NC_019917.1_prot_YP_007236809.1_63')],\n",
      " 'NC_019923.1.multi.faa': [((1, 1.0), 'lcl|NC_019923.1_prot_YP_007237187.1_12'),\n",
      "                           ((1, 1.0), 'lcl|NC_019923.1_prot_YP_007237194.1_19')],\n",
      " 'NC_019929.1.multi.faa': [((1, 0.9999914169311523), 'lcl|NC_019929.1_prot_YP_007237708.1_58'),\n",
      "                           ((1, 0.9535592794418335), 'lcl|NC_019929.1_prot_YP_007237745.1_95'),\n",
      "                           ((1, 0.8417696952819824), 'lcl|NC_019929.1_prot_YP_007237865.1_215')],\n",
      " 'NC_020078.1.multi.faa': [((1, 1.0), 'lcl|NC_020078.1_prot_YP_007348357.1_38'),\n",
      "                           ((1, 1.0), 'lcl|NC_020078.1_prot_YP_007348361.1_42')],\n",
      " 'NC_020079.1.multi.faa': [((1, 1.0), 'lcl|NC_020079.1_prot_YP_007348539.1_171'),\n",
      "                           ((1, 1.0), 'lcl|NC_020079.1_prot_YP_007348546.1_178'),\n",
      "                           ((1, 1.0), 'lcl|NC_020079.1_prot_YP_007348548.1_180'),\n",
      "                           ((1, 0.9991809725761414), 'lcl|NC_020079.1_prot_YP_007348585.1_217')],\n",
      " 'NC_020081.2.multi.faa': [((1, 0.9994587302207947), 'lcl|NC_020081.2_prot_YP_007349326.1_83'),\n",
      "                           ((1, 0.9873887300491333), 'lcl|NC_020081.2_prot_YP_007349330.1_87'),\n",
      "                           ((1, 0.999998927116394), 'lcl|NC_020081.2_prot_YP_007349374.1_131'),\n",
      "                           ((1, 0.9984155893325806), 'lcl|NC_020081.2_prot_YP_007349234.1_195'),\n",
      "                           ((1, 1.0), 'lcl|NC_020081.2_prot_YP_007349242.1_203')],\n",
      " 'NC_020083.1.multi.faa': [((1, 0.9976931214332581), 'lcl|NC_020083.1_prot_YP_007348992.1_13'),\n",
      "                           ((1, 1.0), 'lcl|NC_020083.1_prot_YP_007349010.1_31'),\n",
      "                           ((1, 1.0), 'lcl|NC_020083.1_prot_YP_007349013.1_34'),\n",
      "                           ((1, 1.0), 'lcl|NC_020083.1_prot_YP_007349016.1_37'),\n",
      "                           ((1, 1.0), 'lcl|NC_020083.1_prot_YP_007349017.1_38'),\n",
      "                           ((1, 1.0), 'lcl|NC_020083.1_prot_YP_007349020.1_41')],\n",
      " 'NC_020477.1.multi.faa': [((1, 1.0), 'lcl|NC_020477.1_prot_YP_007517417.1_27')],\n",
      " 'NC_020478.1.multi.faa': [((1, 1.0), 'lcl|NC_020478.1_prot_YP_007517493.1_28')],\n",
      " 'NC_020479.1.multi.faa': [((1, 1.0), 'lcl|NC_020479.1_prot_YP_007517572.1_28')],\n",
      " 'NC_020842.1.multi.faa': [((1, 0.9998483657836914), 'lcl|NC_020842.1_prot_YP_007673446.1_64'),\n",
      "                           ((1, 0.9999874830245972), 'lcl|NC_020842.1_prot_YP_007673458.1_76')],\n",
      " 'NC_020860.1.multi.faa': [((1, 1.0), 'lcl|NC_020860.1_prot_YP_007675684.1_8'),\n",
      "                           ((1, 1.0), 'lcl|NC_020860.1_prot_YP_007675705.1_29'),\n",
      "                           ((1, 0.9709531664848328), 'lcl|NC_020860.1_prot_YP_007675729.1_53')],\n",
      " 'NC_020883.1.multi.faa': [((1, 1.0), 'lcl|NC_020883.1_prot_YP_007678034.1_8'),\n",
      "                           ((1, 1.0), 'lcl|NC_020883.1_prot_YP_007678101.1_75')],\n",
      " 'NC_021336.1.multi.faa': [((1, 0.9999998807907104), 'lcl|NC_021336.1_prot_YP_008060120.1_31')],\n",
      " 'NC_021563.1.multi.faa': [((1, 1.0), 'lcl|NC_021563.1_prot_YP_008130362.1_69')],\n",
      " 'NC_021792.1.multi.faa': [((1, 1.0), 'lcl|NC_021792.1_prot_YP_008241124.1_81'),\n",
      "                           ((1, 0.9999990463256836), 'lcl|NC_021792.1_prot_YP_008241126.1_83'),\n",
      "                           ((1, 0.9983407258987427), 'lcl|NC_021792.1_prot_YP_008241156.1_113')],\n",
      " 'NC_021802.1.multi.faa': [((1, 1.0), 'lcl|NC_021802.1_prot_YP_008242011.1_92'),\n",
      "                           ((1, 0.9999990463256836), 'lcl|NC_021802.1_prot_YP_008242013.1_94')],\n",
      " 'NC_021804.1.multi.faa': [((1, 1.0), 'lcl|NC_021804.1_prot_YP_008242178.1_26')],\n",
      " 'NC_022761.1.multi.faa': [((1, 1.0), 'lcl|NC_022761.1_prot_YP_008770022.1_88'),\n",
      "                           ((1, 1.0), 'lcl|NC_022761.1_prot_YP_008770031.1_97'),\n",
      "                           ((1, 1.0), 'lcl|NC_022761.1_prot_YP_008770033.1_99'),\n",
      "                           ((1, 1.0), 'lcl|NC_022761.1_prot_YP_008770036.1_102')],\n",
      " 'NC_022763.1.multi.faa': [((1, 0.9999151229858398), 'lcl|NC_022763.1_prot_YP_008770307.1_83'),\n",
      "                           ((1, 0.9869410395622253), 'lcl|NC_022763.1_prot_YP_008770352.1_128')],\n",
      " 'NC_022764.1.multi.faa': [((1, 1.0), 'lcl|NC_022764.1_prot_YP_008770520.1_13'),\n",
      "                           ((1, 1.0), 'lcl|NC_022764.1_prot_YP_008770522.1_15')],\n",
      " 'NC_022767.1.multi.faa': [((1, 0.9676909446716309), 'lcl|NC_022767.1_prot_YP_008770725.1_11'),\n",
      "                           ((1, 0.6663845181465149), 'lcl|NC_022767.1_prot_YP_008770743.1_29'),\n",
      "                           ((1, 1.0), 'lcl|NC_022767.1_prot_YP_008770761.1_47')],\n",
      " 'NC_022768.1.multi.faa': [((1, 1.0), 'lcl|NC_022768.1_prot_YP_008770865.1_38'),\n",
      "                           ((1, 1.0), 'lcl|NC_022768.1_prot_YP_008770866.1_39'),\n",
      "                           ((1, 1.0), 'lcl|NC_022768.1_prot_YP_008770867.1_40'),\n",
      "                           ((1, 1.0), 'lcl|NC_022768.1_prot_YP_008770868.1_41'),\n",
      "                           ((1, 0.995812714099884), 'lcl|NC_022768.1_prot_YP_008771015.1_188'),\n",
      "                           ((1, 0.7526516318321228), 'lcl|NC_022768.1_prot_YP_008771023.1_196')],\n",
      " 'NC_022769.1.multi.faa': [((1, 1.0), 'lcl|NC_022769.1_prot_YP_008771112.1_85'),\n",
      "                           ((1, 0.9478498697280884), 'lcl|NC_022769.1_prot_YP_008771137.1_110'),\n",
      "                           ((1, 0.9975287318229675), 'lcl|NC_022769.1_prot_YP_008771155.1_128'),\n",
      "                           ((1, 0.7914606928825378), 'lcl|NC_022769.1_prot_YP_008771175.1_148'),\n",
      "                           ((1, 0.8936008214950562), 'lcl|NC_022769.1_prot_YP_008771195.1_168')],\n",
      " 'NC_022770.1.multi.faa': [((1, 1.0), 'lcl|NC_022770.1_prot_YP_008771331.1_13'),\n",
      "                           ((1, 1.0), 'lcl|NC_022770.1_prot_YP_008771333.1_15')],\n",
      " 'NC_022771.1.multi.faa': [((1, 1.0), 'lcl|NC_022771.1_prot_YP_008771399.1_33'),\n",
      "                           ((1, 0.9998519420623779), 'lcl|NC_022771.1_prot_YP_008771507.1_141')],\n",
      " 'NC_022772.1.multi.faa': [((1, 1.0), 'lcl|NC_022772.1_prot_YP_008771656.1_38'),\n",
      "                           ((1, 1.0), 'lcl|NC_022772.1_prot_YP_008771657.1_39'),\n",
      "                           ((1, 1.0), 'lcl|NC_022772.1_prot_YP_008771658.1_40'),\n",
      "                           ((1, 1.0), 'lcl|NC_022772.1_prot_YP_008771659.1_41'),\n",
      "                           ((1, 0.995812714099884), 'lcl|NC_022772.1_prot_YP_008771809.1_191')],\n",
      " 'NC_023501.1.multi.faa': [((1, 0.5087072849273682), 'lcl|NC_023501.1_prot_YP_009002895.1_9'),\n",
      "                           ((1, 0.9983407258987427), 'lcl|NC_023501.1_prot_YP_009002929.1_43'),\n",
      "                           ((1, 0.997320830821991), 'lcl|NC_023501.1_prot_YP_009003097.1_211'),\n",
      "                           ((1, 0.9998039603233337), 'lcl|NC_023501.1_prot_YP_009003154.1_268')],\n",
      " 'NC_023557.1.multi.faa': [((1, 1.0), 'lcl|NC_023557.1_prot_YP_009004811.1_19'),\n",
      "                           ((1, 0.9995167255401611), 'lcl|NC_023557.1_prot_YP_009004813.1_21'),\n",
      "                           ((1, 1.0), 'lcl|NC_023557.1_prot_YP_009004842.1_50'),\n",
      "                           ((1, 0.9999984502792358), 'lcl|NC_023557.1_prot_YP_009004869.1_77'),\n",
      "                           ((1, 0.9997567534446716), 'lcl|NC_023557.1_prot_YP_009004878.1_86')],\n",
      " 'NC_023579.1.multi.faa': [((1, 0.8726022243499756), 'lcl|NC_023579.1_prot_YP_009007376.1_3'),\n",
      "                           ((1, 1.0), 'lcl|NC_023579.1_prot_YP_009007463.1_90')],\n",
      " 'NC_023582.1.multi.faa': [((1, 1.0), 'lcl|NC_023582.1_prot_YP_009007688.1_25'),\n",
      "                           ((1, 0.9994896650314331), 'lcl|NC_023582.1_prot_YP_009007713.1_50'),\n",
      "                           ((1, 0.999998927116394), 'lcl|NC_023582.1_prot_YP_009007735.1_72')],\n",
      " 'NC_023610.1.multi.faa': [((1, 0.9864730834960938), 'lcl|NC_023610.1_prot_YP_009010131.1_78'),\n",
      "                           ((1, 0.9999988079071045), 'lcl|NC_023610.1_prot_YP_009010167.1_114'),\n",
      "                           ((1, 0.9999966621398926), 'lcl|NC_023610.1_prot_YP_009010213.1_160'),\n",
      "                           ((1, 0.9904689192771912), 'lcl|NC_023610.1_prot_YP_009010235.1_182'),\n",
      "                           ((1, 0.9999998807907104), 'lcl|NC_023610.1_prot_YP_009010241.1_188')],\n",
      " 'NC_023693.1.multi.faa': [((1, 0.9348618388175964), 'lcl|NC_023693.1_prot_YP_009012470.1_139'),\n",
      "                           ((1, 1.0), 'lcl|NC_023693.1_prot_YP_009012475.1_144'),\n",
      "                           ((1, 1.0), 'lcl|NC_023693.1_prot_YP_009012482.1_151'),\n",
      "                           ((1, 0.8118103742599487), 'lcl|NC_023693.1_prot_YP_009012497.1_166'),\n",
      "                           ((1, 0.9993846416473389), 'lcl|NC_023693.1_prot_YP_009012518.1_187')],\n",
      " 'NC_023694.1.multi.faa': [((1, 0.9999994039535522), 'lcl|NC_023694.1_prot_YP_009012582.1_1'),\n",
      "                           ((1, 1.0), 'lcl|NC_023694.1_prot_YP_009012583.1_2')],\n",
      " 'NC_023735.1.multi.faa': [((1, 0.9999992847442627), 'lcl|NC_023735.1_prot_YP_009017615.1_1')],\n",
      " 'NC_024205.1.multi.faa': [((1, 0.9998039603233337), 'lcl|NC_024205.1_prot_YP_009035268.1_71'),\n",
      "                           ((1, 0.826347827911377), 'lcl|NC_024205.1_prot_YP_009035330.1_133')],\n",
      " 'NC_024211.1.multi.faa': [((1, 0.9996565580368042), 'lcl|NC_024211.1_prot_YP_009036138.1_67'),\n",
      "                           ((1, 0.9998039603233337), 'lcl|NC_024211.1_prot_YP_009036150.1_79'),\n",
      "                           ((1, 0.9966936111450195), 'lcl|NC_024211.1_prot_YP_009036208.1_137')],\n",
      " 'NC_024213.1.multi.faa': [((1, 0.9997007846832275), 'lcl|NC_024213.1_prot_YP_009036515.1_66'),\n",
      "                           ((1, 0.9998039603233337), 'lcl|NC_024213.1_prot_YP_009036526.1_77'),\n",
      "                           ((1, 0.9966936111450195), 'lcl|NC_024213.1_prot_YP_009036585.1_136')],\n",
      " 'NC_024216.1.multi.faa': [((1, 0.9998207688331604), 'lcl|NC_024216.1_prot_YP_009036975.1_72'),\n",
      "                           ((1, 0.9727349281311035), 'lcl|NC_024216.1_prot_YP_009037037.1_134')],\n",
      " 'NC_024355.1.multi.faa': [((1, 1.0), 'lcl|NC_024355.1_prot_YP_009042546.1_40'),\n",
      "                           ((1, 0.9998844861984253), 'lcl|NC_024355.1_prot_YP_009042601.1_95')],\n",
      " 'NC_024378.1.multi.faa': [((1, 0.9999994039535522), 'lcl|NC_024378.1_prot_YP_009044242.1_35')],\n",
      " 'NC_024792.1.multi.faa': [((1, 0.9991795420646667), 'lcl|NC_024792.1_prot_YP_009056307.1_38'),\n",
      "                           ((1, 0.8895989060401917), 'lcl|NC_024792.1_prot_YP_009056380.1_111'),\n",
      "                           ((1, 0.9873887300491333), 'lcl|NC_024792.1_prot_YP_009056384.1_115'),\n",
      "                           ((1, 1.0), 'lcl|NC_024792.1_prot_YP_009056509.1_240')],\n",
      " 'NC_025422.1.multi.faa': [((1, 0.9648457169532776), 'lcl|NC_025422.1_prot_YP_009098850.1_92'),\n",
      "                           ((1, 0.9969960451126099), 'lcl|NC_025422.1_prot_YP_009098876.1_118'),\n",
      "                           ((1, 1.0), 'lcl|NC_025422.1_prot_YP_009098911.1_153'),\n",
      "                           ((1, 1.0), 'lcl|NC_025422.1_prot_YP_009098974.1_216'),\n",
      "                           ((1, 0.5676836967468262), 'lcl|NC_025422.1_prot_YP_009099038.1_280')],\n",
      " 'NC_025446.1.multi.faa': [((1, 0.9986860156059265), 'lcl|NC_025446.1_prot_YP_009101470.1_74'),\n",
      "                           ((1, 1.0), 'lcl|NC_025446.1_prot_YP_009101511.1_115'),\n",
      "                           ((1, 1.0), 'lcl|NC_025446.1_prot_YP_009101512.1_116'),\n",
      "                           ((1, 1.0), 'lcl|NC_025446.1_prot_YP_009101514.1_118'),\n",
      "                           ((1, 1.0), 'lcl|NC_025446.1_prot_YP_009101515.1_119')],\n",
      " 'NC_027351.1.multi.faa': [((1, 1.0), 'lcl|NC_027351.1_prot_YP_009148835.1_39'),\n",
      "                           ((1, 1.0), 'lcl|NC_027351.1_prot_YP_009148844.1_48')],\n",
      " 'NC_027364.1.multi.faa': [((1, 1.0), 'lcl|NC_027364.1_prot_YP_009150315.1_1'),\n",
      "                           ((1, 0.8660647869110107), 'lcl|NC_027364.1_prot_YP_009150355.1_41'),\n",
      "                           ((1, 1.0), 'lcl|NC_027364.1_prot_YP_009150385.1_71'),\n",
      "                           ((1, 0.7449196577072144), 'lcl|NC_027364.1_prot_YP_009150407.1_93'),\n",
      "                           ((1, 0.9581729769706726), 'lcl|NC_027364.1_prot_YP_009150461.1_147'),\n",
      "                           ((1, 1.0), 'lcl|NC_027364.1_prot_YP_009150600.1_286'),\n",
      "                           ((1, 1.0), 'lcl|NC_027364.1_prot_YP_009150601.1_287'),\n",
      "                           ((1, 1.0), 'lcl|NC_027364.1_prot_YP_009150602.1_288'),\n",
      "                           ((1, 1.0), 'lcl|NC_027364.1_prot_YP_009150603.1_289'),\n",
      "                           ((1, 1.0), 'lcl|NC_027364.1_prot_YP_009150604.1_290'),\n",
      "                           ((1, 0.9999982118606567), 'lcl|NC_027364.1_prot_YP_009150605.1_291'),\n",
      "                           ((1, 0.9999986886978149), 'lcl|NC_027364.1_prot_YP_009150606.1_292'),\n",
      "                           ((1, 1.0), 'lcl|NC_027364.1_prot_YP_009150608.1_294'),\n",
      "                           ((1, 1.0), 'lcl|NC_027364.1_prot_YP_009150609.1_295'),\n",
      "                           ((1, 0.9999990463256836), 'lcl|NC_027364.1_prot_YP_009150610.1_296'),\n",
      "                           ((1, 0.860704779624939), 'lcl|NC_027364.1_prot_YP_009150758.1_444'),\n",
      "                           ((1, 1.0), 'lcl|NC_027364.1_prot_YP_009150848.1_534'),\n",
      "                           ((1, 1.0), 'lcl|NC_027364.1_prot_YP_009150861.1_547')],\n",
      " 'NC_027993.1.multi.faa': [((1, 1.0), 'lcl|NC_027993.1_prot_YP_009168811.1_31')],\n",
      " 'NC_027994.1.multi.faa': [((1, 1.0), 'lcl|NC_027994.1_prot_YP_009168860.1_28')],\n",
      " 'NC_041856.1.multi.faa': [((1, 1.0), 'lcl|NC_041856.1_prot_YP_009592102.1_23')],\n",
      " 'NC_041897.1.multi.faa': [((1, 1.0), 'lcl|NC_041897.1_prot_YP_009597310.1_30')],\n",
      " 'NC_048629.1.multi.faa': [((1, 1.0), 'lcl|NC_048629.1_prot_YP_009829936.1_10')],\n",
      " 'NC_048631.1.multi.faa': [((1, 1.0), 'lcl|NC_048631.1_prot_YP_009829893.1_19')],\n",
      " 'NC_049976.1.multi.faa': [((1, 1.0), 'lcl|NC_049976.1_prot_YP_009910729.1_16')]}\n"
     ]
    }
   ],
   "source": [
    "import pprint\n",
    "pp = pprint.PrettyPrinter(width = 100, sort_dicts = True, compact = False)\n",
    "pp.pprint(prediction_results)\n"
   ]
  },
  {
   "cell_type": "markdown",
   "metadata": {},
   "source": [
    "***\n",
    "### The alleged FP :\n",
    "> Switch to the python base environment "
   ]
  },
  {
   "cell_type": "code",
   "execution_count": 20,
   "metadata": {},
   "outputs": [],
   "source": [
    "FP_seq = []\n",
    "for seq in predicted_positives :\n",
    "    if seq not in dpos_reference :\n",
    "        FP_seq.append(seq)"
   ]
  },
  {
   "cell_type": "code",
   "execution_count": 22,
   "metadata": {},
   "outputs": [
    {
     "data": {
      "text/plain": [
       "(122, 83)"
      ]
     },
     "execution_count": 22,
     "metadata": {},
     "output_type": "execute_result"
    }
   ],
   "source": [
    "p =0\n",
    "for seq in FP_seq :\n",
    "    if len(seq) > 400 :\n",
    "        p += 1\n",
    "len(FP_seq), p"
   ]
  },
  {
   "cell_type": "code",
   "execution_count": 24,
   "metadata": {},
   "outputs": [
    {
     "name": "stderr",
     "output_type": "stream",
     "text": [
      "100%|██████████████████████████████████████████████████████████████████████████████████████████████████████████████████████| 133/133 [00:00<00:00, 1510.59it/s]\n"
     ]
    }
   ],
   "source": [
    "with open(f\"/media/concha-eloko/Linux/PhageDEPOdetection/Dpos_reference.T12_FP.3L_2007.multi.fasta\", \"w\") as outfile : \n",
    "    for fasta_file in tqdm(os.listdir(path_out)) :\n",
    "        fastas = SeqIO.parse(f\"{path_out}/{fasta_file}\" , \"fasta\")\n",
    "        tmp_results = []\n",
    "        for record in fastas :\n",
    "            if str(record.seq) in FP_seq :\n",
    "                outfile.write(f\">{record.description}\\n{record.seq}\\n\\n\")"
   ]
  },
  {
   "cell_type": "code",
   "execution_count": null,
   "metadata": {},
   "outputs": [],
   "source": [
    "for seq in fp :\n",
    "    if len(seq) > 200 : \n",
    "        for fasta_file in Dpo_class_objects :\n",
    "            for prot in Dpo_class_objects[fasta_file] :\n",
    "                if Dpo_class_objects[fasta_file][prot].get_seq() == str(seq) :\n",
    "                    print(fasta_file,Dpo_class_objects[fasta_file][prot].name , Dpo_class_objects[fasta_file][prot].prediction ,Dpo_class_objects[fasta_file][prot].get_seq() , sep = \"\\n\")\n",
    "                    Dpo_class_objects[fasta_file][prot].plot_token()\n",
    "                    print(\"\\n\")\n",
    "\n"
   ]
  },
  {
   "cell_type": "code",
   "execution_count": null,
   "metadata": {},
   "outputs": [],
   "source": [
    "Make ESMfold on FP predictions and FN :\n",
    "\n",
    "rsync -avzhe ssh \\\n",
    "/media/concha-eloko/Linux/PhageDEPOdetection/Dpos_reference.T12_FP.multi.fasta \\\n",
    "conchae@garnatxa.srv.cpd:/home/conchae/\n",
    "\n",
    "rsync -avzhe ssh \\\n",
    "/media/concha-eloko/Linux/PhageDEPOdetection/Dpos_reference.T12_FN.3L.2107.multi.fasta \\\n",
    "conchae@garnatxa.srv.cpd:/home/conchae/\n",
    "\n",
    "rsync -avzhe ssh \\\n",
    "/media/concha-eloko/Linux/PhageDEPOdetection/Dpos_reference.T12_FN.3L.2107.multi.fasta \\\n",
    "conchae@garnatxa.srv.cpd:/home/conchae/\n"
   ]
  },
  {
   "cell_type": "code",
   "execution_count": null,
   "metadata": {},
   "outputs": [],
   "source": []
  }
 ],
 "metadata": {
  "kernelspec": {
   "display_name": "ML_work",
   "language": "python",
   "name": "ml_work"
  },
  "language_info": {
   "codemirror_mode": {
    "name": "ipython",
    "version": 3
   },
   "file_extension": ".py",
   "mimetype": "text/x-python",
   "name": "python",
   "nbconvert_exporter": "python",
   "pygments_lexer": "ipython3",
   "version": "3.11.4"
  },
  "widgets": {
   "application/vnd.jupyter.widget-state+json": {
    "state": {},
    "version_major": 2,
    "version_minor": 0
   }
  }
 },
 "nbformat": 4,
 "nbformat_minor": 4
}
