{
 "cells": [
  {
   "cell_type": "code",
   "execution_count": 8,
   "metadata": {},
   "outputs": [],
   "source": [
    "path_PL16 = \"/media/concha-eloko/Linux/PhageDEPOdetection/PL16_proteins\"\n",
    "import os \n",
    "from Bio import SeqIO\n",
    "n = 0\n",
    "\n",
    "sequences_to_ATLAS = {}\n",
    "sequences_to_ATLAS_set = set()\n",
    "for file in os.listdir(path_PL16) :\n",
    "    seq = SeqIO.parse(f\"{path_PL16}/{file}\" , \"fasta\") \n",
    "    for record in seq : \n",
    "        name = file.split(\".multi\")[0]\n",
    "        sequence = str(record.seq)\n",
    "        if len(sequence) < 400 :\n",
    "            sequences_to_ATLAS_set.add(sequence)\n",
    "                \n",
    "with open(f\"{path_PL16}/PL16.index.multi.fasta\" , \"w\") as outfile : \n",
    "    for index, seq in enumerate(list(sequences_to_ATLAS_set)) :\n",
    "        outfile.write(f\">PL16__{index}\\n{seq}\\n\")"
   ]
  },
  {
   "cell_type": "markdown",
   "metadata": {},
   "source": [
    "> ESMfold server predictions :"
   ]
  },
  {
   "cell_type": "code",
   "execution_count": 5,
   "metadata": {},
   "outputs": [],
   "source": [
    "from selenium import webdriver\n",
    "from selenium.webdriver.support.ui import Select\n",
    "from webdriver_manager.firefox import GeckoDriverManager\n",
    "from selenium.webdriver.common.by import By\n",
    "from selenium.webdriver.firefox.options import Options\n",
    "from selenium.webdriver.support.ui import WebDriverWait\n",
    "from selenium.webdriver.support import expected_conditions as EC\n",
    "import os \n",
    "\n",
    "path_download = \"/home/concha-eloko/Téléchargements\"\n",
    "path_out = \"/media/concha-eloko/Linux/PhageDEPOdetection/PL16_proteins_pdb\"\n",
    "\n",
    "path_driver = \"/home/concha-eloko/.wdm/drivers/geckodriver/linux64/0.33/geckodriver\"\n",
    "\n",
    "def setup_driver():\n",
    "    firefox_options = Options()\n",
    "    firefox_options.add_argument(\"--headless\")\n",
    "    driver = webdriver.Firefox(executable_path=path_driver, options=firefox_options)\n",
    "    return driver\n",
    "\n",
    "def download_pdb(seqio_obj):\n",
    "    driver = setup_driver()\n",
    "    try : \n",
    "        for record in seqio_obj :\n",
    "            url = f\"https://esmatlas.com/resources?action=fold\"\n",
    "            driver.get(url)\n",
    "\n",
    "            if len(str(record.seq)) <= 400 and  len(str(record.seq)) >= 150:\n",
    "                # Input the name of the accession.fasta\n",
    "                input_field_locator = (By.XPATH, '//*[@id=\"search-input\"]')\n",
    "                input_field = WebDriverWait(driver, 10).until(EC.presence_of_element_located(input_field_locator))\n",
    "                input_field.clear()\n",
    "                input_field.send_keys(f\">{record.id}\\n{str(record.seq)}\")\n",
    "                print(f\">{record.id}\\n{str(record.seq)}\")\n",
    "                print(\"Sending the fasta file.\")\n",
    "                \n",
    "                button_locator = (By.XPATH, '/html/body/div/div/section/div[2]/div[2]/div[2]/div/div')\n",
    "                button = WebDriverWait(driver, 10).until(EC.element_to_be_clickable(button_locator))\n",
    "                button.click()\n",
    "                \n",
    "                print(\"Making the search.\")\n",
    "                \n",
    "                button_locator = (By.XPATH, '/html/body/div/div/div[3]/div/div[2]/div[1]/div[1]/a[1]')\n",
    "                button = WebDriverWait(driver, 300).until(EC.element_to_be_clickable(button_locator))\n",
    "                button.click()\n",
    "                \n",
    "                if os.path.isfile(f\"{path_download}/{record.id}.pdb\") == True :\n",
    "                    print(\"Computation over and succesful !\")\n",
    "                else :\n",
    "                    print(\"No file in Download\")\n",
    "\n",
    "                os.system(f\"cp {path_download}/{record.id}.pdb {path_out}\")\n",
    "                print(f\"Everything well with {record.id}.\")\n",
    "    except Exception as e:\n",
    "        print(f\"An error occurred with accession {record.id}: {e}\")\n",
    "    finally:\n",
    "        driver.quit()\n"
   ]
  },
  {
   "cell_type": "code",
   "execution_count": 6,
   "metadata": {
    "collapsed": true,
    "jupyter": {
     "outputs_hidden": true
    }
   },
   "outputs": [
    {
     "name": "stderr",
     "output_type": "stream",
     "text": [
      "/media/concha-eloko/Linux/conda_envs/webscrapping/lib/python3.7/site-packages/ipykernel_launcher.py:18: DeprecationWarning: executable_path has been deprecated, please pass in a Service object\n"
     ]
    },
    {
     "name": "stdout",
     "output_type": "stream",
     "text": [
      ">PL16__1\n",
      "MTENIPLRVQFKRMSADEWARSDVILLESEIGFETDTGFARAGDGHNRFSDLGYISPLDYNLLTNKPNIDGLATKVETAQKLQQKADKETVYTKAESKQELDKKLNLKGGVMTGQLKFKPAATVAYSSSTGGAVNIDLSSTRGAGVVVYSDNDTSDGPLMSLRTGKETFNQSALFVDYKGTTNAVNIAMRQPTTPNFSSALNITSGNENGSAMQLRGSEKALGTLKITHENPSIGADYDKNAAALSIDIVKKTNGEGTAAQGIYINSSTGTTGKMLRIRNKNEDKFYVGPDGGFHSGANSTVAGNLTVKDPTSGKHAATKDYVDEKIAELKKLILKK\n",
      "Sending the fasta file.\n",
      "Making the search.\n",
      "Computation over and succesful !\n",
      "Everything well with PL16__1.\n",
      ">PL16__2\n",
      "MTETIPLRVQFKRMTAEEWTRSDVILLESEIGFETDTGYAKFGDGKNQFSKLKYLNKPDLGAFAQKEETNSKITKLESSKADKNAVYLKAESKIELDKKLNLKGGVMTGQLQFKPNKSGIKPSSSVGGAINIDMSKSEGAGVVVYSNNDTSDGPLMSLRTGKETFNQSALFVDYSGKTNAVNIAMRQPTTPNFSSALNITSGNENGSAMQIRGVEKALGTLKITHENPNVEAKYDENAAALSIDIVKKQKGGKGTAAQGIYINSTSGTTGKLLRIRNLNDDKFYVKPDGGFYAKETSQIDGNLKLKNPTADDHAATKAYVDSEVKKLKALLMDKQV\n",
      "Sending the fasta file.\n",
      "Making the search.\n"
     ]
    },
    {
     "ename": "KeyboardInterrupt",
     "evalue": "",
     "output_type": "error",
     "traceback": [
      "\u001b[0;31m---------------------------------------------------------------------------\u001b[0m",
      "\u001b[0;31mKeyboardInterrupt\u001b[0m                         Traceback (most recent call last)",
      "\u001b[0;32m<ipython-input-6-ee0f7fda37a9>\u001b[0m in \u001b[0;36m<module>\u001b[0;34m()\u001b[0m\n\u001b[1;32m      3\u001b[0m \u001b[0;34m\u001b[0m\u001b[0m\n\u001b[1;32m      4\u001b[0m \u001b[0mPL16_seq\u001b[0m \u001b[0;34m=\u001b[0m \u001b[0mSeqIO\u001b[0m\u001b[0;34m.\u001b[0m\u001b[0mparse\u001b[0m\u001b[0;34m(\u001b[0m\u001b[0;34mf\"/media/concha-eloko/Linux/PhageDEPOdetection/PL16.index.multi.fasta\"\u001b[0m \u001b[0;34m,\u001b[0m \u001b[0;34m\"fasta\"\u001b[0m\u001b[0;34m)\u001b[0m\u001b[0;34m\u001b[0m\u001b[0;34m\u001b[0m\u001b[0m\n\u001b[0;32m----> 5\u001b[0;31m \u001b[0mdownload_pdb\u001b[0m\u001b[0;34m(\u001b[0m\u001b[0mPL16_seq\u001b[0m\u001b[0;34m)\u001b[0m\u001b[0;34m\u001b[0m\u001b[0;34m\u001b[0m\u001b[0m\n\u001b[0m",
      "\u001b[0;32m<ipython-input-5-3cd4dd682948>\u001b[0m in \u001b[0;36mdownload_pdb\u001b[0;34m(seqio_obj)\u001b[0m\n\u001b[1;32m     42\u001b[0m \u001b[0;34m\u001b[0m\u001b[0m\n\u001b[1;32m     43\u001b[0m                 \u001b[0mbutton_locator\u001b[0m \u001b[0;34m=\u001b[0m \u001b[0;34m(\u001b[0m\u001b[0mBy\u001b[0m\u001b[0;34m.\u001b[0m\u001b[0mXPATH\u001b[0m\u001b[0;34m,\u001b[0m \u001b[0;34m'/html/body/div/div/div[3]/div/div[2]/div[1]/div[1]/a[1]'\u001b[0m\u001b[0;34m)\u001b[0m\u001b[0;34m\u001b[0m\u001b[0;34m\u001b[0m\u001b[0m\n\u001b[0;32m---> 44\u001b[0;31m                 \u001b[0mbutton\u001b[0m \u001b[0;34m=\u001b[0m \u001b[0mWebDriverWait\u001b[0m\u001b[0;34m(\u001b[0m\u001b[0mdriver\u001b[0m\u001b[0;34m,\u001b[0m \u001b[0;36m300\u001b[0m\u001b[0;34m)\u001b[0m\u001b[0;34m.\u001b[0m\u001b[0muntil\u001b[0m\u001b[0;34m(\u001b[0m\u001b[0mEC\u001b[0m\u001b[0;34m.\u001b[0m\u001b[0melement_to_be_clickable\u001b[0m\u001b[0;34m(\u001b[0m\u001b[0mbutton_locator\u001b[0m\u001b[0;34m)\u001b[0m\u001b[0;34m)\u001b[0m\u001b[0;34m\u001b[0m\u001b[0;34m\u001b[0m\u001b[0m\n\u001b[0m\u001b[1;32m     45\u001b[0m                 \u001b[0mbutton\u001b[0m\u001b[0;34m.\u001b[0m\u001b[0mclick\u001b[0m\u001b[0;34m(\u001b[0m\u001b[0;34m)\u001b[0m\u001b[0;34m\u001b[0m\u001b[0;34m\u001b[0m\u001b[0m\n\u001b[1;32m     46\u001b[0m \u001b[0;34m\u001b[0m\u001b[0m\n",
      "\u001b[0;32m/media/concha-eloko/Linux/conda_envs/webscrapping/lib/python3.7/site-packages/selenium/webdriver/support/wait.py\u001b[0m in \u001b[0;36muntil\u001b[0;34m(self, method, message)\u001b[0m\n\u001b[1;32m     90\u001b[0m                 \u001b[0mscreen\u001b[0m \u001b[0;34m=\u001b[0m \u001b[0mgetattr\u001b[0m\u001b[0;34m(\u001b[0m\u001b[0mexc\u001b[0m\u001b[0;34m,\u001b[0m \u001b[0;34m\"screen\"\u001b[0m\u001b[0;34m,\u001b[0m \u001b[0;32mNone\u001b[0m\u001b[0;34m)\u001b[0m\u001b[0;34m\u001b[0m\u001b[0;34m\u001b[0m\u001b[0m\n\u001b[1;32m     91\u001b[0m                 \u001b[0mstacktrace\u001b[0m \u001b[0;34m=\u001b[0m \u001b[0mgetattr\u001b[0m\u001b[0;34m(\u001b[0m\u001b[0mexc\u001b[0m\u001b[0;34m,\u001b[0m \u001b[0;34m\"stacktrace\"\u001b[0m\u001b[0;34m,\u001b[0m \u001b[0;32mNone\u001b[0m\u001b[0;34m)\u001b[0m\u001b[0;34m\u001b[0m\u001b[0;34m\u001b[0m\u001b[0m\n\u001b[0;32m---> 92\u001b[0;31m             \u001b[0mtime\u001b[0m\u001b[0;34m.\u001b[0m\u001b[0msleep\u001b[0m\u001b[0;34m(\u001b[0m\u001b[0mself\u001b[0m\u001b[0;34m.\u001b[0m\u001b[0m_poll\u001b[0m\u001b[0;34m)\u001b[0m\u001b[0;34m\u001b[0m\u001b[0;34m\u001b[0m\u001b[0m\n\u001b[0m\u001b[1;32m     93\u001b[0m             \u001b[0;32mif\u001b[0m \u001b[0mtime\u001b[0m\u001b[0;34m.\u001b[0m\u001b[0mmonotonic\u001b[0m\u001b[0;34m(\u001b[0m\u001b[0;34m)\u001b[0m \u001b[0;34m>\u001b[0m \u001b[0mend_time\u001b[0m\u001b[0;34m:\u001b[0m\u001b[0;34m\u001b[0m\u001b[0;34m\u001b[0m\u001b[0m\n\u001b[1;32m     94\u001b[0m                 \u001b[0;32mbreak\u001b[0m\u001b[0;34m\u001b[0m\u001b[0;34m\u001b[0m\u001b[0m\n",
      "\u001b[0;31mKeyboardInterrupt\u001b[0m: "
     ]
    }
   ],
   "source": [
    "import os \n",
    "from Bio import SeqIO\n",
    "\n",
    "PL16_seq = SeqIO.parse(f\"/media/concha-eloko/Linux/PhageDEPOdetection/PL16.index.multi.fasta\" , \"fasta\")\n",
    "download_pdb(PL16_seq)"
   ]
  },
  {
   "cell_type": "code",
   "execution_count": null,
   "metadata": {},
   "outputs": [],
   "source": [
    "rsync -avzhe ssh \\\n",
    "conchae@garnatxa.srv.cpd:/home/conchae/PhageDepo_pdb/benchmarking \\\n",
    "/media/concha-eloko/Linux/PhageDEPOdetection/FP_pdb"
   ]
  },
  {
   "cell_type": "code",
   "execution_count": 4,
   "metadata": {},
   "outputs": [
    {
     "name": "stdout",
     "output_type": "stream",
     "text": [
      "terminase\n",
      "helicase\n",
      "DNA polymerase\n",
      "RNaseH\n",
      "methyltransferase\n",
      "endolysin\n",
      "major head protein\n",
      "major tail\n",
      "lysozyme\n",
      "cytidylyltransferase\n",
      "exonuclease\n",
      "endonuclease\n",
      "exopolyphosphatase\n",
      "ribosyltransferase\n",
      "minor tail\n"
     ]
    }
   ],
   "source": [
    "annotations = \"tail fiber protein,tail spike protein,tail protein,EPS depolymerase,tail protein with endopeptidase domain protein,baseplate protein,colanic acid degradation,tail fiber protein; host specificity,lytic tail fiber protein,pectate lyase,Sialidase B,tail collar fiber protein,pectin lyase activity,receptor binding tail protein,tail spike protein with colonic acid degradation activity,hyaluronidase,tail fiber protein and host specificity,short tail fiber proteinGDSL lipase\"\n",
    "annotation_neg = \"terminase,helicase,DNA polymerase,RNaseH,methyltransferase,endolysin,major head protein,major tail, lysozyme, cytidylyltransferase, exonuclease, endonuclease, exopolyphosphatase, ribosyltransferase, minor tail\"\n",
    "list_annot = [annot.strip() for annot in annotation_neg.split(\",\")]\n",
    "for annot in list_annot :\n",
    "    print(annot)\n"
   ]
  },
  {
   "cell_type": "code",
   "execution_count": null,
   "metadata": {},
   "outputs": [],
   "source": []
  }
 ],
 "metadata": {
  "kernelspec": {
   "display_name": "Python 3 (ipykernel)",
   "language": "python",
   "name": "python3"
  },
  "language_info": {
   "codemirror_mode": {
    "name": "ipython",
    "version": 3
   },
   "file_extension": ".py",
   "mimetype": "text/x-python",
   "name": "python",
   "nbconvert_exporter": "python",
   "pygments_lexer": "ipython3",
   "version": "3.11.4"
  },
  "widgets": {
   "application/vnd.jupyter.widget-state+json": {
    "state": {},
    "version_major": 2,
    "version_minor": 0
   }
  }
 },
 "nbformat": 4,
 "nbformat_minor": 4
}
