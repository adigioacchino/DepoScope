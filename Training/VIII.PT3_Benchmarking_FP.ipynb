{
 "cells": [
  {
   "cell_type": "markdown",
   "metadata": {},
   "source": [
    "# The goal here is to benchmark the DpoDetection tool with other depolymerase detection tools \n",
    "***\n",
    "# I. Load the models :\n",
    "#### 77 phages candidates \n",
    ">Detected Dpos <br>\n",
    ">Missed Dpos <br>\n",
    "***\n",
    "# II. Getting the resulting predictions\n",
    "#### Pires Dpos\n",
    "\n",
    "***\n",
    "# III. Make figures\n",
    "***"
   ]
  },
  {
   "cell_type": "markdown",
   "metadata": {},
   "source": [
    "I.\n",
    "> Make the predictions : DpoDetection Tool :"
   ]
  },
  {
   "cell_type": "code",
   "execution_count": null,
   "metadata": {},
   "outputs": [],
   "source": [
    "rsync -avzhe ssh \\\n",
    "conchae@garnatxa.srv.cpd:/home/conchae/PhageDepo_pdb/DepoDetection.S1.conv.model \\\n",
    "/media/concha-eloko/Linux/depolymerase_building"
   ]
  },
  {
   "cell_type": "code",
   "execution_count": 1,
   "metadata": {},
   "outputs": [
    {
     "data": {
      "application/vnd.jupyter.widget-view+json": {
       "model_id": "6a93de2256cb450b990f03386ceec546",
       "version_major": 2,
       "version_minor": 0
      },
      "text/plain": []
     },
     "metadata": {},
     "output_type": "display_data"
    }
   ],
   "source": [
    "import nglview as nv\n",
    "import os\n",
    "import numpy as np\n",
    "import tqdm\n",
    "import matplotlib.pyplot as plt\n",
    "import warnings\n",
    "warnings.filterwarnings(\"ignore\", category=RuntimeWarning) \n",
    "\n",
    "path_work = \"/media/concha-eloko/Linux/depolymerase_building\"\n"
   ]
  },
  {
   "cell_type": "code",
   "execution_count": 3,
   "metadata": {},
   "outputs": [],
   "source": [
    "import pandas as pd\n",
    "import os \n",
    "\n",
    "path_project = \"/media/concha-eloko/Linux/PhageDEPOdetection\"\n",
    "dir_out = f\"{path_project}/FP_2108_foldseek\"\n",
    "\n",
    "path_info = f\"/media/concha-eloko/Linux/depolymerase_building/depolymerase_fold.csv\"\n",
    "info_df = pd.read_csv(path_info , sep = \"\\t\", header = 0)\n",
    "\n",
    "FP_results = {}\n",
    "no_structure = []\n",
    "outputs = [f\"{dir_out}/{file}\" for file in os.listdir(dir_out) if file[-3:]==\"out\"]\n",
    "header_seekfold = [\"query\",\"target\",\"pident\",\"alnlen\",\"gapopen\",\"qstart\",\"qend\",\"tstart\",\"tend\",\"bits\",\"prob\"]\n",
    "\n",
    "for results in outputs :\n",
    "    results_df = pd.read_csv(f\"{results}\", sep = \"\\t\" , names = header_seekfold)\n",
    "    for _,row in results_df.iterrows() :\n",
    "        fold = info_df[info_df[\"ID\"] == row[\"target\"]][\"Folds\"].values[0]\n",
    "        if fold != \"jelly-roll\" :\n",
    "            if row[\"prob\"] >= 0.2 :\n",
    "                FP_results[row[\"query\"]]= (row[\"prob\"],row[\"target\"] , fold)\n",
    "                break\n",
    "    else :\n",
    "        no_structure.append(row[\"query\"])\n",
    "                \n"
   ]
  },
  {
   "cell_type": "code",
   "execution_count": 4,
   "metadata": {},
   "outputs": [],
   "source": [
    "interest = ['0__pt2.pdb',\n",
    " 'NC_019454.1_prot_YP_007002897.1_44.pdb',\n",
    " 'NC_019917.1_prot_YP_007236809.1_63.pdb',\n",
    " '6__FP__T12.pdb',\n",
    " 'KC556894.1_prot_AHB81137.1_21.pdb',\n",
    " 'NC_022772.1_prot_YP_008771658.1_40.pdb',\n",
    " 'NC_022772.1_prot_YP_008771659.1_41.pdb',\n",
    " 'NC_027364.1_prot_YP_009150315.1_1.pdb',\n",
    " 'NC_027364.1_prot_YP_009150385.1_71.pdb',\n",
    " 'NC_027364.1_prot_YP_009150600.1_286.pdb',\n",
    " '9__pt2.pdb',\n",
    " 'NC_027364.1_prot_YP_009150602.1_288.pdb',\n",
    " '11__pt2.pdb',\n",
    " '12__pt2.pdb',\n",
    " '13__pt2.pdb',\n",
    " 'NC_027364.1_prot_YP_009150606.1_292.pdb',\n",
    " '15__pt2.pdb',\n",
    " '16__pt2.pdb',\n",
    " '17__pt2.pdb',\n",
    " 'NC_022770.1_prot_YP_008771333.1_15.pdb',\n",
    " 'FJ230960.1_prot_ACI90966.1_61.pdb',\n",
    " '20__pt2.pdb',\n",
    " 'HQ632825.1_prot_AGN12239.1_81.pdb',\n",
    " 'HQ632825.1_prot_AGN12247.1_89.pdb',\n",
    " '21__FP__T12.pdb',\n",
    " 'HQ632825.1_prot_AGN12298.1_140.pdb',\n",
    " '4__FP__T12.pdb',\n",
    " 'HQ632825.1_prot_AGN12302.1_144.pdb',\n",
    " 'HQ632825.1_prot_AGN12307.1_149.pdb',\n",
    " 'NC_024792.1_prot_YP_009056509.1_240.pdb',\n",
    " 'NC_006883.2_prot_YP_214253.1_17.pdb',\n",
    " 'HQ632825.1_prot_AGN12247.1_89.pdb',\n",
    " 'NC_006883.2_prot_YP_214266.1_30.pdb',\n",
    " 'NC_006883.2_prot_YP_214524.1_293.pdb',\n",
    " '4__FP__T12.pdb',\n",
    " 'HQ632825.1_prot_AGN12298.1_140.pdb',\n",
    " '21__FP__T12.pdb',\n",
    " 'NC_020079.1_prot_YP_007348548.1_180.pdb',\n",
    " '103__FP__T12.pdb',\n",
    " '94__FP__T12.pdb',\n",
    " '0__pt2.pdb',\n",
    " 'GQ413937.1_prot_ACY66694.1_32.pdb',\n",
    " 'GQ413937.1_prot_ACY66700.1_38.pdb',\n",
    " 'NC_007636.1_prot_YP_424954.1_46.pdb',\n",
    " 'NC_015296.1_prot_YP_004327541.1_170.pdb',\n",
    " 'NC_015296.1_prot_YP_004327543.1_172.pdb',\n",
    " 'NC_020883.1_prot_YP_007678101.1_75.pdb',\n",
    " '0__pt2.pdb',\n",
    " '0__pt2.pdb',\n",
    " 'NC_022764.1_prot_YP_008770522.1_15.pdb',\n",
    " 'NC_019400.1_prot_YP_006987068.1_235.pdb',\n",
    " 'NC_023694.1_prot_YP_009012583.1_2.pdb',\n",
    " '79__FP__T12.pdb',\n",
    " '46__pt2.pdb',\n",
    " '67__FP__T12.pdb',\n",
    " '81__FP__T12.pdb',\n",
    " '47__pt2.pdb',\n",
    " '22__FP__T12.pdb',\n",
    " 'NC_019510.1_prot_YP_007005461.1_37.pdb',\n",
    " 'NC_011976.1_prot_YP_002533467.1_8.pdb',\n",
    " 'NC_021792.1_prot_YP_008241126.1_83.pdb',\n",
    " 'NC_019530.1_prot_YP_007008116.1_136.pdb',\n",
    " 'NC_019530.1_prot_YP_007008118.1_138.pdb',\n",
    " 'NC_019530.1_prot_YP_007008119.1_139.pdb',\n",
    " 'NC_022764.1_prot_YP_008770522.1_15.pdb',\n",
    " 'NC_019446.1_prot_YP_007002029.1_21.pdb',\n",
    " 'NC_019403.1_prot_YP_006987800.1_38.pdb',\n",
    " '0__pt2.pdb',\n",
    " 'NC_015208.1_prot_YP_004286217.1_39.pdb',\n",
    " 'NC_007637.1_prot_YP_425011.1_45.pdb',\n",
    " '59__FP__T12.pdb',\n",
    " 'AY349011.3_prot_AAQ55000.1_65.pdb',\n",
    " '97__FP__T12.pdb',\n",
    " 'NC_008152.1_prot_YP_654134.1_36.pdb',\n",
    " '36__FP__T12.pdb',\n",
    " '33__FP__T12.pdb',\n",
    " 'NC_025446.1_prot_YP_009101512.1_116.pdb',\n",
    " 'NC_025446.1_prot_YP_009101514.1_118.pdb',\n",
    " 'NC_025446.1_prot_YP_009101515.1_119.pdb',\n",
    " 'NC_022768.1_prot_YP_008770866.1_39.pdb',\n",
    " 'NC_022768.1_prot_YP_008770867.1_40.pdb',\n",
    " 'NC_022768.1_prot_YP_008770868.1_41.pdb',\n",
    " 'NC_025422.1_prot_YP_009098911.1_153.pdb',\n",
    " 'NC_027351.1_prot_YP_009148844.1_48.pdb',\n",
    " 'NC_002730.1_prot_NP_112082.1_49.pdb',\n",
    " 'FQ482084.1_prot_CBX44498.1_37.pdb',\n",
    " 'NC_041856.1_prot_YP_009592102.1_23.pdb',\n",
    " '15__FP__T12.pdb',\n",
    " 'NC_019526.1_prot_YP_007007680.1_525.pdb',\n",
    " 'NC_019526.1_prot_YP_007007682.1_527.pdb',\n",
    " 'NC_019526.1_prot_YP_007007683.1_528.pdb',\n",
    " 'NC_019526.1_prot_YP_007007684.1_529.pdb',\n",
    " 'NC_019526.1_prot_YP_007007686.1_531.pdb',\n",
    " 'NC_019526.1_prot_YP_007007687.1_532.pdb',\n",
    " 'NC_019526.1_prot_YP_007007688.1_533.pdb',\n",
    " 'NC_019526.1_prot_YP_007007689.1_534.pdb',\n",
    " 'NC_020083.1_prot_YP_007349010.1_31.pdb',\n",
    " 'NC_020083.1_prot_YP_007349017.1_38.pdb',\n",
    " 'NC_020083.1_prot_YP_007349020.1_41.pdb',\n",
    " 'NC_007055.1_prot_YP_240100.1_25.pdb',\n",
    " 'NC_027351.1_prot_YP_009148844.1_48.pdb',\n",
    " 'KC821608.1_prot_AGO47494.1_90.pdb',\n",
    " '90__pt2.pdb',\n",
    " 'NC_021802.1_prot_YP_008242011.1_92.pdb',\n",
    " 'FQ482084.1_prot_CBX44498.1_37.pdb',\n",
    " 'NC_009014.1_prot_YP_001039670.1_39.pdb',\n",
    " '99__FP__T12.pdb',\n",
    " 'NC_020078.1_prot_YP_007348357.1_38.pdb']"
   ]
  },
  {
   "cell_type": "code",
   "execution_count": 1,
   "metadata": {},
   "outputs": [
    {
     "ename": "NameError",
     "evalue": "name 'interest' is not defined",
     "output_type": "error",
     "traceback": [
      "\u001b[0;31m---------------------------------------------------------------------------\u001b[0m",
      "\u001b[0;31mNameError\u001b[0m                                 Traceback (most recent call last)",
      "Cell \u001b[0;32mIn[1], line 3\u001b[0m\n\u001b[1;32m      1\u001b[0m check_pdb \u001b[38;5;241m=\u001b[39m []\n\u001b[1;32m      2\u001b[0m good \u001b[38;5;241m=\u001b[39m []\n\u001b[0;32m----> 3\u001b[0m \u001b[38;5;28;01mfor\u001b[39;00m file \u001b[38;5;129;01min\u001b[39;00m \u001b[43minterest\u001b[49m : \n\u001b[1;32m      4\u001b[0m     \u001b[38;5;28;01mif\u001b[39;00m file \u001b[38;5;129;01mnot\u001b[39;00m \u001b[38;5;129;01min\u001b[39;00m FP_results :\n\u001b[1;32m      5\u001b[0m         check_pdb\u001b[38;5;241m.\u001b[39mappend(file)\n",
      "\u001b[0;31mNameError\u001b[0m: name 'interest' is not defined"
     ]
    }
   ],
   "source": [
    "check_pdb = []\n",
    "good = []\n",
    "for file in interest : \n",
    "    if file not in FP_results :\n",
    "        check_pdb.append(file)\n",
    "        #print(file)\n",
    "    else :\n",
    "        good.append(file)\n",
    "\n",
    "len(check_pdb)"
   ]
  },
  {
   "cell_type": "code",
   "execution_count": 7,
   "metadata": {},
   "outputs": [
    {
     "data": {
      "text/plain": [
       "['NC_027364.1_prot_YP_009150315.1_1.pdb',\n",
       " 'NC_027364.1_prot_YP_009150600.1_286.pdb',\n",
       " 'NC_027364.1_prot_YP_009150602.1_288.pdb',\n",
       " '11__pt2.pdb',\n",
       " 'NC_027364.1_prot_YP_009150606.1_292.pdb',\n",
       " '15__pt2.pdb',\n",
       " '16__pt2.pdb',\n",
       " '17__pt2.pdb',\n",
       " 'FJ230960.1_prot_ACI90966.1_61.pdb',\n",
       " 'HQ632825.1_prot_AGN12239.1_81.pdb',\n",
       " '21__FP__T12.pdb',\n",
       " '4__FP__T12.pdb',\n",
       " 'HQ632825.1_prot_AGN12302.1_144.pdb',\n",
       " 'NC_006883.2_prot_YP_214266.1_30.pdb',\n",
       " '4__FP__T12.pdb',\n",
       " '21__FP__T12.pdb',\n",
       " '103__FP__T12.pdb',\n",
       " '94__FP__T12.pdb',\n",
       " '81__FP__T12.pdb',\n",
       " '22__FP__T12.pdb',\n",
       " '59__FP__T12.pdb',\n",
       " 'AY349011.3_prot_AAQ55000.1_65.pdb',\n",
       " 'NC_027351.1_prot_YP_009148844.1_48.pdb',\n",
       " 'NC_041856.1_prot_YP_009592102.1_23.pdb',\n",
       " '15__FP__T12.pdb',\n",
       " 'NC_019526.1_prot_YP_007007689.1_534.pdb',\n",
       " 'NC_027351.1_prot_YP_009148844.1_48.pdb']"
      ]
     },
     "execution_count": 7,
     "metadata": {},
     "output_type": "execute_result"
    }
   ],
   "source": [
    "check_pdb"
   ]
  },
  {
   "cell_type": "code",
   "execution_count": 31,
   "metadata": {
    "scrolled": true
   },
   "outputs": [
    {
     "name": "stdout",
     "output_type": "stream",
     "text": [
      "{'0__pt2.pdb': (0.411, 'AF-A0A7C4BP91-F1-model_v4.pdb', '6-bladed beta-propeller'),\n",
      " '12__pt2.pdb': (0.277, 'AF-A0A7G2DEW9-F1-model_v4.pdb', '6-bladed beta-propeller'),\n",
      " '13__pt2.pdb': (0.214, 'AF-A0A654UB90-F1-model_v4.pdb', '6-bladed beta-propeller'),\n",
      " '20__pt2.pdb': (0.214, 'AF-A0A0B5KP61-F1-model_v4.pdb', 'right-handed beta-helix'),\n",
      " '33__FP__T12.pdb': (1.0, 'AF-A0A1E5LEG1-F1-model_v4.pdb', 'right-handed beta-helix'),\n",
      " '36__FP__T12.pdb': (0.998, 'K17alfa62__cds_64_A_3_129_548.pdb', 'right-handed beta-helix'),\n",
      " '46__pt2.pdb': (0.277, 'AF-A0A7C4BP91-F1-model_v4.pdb', '6-bladed beta-propeller'),\n",
      " '47__pt2.pdb': (1.0, 'AF-A0A7C4BP91-F1-model_v4.pdb', '6-bladed beta-propeller'),\n",
      " '67__FP__T12.pdb': (0.855, 'AF-A0A654UB90-F1-model_v4.pdb', '6-bladed beta-propeller'),\n",
      " '6__FP__T12.pdb': (1.0, 'AF-A0A1E5LEG1-F1-model_v4.pdb', 'right-handed beta-helix'),\n",
      " '79__FP__T12.pdb': (0.996, 'AF-A0A496B6X2-F1-model_v4.pdb', '6-bladed beta-propeller'),\n",
      " '90__pt2.pdb': (0.382, 'AF-A0A1E5LEG1-F1-model_v4.pdb', 'right-handed beta-helix'),\n",
      " '97__FP__T12.pdb': (0.353, 'AF-A0A7G2DEW9-F1-model_v4.pdb', '6-bladed beta-propeller'),\n",
      " '99__FP__T12.pdb': (0.923, 'AF-A0A654UB90-F1-model_v4.pdb', '6-bladed beta-propeller'),\n",
      " '9__pt2.pdb': (0.505, 'AF-A0A7C4BP91-F1-model_v4.pdb', '6-bladed beta-propeller'),\n",
      " 'FQ482084.1_prot_CBX44498.1_37.pdb': (0.632, 'AF-A0A654UB90-F1-model_v4.pdb', '6-bladed beta-propeller'),\n",
      " 'GQ413937.1_prot_ACY66694.1_32.pdb': (0.353, 'AF-A0A654UB90-F1-model_v4.pdb', '6-bladed beta-propeller'),\n",
      " 'GQ413937.1_prot_ACY66700.1_38.pdb': (1.0, 'K17alfa62__cds_64_A_3_129_548.pdb', 'right-handed beta-helix'),\n",
      " 'HQ632825.1_prot_AGN12247.1_89.pdb': (1.0, 'K39PH122C2__cds_55_A_5_286_658.pdb', 'right-handed beta-helix'),\n",
      " 'HQ632825.1_prot_AGN12298.1_140.pdb': (0.382, 'AF-A0A0R3Q9P4-F1-model_v4.pdb', 'right-handed beta-helix'),\n",
      " 'HQ632825.1_prot_AGN12307.1_149.pdb': (0.949, 'AF-A0A562WF65-F1-model_v4.pdb', 'right-handed beta-helix'),\n",
      " 'KC556894.1_prot_AHB81137.1_21.pdb': (0.326, 'AF-A0A7C4BP91-F1-model_v4.pdb', '6-bladed beta-propeller'),\n",
      " 'KC821608.1_prot_AGO47494.1_90.pdb': (1.0, 'K17alfa62__cds_64_A_3_129_548.pdb', 'right-handed beta-helix'),\n",
      " 'NC_002730.1_prot_NP_112082.1_49.pdb': (0.912, 'AF-A0A7C4BP91-F1-model_v4.pdb', '6-bladed beta-propeller'),\n",
      " 'NC_006883.2_prot_YP_214253.1_17.pdb': (0.569, 'K40PH129C1__cds_56_A_4_239_860.pdb', 'right-handed beta-helix'),\n",
      " 'NC_006883.2_prot_YP_214524.1_293.pdb': (0.912, 'AF-A0A562WF65-F1-model_v4.pdb', 'right-handed beta-helix'),\n",
      " 'NC_007055.1_prot_YP_240100.1_25.pdb': (1.0, 'AF-A0A0R3Q9P4-F1-model_v4.pdb', 'right-handed beta-helix'),\n",
      " 'NC_007636.1_prot_YP_424954.1_46.pdb': (0.772, 'AF-A0A654UB90-F1-model_v4.pdb', '6-bladed beta-propeller'),\n",
      " 'NC_007637.1_prot_YP_425011.1_45.pdb': (0.632, 'AF-A0A7C4BP91-F1-model_v4.pdb', '6-bladed beta-propeller'),\n",
      " 'NC_008152.1_prot_YP_654134.1_36.pdb': (0.442, 'AF-A0A7C4BP91-F1-model_v4.pdb', '6-bladed beta-propeller'),\n",
      " 'NC_009014.1_prot_YP_001039670.1_39.pdb': (0.663, 'AF-A0A7G2DEW9-F1-model_v4.pdb', '6-bladed beta-propeller'),\n",
      " 'NC_011976.1_prot_YP_002533467.1_8.pdb': (0.961, 'AF-A0A7C4BP91-F1-model_v4.pdb', '6-bladed beta-propeller'),\n",
      " 'NC_015208.1_prot_YP_004286217.1_39.pdb': (0.569, 'AF-A0A654UB90-F1-model_v4.pdb', '6-bladed beta-propeller'),\n",
      " 'NC_015296.1_prot_YP_004327541.1_170.pdb': (0.999, 'K39PH122C2__cds_55_A_5_286_658.pdb', 'right-handed beta-helix'),\n",
      " 'NC_015296.1_prot_YP_004327543.1_172.pdb': (1.0, 'K40PH129C1__cds_56_A_4_239_860.pdb', 'right-handed beta-helix'),\n",
      " 'NC_019400.1_prot_YP_006987068.1_235.pdb': (0.537, 'AF-A0A7G2DEW9-F1-model_v4.pdb', '6-bladed beta-propeller'),\n",
      " 'NC_019403.1_prot_YP_006987800.1_38.pdb': (0.601, 'AF-A0A7C4BP91-F1-model_v4.pdb', '6-bladed beta-propeller'),\n",
      " 'NC_019446.1_prot_YP_007002029.1_21.pdb': (0.326, 'AF-A0A7C4BP91-F1-model_v4.pdb', '6-bladed beta-propeller'),\n",
      " 'NC_019454.1_prot_YP_007002897.1_44.pdb': (0.692, 'AF-A0A654UB90-F1-model_v4.pdb', '6-bladed beta-propeller'),\n",
      " 'NC_019510.1_prot_YP_007005461.1_37.pdb': (0.382, 'AF-A0A654UB90-F1-model_v4.pdb', '6-bladed beta-propeller'),\n",
      " 'NC_019526.1_prot_YP_007007680.1_525.pdb': (0.993, 'K39PH122C2__cds_55_A_5_286_658.pdb', 'right-handed beta-helix'),\n",
      " 'NC_019526.1_prot_YP_007007682.1_527.pdb': (0.995, 'K14PH164C1__cds_24_A_4_221_871.pdb', 'right-handed beta-helix'),\n",
      " 'NC_019526.1_prot_YP_007007683.1_528.pdb': (0.978, 'K39PH122C2__cds_55_A_5_286_658.pdb', 'right-handed beta-helix'),\n",
      " 'NC_019526.1_prot_YP_007007684.1_529.pdb': (1.0, 'K39PH122C2__cds_55_A_5_286_658.pdb', 'right-handed beta-helix'),\n",
      " 'NC_019526.1_prot_YP_007007686.1_531.pdb': (1.0, 'K39PH122C2__cds_55_A_5_286_658.pdb', 'right-handed beta-helix'),\n",
      " 'NC_019526.1_prot_YP_007007687.1_532.pdb': (1.0, 'K17alfa62__cds_64_A_3_129_548.pdb', 'right-handed beta-helix'),\n",
      " 'NC_019526.1_prot_YP_007007688.1_533.pdb': (1.0, 'K39PH122C2__cds_55_A_5_286_658.pdb', 'right-handed beta-helix'),\n",
      " 'NC_019530.1_prot_YP_007008116.1_136.pdb': (0.912, 'K40PH129C1__cds_56_A_4_239_860.pdb', 'right-handed beta-helix'),\n",
      " 'NC_019530.1_prot_YP_007008118.1_138.pdb': (1.0, 'AF-A0A0R3Q9P4-F1-model_v4.pdb', 'right-handed beta-helix'),\n",
      " 'NC_019530.1_prot_YP_007008119.1_139.pdb': (1.0, 'K17alfa62__cds_64_A_3_129_548.pdb', 'right-handed beta-helix'),\n",
      " 'NC_019917.1_prot_YP_007236809.1_63.pdb': (0.473, 'AF-A0A7G2DEW9-F1-model_v4.pdb', '6-bladed beta-propeller'),\n",
      " 'NC_020078.1_prot_YP_007348357.1_38.pdb': (0.747, 'AF-A0A654UB90-F1-model_v4.pdb', '6-bladed beta-propeller'),\n",
      " 'NC_020079.1_prot_YP_007348548.1_180.pdb': (0.214, 'AF-A0A7C4BP91-F1-model_v4.pdb', '6-bladed beta-propeller'),\n",
      " 'NC_020083.1_prot_YP_007349010.1_31.pdb': (0.99, 'AF-A0A1E5LEG1-F1-model_v4.pdb', 'right-handed beta-helix'),\n",
      " 'NC_020083.1_prot_YP_007349017.1_38.pdb': (1.0, 'K74PH129C2__cds_51_A_3_291_808.pdb', 'right-handed beta-helix'),\n",
      " 'NC_020083.1_prot_YP_007349020.1_41.pdb': (1.0, 'AF-A0A1E5LEG1-F1-model_v4.pdb', 'right-handed beta-helix'),\n",
      " 'NC_020883.1_prot_YP_007678101.1_75.pdb': (0.855, 'AF-A0A654UB90-F1-model_v4.pdb', '6-bladed beta-propeller'),\n",
      " 'NC_021792.1_prot_YP_008241126.1_83.pdb': (1.0, 'K17alfa62__cds_64_A_3_129_548.pdb', 'right-handed beta-helix'),\n",
      " 'NC_021802.1_prot_YP_008242011.1_92.pdb': (1.0, 'AF-A0A0A6QEK9-F1-model_v4.pdb', 'right-handed beta-helix'),\n",
      " 'NC_022764.1_prot_YP_008770522.1_15.pdb': (0.277, 'AF-A0A654UB90-F1-model_v4.pdb', '6-bladed beta-propeller'),\n",
      " 'NC_022768.1_prot_YP_008770866.1_39.pdb': (0.999, 'AF-A0A0R3Q9P4-F1-model_v4.pdb', 'right-handed beta-helix'),\n",
      " 'NC_022768.1_prot_YP_008770867.1_40.pdb': (1.0, 'K17alfa62__cds_64_A_3_129_548.pdb', 'right-handed beta-helix'),\n",
      " 'NC_022768.1_prot_YP_008770868.1_41.pdb': (0.632, 'K17alfa62__cds_64_A_3_129_548.pdb', 'right-handed beta-helix'),\n",
      " 'NC_022770.1_prot_YP_008771333.1_15.pdb': (0.382, 'AF-A0A496B6X2-F1-model_v4.pdb', '6-bladed beta-propeller'),\n",
      " 'NC_022772.1_prot_YP_008771658.1_40.pdb': (1.0, 'K39PH122C2__cds_55_A_5_286_658.pdb', 'right-handed beta-helix'),\n",
      " 'NC_022772.1_prot_YP_008771659.1_41.pdb': (1.0, 'AF-A0A1E5LEG1-F1-model_v4.pdb', 'right-handed beta-helix'),\n",
      " 'NC_023694.1_prot_YP_009012583.1_2.pdb': (1.0, 'K14PH164C1__cds_24_A_4_221_871.pdb', 'right-handed beta-helix'),\n",
      " 'NC_024792.1_prot_YP_009056509.1_240.pdb': (1.0, 'AF-A0A1E5LEG1-F1-model_v4.pdb', 'right-handed beta-helix'),\n",
      " 'NC_025422.1_prot_YP_009098911.1_153.pdb': (0.986, 'AF-A0A831UGW4-F1-model_v4.pdb', 'right-handed beta-helix'),\n",
      " 'NC_025446.1_prot_YP_009101512.1_116.pdb': (1.0, 'K17alfa62__cds_64_A_3_129_548.pdb', 'right-handed beta-helix'),\n",
      " 'NC_025446.1_prot_YP_009101514.1_118.pdb': (1.0, 'K17alfa62__cds_64_A_3_129_548.pdb', 'right-handed beta-helix'),\n",
      " 'NC_025446.1_prot_YP_009101515.1_119.pdb': (1.0, 'AF-A0A496B6X2-F1-model_v4.pdb', '6-bladed beta-propeller'),\n",
      " 'NC_027364.1_prot_YP_009150385.1_71.pdb': (0.537, 'AF-A0A7C4BP91-F1-model_v4.pdb', '6-bladed beta-propeller')}\n"
     ]
    }
   ],
   "source": [
    "import pprint\n",
    "pp = pprint.PrettyPrinter(width = 150, sort_dicts = True, compact = False)\n",
    "pp.pprint(FP_results)\n"
   ]
  },
  {
   "cell_type": "code",
   "execution_count": 5,
   "metadata": {},
   "outputs": [],
   "source": [
    "def view_pdb(file) : \n",
    "    view = nv.show_structure_file(file , ext=\"pdb\" , gui=False)\n",
    "    #view.add_label(\"position\")\n",
    "    #view.add_label(\"res\")\n",
    "    return view\n",
    "\n",
    "n = 0"
   ]
  },
  {
   "cell_type": "code",
   "execution_count": 37,
   "metadata": {},
   "outputs": [
    {
     "data": {
      "application/vnd.jupyter.widget-view+json": {
       "model_id": "c8254c184e1a4806bda0d3c91278cc19",
       "version_major": 2,
       "version_minor": 0
      },
      "text/plain": [
       "NGLWidget(n_components=1)"
      ]
     },
     "metadata": {},
     "output_type": "display_data"
    }
   ],
   "source": [
    "path_project = \"/media/concha-eloko/Linux/PhageDEPOdetection/FP_2108\"\n",
    "\n",
    "for i, file in enumerate(check_pdb) :\n",
    "    if i == n :\n",
    "        view = view_pdb(f\"{path_project}/{file}\")\n",
    "        #view.render_image(trim=True)\n",
    "        print(file)\n",
    "        n += 1 \n",
    "        break\n",
    "view"
   ]
  },
  {
   "cell_type": "markdown",
   "metadata": {},
   "source": [
    "***\n",
    "## Get the final numbers : "
   ]
  },
  {
   "cell_type": "code",
   "execution_count": null,
   "metadata": {},
   "outputs": [],
   "source": [
    "null : \n",
    "21__FP__T12.pdb\n",
    "4__FP__T12.pdb\n",
    "4__FP__T12.pdb\n",
    "21__FP__T12.pdb\n",
    "94__FP__T12.pdb\n",
    "22__FP__T12.pdb\n",
    "59__FP__T12.pdb\n",
    "15__FP__T12.pdb"
   ]
  },
  {
   "cell_type": "code",
   "execution_count": 9,
   "metadata": {},
   "outputs": [
    {
     "data": {
      "text/plain": [
       "['21__FP__T12.pdb',\n",
       " '4__FP__T12.pdb',\n",
       " '4__FP__T12.pdb',\n",
       " '21__FP__T12.pdb',\n",
       " '94__FP__T12.pdb',\n",
       " '22__FP__T12.pdb',\n",
       " '59__FP__T12.pdb',\n",
       " '15__FP__T12.pdb',\n",
       " '']"
      ]
     },
     "execution_count": 9,
     "metadata": {},
     "output_type": "execute_result"
    }
   ],
   "source": [
    "real_FP = open(\"/media/concha-eloko/Linux/PhageDEPOdetection/real_FP.tsv\").read().split(\"\\n\")\n",
    "real_FP"
   ]
  },
  {
   "cell_type": "code",
   "execution_count": null,
   "metadata": {},
   "outputs": [],
   "source": []
  },
  {
   "cell_type": "code",
   "execution_count": 10,
   "metadata": {},
   "outputs": [],
   "source": [
    "good_lads = [prot for prot in check_pdb if prot not in real_FP]"
   ]
  },
  {
   "cell_type": "code",
   "execution_count": 13,
   "metadata": {},
   "outputs": [
    {
     "data": {
      "text/plain": [
       "['NC_027364.1_prot_YP_009150315.1_1.pdb',\n",
       " 'NC_027364.1_prot_YP_009150600.1_286.pdb',\n",
       " 'NC_027364.1_prot_YP_009150602.1_288.pdb',\n",
       " '11__pt2.pdb',\n",
       " 'NC_027364.1_prot_YP_009150606.1_292.pdb',\n",
       " '15__pt2.pdb',\n",
       " '16__pt2.pdb',\n",
       " '17__pt2.pdb',\n",
       " 'FJ230960.1_prot_ACI90966.1_61.pdb',\n",
       " 'HQ632825.1_prot_AGN12239.1_81.pdb',\n",
       " 'HQ632825.1_prot_AGN12302.1_144.pdb',\n",
       " 'NC_006883.2_prot_YP_214266.1_30.pdb',\n",
       " '103__FP__T12.pdb',\n",
       " '81__FP__T12.pdb',\n",
       " 'AY349011.3_prot_AAQ55000.1_65.pdb',\n",
       " 'NC_027351.1_prot_YP_009148844.1_48.pdb',\n",
       " 'NC_041856.1_prot_YP_009592102.1_23.pdb',\n",
       " 'NC_019526.1_prot_YP_007007689.1_534.pdb',\n",
       " 'NC_027351.1_prot_YP_009148844.1_48.pdb']"
      ]
     },
     "execution_count": 13,
     "metadata": {},
     "output_type": "execute_result"
    }
   ],
   "source": [
    "good_lads"
   ]
  },
  {
   "cell_type": "code",
   "execution_count": null,
   "metadata": {},
   "outputs": [],
   "source": []
  }
 ],
 "metadata": {
  "kernelspec": {
   "display_name": "Python 3 (ipykernel)",
   "language": "python",
   "name": "python3"
  },
  "language_info": {
   "codemirror_mode": {
    "name": "ipython",
    "version": 3
   },
   "file_extension": ".py",
   "mimetype": "text/x-python",
   "name": "python",
   "nbconvert_exporter": "python",
   "pygments_lexer": "ipython3",
   "version": "3.11.4"
  },
  "widgets": {
   "application/vnd.jupyter.widget-state+json": {
    "state": {},
    "version_major": 2,
    "version_minor": 0
   }
  }
 },
 "nbformat": 4,
 "nbformat_minor": 4
}
