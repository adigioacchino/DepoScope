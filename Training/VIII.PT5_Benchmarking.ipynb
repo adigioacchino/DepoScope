{
 "cells": [
  {
   "cell_type": "markdown",
   "metadata": {},
   "source": [
    "# The goal here is to benchmark the DpoDetection tool with other depolymerase detection tools \n",
    "***\n",
    "# I. Load the models :\n",
    "#### 77 phages candidates \n",
    ">Detected Dpos <br>\n",
    ">Missed Dpos <br>\n",
    "***\n",
    "# II. Getting the resulting predictions\n",
    "#### Pires Dpos\n",
    "\n",
    "***\n",
    "# III. Make figures\n",
    "***"
   ]
  },
  {
   "cell_type": "markdown",
   "metadata": {},
   "source": [
    "I.\n",
    "> Make the predictions : DpoDetection Tool :"
   ]
  },
  {
   "cell_type": "code",
   "execution_count": null,
   "metadata": {},
   "outputs": [],
   "source": [
    "rsync -avzhe ssh \\\n",
    "conchae@garnatxa.srv.cpd:/home/conchae/PhageDepo_pdb/DepoDetection.S1.conv.model \\\n",
    "/media/concha-eloko/Linux/depolymerase_building"
   ]
  },
  {
   "cell_type": "code",
   "execution_count": null,
   "metadata": {},
   "outputs": [],
   "source": []
  },
  {
   "cell_type": "code",
   "execution_count": 1,
   "metadata": {},
   "outputs": [
    {
     "data": {
      "text/plain": [
       "45000"
      ]
     },
     "execution_count": 1,
     "metadata": {},
     "output_type": "execute_result"
    }
   ],
   "source": [
    "50*30*30"
   ]
  },
  {
   "cell_type": "code",
   "execution_count": null,
   "metadata": {},
   "outputs": [],
   "source": []
  },
  {
   "cell_type": "code",
   "execution_count": 20,
   "metadata": {},
   "outputs": [],
   "source": [
    "from transformers import AutoModelForTokenClassification, AutoTokenizer\n",
    "import torch\n",
    "from torch import nn \n",
    "import torch.nn.functional as F\n",
    "\n",
    "import os\n",
    "import numpy as np\n",
    "import tqdm\n",
    "import matplotlib.pyplot as plt\n",
    "import pandas as pd \n",
    "\n",
    "import warnings\n",
    "warnings.filterwarnings(\"ignore\", category=RuntimeWarning) \n",
    "\n",
    "path_work = \"/media/concha-eloko/Linux/depolymerase_building\"\n",
    "\n",
    "#esm2_model_path = f\"{path_work}/esm2_t12_35M_UR50D-finetuned-depolymerase.labels_3/checkpoint-6015\"\n",
    "#DpoDetection_path = f\"{path_work}/DepoDetection.T12.3Labels.1908.model\"\n",
    "\n",
    "#esm2_model_path = f\"{path_work}/esm2_t12_35M_UR50D-finetuned-depolymerase.labels_4/checkpoint-6015\"\n",
    "#DpoDetection_path = f\"{path_work}/DepoDetection.T12.4Labels.1908.model\"\n",
    "\n",
    "esm2_model_path = f\"{path_work}/esm2_t6_8M_UR50D-finetuned-depolymerase.labels_4/checkpoint-6015\"\n",
    "DpoDetection_path = f\"{path_work}/DepoDetection.T6.4Labels.1908.model\"\n",
    "\n",
    "tokenizer = AutoTokenizer.from_pretrained(esm2_model_path)\n",
    "esm2_finetuned = AutoModelForTokenClassification.from_pretrained(esm2_model_path)\n"
   ]
  },
  {
   "cell_type": "code",
   "execution_count": 21,
   "metadata": {},
   "outputs": [],
   "source": [
    "class Dpo_classifier(nn.Module):\n",
    "    def __init__(self, pretrained_model):\n",
    "        super(Dpo_classifier, self).__init__()\n",
    "        self.max_length = 1024\n",
    "        self.pretrained_model = pretrained_model\n",
    "        self.conv1 = nn.Conv1d(1, 64, kernel_size=5, stride=1)  # Convolutional layer\n",
    "        self.conv2 = nn.Conv1d(64, 128, kernel_size=5, stride=1)  # Convolutional layer\n",
    "        self.fc1 = nn.Linear(128 * (self.max_length - 2 * (5 - 1)), 32)  # calculate the output shape after 2 conv layers\n",
    "        self.classifier = nn.Linear(32, 1)  # Binary classification\n",
    "\n",
    "    def make_prediction(self, fasta_txt):\n",
    "        input_ids = tokenizer.encode(fasta_txt, truncation=True, return_tensors='pt')\n",
    "        with torch.no_grad():\n",
    "            outputs = self.pretrained_model(input_ids)\n",
    "            probs = torch.nn.functional.softmax(outputs.logits, dim=-1)\n",
    "            token_probs, token_ids = torch.max(probs, dim=-1)            \n",
    "            tokens = token_ids.view(1, -1) # ensure 2D shape\n",
    "            return tokens\n",
    "\n",
    "    def pad_or_truncate(self, tokens):\n",
    "        if tokens.size(1) < self.max_length:\n",
    "            tokens = F.pad(tokens, (0, self.max_length - tokens.size(1)))\n",
    "        elif tokens.size(1) > self.max_length:\n",
    "            tokens = tokens[:, :self.max_length]\n",
    "        return tokens\n",
    "\n",
    "    def forward(self, sequences):\n",
    "        batch_size = len(sequences)\n",
    "        tokens_batch = []\n",
    "        for seq in sequences:\n",
    "            tokens = self.make_prediction(seq)\n",
    "            tokens = self.pad_or_truncate(tokens)\n",
    "            tokens_batch.append(tokens)\n",
    "        \n",
    "        outputs = torch.cat(tokens_batch).view(batch_size, 1, self.max_length)  # ensure 3D shape\n",
    "        outputs = outputs.float()  # Convert to float\n",
    "        \n",
    "        out = F.relu(self.conv1(outputs))\n",
    "        out = F.relu(self.conv2(out))\n",
    "        out = out.view(batch_size, -1)  # Flatten the tensor\n",
    "        out = F.relu(self.fc1(out))\n",
    "        out = self.classifier(out)\n",
    "        return out, outputs\n"
   ]
  },
  {
   "cell_type": "code",
   "execution_count": 22,
   "metadata": {
    "scrolled": true
   },
   "outputs": [
    {
     "data": {
      "text/plain": [
       "Dpo_classifier(\n",
       "  (pretrained_model): EsmForTokenClassification(\n",
       "    (esm): EsmModel(\n",
       "      (embeddings): EsmEmbeddings(\n",
       "        (word_embeddings): Embedding(33, 320, padding_idx=1)\n",
       "        (dropout): Dropout(p=0.0, inplace=False)\n",
       "        (position_embeddings): Embedding(1026, 320, padding_idx=1)\n",
       "      )\n",
       "      (encoder): EsmEncoder(\n",
       "        (layer): ModuleList(\n",
       "          (0-5): 6 x EsmLayer(\n",
       "            (attention): EsmAttention(\n",
       "              (self): EsmSelfAttention(\n",
       "                (query): Linear(in_features=320, out_features=320, bias=True)\n",
       "                (key): Linear(in_features=320, out_features=320, bias=True)\n",
       "                (value): Linear(in_features=320, out_features=320, bias=True)\n",
       "                (dropout): Dropout(p=0.0, inplace=False)\n",
       "                (rotary_embeddings): RotaryEmbedding()\n",
       "              )\n",
       "              (output): EsmSelfOutput(\n",
       "                (dense): Linear(in_features=320, out_features=320, bias=True)\n",
       "                (dropout): Dropout(p=0.0, inplace=False)\n",
       "              )\n",
       "              (LayerNorm): LayerNorm((320,), eps=1e-05, elementwise_affine=True)\n",
       "            )\n",
       "            (intermediate): EsmIntermediate(\n",
       "              (dense): Linear(in_features=320, out_features=1280, bias=True)\n",
       "            )\n",
       "            (output): EsmOutput(\n",
       "              (dense): Linear(in_features=1280, out_features=320, bias=True)\n",
       "              (dropout): Dropout(p=0.0, inplace=False)\n",
       "            )\n",
       "            (LayerNorm): LayerNorm((320,), eps=1e-05, elementwise_affine=True)\n",
       "          )\n",
       "        )\n",
       "        (emb_layer_norm_after): LayerNorm((320,), eps=1e-05, elementwise_affine=True)\n",
       "      )\n",
       "      (contact_head): EsmContactPredictionHead(\n",
       "        (regression): Linear(in_features=120, out_features=1, bias=True)\n",
       "        (activation): Sigmoid()\n",
       "      )\n",
       "    )\n",
       "    (dropout): Dropout(p=0.0, inplace=False)\n",
       "    (classifier): Linear(in_features=320, out_features=4, bias=True)\n",
       "  )\n",
       "  (conv1): Conv1d(1, 64, kernel_size=(5,), stride=(1,))\n",
       "  (conv2): Conv1d(64, 128, kernel_size=(5,), stride=(1,))\n",
       "  (fc1): Linear(in_features=130048, out_features=32, bias=True)\n",
       "  (classifier): Linear(in_features=32, out_features=1, bias=True)\n",
       ")"
      ]
     },
     "execution_count": 22,
     "metadata": {},
     "output_type": "execute_result"
    }
   ],
   "source": [
    "model_classifier = Dpo_classifier(esm2_finetuned) # Create an instance of Dpo_classifier\n",
    "model_classifier.load_state_dict(torch.load(DpoDetection_path), strict = False) # Load the saved weights ; weird Error with some of the keys \n",
    "model_classifier.eval() # Set the model to evaluation mode for inference\n"
   ]
  },
  {
   "cell_type": "code",
   "execution_count": 23,
   "metadata": {},
   "outputs": [],
   "source": [
    "def predict_sequence(model, sequence):\n",
    "    model.eval()\n",
    "    with torch.no_grad():\n",
    "        sequence = [sequence]  # Wrap the sequence in a list to match the model's input format\n",
    "        outputs, sequence_outputs = model(sequence)\n",
    "        probas = torch.sigmoid(outputs)  # Apply sigmoid activation for binary classification\n",
    "        predictions = (probas > 0.5).float()  # Convert probabilities to binary predictions\n",
    "        sequence_outputs_list = sequence_outputs.cpu().numpy().tolist()[0][0]\n",
    "        prob_predicted = probas[0].item()\n",
    "        return (predictions.item(), prob_predicted), sequence_outputs_list\n",
    "\n",
    "\n",
    "def plot_token(tokens) :\n",
    "    tokens = np.array(tokens)  # convert your list to numpy array for convenience\n",
    "    plt.figure(figsize=(10,6))\n",
    "    for i in range(len(tokens) - 1):\n",
    "        if tokens[i] == 0:\n",
    "            color = 'black'\n",
    "        elif tokens[i] == 1:\n",
    "            color = 'blue'\n",
    "        elif tokens[i] == 2:\n",
    "            color = 'red'\n",
    "        else :\n",
    "            color = 'green'\n",
    "        plt.plot([i, i+1], [tokens[i], tokens[i+1]], color=color, marker='o')\n",
    "    plt.xlabel('Token')\n",
    "    plt.ylabel('Label')\n",
    "    plt.title('Label for each token')\n",
    "    plt.xticks(rotation='vertical')\n",
    "    plt.yticks(np.arange(2), ['0', '1'])  \n",
    "    plt.grid(True)\n",
    "    plt.show()"
   ]
  },
  {
   "cell_type": "code",
   "execution_count": 28,
   "metadata": {},
   "outputs": [],
   "source": [
    "input_fasta = \"MGLHVQKSQLSVIKLGDYGAVGDGVTDDTTSFINLEAEHKGKIINLEFKTYLVDKGFSGNFYINGSFKVGDNTFAAPYTLPYANNSNIFMGENSGVNTDKYPVYMASAGGYSNIGIGKNALKSNTEGWRNVAIGDGALVNNTLGHYNIAVGDEALRDNIGSRNGDSTDNGSRNTAVGSNTMCYNTTGYCNTAMGRNALHTNFTGYHNTAIGAAALSGNAPYVNGVVVPDDPKHGNYNTAVGSEALFRGNSDHNTAVGRSAAWNTKNGARNVAIGSEALYYNEANVTYDDKTTAGAGNTAVGTAAMKYMQDGSQATLVNNSSAIGYGARVSGDNQVQLGGSGTTTYSYGAVQSRSDQRDKTDIKDTELGLDFLLKVRPVDFRWDYRDDYQEIDEEGNLITHEKDGSRSGNRFHHGVIAQEIQEVIQKTGKDFGGLQDHKINGGTDVLSIGYEEFIAPIIKSIHELHKMVSDLSDRISELENK\"\n",
    "\n",
    "prediction , token = predict_sequence(model_classifier ,input_fasta)"
   ]
  },
  {
   "cell_type": "code",
   "execution_count": 29,
   "metadata": {},
   "outputs": [
    {
     "data": {
      "image/png": "[encoded data removed]",
      "text/plain": [
       "<Figure size 1000x600 with 1 Axes>"
      ]
     },
     "metadata": {},
     "output_type": "display_data"
    },
    {
     "data": {
      "text/plain": [
       "((1.0, 1.0), None)"
      ]
     },
     "execution_count": 29,
     "metadata": {},
     "output_type": "execute_result"
    }
   ],
   "source": [
    "prediction  , plot_token(token)"
   ]
  },
  {
   "cell_type": "markdown",
   "metadata": {},
   "source": [
    "***\n",
    "# VS Pires 2016"
   ]
  },
  {
   "cell_type": "code",
   "execution_count": 24,
   "metadata": {},
   "outputs": [],
   "source": [
    "class Dpo_model_pred:\n",
    "    def __init__(self, name, tokens, prediction, sequence):\n",
    "        self.name = name\n",
    "        self.tokens = tokens\n",
    "        self.prediction = prediction\n",
    "        self.sequence = sequence\n",
    "        \n",
    "    def plot_token(self) :\n",
    "        tokens = np.array(self.tokens)  \n",
    "        plt.figure(figsize=(10,6))\n",
    "        for i in range(len(tokens) - 1):\n",
    "            if tokens[i] == 0:\n",
    "                color = 'black'\n",
    "            elif tokens[i] == 1:\n",
    "                color = 'blue'\n",
    "            elif tokens[i] == 2:\n",
    "                color = 'red'\n",
    "            else:\n",
    "                color = 'green'\n",
    "            plt.plot([i, i+1], [tokens[i], tokens[i+1]], color=color, marker='o')\n",
    "        plt.xlabel('Token')\n",
    "        plt.ylabel('Label')\n",
    "        plt.title('Label for each token')\n",
    "        plt.xticks(rotation='vertical')\n",
    "        plt.yticks(np.arange(2), ['0', '1'])  \n",
    "        plt.grid(True)\n",
    "        plt.show()\n",
    "\n",
    "    def get_prediction(self):\n",
    "        return self.prediction\n",
    "    \n",
    "    def get_seq(self):\n",
    "        return self.sequence\n",
    "\n"
   ]
  },
  {
   "cell_type": "markdown",
   "metadata": {},
   "source": [
    "> Get the other tools results"
   ]
  },
  {
   "cell_type": "markdown",
   "metadata": {},
   "source": [
    "Make the predictions "
   ]
  },
  {
   "cell_type": "code",
   "execution_count": null,
   "metadata": {},
   "outputs": [],
   "source": [
    "rsync -avzhe ssh \\\n",
    "/media/concha-eloko/Linux/PhageDEPOdetection/data_Benchmarking/benchmark_dataframe.csv \\\n",
    "conchae@garnatxa.srv.cpd:/home/conchae/PhageDepo_pdb \\\n"
   ]
  },
  {
   "cell_type": "code",
   "execution_count": 3,
   "metadata": {},
   "outputs": [],
   "source": [
    "import pandas as pd \n",
    "import os \n",
    "from tqdm import tqdm\n",
    "from Bio import SeqIO\n",
    "\n",
    "path_DePP_results = \"/media/concha-eloko/Linux/PhageDEPOdetection/data_Benchmarking\"\n",
    "df_results = pd.read_csv(f\"{path_DePP_results}/benchmark_dataframe.csv\", header = 0 )\n"
   ]
  },
  {
   "cell_type": "code",
   "execution_count": 4,
   "metadata": {},
   "outputs": [],
   "source": [
    "seq_to_remove = SeqIO.parse(f\"{path_DePP_results}/remove_benchmark.fasta\", \"fasta\")\n",
    "seq_to_remove_list = [record.seq for record in seq_to_remove]"
   ]
  },
  {
   "cell_type": "code",
   "execution_count": 27,
   "metadata": {
    "jupyter": {
     "source_hidden": true
    }
   },
   "outputs": [
    {
     "name": "stderr",
     "output_type": "stream",
     "text": [
      "100%|███████████████████████████████████████| 1000/1000 [01:10<00:00, 14.14it/s]"
     ]
    },
    {
     "name": "stdout",
     "output_type": "stream",
     "text": [
      "CPU times: user 4min 10s, sys: 31.5 s, total: 4min 42s\n",
      "Wall time: 1min 10s\n"
     ]
    },
    {
     "name": "stderr",
     "output_type": "stream",
     "text": [
      "\n"
     ]
    }
   ],
   "source": [
    "%%time\n",
    "#output_label_DepolyX = []\n",
    "\n",
    "all_lengths = 0\n",
    "for seq in tqdm(df_results[\"protein_seq\"][0:1000]) : \n",
    "    prediction, sequence_outputs = predict_sequence(model_classifier, seq)\n",
    "    all_lengths = all_lengths + len(seq)\n",
    "    #output_label_DepolyX.append(prediction)\n"
   ]
  },
  {
   "cell_type": "code",
   "execution_count": 28,
   "metadata": {
    "jupyter": {
     "source_hidden": true
    }
   },
   "outputs": [
    {
     "data": {
      "text/plain": [
       "331.3359375"
      ]
     },
     "execution_count": 28,
     "metadata": {},
     "output_type": "execute_result"
    }
   ],
   "source": [
    "from pympler import asizeof\n",
    "\n",
    "size_in_bytes = asizeof.asizeof((model_classifier), \"bytes\")\n",
    "size_in_kb = size_in_bytes / 1024\n",
    "size_in_mb = size_in_bytes / (1024 ** 2)\n",
    "\n",
    "size_in_kb"
   ]
  },
  {
   "cell_type": "code",
   "execution_count": 5,
   "metadata": {},
   "outputs": [],
   "source": [
    "#scores_DepolyX = [pred[1] for _,pred in enumerate(output_label_DepolyX)]\n",
    "#df_results[\"scores_DepolyX\"] = scores_DepolyX\n",
    "#df_results.to_csv(f\"{path_DePP_results}/full_benchmark_dataframe.3L.2008.csv\", sep = \",\", index = False)\n",
    "\n",
    "df_final_results = pd.read_csv(f\"{path_DePP_results}/full_benchmark_dataframe.4L.2008.csv\", header = 0, sep = \",\")\n",
    "df_final_results = df_final_results[df_final_results[\"protein_seq\"].str.len() >= 200]\n",
    "\n",
    "df_final_results_unseen = df_final_results[~df_final_results[\"protein_seq\"].isin(seq_to_remove_list)]\n"
   ]
  },
  {
   "cell_type": "code",
   "execution_count": 6,
   "metadata": {},
   "outputs": [],
   "source": [
    "genomes_id = df_final_results_unseen[\"genome_id\"].unique().tolist()\n",
    "\n",
    "def get_metrics(df, tool_score , threshold) : \n",
    "    tp , tn , fp , fn = 0 , 0 , 0 , 0\n",
    "    for _,row in df.iterrows() : \n",
    "        if row[\"label\"] == 0 : \n",
    "            if row[tool_score] >= threshold : \n",
    "                fp += 1 \n",
    "            else :\n",
    "                tn += 1 \n",
    "        else :\n",
    "            if row[tool_score] >= threshold : \n",
    "                tp += 1 \n",
    "            else :\n",
    "                fn += 1 \n",
    "    return [tp , tn , fp , fn]\n",
    "    \n",
    "metrics = {}\n",
    "for _,genome in enumerate(genomes_id) :  \n",
    "    #df_genome = df_results[(df_results[\"genome_id\"] == genome) & (len(df_results[\"protein_seq\"]) >= 200)]\n",
    "    df_genome = df_final_results_unseen[(df_final_results_unseen[\"genome_id\"] == genome)]\n",
    "    metric_phageDPO = get_metrics(df_genome , \"scores_phageDPO\" , 50)\n",
    "    metric_DePP = get_metrics(df_genome , \"scores_DePP\" , 0.5)\n",
    "    metric_DepolyX = get_metrics(df_genome , \"scores_DepolyX\" , 0.5)\n",
    "    a = {\"phageDPO\" : metric_phageDPO , \"DePP\" : metric_DePP, \"DepolyX\" : metric_DepolyX}\n",
    "    metrics[genome] = a"
   ]
  },
  {
   "cell_type": "code",
   "execution_count": 7,
   "metadata": {
    "scrolled": true
   },
   "outputs": [
    {
     "name": "stdout",
     "output_type": "stream",
     "text": [
      "{'AY349011.3': {'DePP': [1, 21, 5, 0], 'DepolyX': [1, 24, 2, 0], 'phageDPO': [1, 24, 2, 0]},\n",
      " 'CP000711.1': {'DePP': [0, 13, 5, 0], 'DepolyX': [0, 18, 0, 0], 'phageDPO': [0, 17, 1, 0]},\n",
      " 'DQ831957.1': {'DePP': [0, 10, 9, 0], 'DepolyX': [0, 19, 0, 0], 'phageDPO': [0, 13, 6, 0]},\n",
      " 'DQ834250.1': {'DePP': [1, 11, 8, 0], 'DepolyX': [1, 19, 0, 0], 'phageDPO': [1, 14, 5, 0]},\n",
      " 'FQ482084.1': {'DePP': [1, 10, 10, 0], 'DepolyX': [1, 19, 1, 0], 'phageDPO': [1, 18, 2, 0]},\n",
      " 'FR671405.1': {'DePP': [1, 5, 5, 0], 'DepolyX': [0, 10, 0, 1], 'phageDPO': [0, 9, 1, 1]},\n",
      " 'FR671406.1': {'DePP': [1, 8, 7, 0], 'DepolyX': [0, 15, 0, 1], 'phageDPO': [0, 14, 1, 1]},\n",
      " 'FR671407.1': {'DePP': [1, 10, 5, 0], 'DepolyX': [0, 15, 0, 1], 'phageDPO': [0, 14, 1, 1]},\n",
      " 'FR671410.1': {'DePP': [1, 7, 5, 0], 'DepolyX': [0, 12, 0, 1], 'phageDPO': [0, 11, 1, 1]},\n",
      " 'FR671411.1': {'DePP': [1, 6, 5, 0], 'DepolyX': [0, 11, 0, 1], 'phageDPO': [0, 10, 1, 1]},\n",
      " 'GQ413937.1': {'DePP': [1, 7, 8, 0], 'DepolyX': [1, 13, 2, 0], 'phageDPO': [1, 12, 3, 0]},\n",
      " 'GU196281.1': {'DePP': [0, 11, 10, 0], 'DepolyX': [0, 21, 0, 0], 'phageDPO': [0, 20, 1, 0]},\n",
      " 'GU323708.1': {'DePP': [1, 8, 7, 1], 'DepolyX': [0, 15, 0, 2], 'phageDPO': [2, 12, 3, 0]},\n",
      " 'HG799490.1': {'DePP': [1, 6, 5, 0], 'DepolyX': [0, 11, 0, 1], 'phageDPO': [0, 10, 1, 1]},\n",
      " 'HG799496.1': {'DePP': [1, 6, 6, 0], 'DepolyX': [0, 12, 0, 1], 'phageDPO': [0, 11, 1, 1]},\n",
      " 'HG799497.1': {'DePP': [1, 7, 4, 0], 'DepolyX': [0, 11, 0, 1], 'phageDPO': [0, 10, 1, 1]},\n",
      " 'HQ632825.1': {'DePP': [1, 71, 50, 0], 'DepolyX': [1, 114, 7, 0], 'phageDPO': [1, 80, 41, 0]},\n",
      " 'JX262376.1': {'DePP': [1, 13, 6, 0], 'DepolyX': [0, 19, 0, 1], 'phageDPO': [0, 17, 2, 1]},\n",
      " 'KC330681.1': {'DePP': [0, 17, 5, 0], 'DepolyX': [0, 22, 0, 0], 'phageDPO': [0, 18, 4, 0]},\n",
      " 'KC330683.1': {'DePP': [1, 15, 6, 0], 'DepolyX': [1, 21, 0, 0], 'phageDPO': [1, 17, 4, 0]},\n",
      " 'KC556894.1': {'DePP': [0, 16, 7, 0], 'DepolyX': [0, 22, 1, 0], 'phageDPO': [0, 19, 4, 0]},\n",
      " 'KC700556.1': {'DePP': [1, 13, 7, 0], 'DepolyX': [0, 20, 0, 1], 'phageDPO': [0, 17, 3, 1]},\n",
      " 'KC700557.1': {'DePP': [1, 13, 7, 0], 'DepolyX': [0, 20, 0, 1], 'phageDPO': [0, 17, 3, 1]},\n",
      " 'KC700558.1': {'DePP': [1, 13, 7, 0], 'DepolyX': [0, 20, 0, 1], 'phageDPO': [0, 17, 3, 1]},\n",
      " 'KC821608.1': {'DePP': [1, 16, 14, 0], 'DepolyX': [1, 29, 1, 0], 'phageDPO': [1, 23, 7, 0]},\n",
      " 'KC821610.1': {'DePP': [0, 18, 15, 0], 'DepolyX': [0, 32, 1, 0], 'phageDPO': [0, 27, 6, 0]},\n",
      " 'KC821621.1': {'DePP': [0, 16, 16, 0], 'DepolyX': [0, 32, 0, 0], 'phageDPO': [0, 24, 8, 0]},\n",
      " 'KC821625.1': {'DePP': [0, 16, 16, 0], 'DepolyX': [0, 32, 0, 0], 'phageDPO': [0, 24, 8, 0]},\n",
      " 'KC821629.1': {'DePP': [0, 18, 15, 0], 'DepolyX': [0, 32, 1, 0], 'phageDPO': [0, 27, 6, 0]},\n",
      " 'KC821630.1': {'DePP': [0, 17, 15, 0], 'DepolyX': [0, 31, 1, 0], 'phageDPO': [0, 26, 6, 0]},\n",
      " 'KC821633.1': {'DePP': [2, 15, 10, 0], 'DepolyX': [2, 25, 0, 0], 'phageDPO': [2, 19, 6, 0]},\n",
      " 'KC821634.1': {'DePP': [0, 18, 15, 0], 'DepolyX': [0, 32, 1, 0], 'phageDPO': [0, 27, 6, 0]},\n",
      " 'KF669651.1': {'DePP': [1, 17, 5, 0], 'DepolyX': [1, 22, 0, 0], 'phageDPO': [1, 19, 3, 0]},\n",
      " 'KF669657.1': {'DePP': [0, 11, 9, 0], 'DepolyX': [0, 19, 1, 0], 'phageDPO': [0, 14, 6, 0]},\n",
      " 'KF669659.1': {'DePP': [1, 17, 5, 0], 'DepolyX': [1, 22, 0, 0], 'phageDPO': [1, 18, 4, 0]},\n",
      " 'KJ417497.1': {'DePP': [1, 7, 10, 0], 'DepolyX': [0, 17, 0, 1], 'phageDPO': [1, 16, 1, 0]},\n",
      " 'NC_001423.1': {'DePP': [0, 4, 6, 0], 'DepolyX': [0, 10, 0, 0], 'phageDPO': [0, 7, 3, 0]},\n",
      " 'NC_002649.1': {'DePP': [0, 5, 5, 0], 'DepolyX': [0, 9, 1, 0], 'phageDPO': [0, 8, 2, 0]},\n",
      " 'NC_002730.1': {'DePP': [1, 11, 7, 0], 'DepolyX': [1, 17, 1, 0], 'phageDPO': [1, 16, 2, 0]},\n",
      " 'NC_003157.5': {'DePP': [0, 11, 7, 0], 'DepolyX': [0, 18, 0, 0], 'phageDPO': [0, 15, 3, 0]},\n",
      " 'NC_004165.1': {'DePP': [0, 4, 6, 0], 'DepolyX': [0, 10, 0, 0], 'phageDPO': [0, 8, 2, 0]},\n",
      " 'NC_004166.2': {'DePP': [1, 14, 4, 0], 'DepolyX': [1, 18, 0, 0], 'phageDPO': [1, 15, 3, 0]},\n",
      " 'NC_004167.1': {'DePP': [0, 10, 7, 0], 'DepolyX': [0, 17, 0, 0], 'phageDPO': [0, 17, 0, 0]},\n",
      " 'NC_005344.1': {'DePP': [0, 13, 6, 0], 'DepolyX': [0, 19, 0, 0], 'phageDPO': [0, 18, 1, 0]},\n",
      " 'NC_006883.2': {'DePP': [1, 75, 53, 0], 'DepolyX': [1, 121, 7, 0], 'phageDPO': [1, 86, 42, 0]},\n",
      " 'NC_007055.1': {'DePP': [0, 9, 10, 0], 'DepolyX': [0, 18, 1, 0], 'phageDPO': [0, 14, 5, 0]},\n",
      " 'NC_007636.1': {'DePP': [0, 5, 9, 0], 'DepolyX': [0, 13, 1, 0], 'phageDPO': [0, 13, 1, 0]},\n",
      " 'NC_007637.1': {'DePP': [0, 11, 9, 0], 'DepolyX': [0, 19, 1, 0], 'phageDPO': [0, 19, 1, 0]},\n",
      " 'NC_008152.1': {'DePP': [1, 10, 9, 0], 'DepolyX': [1, 18, 1, 0], 'phageDPO': [1, 18, 1, 0]},\n",
      " 'NC_009014.1': {'DePP': [1, 9, 10, 0], 'DepolyX': [1, 18, 1, 0], 'phageDPO': [1, 17, 2, 0]},\n",
      " 'NC_009819.1': {'DePP': [0, 5, 13, 1], 'DepolyX': [1, 18, 0, 0], 'phageDPO': [1, 15, 3, 0]},\n",
      " 'NC_011048.1': {'DePP': [1, 4, 6, 0], 'DepolyX': [1, 10, 0, 0], 'phageDPO': [1, 8, 2, 0]},\n",
      " 'NC_011421.1': {'DePP': [0, 35, 24, 0], 'DepolyX': [0, 57, 2, 0], 'phageDPO': [0, 48, 11, 0]},\n",
      " 'NC_011976.1': {'DePP': [1, 13, 8, 0], 'DepolyX': [1, 20, 1, 0], 'phageDPO': [1, 19, 2, 0]},\n",
      " 'NC_014229.1': {'DePP': [1, 14, 5, 0], 'DepolyX': [1, 19, 0, 0], 'phageDPO': [1, 17, 2, 0]},\n",
      " 'NC_015208.1': {'DePP': [0, 7, 8, 0], 'DepolyX': [0, 14, 1, 0], 'phageDPO': [0, 14, 1, 0]},\n",
      " 'NC_015295.1': {'DePP': [0, 16, 8, 0], 'DepolyX': [0, 23, 1, 0], 'phageDPO': [0, 20, 4, 0]},\n",
      " 'NC_015296.1': {'DePP': [1, 47, 34, 0], 'DepolyX': [1, 79, 2, 0], 'phageDPO': [1, 65, 16, 0]},\n",
      " 'NC_016071.1': {'DePP': [0, 45, 23, 0], 'DepolyX': [0, 67, 1, 0], 'phageDPO': [0, 59, 9, 0]},\n",
      " 'NC_016767.1': {'DePP': [1, 16, 8, 0], 'DepolyX': [1, 23, 1, 0], 'phageDPO': [1, 22, 2, 0]},\n",
      " 'NC_017971.2': {'DePP': [1, 14, 8, 0], 'DepolyX': [0, 22, 0, 1], 'phageDPO': [1, 21, 1, 0]},\n",
      " 'NC_017972.1': {'DePP': [0, 105, 45, 1], 'DepolyX': [0, 149, 1, 1], 'phageDPO': [0, 130, 20, 1]},\n",
      " 'NC_017980.1': {'DePP': [0, 5, 4, 0], 'DepolyX': [0, 9, 0, 0], 'phageDPO': [0, 7, 2, 0]},\n",
      " 'NC_017981.1': {'DePP': [0, 18, 5, 0], 'DepolyX': [0, 23, 0, 0], 'phageDPO': [0, 19, 4, 0]},\n",
      " 'NC_018083.1': {'DePP': [0, 5, 4, 0], 'DepolyX': [0, 9, 0, 0], 'phageDPO': [0, 7, 2, 0]},\n",
      " 'NC_018084.1': {'DePP': [0, 5, 4, 0], 'DepolyX': [0, 9, 0, 0], 'phageDPO': [0, 5, 4, 0]},\n",
      " 'NC_018281.1': {'DePP': [0, 10, 8, 0], 'DepolyX': [0, 18, 0, 0], 'phageDPO': [0, 12, 6, 0]},\n",
      " 'NC_018284.1': {'DePP': [0, 11, 8, 0], 'DepolyX': [0, 19, 0, 0], 'phageDPO': [0, 14, 5, 0]},\n",
      " 'NC_018836.1': {'DePP': [1, 14, 4, 0], 'DepolyX': [0, 18, 0, 1], 'phageDPO': [0, 17, 1, 1]},\n",
      " 'NC_018856.1': {'DePP': [1, 41, 22, 0], 'DepolyX': [1, 63, 0, 0], 'phageDPO': [1, 54, 9, 0]},\n",
      " 'NC_018857.1': {'DePP': [1, 32, 20, 0], 'DepolyX': [1, 52, 0, 0], 'phageDPO': [1, 42, 10, 0]},\n",
      " 'NC_019400.1': {'DePP': [0, 40, 24, 0], 'DepolyX': [0, 63, 1, 0], 'phageDPO': [0, 54, 10, 0]},\n",
      " 'NC_019401.1': {'DePP': [1, 102, 62, 0], 'DepolyX': [1, 161, 3, 0], 'phageDPO': [1, 129, 35, 0]},\n",
      " 'NC_019403.1': {'DePP': [0, 10, 9, 0], 'DepolyX': [0, 18, 1, 0], 'phageDPO': [0, 18, 1, 0]},\n",
      " 'NC_019414.1': {'DePP': [1, 13, 6, 0], 'DepolyX': [0, 19, 0, 1], 'phageDPO': [0, 17, 2, 1]},\n",
      " 'NC_019446.1': {'DePP': [0, 16, 7, 0], 'DepolyX': [0, 22, 1, 0], 'phageDPO': [0, 19, 4, 0]},\n",
      " 'NC_019454.1': {'DePP': [1, 10, 8, 0], 'DepolyX': [1, 17, 1, 0], 'phageDPO': [1, 16, 2, 0]},\n",
      " 'NC_019487.1': {'DePP': [2, 42, 19, 0], 'DepolyX': [2, 61, 0, 0], 'phageDPO': [2, 55, 6, 0]},\n",
      " 'NC_019510.1': {'DePP': [0, 8, 9, 0], 'DepolyX': [0, 16, 1, 0], 'phageDPO': [0, 16, 1, 0]},\n",
      " 'NC_019523.1': {'DePP': [0, 5, 6, 0], 'DepolyX': [0, 11, 0, 0], 'phageDPO': [0, 8, 3, 0]},\n",
      " 'NC_019526.1': {'DePP': [1, 80, 62, 0], 'DepolyX': [1, 133, 9, 0], 'phageDPO': [1, 97, 45, 0]},\n",
      " 'NC_019530.1': {'DePP': [0, 47, 36, 0], 'DepolyX': [0, 80, 3, 0], 'phageDPO': [0, 66, 17, 0]},\n",
      " 'NC_019917.1': {'DePP': [0, 22, 6, 0], 'DepolyX': [0, 27, 1, 0], 'phageDPO': [0, 27, 1, 0]},\n",
      " 'NC_019923.1': {'DePP': [0, 9, 7, 0], 'DepolyX': [0, 16, 0, 0], 'phageDPO': [0, 14, 2, 0]},\n",
      " 'NC_019926.1': {'DePP': [0, 10, 10, 0], 'DepolyX': [0, 19, 1, 0], 'phageDPO': [0, 18, 2, 0]},\n",
      " 'NC_019929.1': {'DePP': [0, 69, 61, 0], 'DepolyX': [0, 130, 0, 0], 'phageDPO': [0, 102, 28, 0]},\n",
      " 'NC_020078.1': {'DePP': [0, 11, 7, 0], 'DepolyX': [0, 17, 1, 0], 'phageDPO': [0, 17, 1, 0]},\n",
      " 'NC_020079.1': {'DePP': [0, 38, 21, 0], 'DepolyX': [0, 58, 1, 0], 'phageDPO': [0, 40, 19, 0]},\n",
      " 'NC_020081.2': {'DePP': [0, 45, 21, 1], 'DepolyX': [0, 66, 0, 1], 'phageDPO': [0, 56, 10, 1]},\n",
      " 'NC_020083.1': {'DePP': [1, 47, 34, 1], 'DepolyX': [1, 78, 3, 1], 'phageDPO': [1, 64, 17, 1]},\n",
      " 'NC_020477.1': {'DePP': [0, 18, 5, 0], 'DepolyX': [0, 23, 0, 0], 'phageDPO': [0, 20, 3, 0]},\n",
      " 'NC_020478.1': {'DePP': [0, 17, 5, 0], 'DepolyX': [0, 22, 0, 0], 'phageDPO': [0, 18, 4, 0]},\n",
      " 'NC_020479.1': {'DePP': [0, 17, 5, 0], 'DepolyX': [0, 22, 0, 0], 'phageDPO': [0, 18, 4, 0]},\n",
      " 'NC_020842.1': {'DePP': [0, 15, 14, 0], 'DepolyX': [0, 29, 0, 0], 'phageDPO': [0, 23, 6, 0]},\n",
      " 'NC_020860.1': {'DePP': [0, 14, 13, 0], 'DepolyX': [0, 26, 1, 0], 'phageDPO': [0, 21, 6, 0]},\n",
      " 'NC_020873.1': {'DePP': [0, 49, 28, 0], 'DepolyX': [0, 76, 1, 0], 'phageDPO': [0, 68, 9, 0]},\n",
      " 'NC_020883.1': {'DePP': [1, 12, 8, 0], 'DepolyX': [1, 19, 1, 0], 'phageDPO': [1, 17, 3, 0]},\n",
      " 'NC_021336.1': {'DePP': [0, 5, 6, 0], 'DepolyX': [0, 11, 0, 0], 'phageDPO': [0, 9, 2, 0]},\n",
      " 'NC_021563.1': {'DePP': [1, 10, 6, 0], 'DepolyX': [1, 16, 0, 0], 'phageDPO': [1, 15, 1, 0]},\n",
      " 'NC_021792.1': {'DePP': [1, 15, 13, 0], 'DepolyX': [1, 27, 1, 0], 'phageDPO': [1, 22, 6, 0]},\n",
      " 'NC_021802.1': {'DePP': [1, 9, 11, 0], 'DepolyX': [1, 19, 1, 0], 'phageDPO': [1, 13, 7, 0]},\n",
      " 'NC_021804.1': {'DePP': [1, 4, 6, 0], 'DepolyX': [1, 10, 0, 0], 'phageDPO': [1, 6, 4, 0]},\n",
      " 'NC_021856.1': {'DePP': [1, 35, 23, 1], 'DepolyX': [1, 57, 1, 1], 'phageDPO': [0, 47, 11, 2]},\n",
      " 'NC_022088.2': {'DePP': [1, 49, 19, 0], 'DepolyX': [1, 68, 0, 0], 'phageDPO': [1, 61, 7, 0]},\n",
      " 'NC_022761.1': {'DePP': [2, 41, 21, 0], 'DepolyX': [2, 62, 0, 0], 'phageDPO': [2, 54, 8, 0]},\n",
      " 'NC_022763.1': {'DePP': [1, 49, 20, 0], 'DepolyX': [1, 69, 0, 0], 'phageDPO': [1, 61, 8, 0]},\n",
      " 'NC_022764.1': {'DePP': [0, 11, 9, 0], 'DepolyX': [0, 19, 1, 0], 'phageDPO': [0, 14, 6, 0]},\n",
      " 'NC_022767.1': {'DePP': [0, 24, 11, 0], 'DepolyX': [0, 35, 0, 0], 'phageDPO': [0, 32, 3, 0]},\n",
      " 'NC_022768.1': {'DePP': [1, 45, 34, 0], 'DepolyX': [1, 76, 3, 0], 'phageDPO': [1, 63, 16, 0]},\n",
      " 'NC_022769.1': {'DePP': [1, 47, 21, 0], 'DepolyX': [1, 67, 1, 0], 'phageDPO': [1, 60, 8, 0]},\n",
      " 'NC_022770.1': {'DePP': [1, 12, 10, 0], 'DepolyX': [1, 21, 1, 0], 'phageDPO': [1, 16, 6, 0]},\n",
      " 'NC_022771.1': {'DePP': [1, 42, 21, 0], 'DepolyX': [1, 63, 0, 0], 'phageDPO': [1, 55, 8, 0]},\n",
      " 'NC_022772.1': {'DePP': [1, 46, 33, 0], 'DepolyX': [1, 77, 2, 0], 'phageDPO': [1, 63, 16, 0]},\n",
      " 'NC_022773.1': {'DePP': [1, 18, 4, 0], 'DepolyX': [1, 22, 0, 0], 'phageDPO': [1, 19, 3, 0]},\n",
      " 'NC_023501.1': {'DePP': [1, 34, 21, 0], 'DepolyX': [1, 55, 0, 0], 'phageDPO': [1, 44, 11, 0]},\n",
      " 'NC_023557.1': {'DePP': [1, 83, 62, 0], 'DepolyX': [1, 143, 2, 0], 'phageDPO': [1, 122, 23, 0]},\n",
      " 'NC_023579.1': {'DePP': [0, 16, 15, 0], 'DepolyX': [0, 31, 0, 0], 'phageDPO': [0, 27, 4, 0]},\n",
      " 'NC_023582.1': {'DePP': [0, 22, 14, 0], 'DepolyX': [0, 35, 1, 0], 'phageDPO': [0, 30, 6, 0]},\n",
      " 'NC_023610.1': {'DePP': [0, 72, 53, 0], 'DepolyX': [0, 125, 0, 0], 'phageDPO': [0, 101, 24, 0]},\n",
      " 'NC_023693.1': {'DePP': [0, 43, 22, 0], 'DepolyX': [0, 65, 0, 0], 'phageDPO': [0, 50, 15, 0]},\n",
      " 'NC_023694.1': {'DePP': [1, 21, 15, 0], 'DepolyX': [1, 35, 1, 0], 'phageDPO': [1, 29, 7, 0]},\n",
      " 'NC_023735.1': {'DePP': [0, 24, 15, 0], 'DepolyX': [0, 39, 0, 0], 'phageDPO': [0, 33, 6, 0]},\n",
      " 'NC_024137.1': {'DePP': [1, 46, 30, 0], 'DepolyX': [1, 76, 0, 0], 'phageDPO': [1, 67, 9, 0]},\n",
      " 'NC_024205.1': {'DePP': [1, 45, 22, 0], 'DepolyX': [1, 67, 0, 0], 'phageDPO': [1, 56, 11, 0]},\n",
      " 'NC_024211.1': {'DePP': [1, 39, 21, 0], 'DepolyX': [1, 60, 0, 0], 'phageDPO': [1, 52, 8, 0]},\n",
      " 'NC_024213.1': {'DePP': [0, 38, 21, 0], 'DepolyX': [0, 59, 0, 0], 'phageDPO': [0, 51, 8, 0]},\n",
      " 'NC_024216.1': {'DePP': [1, 45, 22, 0], 'DepolyX': [1, 67, 0, 0], 'phageDPO': [1, 58, 9, 0]},\n",
      " 'NC_024355.1': {'DePP': [0, 22, 13, 0], 'DepolyX': [0, 35, 0, 0], 'phageDPO': [0, 29, 6, 0]},\n",
      " 'NC_024378.1': {'DePP': [0, 5, 8, 0], 'DepolyX': [0, 13, 0, 0], 'phageDPO': [0, 10, 3, 0]},\n",
      " 'NC_024792.1': {'DePP': [0, 52, 22, 1], 'DepolyX': [0, 73, 1, 1], 'phageDPO': [0, 64, 10, 1]},\n",
      " 'NC_025422.1': {'DePP': [1, 43, 31, 0], 'DepolyX': [0, 73, 1, 1], 'phageDPO': [1, 56, 18, 0]},\n",
      " 'NC_025446.1': {'DePP': [1, 44, 35, 0], 'DepolyX': [1, 76, 3, 0], 'phageDPO': [1, 64, 15, 0]},\n",
      " 'NC_027351.1': {'DePP': [0, 42, 24, 0], 'DepolyX': [0, 65, 1, 0], 'phageDPO': [0, 56, 10, 0]},\n",
      " 'NC_027364.1': {'DePP': [1, 79, 59, 0], 'DepolyX': [1, 126, 12, 0], 'phageDPO': [1, 97, 41, 0]},\n",
      " 'NC_027993.1': {'DePP': [0, 11, 8, 0], 'DepolyX': [0, 19, 0, 0], 'phageDPO': [0, 18, 1, 0]},\n",
      " 'NC_027994.1': {'DePP': [0, 10, 8, 0], 'DepolyX': [0, 18, 0, 0], 'phageDPO': [0, 17, 1, 0]},\n",
      " 'NC_041856.1': {'DePP': [1, 11, 6, 0], 'DepolyX': [0, 16, 1, 1], 'phageDPO': [0, 15, 2, 1]},\n",
      " 'NC_041858.1': {'DePP': [1, 18, 5, 0], 'DepolyX': [1, 23, 0, 0], 'phageDPO': [1, 20, 3, 0]},\n",
      " 'NC_041897.1': {'DePP': [1, 9, 10, 0], 'DepolyX': [1, 19, 0, 0], 'phageDPO': [1, 18, 1, 0]},\n",
      " 'NC_048629.1': {'DePP': [1, 7, 3, 0], 'DepolyX': [1, 10, 0, 0], 'phageDPO': [1, 7, 3, 0]},\n",
      " 'NC_048631.1': {'DePP': [0, 6, 9, 0], 'DepolyX': [0, 15, 0, 0], 'phageDPO': [0, 14, 1, 0]},\n",
      " 'NC_049976.1': {'DePP': [0, 4, 6, 0], 'DepolyX': [0, 10, 0, 0], 'phageDPO': [0, 8, 2, 0]}}\n"
     ]
    }
   ],
   "source": [
    "import json\n",
    "import pprint\n",
    "pp = pprint.PrettyPrinter(width = 100, sort_dicts = True, compact = True)\n",
    "pp.pprint(metrics)"
   ]
  },
  {
   "cell_type": "code",
   "execution_count": 8,
   "metadata": {},
   "outputs": [
    {
     "data": {
      "text/html": [
       "<div>\n",
       "<style scoped>\n",
       "    .dataframe tbody tr th:only-of-type {\n",
       "        vertical-align: middle;\n",
       "    }\n",
       "\n",
       "    .dataframe tbody tr th {\n",
       "        vertical-align: top;\n",
       "    }\n",
       "\n",
       "    .dataframe thead th {\n",
       "        text-align: right;\n",
       "    }\n",
       "</style>\n",
       "<table border=\"1\" class=\"dataframe\">\n",
       "  <thead>\n",
       "    <tr style=\"text-align: right;\">\n",
       "      <th></th>\n",
       "      <th>genome_id</th>\n",
       "      <th>protein_id</th>\n",
       "      <th>dna_seq</th>\n",
       "      <th>protein_seq</th>\n",
       "      <th>label</th>\n",
       "      <th>scores_phageDPO</th>\n",
       "      <th>scores_DePP</th>\n",
       "      <th>scores_DepolyX</th>\n",
       "    </tr>\n",
       "  </thead>\n",
       "  <tbody>\n",
       "    <tr>\n",
       "      <th>0</th>\n",
       "      <td>KC821630.1</td>\n",
       "      <td>AGO49320</td>\n",
       "      <td>ATGGCTTTACATACTAGAAAAGAGTTCGCTGCTCTATGCAGAACAA...</td>\n",
       "      <td>MALHTRKEFAALCRTTIAVVNTNVNRNKIQLHDKKIDSQNAINKKF...</td>\n",
       "      <td>0</td>\n",
       "      <td>0.0</td>\n",
       "      <td>0.243067</td>\n",
       "      <td>0.019835</td>\n",
       "    </tr>\n",
       "    <tr>\n",
       "      <th>3</th>\n",
       "      <td>KC821630.1</td>\n",
       "      <td>AGO49323</td>\n",
       "      <td>ATGAATTTAAAAGATATTTGGAAACAGCAGTTAAATTTTTTCAATT...</td>\n",
       "      <td>MNLKDIWKQQLNFFNSKLYSYKTIKAIPSEWVEKTIILDPEVSRFS...</td>\n",
       "      <td>0</td>\n",
       "      <td>21.0</td>\n",
       "      <td>0.852377</td>\n",
       "      <td>0.019835</td>\n",
       "    </tr>\n",
       "    <tr>\n",
       "      <th>5</th>\n",
       "      <td>KC821630.1</td>\n",
       "      <td>AGO49325</td>\n",
       "      <td>ATGAGTTTTAAAGAAAATTGGAATAAGTTTACTGAAGTTTTCTTAG...</td>\n",
       "      <td>MSFKENWNKFTEVFLGKETQQASSSSPYYNEANDGRSYNPIIDDLF...</td>\n",
       "      <td>0</td>\n",
       "      <td>32.0</td>\n",
       "      <td>0.799602</td>\n",
       "      <td>0.019835</td>\n",
       "    </tr>\n",
       "    <tr>\n",
       "      <th>7</th>\n",
       "      <td>KC821630.1</td>\n",
       "      <td>AGO49327</td>\n",
       "      <td>ATGAAAAATTATTTGTCAATTTTATTTTTGCTTTCAAGCTTTTTAG...</td>\n",
       "      <td>MKNYLSILFLLSSFLVLSQNPTSFRNGVIPGVKTTAEIQAIVSPKL...</td>\n",
       "      <td>0</td>\n",
       "      <td>82.0</td>\n",
       "      <td>0.764837</td>\n",
       "      <td>0.019835</td>\n",
       "    </tr>\n",
       "    <tr>\n",
       "      <th>10</th>\n",
       "      <td>KC821630.1</td>\n",
       "      <td>AGO49330</td>\n",
       "      <td>ATGAATTTTCCCCGAATCAAGAGCTTTATCAAAAAGTCGAATTATA...</td>\n",
       "      <td>MNFPRIKSFIKKSNYKRRILLVRLRCVKRLIRQKIWIRKIIRSKVL...</td>\n",
       "      <td>0</td>\n",
       "      <td>2.0</td>\n",
       "      <td>0.277224</td>\n",
       "      <td>0.019835</td>\n",
       "    </tr>\n",
       "    <tr>\n",
       "      <th>...</th>\n",
       "      <td>...</td>\n",
       "      <td>...</td>\n",
       "      <td>...</td>\n",
       "      <td>...</td>\n",
       "      <td>...</td>\n",
       "      <td>...</td>\n",
       "      <td>...</td>\n",
       "      <td>...</td>\n",
       "    </tr>\n",
       "    <tr>\n",
       "      <th>17824</th>\n",
       "      <td>NC_048631.1</td>\n",
       "      <td>YP_009829900</td>\n",
       "      <td>ATGAGAATGAAAAAGATTCTTTTAATTTGTGTTCCCTTCGTAATTT...</td>\n",
       "      <td>MRMKKILLICVPFVILAVAASLYFFNKDQNKQTSAVTDDEKYNDEQ...</td>\n",
       "      <td>0</td>\n",
       "      <td>8.0</td>\n",
       "      <td>0.516787</td>\n",
       "      <td>0.019835</td>\n",
       "    </tr>\n",
       "    <tr>\n",
       "      <th>17826</th>\n",
       "      <td>NC_048631.1</td>\n",
       "      <td>YP_009829902</td>\n",
       "      <td>ATGCTAGAATATTGTTTGAGAAAATTTAGAATATTTGTAGAAAGAG...</td>\n",
       "      <td>MLEYCLRKFRIFVERGVYLMSKLASECVANILNDWYIAIKQQDAES...</td>\n",
       "      <td>0</td>\n",
       "      <td>0.0</td>\n",
       "      <td>0.386534</td>\n",
       "      <td>0.019835</td>\n",
       "    </tr>\n",
       "    <tr>\n",
       "      <th>17827</th>\n",
       "      <td>NC_048631.1</td>\n",
       "      <td>YP_009829903</td>\n",
       "      <td>ATGAACTTGATGGATGAAAACACTCCAAAGAATGTCGGGATATACG...</td>\n",
       "      <td>MNLMDENTPKNVGIYVRVSTEEQAKEGYSISAQKEKLKAYCISQGW...</td>\n",
       "      <td>0</td>\n",
       "      <td>1.0</td>\n",
       "      <td>0.524053</td>\n",
       "      <td>0.019835</td>\n",
       "    </tr>\n",
       "    <tr>\n",
       "      <th>17835</th>\n",
       "      <td>NC_048631.1</td>\n",
       "      <td>YP_009829911</td>\n",
       "      <td>ATGTTTCAAGTAACAGACGCGCAACGTCAAAAGGAAAAAGCAATTG...</td>\n",
       "      <td>MFQVTDAQRQKEKAIVGFIGPSGSGKTAGALLVAYGMMQEAYPDAS...</td>\n",
       "      <td>0</td>\n",
       "      <td>1.0</td>\n",
       "      <td>0.384229</td>\n",
       "      <td>0.019835</td>\n",
       "    </tr>\n",
       "    <tr>\n",
       "      <th>17838</th>\n",
       "      <td>NC_048631.1</td>\n",
       "      <td>YP_009829914</td>\n",
       "      <td>ATGTACGACTTTAAAAATATACCGCAAGAGCTAAAAAACGCCCCTC...</td>\n",
       "      <td>MYDFKNIPQELKNAPQWILWRSEERNGKKTKVPYQIDGSLAQSSNK...</td>\n",
       "      <td>0</td>\n",
       "      <td>41.0</td>\n",
       "      <td>0.806203</td>\n",
       "      <td>0.019835</td>\n",
       "    </tr>\n",
       "  </tbody>\n",
       "</table>\n",
       "<p>5460 rows × 8 columns</p>\n",
       "</div>"
      ],
      "text/plain": [
       "         genome_id    protein_id  \\\n",
       "0       KC821630.1      AGO49320   \n",
       "3       KC821630.1      AGO49323   \n",
       "5       KC821630.1      AGO49325   \n",
       "7       KC821630.1      AGO49327   \n",
       "10      KC821630.1      AGO49330   \n",
       "...            ...           ...   \n",
       "17824  NC_048631.1  YP_009829900   \n",
       "17826  NC_048631.1  YP_009829902   \n",
       "17827  NC_048631.1  YP_009829903   \n",
       "17835  NC_048631.1  YP_009829911   \n",
       "17838  NC_048631.1  YP_009829914   \n",
       "\n",
       "                                                 dna_seq  \\\n",
       "0      ATGGCTTTACATACTAGAAAAGAGTTCGCTGCTCTATGCAGAACAA...   \n",
       "3      ATGAATTTAAAAGATATTTGGAAACAGCAGTTAAATTTTTTCAATT...   \n",
       "5      ATGAGTTTTAAAGAAAATTGGAATAAGTTTACTGAAGTTTTCTTAG...   \n",
       "7      ATGAAAAATTATTTGTCAATTTTATTTTTGCTTTCAAGCTTTTTAG...   \n",
       "10     ATGAATTTTCCCCGAATCAAGAGCTTTATCAAAAAGTCGAATTATA...   \n",
       "...                                                  ...   \n",
       "17824  ATGAGAATGAAAAAGATTCTTTTAATTTGTGTTCCCTTCGTAATTT...   \n",
       "17826  ATGCTAGAATATTGTTTGAGAAAATTTAGAATATTTGTAGAAAGAG...   \n",
       "17827  ATGAACTTGATGGATGAAAACACTCCAAAGAATGTCGGGATATACG...   \n",
       "17835  ATGTTTCAAGTAACAGACGCGCAACGTCAAAAGGAAAAAGCAATTG...   \n",
       "17838  ATGTACGACTTTAAAAATATACCGCAAGAGCTAAAAAACGCCCCTC...   \n",
       "\n",
       "                                             protein_seq  label  \\\n",
       "0      MALHTRKEFAALCRTTIAVVNTNVNRNKIQLHDKKIDSQNAINKKF...      0   \n",
       "3      MNLKDIWKQQLNFFNSKLYSYKTIKAIPSEWVEKTIILDPEVSRFS...      0   \n",
       "5      MSFKENWNKFTEVFLGKETQQASSSSPYYNEANDGRSYNPIIDDLF...      0   \n",
       "7      MKNYLSILFLLSSFLVLSQNPTSFRNGVIPGVKTTAEIQAIVSPKL...      0   \n",
       "10     MNFPRIKSFIKKSNYKRRILLVRLRCVKRLIRQKIWIRKIIRSKVL...      0   \n",
       "...                                                  ...    ...   \n",
       "17824  MRMKKILLICVPFVILAVAASLYFFNKDQNKQTSAVTDDEKYNDEQ...      0   \n",
       "17826  MLEYCLRKFRIFVERGVYLMSKLASECVANILNDWYIAIKQQDAES...      0   \n",
       "17827  MNLMDENTPKNVGIYVRVSTEEQAKEGYSISAQKEKLKAYCISQGW...      0   \n",
       "17835  MFQVTDAQRQKEKAIVGFIGPSGSGKTAGALLVAYGMMQEAYPDAS...      0   \n",
       "17838  MYDFKNIPQELKNAPQWILWRSEERNGKKTKVPYQIDGSLAQSSNK...      0   \n",
       "\n",
       "       scores_phageDPO  scores_DePP  scores_DepolyX  \n",
       "0                  0.0     0.243067        0.019835  \n",
       "3                 21.0     0.852377        0.019835  \n",
       "5                 32.0     0.799602        0.019835  \n",
       "7                 82.0     0.764837        0.019835  \n",
       "10                 2.0     0.277224        0.019835  \n",
       "...                ...          ...             ...  \n",
       "17824              8.0     0.516787        0.019835  \n",
       "17826              0.0     0.386534        0.019835  \n",
       "17827              1.0     0.524053        0.019835  \n",
       "17835              1.0     0.384229        0.019835  \n",
       "17838             41.0     0.806203        0.019835  \n",
       "\n",
       "[5460 rows x 8 columns]"
      ]
     },
     "execution_count": 8,
     "metadata": {},
     "output_type": "execute_result"
    }
   ],
   "source": [
    "df_final_results_unseen"
   ]
  },
  {
   "cell_type": "code",
   "execution_count": 13,
   "metadata": {},
   "outputs": [
    {
     "data": {
      "text/plain": [
       "Counter({0: 5377, 1: 83})"
      ]
     },
     "execution_count": 13,
     "metadata": {},
     "output_type": "execute_result"
    }
   ],
   "source": [
    "from collections import Counter \n",
    "Counter(df_final_results_unseen[\"label\"])"
   ]
  },
  {
   "cell_type": "code",
   "execution_count": 15,
   "metadata": {},
   "outputs": [
    {
     "data": {
      "text/plain": [
       "1.5436116793751162"
      ]
     },
     "execution_count": 15,
     "metadata": {},
     "output_type": "execute_result"
    }
   ],
   "source": [
    "83/5377*100"
   ]
  },
  {
   "cell_type": "code",
   "execution_count": 9,
   "metadata": {},
   "outputs": [],
   "source": [
    "data_dict = {\"Deposcope\" : df_final_results_unseen[\"scores_DepolyX\"], \n",
    "             \"PhageDPO\" : (df_final_results_unseen[\"scores_phageDPO\"]/100), \n",
    "             \"DePP\" : df_final_results_unseen[\"scores_DePP\"], \n",
    "             \"Label\" : df_final_results_unseen[\"label\"]}\n",
    "\n",
    "data_color = {\"Deposcope\" : \"#b22234\", \n",
    "             \"PhageDPO\" : \"#3c3b6e\", \n",
    "             \"DePP\" : \"#828282\"}"
   ]
  },
  {
   "cell_type": "code",
   "execution_count": 10,
   "metadata": {},
   "outputs": [
    {
     "data": {
      "image/png": "[encoded data removed]",
      "text/plain": [
       "<Figure size 1200x800 with 1 Axes>"
      ]
     },
     "metadata": {},
     "output_type": "display_data"
    }
   ],
   "source": [
    "import matplotlib.pyplot as plt\n",
    "import seaborn as sns\n",
    "from sklearn.metrics import precision_recall_curve, auc\n",
    "\n",
    "def plot_multiple_precision_recall_curves(data_dict):\n",
    "    plt.figure(figsize=(12, 8))\n",
    "    lw = 2\n",
    "    sns.set(style=\"whitegrid\")\n",
    "    for key, value in data_dict.items():\n",
    "        if key != \"Label\":\n",
    "            precision, recall, _ = precision_recall_curve(data_dict[\"Label\"], value)\n",
    "            pr_auc = auc(recall, precision)\n",
    "            plt.plot(recall, precision, lw=lw, label=f'{key} (AUC = {pr_auc:.2f})')\n",
    "\n",
    "    plt.xlabel('Recall')\n",
    "    plt.ylabel('Precision')\n",
    "    plt.title('Precision-Recall Curve')\n",
    "    plt.legend(loc=\"lower left\")\n",
    "    plt.savefig('/media/concha-eloko/Linux/papers/Deposcope/Precision_Recall_methods.1303.png', dpi=500)\n",
    "    plt.show()\n",
    "\n",
    "plot_multiple_precision_recall_curves(data_dict)"
   ]
  },
  {
   "cell_type": "code",
   "execution_count": 10,
   "metadata": {
    "collapsed": true,
    "jupyter": {
     "outputs_hidden": true,
     "source_hidden": true
    }
   },
   "outputs": [
    {
     "data": {
      "image/png": "[encoded data removed]",
      "text/plain": [
       "<Figure size 1200x800 with 1 Axes>"
      ]
     },
     "metadata": {},
     "output_type": "display_data"
    }
   ],
   "source": [
    "import matplotlib.pyplot as plt\n",
    "import seaborn as sns\n",
    "from sklearn.metrics import roc_curve, auc\n",
    "\n",
    "def plot_multiple_roc_curves(data_dict):\n",
    "    plt.figure(figsize=(12, 8))\n",
    "    lw = 2\n",
    "    sns.set(style=\"whitegrid\")\n",
    "    for key, value in data_dict.items():\n",
    "        if key != \"Label\" :\n",
    "            fpr, tpr, _ = roc_curve(data_dict[\"Label\"], value)\n",
    "            roc_auc = auc(fpr, tpr)\n",
    "            plt.plot(fpr, tpr, lw=lw, label=f'{key} (AUC = {roc_auc:.2f})')\n",
    "\n",
    "    plt.plot([0, 1], [0, 1], color='brown', lw=lw, linestyle='--')\n",
    "    plt.xlim([0.0, 1.0])\n",
    "    plt.ylim([0.0, 1.05])\n",
    "    plt.xlabel('False Positive Rate')\n",
    "    plt.ylabel('True Positive Rate')\n",
    "    plt.title('ROC Curve TropiSeq')\n",
    "    plt.legend(loc=\"lower right\")\n",
    "    plt.savefig('/media/concha-eloko/Linux/papers/Deposcope/ROC_methods.1303.svg', dpi=500)\n",
    "    plt.show()\n",
    "\n",
    "plot_multiple_roc_curves(data_dict)"
   ]
  },
  {
   "cell_type": "code",
   "execution_count": null,
   "metadata": {},
   "outputs": [],
   "source": []
  },
  {
   "cell_type": "code",
   "execution_count": null,
   "metadata": {},
   "outputs": [],
   "source": []
  },
  {
   "cell_type": "markdown",
   "metadata": {},
   "source": [
    "> Save the metric df"
   ]
  },
  {
   "cell_type": "code",
   "execution_count": 12,
   "metadata": {},
   "outputs": [],
   "source": [
    "flat_data = {}\n",
    "for outer_key, inner_dict in metrics.items():\n",
    "    for inner_key, inner_list in inner_dict.items():\n",
    "        for i, value in enumerate(inner_list):\n",
    "            col_name = f'{inner_key}_{i}'\n",
    "            flat_data.setdefault(outer_key, {})[col_name] = value\n",
    "\n",
    "# Create the DataFrame\n",
    "df = pd.DataFrame.from_dict(flat_data, orient='index')\n",
    "df.to_csv(f\"{path_DePP_results}/benchmark_dataframe.metrics1.4L.1103.csv\", sep = \"\\t\", index = True)\n"
   ]
  },
  {
   "cell_type": "code",
   "execution_count": 18,
   "metadata": {},
   "outputs": [
    {
     "data": {
      "text/plain": [
       "{'DePP': [76, 3275, 2102, 7],\n",
       " 'phageDPO': [62, 4412, 965, 21],\n",
       " 'DepolyX': [58, 5270, 107, 25]}"
      ]
     },
     "execution_count": 18,
     "metadata": {},
     "output_type": "execute_result"
    }
   ],
   "source": [
    "full_metric = {}\n",
    "\n",
    "metric_phageDPO = get_metrics(df_final_results_unseen , \"scores_phageDPO\" , 50)\n",
    "metric_DePP = get_metrics(df_final_results_unseen , \"scores_DePP\" , 0.5)\n",
    "metric_DepolyX = get_metrics(df_final_results_unseen , \"scores_DepolyX\" , 0.5)\n",
    "\n",
    "full_metric = {\"DePP\" : metric_DePP, \"phageDPO\" : metric_phageDPO , \"DepolyX\" : metric_DepolyX}\n",
    "full_metric"
   ]
  },
  {
   "cell_type": "code",
   "execution_count": null,
   "metadata": {},
   "outputs": [],
   "source": [
    "{'DePP': [147, 15593, 2103, 8],\n",
    " 'phageDPO': [133, 16649, 1047, 22],\n",
    " 'DepolyX': [127, 17574, 122, 28]}"
   ]
  },
  {
   "cell_type": "code",
   "execution_count": 33,
   "metadata": {},
   "outputs": [],
   "source": [
    "full_metric = {'DePP': [147, 3275, 2103, 8],\n",
    " 'phageDPO': [133, 4412, 966, 22],\n",
    " 'DepolyX': [127, 5270, 108, 28],\n",
    "'DepolyX_corrected' : [127, 5270,8,28]}"
   ]
  },
  {
   "cell_type": "code",
   "execution_count": 24,
   "metadata": {},
   "outputs": [],
   "source": [
    "full_metric_unseen = {'DePP': [76, 3275, 2102, 7],\n",
    " 'phageDPO': [62, 4412, 965, 21],\n",
    " 'DepolyX': [58, 5270, 107, 25],\n",
    " 'DepolyX_corrected' : [58, 5270,8,25]}"
   ]
  },
  {
   "cell_type": "code",
   "execution_count": null,
   "metadata": {},
   "outputs": [],
   "source": []
  },
  {
   "cell_type": "code",
   "execution_count": 8,
   "metadata": {},
   "outputs": [
    {
     "data": {
      "text/html": [
       "<div>\n",
       "<style scoped>\n",
       "    .dataframe tbody tr th:only-of-type {\n",
       "        vertical-align: middle;\n",
       "    }\n",
       "\n",
       "    .dataframe tbody tr th {\n",
       "        vertical-align: top;\n",
       "    }\n",
       "\n",
       "    .dataframe thead th {\n",
       "        text-align: right;\n",
       "    }\n",
       "</style>\n",
       "<table border=\"1\" class=\"dataframe\">\n",
       "  <thead>\n",
       "    <tr style=\"text-align: right;\">\n",
       "      <th></th>\n",
       "      <th>KC821630.1</th>\n",
       "      <th>NC_019454.1</th>\n",
       "      <th>NC_020842.1</th>\n",
       "      <th>NC_019917.1</th>\n",
       "      <th>NC_021856.1</th>\n",
       "      <th>FR671410.1</th>\n",
       "      <th>FR671406.1</th>\n",
       "      <th>NC_009819.1</th>\n",
       "      <th>NC_017980.1</th>\n",
       "      <th>KC556894.1</th>\n",
       "      <th>...</th>\n",
       "      <th>NC_020478.1</th>\n",
       "      <th>NC_009014.1</th>\n",
       "      <th>NC_024211.1</th>\n",
       "      <th>CP000711.1</th>\n",
       "      <th>NC_017981.1</th>\n",
       "      <th>NC_001423.1</th>\n",
       "      <th>NC_024137.1</th>\n",
       "      <th>NC_017972.1</th>\n",
       "      <th>NC_020078.1</th>\n",
       "      <th>NC_048631.1</th>\n",
       "    </tr>\n",
       "  </thead>\n",
       "  <tbody>\n",
       "    <tr>\n",
       "      <th>phageDPO</th>\n",
       "      <td>[1, 74, 6, 0]</td>\n",
       "      <td>[1, 52, 2, 0]</td>\n",
       "      <td>[1, 95, 8, 0]</td>\n",
       "      <td>[1, 73, 1, 0]</td>\n",
       "      <td>[0, 205, 12, 2]</td>\n",
       "      <td>[0, 51, 1, 1]</td>\n",
       "      <td>[0, 55, 1, 1]</td>\n",
       "      <td>[1, 48, 4, 0]</td>\n",
       "      <td>[1, 23, 2, 0]</td>\n",
       "      <td>[1, 53, 4, 0]</td>\n",
       "      <td>...</td>\n",
       "      <td>[1, 74, 4, 0]</td>\n",
       "      <td>[1, 49, 3, 0]</td>\n",
       "      <td>[1, 280, 9, 0]</td>\n",
       "      <td>[1, 60, 1, 0]</td>\n",
       "      <td>[1, 75, 5, 0]</td>\n",
       "      <td>[1, 23, 3, 0]</td>\n",
       "      <td>[1, 216, 12, 0]</td>\n",
       "      <td>[0, 370, 20, 1]</td>\n",
       "      <td>[1, 47, 1, 0]</td>\n",
       "      <td>[1, 49, 2, 0]</td>\n",
       "    </tr>\n",
       "    <tr>\n",
       "      <th>DePP</th>\n",
       "      <td>[1, 65, 15, 0]</td>\n",
       "      <td>[1, 46, 8, 0]</td>\n",
       "      <td>[1, 89, 14, 0]</td>\n",
       "      <td>[1, 68, 6, 0]</td>\n",
       "      <td>[1, 194, 23, 1]</td>\n",
       "      <td>[1, 47, 5, 0]</td>\n",
       "      <td>[1, 49, 7, 0]</td>\n",
       "      <td>[0, 39, 13, 1]</td>\n",
       "      <td>[1, 21, 4, 0]</td>\n",
       "      <td>[1, 50, 7, 0]</td>\n",
       "      <td>...</td>\n",
       "      <td>[1, 73, 5, 0]</td>\n",
       "      <td>[1, 42, 10, 0]</td>\n",
       "      <td>[1, 268, 21, 0]</td>\n",
       "      <td>[1, 56, 5, 0]</td>\n",
       "      <td>[1, 75, 5, 0]</td>\n",
       "      <td>[1, 20, 6, 0]</td>\n",
       "      <td>[1, 198, 30, 0]</td>\n",
       "      <td>[0, 345, 45, 1]</td>\n",
       "      <td>[1, 41, 7, 0]</td>\n",
       "      <td>[1, 42, 9, 0]</td>\n",
       "    </tr>\n",
       "    <tr>\n",
       "      <th>DepolyX</th>\n",
       "      <td>[1, 79, 1, 0]</td>\n",
       "      <td>[1, 53, 1, 0]</td>\n",
       "      <td>[0, 103, 0, 1]</td>\n",
       "      <td>[1, 73, 1, 0]</td>\n",
       "      <td>[1, 216, 1, 1]</td>\n",
       "      <td>[0, 52, 0, 1]</td>\n",
       "      <td>[0, 56, 0, 1]</td>\n",
       "      <td>[1, 52, 0, 0]</td>\n",
       "      <td>[1, 25, 0, 0]</td>\n",
       "      <td>[1, 56, 1, 0]</td>\n",
       "      <td>...</td>\n",
       "      <td>[1, 78, 0, 0]</td>\n",
       "      <td>[1, 51, 1, 0]</td>\n",
       "      <td>[1, 289, 0, 0]</td>\n",
       "      <td>[1, 61, 0, 0]</td>\n",
       "      <td>[1, 80, 0, 0]</td>\n",
       "      <td>[1, 26, 0, 0]</td>\n",
       "      <td>[1, 228, 0, 0]</td>\n",
       "      <td>[0, 389, 1, 1]</td>\n",
       "      <td>[1, 47, 1, 0]</td>\n",
       "      <td>[1, 51, 0, 0]</td>\n",
       "    </tr>\n",
       "  </tbody>\n",
       "</table>\n",
       "<p>3 rows × 142 columns</p>\n",
       "</div>"
      ],
      "text/plain": [
       "              KC821630.1    NC_019454.1     NC_020842.1    NC_019917.1  \\\n",
       "phageDPO   [1, 74, 6, 0]  [1, 52, 2, 0]   [1, 95, 8, 0]  [1, 73, 1, 0]   \n",
       "DePP      [1, 65, 15, 0]  [1, 46, 8, 0]  [1, 89, 14, 0]  [1, 68, 6, 0]   \n",
       "DepolyX    [1, 79, 1, 0]  [1, 53, 1, 0]  [0, 103, 0, 1]  [1, 73, 1, 0]   \n",
       "\n",
       "              NC_021856.1     FR671410.1     FR671406.1     NC_009819.1  \\\n",
       "phageDPO  [0, 205, 12, 2]  [0, 51, 1, 1]  [0, 55, 1, 1]   [1, 48, 4, 0]   \n",
       "DePP      [1, 194, 23, 1]  [1, 47, 5, 0]  [1, 49, 7, 0]  [0, 39, 13, 1]   \n",
       "DepolyX    [1, 216, 1, 1]  [0, 52, 0, 1]  [0, 56, 0, 1]   [1, 52, 0, 0]   \n",
       "\n",
       "            NC_017980.1     KC556894.1  ...    NC_020478.1     NC_009014.1  \\\n",
       "phageDPO  [1, 23, 2, 0]  [1, 53, 4, 0]  ...  [1, 74, 4, 0]   [1, 49, 3, 0]   \n",
       "DePP      [1, 21, 4, 0]  [1, 50, 7, 0]  ...  [1, 73, 5, 0]  [1, 42, 10, 0]   \n",
       "DepolyX   [1, 25, 0, 0]  [1, 56, 1, 0]  ...  [1, 78, 0, 0]   [1, 51, 1, 0]   \n",
       "\n",
       "              NC_024211.1     CP000711.1    NC_017981.1    NC_001423.1  \\\n",
       "phageDPO   [1, 280, 9, 0]  [1, 60, 1, 0]  [1, 75, 5, 0]  [1, 23, 3, 0]   \n",
       "DePP      [1, 268, 21, 0]  [1, 56, 5, 0]  [1, 75, 5, 0]  [1, 20, 6, 0]   \n",
       "DepolyX    [1, 289, 0, 0]  [1, 61, 0, 0]  [1, 80, 0, 0]  [1, 26, 0, 0]   \n",
       "\n",
       "              NC_024137.1      NC_017972.1    NC_020078.1    NC_048631.1  \n",
       "phageDPO  [1, 216, 12, 0]  [0, 370, 20, 1]  [1, 47, 1, 0]  [1, 49, 2, 0]  \n",
       "DePP      [1, 198, 30, 0]  [0, 345, 45, 1]  [1, 41, 7, 0]  [1, 42, 9, 0]  \n",
       "DepolyX    [1, 228, 0, 0]   [0, 389, 1, 1]  [1, 47, 1, 0]  [1, 51, 0, 0]  \n",
       "\n",
       "[3 rows x 142 columns]"
      ]
     },
     "execution_count": 8,
     "metadata": {},
     "output_type": "execute_result"
    }
   ],
   "source": [
    "df_metric_1 = pd.DataFrame(metrics)\n",
    "df_metric_1"
   ]
  },
  {
   "cell_type": "code",
   "execution_count": 15,
   "metadata": {},
   "outputs": [],
   "source": [
    "def get_precision(metric) : \n",
    "    tp , tn , fp , fn = metric[0] , metric[1] , metric[2] , metric[3]\n",
    "    return tp/(tp + fp)\n",
    "    \n",
    "def get_recall(metric) : \n",
    "    tp , tn , fp , fn = metric[0] , metric[1] , metric[2] , metric[3]\n",
    "    return tp/(tp + fn)\n",
    "\n",
    "def F1_score(metric) : \n",
    "    precision = get_precision(metric)\n",
    "    recall = get_recall(metric)\n",
    "    return 2*(precision*recall) / (precision + recall)\n",
    "\n",
    "def accuracy_score(metric) : \n",
    "    tp , tn , fp , fn = metric[0] , metric[1] , metric[2] , metric[3]\n",
    "    return (tp + tn)/(tp + tn + fp + fn)\n",
    "\n",
    "def specificity_score(metric) :\n",
    "    tp , tn , fp , fn = metric[0] , metric[1] , metric[2] , metric[3]\n",
    "    return tn /(tn + fp)\n",
    "\n",
    "\n",
    "def MCC(metric) : \n",
    "    tp , tn , fp , fn = metric[0] , metric[1] , metric[2] , metric[3]\n",
    "    mcc = (tp*tn - fp*fn)/((tp+fp) * (tp+fn) * (tn+fp) * (tn+fn))**0.5\n",
    "    return mcc"
   ]
  },
  {
   "cell_type": "code",
   "execution_count": null,
   "metadata": {},
   "outputs": [],
   "source": []
  },
  {
   "cell_type": "code",
   "execution_count": 30,
   "metadata": {
    "scrolled": true
   },
   "outputs": [
    {
     "name": "stdout",
     "output_type": "stream",
     "text": [
      "DePP\n",
      "0.0349\t0.9157\t0.6091\t0.6137\t0.0672\t0.1311\n",
      "phageDPO\n",
      "0.0604\t0.747\t0.8205\t0.8194\t0.1117\t0.1777\n",
      "DepolyX\n",
      "0.3515\t0.6988\t0.9801\t0.9758\t0.4677\t0.4852\n",
      "DepolyX_corrected\n",
      "0.8788\t0.6988\t0.9985\t0.9938\t0.7785\t0.7807\n"
     ]
    }
   ],
   "source": [
    "#print(\"precision\\trecall\\taccuracy\\tf1\\tMCC\\tspecificity\")\n",
    "for tool in full_metric_unseen:\n",
    "    print(tool)\n",
    "    print(round(get_precision(full_metric_unseen[tool]), 4), \n",
    "          round(get_recall(full_metric_unseen[tool]), 4), \n",
    "          round(specificity_score(full_metric_unseen[tool]), 4), \n",
    "          round(accuracy_score(full_metric_unseen[tool]), 4), \n",
    "          round(F1_score(full_metric_unseen[tool]), 4), \n",
    "          round(MCC(full_metric_unseen[tool]), 4), \n",
    "          sep=\"\\t\")\n",
    "\n"
   ]
  },
  {
   "cell_type": "markdown",
   "metadata": {},
   "source": [
    "***"
   ]
  },
  {
   "cell_type": "markdown",
   "metadata": {},
   "source": [
    "# Investigating the results : "
   ]
  },
  {
   "cell_type": "markdown",
   "metadata": {},
   "source": [
    "### The FP : "
   ]
  },
  {
   "cell_type": "code",
   "execution_count": 23,
   "metadata": {
    "scrolled": true
   },
   "outputs": [],
   "source": [
    "import os \n",
    "from Bio import SeqIO\n",
    "from collections import Counter\n",
    "\n",
    "path_fp_seq = \"/media/concha-eloko/Linux/PhageDEPOdetection\"\n",
    "pdb_source = \"/media/concha-eloko/Linux/PhageDEPOdetection/FP_2108\"\n",
    "pdb_destination = \"/media/concha-eloko/Linux/PhageDEPOdetection/FP_2108_pt2\"\n",
    "\n",
    "fp_dico = {record.seq : record.id for record in SeqIO.parse(f\"{path_fp_seq}/Dpos_reference.T12_FP.multi.fasta\", \"fasta\")}\n",
    "fp_dico_2 = {record.seq : record.id for record in SeqIO.parse(f\"{path_fp_seq}/T12.FP.multi_new.pt2.2008.fasta\", \"fasta\")}\n",
    "fp_dico_3 = {record.seq : record.id for record in SeqIO.parse(f\"{path_fp_seq}/T12.FP.multi_new.2008.fasta\", \"fasta\")}\n",
    "#fp_dico_r = {record.id : record.seq for record in SeqIO.parse(f\"{path_fp_seq}/Dpos_reference.T12_FP.multi.fasta\", \"fasta\")}\n",
    "fp_dico.update(fp_dico_2)\n",
    "fp_dico.update(fp_dico_3)\n",
    "\n",
    "\n",
    "FP_sequences = []\n",
    "\n",
    "weird = 0 \n",
    "weird_seq = set()\n",
    "done = 0 \n",
    "done_names = []\n",
    "to_do = 0\n",
    "\n",
    "done_seqs = set()\n",
    "FP = []\n",
    "for _,row in df_final_results.iterrows() : \n",
    "    if row[\"label\"] == 0 and row[\"scores_DepolyX\"] > 0.5 : \n",
    "        FP_sequences.append(row[\"protein_seq\"])\n",
    "        if row[\"protein_seq\"] in list(fp_dico.keys()) :\n",
    "            FP.append(fp_dico[row[\"protein_seq\"]])"
   ]
  },
  {
   "cell_type": "code",
   "execution_count": 30,
   "metadata": {
    "scrolled": true
   },
   "outputs": [
    {
     "data": {
      "text/plain": [
       "['0__pt2.pdb',\n",
       " 'NC_019454.1_prot_YP_007002897.1_44.pdb',\n",
       " 'NC_019917.1_prot_YP_007236809.1_63.pdb',\n",
       " '6__FP__T12.pdb',\n",
       " 'KC556894.1_prot_AHB81137.1_21.pdb',\n",
       " 'NC_022772.1_prot_YP_008771658.1_40.pdb',\n",
       " 'NC_022772.1_prot_YP_008771659.1_41.pdb',\n",
       " 'NC_027364.1_prot_YP_009150315.1_1.pdb',\n",
       " 'NC_027364.1_prot_YP_009150385.1_71.pdb',\n",
       " 'NC_027364.1_prot_YP_009150600.1_286.pdb',\n",
       " '9__pt2.pdb',\n",
       " 'NC_027364.1_prot_YP_009150602.1_288.pdb',\n",
       " '11__pt2.pdb',\n",
       " '12__pt2.pdb',\n",
       " '13__pt2.pdb',\n",
       " 'NC_027364.1_prot_YP_009150606.1_292.pdb',\n",
       " '15__pt2.pdb',\n",
       " '16__pt2.pdb',\n",
       " '17__pt2.pdb',\n",
       " 'NC_022770.1_prot_YP_008771333.1_15.pdb',\n",
       " 'FJ230960.1_prot_ACI90966.1_61.pdb',\n",
       " '20__pt2.pdb',\n",
       " 'HQ632825.1_prot_AGN12239.1_81.pdb',\n",
       " 'HQ632825.1_prot_AGN12247.1_89.pdb',\n",
       " '21__FP__T12.pdb',\n",
       " 'HQ632825.1_prot_AGN12298.1_140.pdb',\n",
       " '4__FP__T12.pdb',\n",
       " 'HQ632825.1_prot_AGN12302.1_144.pdb',\n",
       " 'HQ632825.1_prot_AGN12307.1_149.pdb',\n",
       " 'NC_024792.1_prot_YP_009056509.1_240.pdb',\n",
       " 'NC_006883.2_prot_YP_214253.1_17.pdb',\n",
       " 'HQ632825.1_prot_AGN12247.1_89.pdb',\n",
       " 'NC_006883.2_prot_YP_214266.1_30.pdb',\n",
       " 'NC_006883.2_prot_YP_214524.1_293.pdb',\n",
       " '4__FP__T12.pdb',\n",
       " 'HQ632825.1_prot_AGN12298.1_140.pdb',\n",
       " '21__FP__T12.pdb',\n",
       " 'NC_020079.1_prot_YP_007348548.1_180.pdb',\n",
       " '103__FP__T12.pdb',\n",
       " '94__FP__T12.pdb',\n",
       " '0__pt2.pdb',\n",
       " 'GQ413937.1_prot_ACY66694.1_32.pdb',\n",
       " 'GQ413937.1_prot_ACY66700.1_38.pdb',\n",
       " 'NC_007636.1_prot_YP_424954.1_46.pdb',\n",
       " 'NC_015296.1_prot_YP_004327541.1_170.pdb',\n",
       " 'NC_015296.1_prot_YP_004327543.1_172.pdb',\n",
       " 'NC_020883.1_prot_YP_007678101.1_75.pdb',\n",
       " '0__pt2.pdb',\n",
       " '0__pt2.pdb',\n",
       " 'NC_022764.1_prot_YP_008770522.1_15.pdb',\n",
       " 'NC_019400.1_prot_YP_006987068.1_235.pdb',\n",
       " 'NC_023694.1_prot_YP_009012583.1_2.pdb',\n",
       " '79__FP__T12.pdb',\n",
       " '46__pt2.pdb',\n",
       " '67__FP__T12.pdb',\n",
       " '81__FP__T12.pdb',\n",
       " '47__pt2.pdb',\n",
       " '22__FP__T12.pdb',\n",
       " 'NC_019510.1_prot_YP_007005461.1_37.pdb',\n",
       " 'NC_011976.1_prot_YP_002533467.1_8.pdb',\n",
       " 'NC_021792.1_prot_YP_008241126.1_83.pdb',\n",
       " 'NC_019530.1_prot_YP_007008116.1_136.pdb',\n",
       " 'NC_019530.1_prot_YP_007008118.1_138.pdb',\n",
       " 'NC_019530.1_prot_YP_007008119.1_139.pdb',\n",
       " 'NC_022764.1_prot_YP_008770522.1_15.pdb',\n",
       " 'NC_019446.1_prot_YP_007002029.1_21.pdb',\n",
       " 'NC_019403.1_prot_YP_006987800.1_38.pdb',\n",
       " '0__pt2.pdb',\n",
       " 'NC_015208.1_prot_YP_004286217.1_39.pdb',\n",
       " 'NC_007637.1_prot_YP_425011.1_45.pdb',\n",
       " '59__FP__T12.pdb',\n",
       " 'AY349011.3_prot_AAQ55000.1_65.pdb',\n",
       " '97__FP__T12.pdb',\n",
       " 'NC_008152.1_prot_YP_654134.1_36.pdb',\n",
       " '36__FP__T12.pdb',\n",
       " '33__FP__T12.pdb',\n",
       " 'NC_025446.1_prot_YP_009101512.1_116.pdb',\n",
       " 'NC_025446.1_prot_YP_009101514.1_118.pdb',\n",
       " 'NC_025446.1_prot_YP_009101515.1_119.pdb',\n",
       " 'NC_022768.1_prot_YP_008770866.1_39.pdb',\n",
       " 'NC_022768.1_prot_YP_008770867.1_40.pdb',\n",
       " 'NC_022768.1_prot_YP_008770868.1_41.pdb',\n",
       " 'NC_025422.1_prot_YP_009098911.1_153.pdb',\n",
       " 'NC_027351.1_prot_YP_009148844.1_48.pdb',\n",
       " 'NC_002730.1_prot_NP_112082.1_49.pdb',\n",
       " 'FQ482084.1_prot_CBX44498.1_37.pdb',\n",
       " 'NC_041856.1_prot_YP_009592102.1_23.pdb',\n",
       " '15__FP__T12.pdb',\n",
       " 'NC_019526.1_prot_YP_007007680.1_525.pdb',\n",
       " 'NC_019526.1_prot_YP_007007682.1_527.pdb',\n",
       " 'NC_019526.1_prot_YP_007007683.1_528.pdb',\n",
       " 'NC_019526.1_prot_YP_007007684.1_529.pdb',\n",
       " 'NC_019526.1_prot_YP_007007686.1_531.pdb',\n",
       " 'NC_019526.1_prot_YP_007007687.1_532.pdb',\n",
       " 'NC_019526.1_prot_YP_007007688.1_533.pdb',\n",
       " 'NC_019526.1_prot_YP_007007689.1_534.pdb',\n",
       " 'NC_020083.1_prot_YP_007349010.1_31.pdb',\n",
       " 'NC_020083.1_prot_YP_007349017.1_38.pdb',\n",
       " 'NC_020083.1_prot_YP_007349020.1_41.pdb',\n",
       " 'NC_007055.1_prot_YP_240100.1_25.pdb',\n",
       " 'NC_027351.1_prot_YP_009148844.1_48.pdb',\n",
       " 'KC821608.1_prot_AGO47494.1_90.pdb',\n",
       " '90__pt2.pdb',\n",
       " 'NC_021802.1_prot_YP_008242011.1_92.pdb',\n",
       " 'FQ482084.1_prot_CBX44498.1_37.pdb',\n",
       " 'NC_009014.1_prot_YP_001039670.1_39.pdb',\n",
       " '99__FP__T12.pdb',\n",
       " 'NC_020078.1_prot_YP_007348357.1_38.pdb']"
      ]
     },
     "execution_count": 30,
     "metadata": {},
     "output_type": "execute_result"
    }
   ],
   "source": [
    "fp_pdb = [f\"{file}.pdb\" if file.count(\"|\")==0 else f\"{file.split('|')[1]}.pdb\" for file in FP]\n",
    "fp_pdb"
   ]
  },
  {
   "cell_type": "code",
   "execution_count": 24,
   "metadata": {
    "scrolled": true
   },
   "outputs": [
    {
     "name": "stderr",
     "output_type": "stream",
     "text": [
      "cp: impossible d'évaluer '/media/concha-eloko/Linux/PhageDEPOdetection/FP_2108/KC821610.1_prot_AGO47761.1_30.pdb': Aucun fichier ou dossier de ce type\n",
      "cp: impossible d'évaluer '/media/concha-eloko/Linux/PhageDEPOdetection/FP_2108/NC_027364.1_prot_YP_009150601.1_287.pdb': Aucun fichier ou dossier de ce type\n",
      "cp: impossible d'évaluer '/media/concha-eloko/Linux/PhageDEPOdetection/FP_2108/NC_027364.1_prot_YP_009150603.1_289.pdb': Aucun fichier ou dossier de ce type\n",
      "cp: impossible d'évaluer '/media/concha-eloko/Linux/PhageDEPOdetection/FP_2108/NC_027364.1_prot_YP_009150604.1_290.pdb': Aucun fichier ou dossier de ce type\n",
      "cp: impossible d'évaluer '/media/concha-eloko/Linux/PhageDEPOdetection/FP_2108/NC_027364.1_prot_YP_009150605.1_291.pdb': Aucun fichier ou dossier de ce type\n",
      "cp: impossible d'évaluer '/media/concha-eloko/Linux/PhageDEPOdetection/FP_2108/NC_027364.1_prot_YP_009150608.1_294.pdb': Aucun fichier ou dossier de ce type\n",
      "cp: impossible d'évaluer '/media/concha-eloko/Linux/PhageDEPOdetection/FP_2108/NC_027364.1_prot_YP_009150609.1_295.pdb': Aucun fichier ou dossier de ce type\n",
      "cp: impossible d'évaluer '/media/concha-eloko/Linux/PhageDEPOdetection/FP_2108/NC_027364.1_prot_YP_009150610.1_296.pdb': Aucun fichier ou dossier de ce type\n",
      "cp: impossible d'évaluer '/media/concha-eloko/Linux/PhageDEPOdetection/FP_2108/FJ230960.1_prot_ACI91000.1_95.pdb': Aucun fichier ou dossier de ce type\n",
      "cp: impossible d'évaluer '/media/concha-eloko/Linux/PhageDEPOdetection/FP_2108/KC821610.1_prot_AGO47761.1_30.pdb': Aucun fichier ou dossier de ce type\n",
      "cp: impossible d'évaluer '/media/concha-eloko/Linux/PhageDEPOdetection/FP_2108/KC821610.1_prot_AGO47761.1_30.pdb': Aucun fichier ou dossier de ce type\n",
      "cp: impossible d'évaluer '/media/concha-eloko/Linux/PhageDEPOdetection/FP_2108/KC821610.1_prot_AGO47761.1_30.pdb': Aucun fichier ou dossier de ce type\n",
      "cp: impossible d'évaluer '/media/concha-eloko/Linux/PhageDEPOdetection/FP_2108/NC_019401.1_prot_YP_006987103.1_1.pdb': Aucun fichier ou dossier de ce type\n",
      "cp: impossible d'évaluer '/media/concha-eloko/Linux/PhageDEPOdetection/FP_2108/NC_023557.1_prot_YP_009004842.1_50.pdb': Aucun fichier ou dossier de ce type\n",
      "cp: impossible d'évaluer '/media/concha-eloko/Linux/PhageDEPOdetection/FP_2108/KC821610.1_prot_AGO47761.1_30.pdb': Aucun fichier ou dossier de ce type\n",
      "cp: impossible d'évaluer '/media/concha-eloko/Linux/PhageDEPOdetection/FP_2108/NC_023582.1_prot_YP_009007713.1_50.pdb': Aucun fichier ou dossier de ce type\n"
     ]
    }
   ],
   "source": [
    "check = set()\n",
    "with open(f\"{path_fp_seq}/T12.FP.multi_new.pt2.2108.fasta\", \"w\") as outfile : \n",
    "    for index,prot in enumerate(done_names) : \n",
    "        pdb_name = f\"{prot.split('|')[1]}.pdb\"\n",
    "        command = f\"cp {pdb_source}/{pdb_name} {pdb_destination}\"\n",
    "        os.system(command)\n",
    "        #if pdb_name not in os.listdir(pdb_source) : \n",
    "            #if fp_dico_r[prot] not in check : \n",
    "                #check.add(fp_dico_r[prot])\n",
    "                #outfile.write(f\">{index}__pt2\\n{fp_dico_r[prot]}\\n\")\n",
    "    "
   ]
  },
  {
   "cell_type": "code",
   "execution_count": 41,
   "metadata": {},
   "outputs": [
    {
     "data": {
      "text/plain": [
       "(10, 95, 17)"
      ]
     },
     "execution_count": 41,
     "metadata": {},
     "output_type": "execute_result"
    }
   ],
   "source": [
    "weird , done , to_do"
   ]
  },
  {
   "cell_type": "code",
   "execution_count": 32,
   "metadata": {},
   "outputs": [],
   "source": [
    "from Bio import SeqIO\n",
    "import os \n",
    "\n",
    "path_fp_seq = \"/media/concha-eloko/Linux/PhageDEPOdetection\"\n",
    "\n",
    "fp_dico = {record.id : record.seq for record in SeqIO.parse(f\"{path_fp_seq}/Dpos_reference.T12_FP.multi.fasta\", \"fasta\")}\n",
    "\n",
    "    "
   ]
  },
  {
   "cell_type": "code",
   "execution_count": 37,
   "metadata": {},
   "outputs": [],
   "source": [
    "with open(f\"{path_fp_seq}/T12.FP.multi_new.2008.fasta\", \"w\") as outfile : \n",
    "    for i,seq in enumerate(list(set(FP_sequences))) : \n",
    "        if seq not in list(fp_dico.values()) :\n",
    "            if len(seq) >= 200 : \n",
    "                outfile.write(f\">{i}__FP__T12\\n{seq}\\n\")"
   ]
  },
  {
   "cell_type": "code",
   "execution_count": null,
   "metadata": {},
   "outputs": [],
   "source": [
    "/media/concha-eloko/Linux/PhageDEPOdetection/T12.FP.multi_new.2008.fasta"
   ]
  },
  {
   "cell_type": "code",
   "execution_count": null,
   "metadata": {},
   "outputs": [],
   "source": [
    "rsync -avzhe ssh \\\n",
    "/media/concha-eloko/Linux/PhageDEPOdetection/T12.FP.multi_new.2008.fasta \\\n",
    "conchae@garnatxa.srv.cpd:/home/conchae/PhageDepo_pdb/benchmarking\n",
    "\n",
    "rsync -avzhe ssh \\\n",
    "/media/concha-eloko/Linux/PhageDEPOdetection/T12.FP.multi_new.pt2.2008.fasta \\\n",
    "conchae@garnatxa.srv.cpd:/home/conchae/PhageDepo_pdb/benchmarking\n",
    "\n",
    "\n",
    "rsync -avzhe ssh \\\n",
    "conchae@garnatxa.srv.cpd:/home/conchae/PhageDepo_pdb/FP_2108 \\\n",
    "/media/concha-eloko/Linux/depolymerase_building\n"
   ]
  },
  {
   "cell_type": "code",
   "execution_count": null,
   "metadata": {},
   "outputs": [],
   "source": []
  },
  {
   "cell_type": "markdown",
   "metadata": {},
   "source": [
    "### Through the annotation : "
   ]
  },
  {
   "cell_type": "markdown",
   "metadata": {},
   "source": [
    "> Dico of all sequences and their annotation "
   ]
  },
  {
   "cell_type": "code",
   "execution_count": 42,
   "metadata": {},
   "outputs": [
    {
     "name": "stderr",
     "output_type": "stream",
     "text": [
      "100%|███████████████████████████████████████████████████████████████████████████████████████████████████████████████████████████████████████████████████████| 143/143 [00:00<00:00, 787.35it/s]\n"
     ]
    }
   ],
   "source": [
    "path_out = \"/media/concha-eloko/Linux/PhageDEPOdetection/Benchmarking\"\n",
    "from Bio import SeqIO\n",
    "from tqdm import tqdm \n",
    "\n",
    "dico_annotation = {}\n",
    "for fasta_file in tqdm(os.listdir(path_out)) :\n",
    "    if fasta_file.count(\"multi.faa\") > 0 : \n",
    "        fastas = SeqIO.parse(f\"{path_out}/{fasta_file}\" , \"fasta\")\n",
    "        tmp_results = []\n",
    "        for record in fastas :\n",
    "            annotation = record.description.split(\"protein=\")[1].split(\"]\")[0]\n",
    "            seq = str(record.seq)\n",
    "            if seq not in dico_annotation : \n",
    "                dico_annotation[seq] = [record.description]\n",
    "            elif annotation in dico_annotation[seq] : \n",
    "                pass\n",
    "            else :\n",
    "                dico_annotation[seq].append(annotation)\n"
   ]
  },
  {
   "cell_type": "markdown",
   "metadata": {},
   "source": [
    "> The FP"
   ]
  },
  {
   "cell_type": "code",
   "execution_count": 69,
   "metadata": {},
   "outputs": [],
   "source": [
    "def get_fp(df, tool_score , threshold) : \n",
    "    FP = []\n",
    "    missing_FP = set()\n",
    "    for _,row in df.iterrows() : \n",
    "        if row[\"label\"] == 0 : \n",
    "            if row[tool_score] >= threshold : \n",
    "                try : \n",
    "                    annotation = dico_annotation[row[\"protein_seq\"]]\n",
    "                    FP = FP + annotation\n",
    "                except Exception as e :\n",
    "                    missing_FP.add(row[\"protein_seq\"])\n",
    "    return set(FP) , missing_FP\n",
    "\n",
    "DePP_FP, DePP_FP_missing = get_fp(df_final_results , \"scores_DePP\", 0.5)\n",
    "phageDPO_FP, phageDPO_FP_missing = get_fp(df_final_results , \"scores_phageDPO\", 50)\n",
    "DepolyX_FP, DepolyX_FP_missing = get_fp(df_final_results , \"scores_DepolyX\", 0.5)"
   ]
  },
  {
   "cell_type": "code",
   "execution_count": 75,
   "metadata": {
    "scrolled": true
   },
   "outputs": [
    {
     "data": {
      "text/plain": [
       "{'2OG-Fe(II) oxygenase',\n",
       " '33',\n",
       " '5-aminoimidazole-4-carboxamide ribonucleotide formyltransferase/IMP cyclohydrolase',\n",
       " 'A1-like protein',\n",
       " 'ADP-L-glycero-D-mannoheptose-6-epimerase',\n",
       " 'ADP-heptose synthase',\n",
       " 'ATPase',\n",
       " 'DEAD/DEAH box helicase',\n",
       " 'DHH phosphoesterase',\n",
       " 'DNA helicase',\n",
       " 'DNA ligase',\n",
       " 'DNA methyltransferase',\n",
       " 'DNA polymerase',\n",
       " 'DNA polymerase III alpha subunit',\n",
       " 'DNA polymerase exonuclease subunit',\n",
       " 'DNA polymerase processivity factor',\n",
       " 'DNA primase/helicase, TOPRIM',\n",
       " 'DNA topoisomerase II',\n",
       " 'DNA transfer protein',\n",
       " 'DUF334 domain-containing protein',\n",
       " 'DUF4815 domain-containing protein',\n",
       " 'DUF551 domain-containing protein',\n",
       " 'GDSL family lipase',\n",
       " 'GTP cyclohydrolase',\n",
       " 'GTP cyclohydrolase I',\n",
       " 'Gp18 tail sheath protein',\n",
       " 'Gp23-Major capsid protein',\n",
       " 'Gp6 baseplate wedge subunit',\n",
       " 'HNH endonuclease',\n",
       " 'L-alanyl-D-glutamate peptidase',\n",
       " 'L-shaped tail fiber protein assembly',\n",
       " 'MazG-like pyrophosphatase',\n",
       " 'Nol-like carbamoyltransferase',\n",
       " 'NrdA-like aerobic NDP reductase large subunit',\n",
       " 'NrdD-like anaerobic ribonucleotide reductase large subunit',\n",
       " 'Phi92_gp142',\n",
       " 'Phi92_gp161',\n",
       " 'PhoH-like phosphate starvation-inducible',\n",
       " 'PmgG-like head morphogenesis',\n",
       " 'PnuC-like nicotinamide mononucleotide transport',\n",
       " 'PurH',\n",
       " 'QueC-like queuosine biosynthesis',\n",
       " 'RIIA lysis inhibitor',\n",
       " 'RIIB lysis inhibitor',\n",
       " 'RNA polymerase beta subunit',\n",
       " 'RecJ-like ssDNA exonuclease',\n",
       " 'Sir2 (NAD-dependent deacetylase)',\n",
       " 'TMP domain-containing protein',\n",
       " 'VrlC',\n",
       " 'WGR domain-containing protein',\n",
       " 'YadA domain protein',\n",
       " 'amidase',\n",
       " 'anaerobic ribonucleoside reductase large subunit',\n",
       " 'anaerobic ribonucleotide reductase small subunit',\n",
       " 'baseplate J/gp47 family protein',\n",
       " 'baseplate component',\n",
       " 'baseplate hub',\n",
       " 'baseplate hub subunit and tail lysozyme',\n",
       " 'baseplate protein',\n",
       " 'baseplate tail tube cap',\n",
       " 'baseplate wedge subunit',\n",
       " 'capsid protein',\n",
       " 'carboxypeptidase A',\n",
       " 'cell wall hydrolase/autolysin',\n",
       " 'clamp loader of DNA polymerase',\n",
       " 'conserved phage associated protein',\n",
       " 'conserved phage protein',\n",
       " 'conserved uncharacterised protein',\n",
       " 'cytidyltransferase',\n",
       " 'dCMP deaminase',\n",
       " 'dehydrogenase',\n",
       " 'endolysin',\n",
       " 'endonuclease',\n",
       " 'exonuclease',\n",
       " 'ferredoxin',\n",
       " 'fructose-6-phosphate aldolase',\n",
       " 'glycosyl hydrolase',\n",
       " 'glycosyltransferase family 1',\n",
       " 'glycosyltransferase family 1 protein',\n",
       " 'gp069',\n",
       " 'gp12.1',\n",
       " 'gp13.2',\n",
       " 'gp14.1',\n",
       " 'gp16.2',\n",
       " 'gp17.2',\n",
       " 'gp18.1',\n",
       " 'gp18.2',\n",
       " 'gp19.1',\n",
       " 'gp2.43',\n",
       " 'gp2.51',\n",
       " 'gp2.52',\n",
       " 'gp2.9',\n",
       " 'gp38',\n",
       " 'gp58-like family protein',\n",
       " 'gp7.2',\n",
       " 'haemolysin-type calcium binding',\n",
       " 'head closure Hc2',\n",
       " 'head closure Hc3',\n",
       " 'head decoration',\n",
       " 'head protein',\n",
       " 'head-tail adaptor',\n",
       " 'head-tail joining protein',\n",
       " 'helicase',\n",
       " 'histidyl tRNA synthetase',\n",
       " 'homing endonuclease',\n",
       " 'hyaluronidase',\n",
       " 'hydrolase',\n",
       " 'hypothetical protein',\n",
       " 'inositol-1-phosphate synthase',\n",
       " 'internal virion protein D',\n",
       " 'lysozyme',\n",
       " 'lytic tail fiber protein',\n",
       " 'major capsid protein',\n",
       " 'major head protein',\n",
       " 'major tail protein',\n",
       " 'membrane protein',\n",
       " 'metal-dependent hydrolase',\n",
       " 'metallo-beta-lactamase domain-containing protein',\n",
       " 'minor coat protein',\n",
       " 'minor head protein',\n",
       " 'minor tail protein',\n",
       " 'morphogenesis protein',\n",
       " 'neck protein',\n",
       " 'nicotinamide phosphoribosyl transferase',\n",
       " 'nuclease',\n",
       " 'nucleotide pyrophosphohydrolase',\n",
       " 'nucleotide-sugar epimerase',\n",
       " 'oligosaccharide repeat unit polymerase',\n",
       " 'partition protein',\n",
       " 'pectate lyase',\n",
       " 'peptidase',\n",
       " 'phage amidase',\n",
       " 'phage capsid protein',\n",
       " 'phage tail fiber protein',\n",
       " 'phage tail sheath protein',\n",
       " 'phage virion structural protein',\n",
       " 'phosphatase',\n",
       " 'phospholipase',\n",
       " 'phosphoribosylaminoimidazole synthetase',\n",
       " 'phosphoribosylformylglycinamidine cyclo-ligase',\n",
       " 'polymerase',\n",
       " 'precursor of major head subunit',\n",
       " 'protease',\n",
       " 'putative DNA-methyltransferase',\n",
       " 'putative SNF2 DNA repair protein',\n",
       " 'putative baseplate component',\n",
       " 'putative carbohydrate kinase',\n",
       " \"putative deoxyuridine 5'-triphosphate nucleotidohydrolase\",\n",
       " 'putative head completion protein',\n",
       " 'putative helicase',\n",
       " 'putative phage tape measure protein',\n",
       " 'putative primase/helicase',\n",
       " 'putative protein',\n",
       " 'putative structural phage protein',\n",
       " 'putative tail collar protein',\n",
       " 'putative tail fiber',\n",
       " 'putative tail protein',\n",
       " 'putative tail tubular B protein',\n",
       " 'putative tail tubular protein B',\n",
       " 'putative uncharacterised protein',\n",
       " 'putative virion structural protein',\n",
       " 'pyridoxal-phosphate dependent enzyme',\n",
       " 'receptor-binding protein',\n",
       " 'recombination and repair protein',\n",
       " 'regulator of chromosome condensation',\n",
       " 'replication factor C small subunit',\n",
       " 'ribonuclease',\n",
       " 'ribonucleotide reductase',\n",
       " 'ribonucleotide reductase large subunit',\n",
       " 'ribonucleotide-diphosphate reductase subunit alpha',\n",
       " 'structural protein',\n",
       " 'tail assembly chaperone',\n",
       " 'tail associated cell-wall hydrolase',\n",
       " 'tail associated lysin',\n",
       " 'tail associated protein',\n",
       " 'tail collar protein',\n",
       " 'tail fiber protein',\n",
       " 'tail fiber protein, T7 family',\n",
       " 'tail length tape measure protein',\n",
       " 'tail length tape-measure protein',\n",
       " 'tail protein',\n",
       " 'tail protein with endopeptidase domain',\n",
       " 'tail protein with lysin activity',\n",
       " 'tail sheat protein',\n",
       " 'tail sheath',\n",
       " 'tail sheath protein',\n",
       " 'tail spike protein',\n",
       " 'tail tape measure protein',\n",
       " 'tail tip protein Tal',\n",
       " 'tail tube protein',\n",
       " 'tail tubular protein B',\n",
       " 'tail-type lysozyme domain-containing protein',\n",
       " 'tape measure protein',\n",
       " 'terminase',\n",
       " 'terminase large subunit',\n",
       " 'topoisomerase II medium subunit',\n",
       " 'transaldolase',\n",
       " 'transcriptional repressor',\n",
       " 'tryptophan halogenase',\n",
       " 'tubulin PhuZ',\n",
       " 'vWFA domain containing protein',\n",
       " 'virion structural protein',\n",
       " 'virion-associated phage protein',\n",
       " 'vrlC protein',\n",
       " 'zinc carboxypeptidase'}"
      ]
     },
     "execution_count": 75,
     "metadata": {},
     "output_type": "execute_result"
    }
   ],
   "source": [
    "phageDPO_FP"
   ]
  },
  {
   "cell_type": "markdown",
   "metadata": {},
   "source": [
    "> The FN"
   ]
  },
  {
   "cell_type": "code",
   "execution_count": 43,
   "metadata": {},
   "outputs": [],
   "source": [
    "def get_fn(df, tool_score , threshold) : \n",
    "    FN = []\n",
    "    missing_FN = set()\n",
    "    for _,row in df.iterrows() : \n",
    "        if row[\"label\"] == 1 : \n",
    "            if row[tool_score] < threshold : \n",
    "                try : \n",
    "                    annotation = dico_annotation[row[\"protein_seq\"]]\n",
    "                    FN = FN + annotation\n",
    "                except Exception as e :\n",
    "                    missing_FN.add(row[\"protein_seq\"])\n",
    "    return set(FN) , missing_FN\n",
    "\n",
    "#DePP_FN, DePP_FN_missing = get_fn(df_final_results , \"scores_DePP\", 0.5)\n",
    "#phageDPO_FN, phageDPO_FN_missing = get_fn(df_final_results , \"scores_phageDPO\", 50)\n",
    "DepolyX_FN, DepolyX_FN_missing = get_fn(df_final_results , \"scores_DepolyX\", 0.5)"
   ]
  },
  {
   "cell_type": "code",
   "execution_count": 46,
   "metadata": {},
   "outputs": [
    {
     "data": {
      "text/plain": [
       "{\"lcl|FR671405.1_prot_CBW38917.1_7 [protein=PblB-type protein] [partial=5'] [protein_id=CBW38917.1] [location=complement(join(1558..4473,4535..4570,4671..>6125))] [gbkey=CDS]\",\n",
       " 'lcl|FR671406.1_prot_CBW38974.1_7 [protein=PblB-type protein] [protein_id=CBW38974.1] [location=complement(join(1949..6586,6688..8358))] [gbkey=CDS]',\n",
       " \"lcl|FR671407.1_prot_CBW39031.1_7 [protein=PblB-type protein] [partial=5'] [protein_id=CBW39031.1] [location=complement(join(1988..5045,5146..>6989))] [gbkey=CDS]\",\n",
       " \"lcl|FR671410.1_prot_CBW39181.1_6 [protein=PblB-type protein] [partial=5'] [protein_id=CBW39181.1] [location=complement(join(1582..3753,3752..3767,3868..>5219))] [gbkey=CDS]\",\n",
       " \"lcl|FR671411.1_prot_CBW39235.1_7 [protein=PblB-type protein] [partial=5'] [protein_id=CBW39235.1] [location=complement(join(1588..4645,4746..>6097))] [gbkey=CDS]\",\n",
       " 'lcl|GU323708.1_prot_ADA79896.1_16 [locus_tag=CU5_16] [protein=dextranase 1] [protein_id=ADA79896.1] [location=13545..15338] [gbkey=CDS]',\n",
       " 'lcl|GU323708.1_prot_ADA79897.1_17 [locus_tag=CU5_17] [protein=cycloisomaltooligosaccharide glucanotransferase] [protein_id=ADA79897.1] [location=15304..16119] [gbkey=CDS]',\n",
       " 'lcl|HG799490.1_prot_CDL73653.1_5 [protein=PblB-type protein] [protein_id=CDL73653.1] [location=complement(2169..9422)] [gbkey=CDS]',\n",
       " 'lcl|HG799496.1_prot_CDL73970.1_7 [protein=PblB-type antireceptor] [protein_id=CDL73970.1] [location=complement(1855..8178)] [gbkey=CDS]',\n",
       " 'lcl|HG799497.1_prot_CDL74024.1_7 [protein=PblB-type antireceptor] [protein_id=CDL74024.1] [location=complement(1767..8159)] [gbkey=CDS]',\n",
       " 'lcl|JX262376.1_prot_AFO10889.1_23 [locus_tag=ELB20_23] [protein=minor tail protein] [protein_id=AFO10889.1] [location=20139..21416] [gbkey=CDS]',\n",
       " 'lcl|KC700556.1_prot_AGM12047.1_24 [gene=24] [locus_tag=LIKA_24] [protein=hypothetical protein] [protein_id=AGM12047.1] [location=19933..21279] [gbkey=CDS]',\n",
       " 'lcl|KC700557.1_prot_AGM12123.1_25 [gene=25] [locus_tag=SUJIDADE_25] [protein=hypothetical protein] [protein_id=AGM12123.1] [location=20225..21571] [gbkey=CDS]',\n",
       " 'lcl|KC700558.1_prot_AGM12200.1_25 [gene=25] [locus_tag=ZEMLYA_25] [protein=hypothetical protein] [protein_id=AGM12200.1] [location=19928..21274] [gbkey=CDS]',\n",
       " 'lcl|KC821621.1_prot_AGO48665.1_30 [locus_tag=Phi19:2_gp030] [protein=SGNH hydrolase] [protein_id=AGO48665.1] [location=22530..26276] [gbkey=CDS]',\n",
       " 'lcl|KC821625.1_prot_AGO49035.1_24 [locus_tag=Phi13:1_gp024] [protein=SGNH hydrolase] [protein_id=AGO49035.1] [location=20439..24176] [gbkey=CDS]',\n",
       " 'lcl|KJ417497.1_prot_AHN84645.1_58 [protein=hyaluronidase] [protein_id=AHN84645.1] [location=34199..38851] [gbkey=CDS]',\n",
       " 'lcl|NC_017971.2_prot_YP_006382521.1_63 [locus_tag=tf_63] [db_xref=GOA:I2FLT2,InterPro:IPR013830,InterPro:IPR013831,InterPro:IPR024429,UniProtKB/TrEMBL:I2FLT2] [protein=tail spike protein] [protein_id=YP_006382521.1] [location=complement(35186..37837)] [gbkey=CDS]',\n",
       " 'lcl|NC_017972.1_prot_YP_006382727.1_197 [locus_tag=LU11_gp197] [db_xref=GeneID:12979383] [protein=putative endosialidase chaperone] [protein_id=YP_006382727.1] [location=150421..151227] [gbkey=CDS]',\n",
       " 'lcl|NC_018836.1_prot_YP_006906201.1_21 [locus_tag=phiHau3_26] [db_xref=GeneID:13826667] [protein=tail protein] [protein_id=YP_006906201.1] [location=19632..20951] [gbkey=CDS]',\n",
       " 'lcl|NC_019414.1_prot_YP_006990138.1_23 [locus_tag=D854_gp65] [db_xref=GeneID:13996931] [protein=tail protein] [protein_id=YP_006990138.1] [location=20150..21427] [gbkey=CDS]',\n",
       " 'lcl|NC_020081.2_prot_YP_007349243.1_204 [locus_tag=G380_gp173] [db_xref=GeneID:14516002] [protein=poly-gamma-glutamate hydrolase] [protein_id=YP_007349243.1] [location=146087..146761] [gbkey=CDS]',\n",
       " 'lcl|NC_020083.1_prot_YP_007349018.1_39 [locus_tag=G646_gp039] [db_xref=GeneID:14444687] [protein=putative pectate lyase] [protein_id=YP_007349018.1] [location=37008..37754] [gbkey=CDS]',\n",
       " 'lcl|NC_020842.1_prot_YP_007673458.1_76 [locus_tag=CGPG_00077] [db_xref=GeneID:15009975] [protein=hydrolase] [protein_id=YP_007673458.1] [location=complement(52659..56405)] [gbkey=CDS]',\n",
       " 'lcl|NC_021856.1_prot_YP_008318292.1_33 [gene=pghP] [locus_tag=N374_gp001] [db_xref=GeneID:16511452] [protein=poly-gamma-glutamate hydrolase] [protein_id=YP_008318292.1] [location=complement(14268..14894)] [gbkey=CDS]',\n",
       " 'lcl|NC_024792.1_prot_YP_009056510.1_241 [locus_tag=LD13_gp207] [db_xref=GeneID:20283528] [protein=poly-gamma-glutamate hydrolase] [protein_id=YP_009056510.1] [location=156605..157273] [gbkey=CDS]',\n",
       " 'lcl|NC_025422.1_prot_YP_009098830.1_72 [locus_tag=OZ74_gp072] [db_xref=GeneID:22276729] [protein=beta-1,4 xylanase] [protein_id=YP_009098830.1] [location=34691..35875] [gbkey=CDS]',\n",
       " 'lcl|NC_041856.1_prot_YP_009592105.1_26 [locus_tag=FDG66_gp26] [db_xref=GeneID:40067575] [protein=tail protein] [protein_id=YP_009592105.1] [location=23149..24261] [gbkey=CDS]'}"
      ]
     },
     "execution_count": 46,
     "metadata": {},
     "output_type": "execute_result"
    }
   ],
   "source": [
    "DepolyX_FN"
   ]
  },
  {
   "cell_type": "code",
   "execution_count": 49,
   "metadata": {},
   "outputs": [
    {
     "name": "stdout",
     "output_type": "stream",
     "text": [
      "lcl|KC821625.1_prot_AGO49035.1_24 [locus_tag=Phi13:1_gp024] [protein=SGNH hydrolase] [protein_id=AGO49035.1] [location=20439..24176] [gbkey=CDS]\n",
      "lcl|KC821621.1_prot_AGO48665.1_30 [locus_tag=Phi19:2_gp030] [protein=SGNH hydrolase] [protein_id=AGO48665.1] [location=22530..26276] [gbkey=CDS]\n",
      "lcl|NC_021856.1_prot_YP_008318292.1_33 [gene=pghP] [locus_tag=N374_gp001] [db_xref=GeneID:16511452] [protein=poly-gamma-glutamate hydrolase] [protein_id=YP_008318292.1] [location=complement(14268..14894)] [gbkey=CDS]\n",
      "lcl|NC_020842.1_prot_YP_007673458.1_76 [locus_tag=CGPG_00077] [db_xref=GeneID:15009975] [protein=hydrolase] [protein_id=YP_007673458.1] [location=complement(52659..56405)] [gbkey=CDS]\n"
     ]
    }
   ],
   "source": [
    "path_fn = \"/media/concha-eloko/Linux/PhageDEPOdetection/FN_pdb\"\n",
    "\n",
    "for file in DepolyX_FN : \n",
    "    pdb_name = file.split(\"|\")[1].split(\" \")[0] + \".pdb\"\n",
    "    if pdb_name not in os.listdir(path_fn) : \n",
    "        print(file)"
   ]
  },
  {
   "cell_type": "code",
   "execution_count": 50,
   "metadata": {},
   "outputs": [
    {
     "name": "stdout",
     "output_type": "stream",
     "text": [
      "Dpos_reference.T12_FN.3L.2107.multi.fasta\n"
     ]
    }
   ],
   "source": [
    "our_fn = [file.split(\"|\")[1].split(\" \")[0] + \".pdb\" for file in DepolyX_FN]\n",
    "\n",
    "for file in os.listdir(path_fn) : \n",
    "    if file not in our_fn :\n",
    "        print(file)"
   ]
  },
  {
   "cell_type": "code",
   "execution_count": 100,
   "metadata": {},
   "outputs": [],
   "source": [
    "def get_fn_plus(df, tool_score , threshold) : \n",
    "    FN = []\n",
    "    FN_id = []\n",
    "    missing_FN = set()\n",
    "    for _,row in df.iterrows() : \n",
    "        if row[\"label\"] == 1 : \n",
    "            if row[tool_score] < threshold : \n",
    "                try : \n",
    "                    annotation = dico_annotation[row[\"protein_seq\"]][0]\n",
    "                    FN.append(annotation)\n",
    "                    #annotation = dico_annotation[row[\"protein_seq\"]]\n",
    "                    #FN = FN + annotation\n",
    "                    idd = f\"{row['genome_id']},{row['protein_id']}\"\n",
    "                    FN_id.append(idd)\n",
    "                except Exception as e :\n",
    "                    missing_FN.add(row[\"protein_seq\"])\n",
    "    return tuple(zip(FN,FN_id)) , missing_FN\n",
    "\n",
    "DepolyX_FN, DepolyX_FN_missing = get_fn_plus(df_final_results , \"scores_DepolyX\", 0.5)"
   ]
  },
  {
   "cell_type": "code",
   "execution_count": 101,
   "metadata": {},
   "outputs": [
    {
     "data": {
      "text/plain": [
       "(('poly-gamma-glutamate hydrolase', 'NC_021856.1,YP_008318292'),\n",
       " ('PblB-type protein', 'FR671410.1,CBW39181'),\n",
       " ('PblB-type protein', 'FR671406.1,CBW38974'),\n",
       " ('PblB-type antireceptor', 'HG799496.1,YP_009042723'),\n",
       " ('minor tail protein', 'JX262376.1,AFO10889'),\n",
       " ('poly-gamma-glutamate hydrolase', 'NC_024792.1,YP_009056510'),\n",
       " ('PblB-type protein', 'HG799490.1,YP_009043945'),\n",
       " ('hyaluronidase', 'KJ417497.1,AHN84645'),\n",
       " ('hypothetical protein', 'KC700557.1,YP_008051427'),\n",
       " ('tail protein', 'NC_018836.1,YP_006906201'),\n",
       " ('poly-gamma-glutamate hydrolase', 'NC_020081.2,YP_007349243'),\n",
       " ('PblB-type protein', 'FR671405.1,CBW38917'),\n",
       " ('beta-1,4 xylanase', 'NC_025422.1,AGS80957'),\n",
       " ('hypothetical protein', 'KC700558.1,YP_008060258'),\n",
       " ('PblB-type antireceptor', 'HG799497.1,YP_009043178'),\n",
       " ('PblB-type protein', 'FR671411.1,CBW39235'),\n",
       " ('tail protein', 'NC_041856.1,AFV51346'),\n",
       " ('hypothetical protein', 'KC700556.1,YP_008050881'),\n",
       " ('putative pectate lyase', 'NC_020083.1,AFX93507'),\n",
       " ('dextranase 1', 'GU323708.1,ADA79896'),\n",
       " ('cycloisomaltooligosaccharide glucanotransferase', 'GU323708.1,ADA79897'),\n",
       " ('tail protein', 'NC_019414.1,YP_006990138'),\n",
       " ('tail spike protein', 'NC_017971.2,CCE60816'),\n",
       " ('PblB-type protein', 'FR671407.1,CBW39031'),\n",
       " ('putative endosialidase chaperone', 'NC_017972.1,AFH14728'))"
      ]
     },
     "execution_count": 101,
     "metadata": {},
     "output_type": "execute_result"
    }
   ],
   "source": [
    "DepolyX_FN"
   ]
  },
  {
   "cell_type": "markdown",
   "metadata": {},
   "source": [
    "***\n",
    "# The FP : bagging it all "
   ]
  },
  {
   "cell_type": "code",
   "execution_count": 55,
   "metadata": {},
   "outputs": [
    {
     "data": {
      "text/html": [
       "<div>\n",
       "<style scoped>\n",
       "    .dataframe tbody tr th:only-of-type {\n",
       "        vertical-align: middle;\n",
       "    }\n",
       "\n",
       "    .dataframe tbody tr th {\n",
       "        vertical-align: top;\n",
       "    }\n",
       "\n",
       "    .dataframe thead th {\n",
       "        text-align: right;\n",
       "    }\n",
       "</style>\n",
       "<table border=\"1\" class=\"dataframe\">\n",
       "  <thead>\n",
       "    <tr style=\"text-align: right;\">\n",
       "      <th></th>\n",
       "      <th>genome_id</th>\n",
       "      <th>protein_id</th>\n",
       "      <th>dna_seq</th>\n",
       "      <th>protein_seq</th>\n",
       "      <th>label</th>\n",
       "      <th>scores_phageDPO</th>\n",
       "      <th>scores_DePP</th>\n",
       "      <th>scores_DepolyX</th>\n",
       "    </tr>\n",
       "  </thead>\n",
       "  <tbody>\n",
       "    <tr>\n",
       "      <th>0</th>\n",
       "      <td>KC821630.1</td>\n",
       "      <td>AGO49320</td>\n",
       "      <td>ATGGCTTTACATACTAGAAAAGAGTTCGCTGCTCTATGCAGAACAA...</td>\n",
       "      <td>MALHTRKEFAALCRTTIAVVNTNVNRNKIQLHDKKIDSQNAINKKF...</td>\n",
       "      <td>0</td>\n",
       "      <td>0.0</td>\n",
       "      <td>0.243067</td>\n",
       "      <td>0.019835</td>\n",
       "    </tr>\n",
       "    <tr>\n",
       "      <th>1</th>\n",
       "      <td>KC821630.1</td>\n",
       "      <td>AGO49321</td>\n",
       "      <td>TTGCGTAACACTAAACAAAACAACAGGCGGATAAGAAATTTCGTAA...</td>\n",
       "      <td>MRNTKQNNRRIRNFVTYHRSEFIYNVKVCCLFFLKQLEMKYLITAI...</td>\n",
       "      <td>0</td>\n",
       "      <td>20.0</td>\n",
       "      <td>0.323357</td>\n",
       "      <td>0.019835</td>\n",
       "    </tr>\n",
       "    <tr>\n",
       "      <th>2</th>\n",
       "      <td>KC821630.1</td>\n",
       "      <td>AGO49322</td>\n",
       "      <td>ATGGATTTTATTTTACTTTGTATCCAGTACGTTGTATTTTTTTTAT...</td>\n",
       "      <td>MDFILLCIQYVVFFLLMTLIGLCLMYLIVISFVFVDELIYRIKRKDK</td>\n",
       "      <td>0</td>\n",
       "      <td>0.0</td>\n",
       "      <td>0.031025</td>\n",
       "      <td>0.019835</td>\n",
       "    </tr>\n",
       "    <tr>\n",
       "      <th>3</th>\n",
       "      <td>KC821630.1</td>\n",
       "      <td>AGO49323</td>\n",
       "      <td>ATGAATTTAAAAGATATTTGGAAACAGCAGTTAAATTTTTTCAATT...</td>\n",
       "      <td>MNLKDIWKQQLNFFNSKLYSYKTIKAIPSEWVEKTIILDPEVSRFS...</td>\n",
       "      <td>0</td>\n",
       "      <td>21.0</td>\n",
       "      <td>0.852377</td>\n",
       "      <td>0.019835</td>\n",
       "    </tr>\n",
       "    <tr>\n",
       "      <th>4</th>\n",
       "      <td>KC821630.1</td>\n",
       "      <td>AGO49324</td>\n",
       "      <td>ATGTTAACAATTAGAGAATATATAGAATCCGTTGATTCGTTGGATT...</td>\n",
       "      <td>MLTIREYIESVDSLDLKIAAIESLIDAMLLNAIDSISDSGTKIYSL...</td>\n",
       "      <td>0</td>\n",
       "      <td>4.0</td>\n",
       "      <td>0.077345</td>\n",
       "      <td>0.019835</td>\n",
       "    </tr>\n",
       "    <tr>\n",
       "      <th>...</th>\n",
       "      <td>...</td>\n",
       "      <td>...</td>\n",
       "      <td>...</td>\n",
       "      <td>...</td>\n",
       "      <td>...</td>\n",
       "      <td>...</td>\n",
       "      <td>...</td>\n",
       "      <td>...</td>\n",
       "    </tr>\n",
       "    <tr>\n",
       "      <th>17846</th>\n",
       "      <td>NC_048631.1</td>\n",
       "      <td>YP_009829922</td>\n",
       "      <td>TTGAAAAAGGATAGATACATTTATCCTGCTCTTTTCGATTATGATG...</td>\n",
       "      <td>MKKDRYIYPALFDYDDDGITVTFPDLPGCITFGNSDEEALTMAKEA...</td>\n",
       "      <td>0</td>\n",
       "      <td>3.0</td>\n",
       "      <td>0.165290</td>\n",
       "      <td>0.019835</td>\n",
       "    </tr>\n",
       "    <tr>\n",
       "      <th>17847</th>\n",
       "      <td>NC_048631.1</td>\n",
       "      <td>YP_009829923</td>\n",
       "      <td>ATGAGTTCGCGAGAATTAATCAAGCTAATTGAAAAAGATGGTTGGT...</td>\n",
       "      <td>MSSRELIKLIEKDGWYEVRAKGSHHQFKHPTKPGTVTIPHPKKDFP...</td>\n",
       "      <td>0</td>\n",
       "      <td>0.0</td>\n",
       "      <td>0.037511</td>\n",
       "      <td>0.019835</td>\n",
       "    </tr>\n",
       "    <tr>\n",
       "      <th>17848</th>\n",
       "      <td>NC_048631.1</td>\n",
       "      <td>YP_009829924</td>\n",
       "      <td>ATGGGTTATAGGTATGATATGGGAAAATATAGTCCTCAGCAGCAAG...</td>\n",
       "      <td>MGYRYDMGKYSPQQQAIVRQRDEAEKRRREEAERQKVKCEGSPRNG...</td>\n",
       "      <td>0</td>\n",
       "      <td>0.0</td>\n",
       "      <td>0.159539</td>\n",
       "      <td>0.019835</td>\n",
       "    </tr>\n",
       "    <tr>\n",
       "      <th>17849</th>\n",
       "      <td>NC_048631.1</td>\n",
       "      <td>YP_009829925</td>\n",
       "      <td>ATGATTGGAGGGATTGGAATGAAAAAAGCTTTGAAGCCTTGCAATG...</td>\n",
       "      <td>MIGGIGMKKALKPCNEPGCPNLTREGYCEQHRRTKPAYDQYRESAA...</td>\n",
       "      <td>0</td>\n",
       "      <td>2.0</td>\n",
       "      <td>0.151246</td>\n",
       "      <td>0.019835</td>\n",
       "    </tr>\n",
       "    <tr>\n",
       "      <th>17850</th>\n",
       "      <td>NC_048631.1</td>\n",
       "      <td>YP_009829926</td>\n",
       "      <td>ATGACCAGACTGCTTATCAAAGGCTGTTCAAAGATCAGGAAGCACG...</td>\n",
       "      <td>MTRLLIKGCSKIRKHDNGIKEHYIKCPRCKAEYTSFYTNEDIRQMQ...</td>\n",
       "      <td>0</td>\n",
       "      <td>0.0</td>\n",
       "      <td>0.087695</td>\n",
       "      <td>0.019835</td>\n",
       "    </tr>\n",
       "  </tbody>\n",
       "</table>\n",
       "<p>17851 rows × 8 columns</p>\n",
       "</div>"
      ],
      "text/plain": [
       "         genome_id    protein_id  \\\n",
       "0       KC821630.1      AGO49320   \n",
       "1       KC821630.1      AGO49321   \n",
       "2       KC821630.1      AGO49322   \n",
       "3       KC821630.1      AGO49323   \n",
       "4       KC821630.1      AGO49324   \n",
       "...            ...           ...   \n",
       "17846  NC_048631.1  YP_009829922   \n",
       "17847  NC_048631.1  YP_009829923   \n",
       "17848  NC_048631.1  YP_009829924   \n",
       "17849  NC_048631.1  YP_009829925   \n",
       "17850  NC_048631.1  YP_009829926   \n",
       "\n",
       "                                                 dna_seq  \\\n",
       "0      ATGGCTTTACATACTAGAAAAGAGTTCGCTGCTCTATGCAGAACAA...   \n",
       "1      TTGCGTAACACTAAACAAAACAACAGGCGGATAAGAAATTTCGTAA...   \n",
       "2      ATGGATTTTATTTTACTTTGTATCCAGTACGTTGTATTTTTTTTAT...   \n",
       "3      ATGAATTTAAAAGATATTTGGAAACAGCAGTTAAATTTTTTCAATT...   \n",
       "4      ATGTTAACAATTAGAGAATATATAGAATCCGTTGATTCGTTGGATT...   \n",
       "...                                                  ...   \n",
       "17846  TTGAAAAAGGATAGATACATTTATCCTGCTCTTTTCGATTATGATG...   \n",
       "17847  ATGAGTTCGCGAGAATTAATCAAGCTAATTGAAAAAGATGGTTGGT...   \n",
       "17848  ATGGGTTATAGGTATGATATGGGAAAATATAGTCCTCAGCAGCAAG...   \n",
       "17849  ATGATTGGAGGGATTGGAATGAAAAAAGCTTTGAAGCCTTGCAATG...   \n",
       "17850  ATGACCAGACTGCTTATCAAAGGCTGTTCAAAGATCAGGAAGCACG...   \n",
       "\n",
       "                                             protein_seq  label  \\\n",
       "0      MALHTRKEFAALCRTTIAVVNTNVNRNKIQLHDKKIDSQNAINKKF...      0   \n",
       "1      MRNTKQNNRRIRNFVTYHRSEFIYNVKVCCLFFLKQLEMKYLITAI...      0   \n",
       "2        MDFILLCIQYVVFFLLMTLIGLCLMYLIVISFVFVDELIYRIKRKDK      0   \n",
       "3      MNLKDIWKQQLNFFNSKLYSYKTIKAIPSEWVEKTIILDPEVSRFS...      0   \n",
       "4      MLTIREYIESVDSLDLKIAAIESLIDAMLLNAIDSISDSGTKIYSL...      0   \n",
       "...                                                  ...    ...   \n",
       "17846  MKKDRYIYPALFDYDDDGITVTFPDLPGCITFGNSDEEALTMAKEA...      0   \n",
       "17847  MSSRELIKLIEKDGWYEVRAKGSHHQFKHPTKPGTVTIPHPKKDFP...      0   \n",
       "17848  MGYRYDMGKYSPQQQAIVRQRDEAEKRRREEAERQKVKCEGSPRNG...      0   \n",
       "17849  MIGGIGMKKALKPCNEPGCPNLTREGYCEQHRRTKPAYDQYRESAA...      0   \n",
       "17850  MTRLLIKGCSKIRKHDNGIKEHYIKCPRCKAEYTSFYTNEDIRQMQ...      0   \n",
       "\n",
       "       scores_phageDPO  scores_DePP  scores_DepolyX  \n",
       "0                  0.0     0.243067        0.019835  \n",
       "1                 20.0     0.323357        0.019835  \n",
       "2                  0.0     0.031025        0.019835  \n",
       "3                 21.0     0.852377        0.019835  \n",
       "4                  4.0     0.077345        0.019835  \n",
       "...                ...          ...             ...  \n",
       "17846              3.0     0.165290        0.019835  \n",
       "17847              0.0     0.037511        0.019835  \n",
       "17848              0.0     0.159539        0.019835  \n",
       "17849              2.0     0.151246        0.019835  \n",
       "17850              0.0     0.087695        0.019835  \n",
       "\n",
       "[17851 rows x 8 columns]"
      ]
     },
     "execution_count": 55,
     "metadata": {},
     "output_type": "execute_result"
    }
   ],
   "source": [
    "import pandas as pd \n",
    "import os \n",
    "\n",
    "path_DePP_results = \"/media/concha-eloko/Linux/PhageDEPOdetection/data_Benchmarking\"\n",
    "df_final_results = pd.read_csv(f\"{path_DePP_results}/full_benchmark_dataframe.4L.2008.csv\", header = 0, sep = \",\")\n"
   ]
  },
  {
   "cell_type": "code",
   "execution_count": null,
   "metadata": {},
   "outputs": [],
   "source": [
    "import os \n",
    "\n",
    "path_fp_seq = \"/media/concha-eloko/Linux/PhageDEPOdetection\"\n",
    "pdb_source = \"/media/concha-eloko/Linux/PhageDEPOdetection/FP_pdb\"\n",
    "pdb_destination = \"/media/concha-eloko/Linux/PhageDEPOdetection/FP_2108\"\n",
    "fp_dico = {record.seq : record.id for record in SeqIO.parse(f\"{path_fp_seq}/Dpos_reference.T12_FP.multi.fasta\", \"fasta\")}\n",
    "fp_dico_r = {record.id : record.seq for record in SeqIO.parse(f\"{path_fp_seq}/Dpos_reference.T12_FP.multi.fasta\", \"fasta\")}\n",
    "\n",
    "FP_sequences = []\n",
    "\n",
    "for _,row in df_final_results.iterrows() : \n",
    "    if row[\"label\"] == 0 and row[\"scores_DepolyX\"] > 0.5 : \n",
    "        FP_sequences.append(row[\"protein_seq\"])\n"
   ]
  },
  {
   "cell_type": "code",
   "execution_count": null,
   "metadata": {},
   "outputs": [],
   "source": []
  }
 ],
 "metadata": {
  "kernelspec": {
   "display_name": "ML_work",
   "language": "python",
   "name": "ml_work"
  },
  "language_info": {
   "codemirror_mode": {
    "name": "ipython",
    "version": 3
   },
   "file_extension": ".py",
   "mimetype": "text/x-python",
   "name": "python",
   "nbconvert_exporter": "python",
   "pygments_lexer": "ipython3",
   "version": "3.11.4"
  },
  "widgets": {
   "application/vnd.jupyter.widget-state+json": {
    "state": {},
    "version_major": 2,
    "version_minor": 0
   }
  }
 },
 "nbformat": 4,
 "nbformat_minor": 4
}
