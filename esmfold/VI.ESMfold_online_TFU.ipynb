{
 "cells": [
  {
   "cell_type": "markdown",
   "metadata": {},
   "source": [
    "> Connect to the TFU node"
   ]
  },
  {
   "cell_type": "code",
   "execution_count": null,
   "metadata": {},
   "outputs": [],
   "source": [
    "# Set your GCP project id. \n",
    "export PROJECT_ID=\"ppt-project-382019\"\n",
    "# Modify Zone as applicable\n",
    "export ZONE=\"europe-west4-a\"\n",
    "export ZONE=\"us-central1-f\"\n",
    "\n",
    "gcloud alpha compute tpus tpu-vm create tfu-esmfold \\\n",
    " --project=${PROJECT_ID} \\\n",
    " --zone=${ZONE} \\\n",
    " --version=v2-alpha \\\n",
    " --accelerator-type=v2-8\n",
    " \n",
    "\n",
    "gcloud alpha compute tpus tpu-vm ssh tfu-esmfold \\\n",
    "   --project ${PROJECT_ID} \\\n",
    "   --zone ${ZONE} \\\n",
    "   --ssh-flag=\"-4 -L 9009:localhost:9009\""
   ]
  },
  {
   "cell_type": "markdown",
   "metadata": {},
   "source": [
    "> Create and activate the python environment "
   ]
  },
  {
   "cell_type": "code",
   "execution_count": null,
   "metadata": {},
   "outputs": [],
   "source": [
    "wget https://repo.anaconda.com/miniconda/Miniconda3-py38_23.1.0-1-Linux-x86_64.sh\n",
    "bash Miniconda3-py38_23.1.0-1-Linux-x86_64.sh\n",
    "\n",
    "exec bash\n",
    "\n",
    "conda create -n transformers\n",
    "conda activate transformers\n",
    "conda install python=3.8\n",
    "\n",
    "pip3 install https://storage.googleapis.com/tpu-pytorch/wheels/tpuvm/torch_xla-1.13-cp38-cp38-linux_x86_64.whl\n",
    "pip3 install https://storage.googleapis.com/tpu-pytorch/wheels/tpuvm/torch-1.13-cp38-cp38-linux_x86_64.whl\n",
    "pip3 install https://storage.googleapis.com/tpu-pytorch/wheels/tpuvm/torchvision-1.13-cp38-cp38-linux_x86_64.whl\n",
    "pip3 install torch_xla[tpuvm]\n",
    "pip install mkl\n",
    "pip install pyyaml\n",
    "\n",
    "export LD_LIBRARY_PATH=$LD_LIBRARY_PATH:/home/robbyconchaeloko/miniconda3/envs/transformers/lib\n",
    "export PATH=$PATH:/home/robbyconchaeloko/miniconda3/envs/transformers/lib\n",
    "    \n",
    "ln -s /home/robbyconchaeloko/miniconda3/envs/transformers/lib/libmkl_intel_lp64.so.2 /home/robbyconchaeloko/miniconda3/envs/transformers/lib/libmkl_intel_lp64.so.1\n",
    "ln -s /home/robbyconchaeloko/miniconda3/envs/transformers/lib/libmkl_intel_thread.so.2 /home/robbyconchaeloko/miniconda3/envs/transformers/lib/libmkl_intel_thread.so.1\n",
    "ln -s /home/robbyconchaeloko/miniconda3/envs/transformers/lib/libmkl_core.so.2 /home/robbyconchaeloko/miniconda3/envs/transformers/lib/libmkl_core.so.1\n",
    "\n",
    "ldd /home/robbyconchaeloko/miniconda3/envs/transformers/lib/python3.8/site-packages/torch/lib/libtorch.so\n",
    "\n",
    "apt-get install libomp5\n",
    "\n",
    "sudo ldconfig\n"
   ]
  },
  {
   "cell_type": "code",
   "execution_count": null,
   "metadata": {},
   "outputs": [],
   "source": []
  }
 ],
 "metadata": {
  "kernelspec": {
   "display_name": "Python 3",
   "language": "python",
   "name": "python3"
  },
  "language_info": {
   "codemirror_mode": {
    "name": "ipython",
    "version": 3
   },
   "file_extension": ".py",
   "mimetype": "text/x-python",
   "name": "python",
   "nbconvert_exporter": "python",
   "pygments_lexer": "ipython3",
   "version": "3.7.6"
  }
 },
 "nbformat": 4,
 "nbformat_minor": 4
}
