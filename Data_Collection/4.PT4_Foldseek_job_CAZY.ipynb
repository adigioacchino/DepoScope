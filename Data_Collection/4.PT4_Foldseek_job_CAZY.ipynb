{
 "cells": [
  {
   "cell_type": "markdown",
   "metadata": {},
   "source": [
    "# Goal : Scan the 3D predcitions with the Dpo fold database. \n",
    "## However, we will only scan the proteins that did not make it into the first version of the scan \n",
    "\n",
    "### A. Make the DB\n",
    "### B. Run Foldseek\n",
    "### C. Get the hits with good proba\n",
    "### D. Report the folds\n",
    "***"
   ]
  },
  {
   "cell_type": "markdown",
   "metadata": {},
   "source": [
    "# A"
   ]
  },
  {
   "cell_type": "code",
   "execution_count": null,
   "metadata": {
    "tags": []
   },
   "outputs": [],
   "source": [
    "rsync -avzhe ssh \\\n",
    "conchae@garnatxa.srv.cpd:/home/conchae/PhageDepo_pdb/Dpo_domains.phagedepo.0805.final.tsv \\\n",
    "/media/concha-eloko/Linux/depolymerase_building"
   ]
  },
  {
   "cell_type": "code",
   "execution_count": null,
   "metadata": {},
   "outputs": [],
   "source": [
    "path_pdb = \"/media/concha-eloko/Linux/PhageDEPOdetection/PDB_files\"\n",
    "path_CAZY_db = \"/media/concha-eloko/Linux/PhageDEPOdetection/Dpo_RefDB_v2\"\n",
    "\n",
    "with open(f\"{path_pdb}/folds_CAZY.tsv\", \"w\") as outfile :\n",
    "    outfile.write(f\"Groups\\tFolds\\tProtein\\n\")\n",
    "    for file in os.listdir(path_pdb) :\n",
    "        if os.path.isdir(f\"{path_pdb}/{file}\") == True and len(os.listdir(f\"{path_pdb}/{file}\"))>0:\n",
    "            fold = folds_dico[file].replace(\"_\" , \" \")\n",
    "            for pdb_file in os.listdir(f\"{path_pdb}/{file}\") :\n",
    "                outfile.write(f\"{file}\\t{fold}\\t{pdb_file}\\n\")\n"
   ]
  },
  {
   "cell_type": "code",
   "execution_count": null,
   "metadata": {},
   "outputs": [],
   "source": [
    "import os \n",
    "path_pdb = \"/media/concha-eloko/Linux/PhageDEPOdetection/PDB_files\"\n",
    "path_CAZY_db = \"/media/concha-eloko/Linux/PhageDEPOdetection/Dpo_RefDB_v2\"\n",
    "\n",
    "for file in os.listdir(path_pdb) :\n",
    "    if os.path.isdir(f\"{path_pdb}/{file}\") == True and len(os.listdir(f\"{path_pdb}/{file}\"))>0:\n",
    "        for pdb_file in os.listdir(f\"{path_pdb}/{file}\") :\n",
    "            os.system(f\"cp {path_pdb}/{file}/{pdb_file} {path_CAZY_db}\")"
   ]
  },
  {
   "cell_type": "code",
   "execution_count": null,
   "metadata": {},
   "outputs": [],
   "source": [
    "# Create the database : \n",
    "\n",
    "path_pdb_ref = \"/media/concha-eloko/Linux/depolymerase_building/pdb_depolymerase_domains\"\n",
    "\n",
    "# Generates the database :\n",
    "\n",
    "foldseek createdb \\\n",
    "/media/concha-eloko/Linux/PhageDEPOdetection/Dpo_RefDB_v2 \\\n",
    "/media/concha-eloko/Linux/depolymerase_building/Dpo_RefDB_v2/Dpo_RefDB_v2_db\n",
    "\n",
    "# Generate index files : \n",
    "\n",
    "foldseek createindex \\\n",
    "/media/concha-eloko/Linux/depolymerase_building/Dpo_RefDB_v2/Dpo_RefDB_v2_db \\ \n",
    "/media/concha-eloko/Linux/depolymerase_building/Dpo_RefDB_v2\n",
    "\n",
    "# Move to server :\n",
    "rsync -avzhe ssh \\\n",
    "/media/concha-eloko/Linux/depolymerase_building/RefDepo_domains \\\n",
    "conchae@garnatxa.srv.cpd:/home/conchae/depolymerase\n",
    "    \n",
    "rsync -avzhe ssh \\\n",
    "/media/concha-eloko/Linux/depolymerase_building/pdb_depolymerase_domains \\\n",
    "conchae@garnatxa.srv.cpd:/home/conchae/depolymerase"
   ]
  },
  {
   "cell_type": "markdown",
   "metadata": {},
   "source": [
    "***\n",
    "## B  "
   ]
  },
  {
   "cell_type": "markdown",
   "metadata": {},
   "source": [
    "> Get a list of the failed Dpos"
   ]
  },
  {
   "cell_type": "code",
   "execution_count": 55,
   "metadata": {},
   "outputs": [],
   "source": [
    "import pandas as pd\n",
    "import os \n",
    "\n",
    "path_project = \"/media/concha-eloko/Linux/depolymerase_building\"\n",
    "dir_out = f\"{path_project}/seekfold_phagedepo\"\n",
    "\n",
    "path_info = f\"/media/concha-eloko/Linux/depolymerase_building/depolymerase_fold.csv\"\n",
    "info_df = pd.read_csv(path_info , sep = \"\\t\", header = 0)\n",
    "\n",
    "first_batch_results = set()\n",
    "\n",
    "outputs = [f\"{dir_out}/{file}\" for file in os.listdir(dir_out) if file[-3:]==\"out\"]\n",
    "header_seekfold = [\"query\",\"target\",\"pident\",\"alnlen\",\"gapopen\",\"qstart\",\"qend\",\"tstart\",\"tend\",\"bits\",\"prob\"]\n",
    "\n",
    "for results in outputs :\n",
    "    results_df = pd.read_csv(f\"{results}\", sep = \"\\t\" , names = header_seekfold)\n",
    "    for _,row in results_df.iterrows() :\n",
    "        fold = info_df[info_df[\"ID\"] == row[\"target\"]][\"X_Group_Name\"].values[0]\n",
    "        if fold != \"jelly-roll\" : #and row[\"alnlen\"] >= 150\n",
    "            if row[\"prob\"] >= 0.5 :\n",
    "                first_batch_results.add((row[\"query\"] , fold))\n",
    "            elif fold == \"right-handed beta-helix\" and row[\"prob\"] >= 0.2 :\n",
    "                first_batch_results.add((row[\"query\"] , fold))\n",
    "\n",
    "first_batch_dpos = {dpo for (dpo,fold) in first_batch_results}\n",
    "\n"
   ]
  },
  {
   "cell_type": "code",
   "execution_count": 58,
   "metadata": {},
   "outputs": [],
   "source": [
    "import pandas as pd\n",
    "import os \n",
    "\n",
    "path_project = \"/media/concha-eloko/Linux/depolymerase_building\"\n",
    "dir_out = f\"{path_project}/seekfold_phagedepo\"\n",
    "\n",
    "path_info = f\"/media/concha-eloko/Linux/depolymerase_building/depolymerase_fold.csv\"\n",
    "info_df = pd.read_csv(path_info , sep = \"\\t\", header = 0)\n",
    "\n",
    "first_batch_results = set()\n",
    "\n",
    "outputs = [f\"{dir_out}/{file}\" for file in os.listdir(dir_out) if file[-3:]==\"out\"]\n",
    "header_seekfold = [\"query\",\"target\",\"pident\",\"alnlen\",\"gapopen\",\"qstart\",\"qend\",\"tstart\",\"tend\",\"bits\",\"prob\"]\n",
    "\n",
    "target_toroid = []\n",
    "for results in outputs :\n",
    "    results_df = pd.read_csv(f\"{results}\", sep = \"\\t\" , names = header_seekfold)\n",
    "    for _,row in results_df.iterrows() :\n",
    "        fold = info_df[info_df[\"ID\"] == row[\"target\"]][\"X_Group_Name\"].values[0]\n",
    "        if fold != \"jelly-roll\" : #and row[\"alnlen\"] >= 150\n",
    "            if row[\"prob\"] >= 0.5 :\n",
    "                if fold.count(\"( α / α )\") >= 0 :\n",
    "                    target_toroid.append(row[\"target\"])  \n",
    "                    break\n"
   ]
  },
  {
   "cell_type": "code",
   "execution_count": 59,
   "metadata": {
    "scrolled": true
   },
   "outputs": [
    {
     "data": {
      "text/plain": [
       "Counter({'AF-A0A658Y395-F1-model_v4.pdb': 357,\n",
       "         'AF-A0A1E5LEG1-F1-model_v4.pdb': 155,\n",
       "         'AF-A0A0A6QEK9-F1-model_v4.pdb': 66,\n",
       "         'AF-A0A0R3Q9P4-F1-model_v4.pdb': 60,\n",
       "         'AF-A0A654UB90-F1-model_v4.pdb': 56,\n",
       "         'AF-A0A0B5KP61-F1-model_v4.pdb': 51,\n",
       "         'AF-A0A7C4BP91-F1-model_v4.pdb': 43,\n",
       "         'AF-A0A0F6AK51-F1-model_v4.pdb': 39,\n",
       "         'AF-A0A831UGW4-F1-model_v4.pdb': 38,\n",
       "         'A1l_00058_A_1_1_128.pdb': 15,\n",
       "         'AF-A0A496B6X2-F1-model_v4.pdb': 12,\n",
       "         'AF-A0A562WF65-F1-model_v4.pdb': 7,\n",
       "         'AF-A0A202B6A7-F1-model_v4.pdb': 5,\n",
       "         'AF-A0A0E2ALL6-F1-model_v4.pdb': 4,\n",
       "         'AF-A0A7G2DEW9-F1-model_v4.pdb': 3,\n",
       "         'AF-A0A0D3A0D6-F1-model_v4.pdb': 2,\n",
       "         'AF-A0A7K3HGV9-F1-model_v4.pdb': 2,\n",
       "         'AF-A0A6V8K287-F1-model_v4.pdb': 1,\n",
       "         'AF-H9BBE9-F1-model_v4.pdb': 1,\n",
       "         'AF-P49371-F1-model_v4.pdb': 1})"
      ]
     },
     "execution_count": 59,
     "metadata": {},
     "output_type": "execute_result"
    }
   ],
   "source": [
    "Counter(target_toroid)"
   ]
  },
  {
   "cell_type": "code",
   "execution_count": null,
   "metadata": {},
   "outputs": [],
   "source": [
    "no length restriction : 957 \n",
    "150_amino acids : 930 "
   ]
  },
  {
   "cell_type": "code",
   "execution_count": null,
   "metadata": {
    "jupyter": {
     "source_hidden": true
    }
   },
   "outputs": [],
   "source": [
    "import subprocess\n",
    "import os\n",
    "\n",
    "path_project = \"/media/concha-eloko/Linux/depolymerase_building\"\n",
    "path_pdb = f\"{path_project}/phagedepo_out\"\n",
    "path_db = f\"/media/concha-eloko/Linux/depolymerase_building/Dpo_RefDB_v2/Dpo_RefDB_v2_db\"\n",
    "path_tmp = f\"{path_project}/tmp\"\n",
    "\n",
    "def seek_beta_helix(path_in) :\n",
    "    dir_out = f\"{path_project}/CAZY_seekfold\"\n",
    "    protein_id = path_in.split(\"/\")[-1].split(\".pdb\")[0]\n",
    "    path_out = f\"{dir_out}/{protein_id}.out\"\n",
    "    output_frmt = f\"query,target,pident,alnlen,gapopen,qstart,qend,tstart,tend,bits,prob\"\n",
    "    seek = f\"foldseek easy-search {path_in} {path_db} {path_out} {path_tmp} --format-output {output_frmt}\"\n",
    "    #seek = f\"foldseek easy-search {path_in} {path_db} {path_out}.html {path_tmp} --format-mode 3\"\n",
    "    seek_process = subprocess.Popen(seek, shell=True, stdout=subprocess.PIPE, stderr=subprocess.STDOUT)\n",
    "    press_out, press_err = seek_process.communicate()\n",
    "    print (press_out, press_err)\n",
    "\n",
    "paths = [f\"{path_pdb}/{file}\" for file in os.listdir(f\"{path_pdb}\") if file not in first_batch_dpos]\n",
    "\n",
    "\n",
    "for path in paths :\n",
    "    seek_beta_helix(path)"
   ]
  },
  {
   "cell_type": "markdown",
   "metadata": {},
   "source": [
    "***\n",
    "## C."
   ]
  },
  {
   "cell_type": "code",
   "execution_count": null,
   "metadata": {},
   "outputs": [],
   "source": [
    "import pandas as pd\n",
    "import os \n",
    "\n",
    "path_project = \"/media/concha-eloko/Linux/depolymerase_building\"\n",
    "dir_out = f\"{path_project}/CAZY_seekfold\"\n",
    "outputs = [f\"{dir_out}/{file}\" for file in os.listdir(dir_out) if file[-3:]==\"out\"]\n",
    "\n",
    "header_seekfold = [\"query\",\"target\",\"pident\",\"alnlen\",\"gapopen\",\"qstart\",\"qend\",\"tstart\",\"tend\",\"bits\",\"prob\"]\n",
    "\n",
    "depo_ppt = {}\n",
    "very_good = 0\n",
    "good = 0\n",
    "decent = 0 \n",
    "passable = 0\n",
    "for results in outputs :\n",
    "    results_df = pd.read_csv(f\"{results}\", sep = \"\\t\" , names = header_seekfold)\n",
    "    try : \n",
    "        if results_df[\"prob\"][0] > 0.1 :\n",
    "            depo_ppt[results_df[\"query\"][0]] = (results_df[\"target\"][0] , results_df[\"prob\"][0])\n",
    "            if results_df[\"prob\"][0] > 0.9 :\n",
    "                very_good += 1\n",
    "            elif results_df[\"prob\"][0] > 0.5 :\n",
    "                good += 1\n",
    "            elif results_df[\"prob\"][0] > 0.25 :\n",
    "                decent += 1\n",
    "            else :\n",
    "                passable += 1\n",
    "                \n",
    "    except IndexError :\n",
    "        pass\n",
    "\n",
    "import pprint\n",
    "#pp = pprint.PrettyPrinter(width = 100, sort_dicts = True, compact = True)\n",
    "\n",
    "\n",
    "print(f\"So far, out of {len((outputs))} proteins searched, {len(depo_ppt)} seemed to be positive in the phagedepo dataset ({len(depo_ppt)/len(outputs)} %).\\nThe proportion of very good is {very_good/len(depo_ppt)}\\nThe proportion of good is {good/len(depo_ppt)}\\nThe proportion of decent is {decent/len(depo_ppt)}\\nThe rest is {passable/len(depo_ppt)}\")\n"
   ]
  },
  {
   "cell_type": "code",
   "execution_count": null,
   "metadata": {},
   "outputs": [],
   "source": [
    "path_info = f\"/media/concha-eloko/Linux/PhageDEPOdetection/PDB_files/folds_CAZY.tsv\"\n",
    "info_df = pd.read_csv(path_info , sep = \"\\t\", header = 0)\n",
    "\n",
    "info_df[\"Folds\"].unique()"
   ]
  },
  {
   "cell_type": "markdown",
   "metadata": {},
   "source": [
    "***\n",
    "## C."
   ]
  },
  {
   "cell_type": "code",
   "execution_count": null,
   "metadata": {
    "jupyter": {
     "source_hidden": true
    },
    "scrolled": true
   },
   "outputs": [],
   "source": [
    "import pandas as pd\n",
    "import os \n",
    "\n",
    "path_project = \"/media/concha-eloko/Linux/depolymerase_building\"\n",
    "dir_out = f\"{path_project}/CAZY_seekfold\"\n",
    "\n",
    "path_info = f\"/media/concha-eloko/Linux/PhageDEPOdetection/PDB_files/folds_CAZY.tsv\"\n",
    "info_df = pd.read_csv(path_info , sep = \"\\t\", header = 0)\n",
    "\n",
    "dico_folds = {\"jelly-roll\" : [],\n",
    "              \"alpha/alpha toroid\" : [],\n",
    "              \"right-handed beta-helix\" : [] ,\n",
    "              \"TIM beta/alpha-barrel\" : [],\n",
    "              \"6-bladed beta-propeller\" : [] ,\n",
    "              \"Flavodoxin-like\" : [] ,\n",
    "              \"Alpha/Beta hydrolase fold\" : [] ,\n",
    "              \"Other\" : [],\n",
    "             }\n",
    "\n",
    "outputs = [f\"{dir_out}/{file}\" for file in os.listdir(dir_out) if file[-3:]==\"out\"]\n",
    "header_seekfold = [\"query\",\"target\",\"pident\",\"alnlen\",\"gapopen\",\"qstart\",\"qend\",\"tstart\",\"tend\",\"bits\",\"prob\"]\n",
    "depo_results = {}\n",
    "for results in outputs :\n",
    "    results_df = pd.read_csv(f\"{results}\", sep = \"\\t\" , names = header_seekfold)\n",
    "    for _,row in results_df.iterrows() :\n",
    "        if row[\"prob\"] >= 0.5 :\n",
    "            try : \n",
    "                fold = info_df[info_df[\"Protein\"] == row[\"target\"]][\"Folds\"].values[0]\n",
    "                if fold != \"parallel β-helix\" :\n",
    "                    if row[\"alnlen\"] >= 200 :\n",
    "                        print(row[\"target\"] , row[\"query\"], fold)\n",
    "                        break\n",
    "            except Exception as e :\n",
    "                pass"
   ]
  },
  {
   "cell_type": "code",
   "execution_count": 43,
   "metadata": {
    "scrolled": true
   },
   "outputs": [
    {
     "data": {
      "text/plain": [
       "164"
      ]
     },
     "execution_count": 43,
     "metadata": {},
     "output_type": "execute_result"
    }
   ],
   "source": [
    "import pandas as pd\n",
    "import os \n",
    "\n",
    "path_project = \"/media/concha-eloko/Linux/depolymerase_building\"\n",
    "dir_out = f\"{path_project}/CAZY_seekfold\"\n",
    "\n",
    "path_info = f\"/media/concha-eloko/Linux/PhageDEPOdetection/PDB_files/folds_CAZY.tsv\"\n",
    "info_df = pd.read_csv(path_info , sep = \"\\t\", header = 0)\n",
    "\n",
    "dico_folds = {\"jelly-roll\" : [],\n",
    "              \"alpha/alpha toroid\" : [],\n",
    "              \"right-handed beta-helix\" : [] ,\n",
    "              \"TIM beta/alpha-barrel\" : [],\n",
    "              \"6-bladed beta-propeller\" : [] ,\n",
    "              \"Flavodoxin-like\" : [] ,\n",
    "              \"Alpha/Beta hydrolase fold\" : [] ,\n",
    "              \"Other\" : [],\n",
    "             }\n",
    "\n",
    "outputs = [f\"{dir_out}/{file}\" for file in os.listdir(dir_out) if file[-3:]==\"out\"]\n",
    "header_seekfold = [\"query\",\"target\",\"pident\",\"alnlen\",\"gapopen\",\"qstart\",\"qend\",\"tstart\",\"tend\",\"bits\",\"prob\"]\n",
    "second_batch_results = set()\n",
    "fake_targets = set()\n",
    "\n",
    "for results in outputs :\n",
    "    results_df = pd.read_csv(f\"{results}\", sep = \"\\t\" , names = header_seekfold)\n",
    "    try : \n",
    "        for _,row in results_df.iterrows() :\n",
    "            if row[\"target\"].count(\"_\") ==0 :\n",
    "                if row[\"prob\"] >= 0.5 and row[\"alnlen\"] >= 200:\n",
    "                    if row[\"target\"] not in info_df[\"Protein\"].tolist() :\n",
    "                        fake_targets.add(row[\"target\"])\n",
    "                        continue\n",
    "                    else :\n",
    "                        #filtered_df = info_df[info_df[\"Protein\"] == row[\"target\"]]\n",
    "                        fold = info_df[info_df[\"Protein\"] == row[\"target\"]][\"Folds\"].values[0]\n",
    "                        if fold != \"jelly-roll\" :\n",
    "                            second_batch_results.add((row[\"query\"] , fold))\n",
    "                            break\n",
    "                        else :\n",
    "                            continue\n",
    "    except Exception as e :\n",
    "        print(e , row[\"query\"])\n",
    "        print(results_df)\n",
    "                \n",
    "second_batch_dpos = {dpo for (dpo,fold) in second_batch_results}\n",
    "len(second_batch_dpos)"
   ]
  },
  {
   "cell_type": "code",
   "execution_count": 44,
   "metadata": {
    "scrolled": true
   },
   "outputs": [
    {
     "data": {
      "text/plain": [
       "1121"
      ]
     },
     "execution_count": 44,
     "metadata": {},
     "output_type": "execute_result"
    }
   ],
   "source": [
    "all_hits = first_batch_results.union(second_batch_results)\n",
    "len(all_hits)"
   ]
  },
  {
   "cell_type": "code",
   "execution_count": 54,
   "metadata": {
    "scrolled": true
   },
   "outputs": [
    {
     "name": "stdout",
     "output_type": "stream",
     "text": [
      "('721.pdb', '( α / α ) 6 barrel')\n",
      "('2074.pdb', '( α / α ) 6 barrel')\n",
      "('3294.pdb', '( α / α ) 6 barrel')\n",
      "('6511.pdb', '( α / α ) 6 barrel')\n",
      "('213.pdb', '( α / α ) 6 barrel')\n",
      "('3348.pdb', '( α / α ) 6 barrel')\n",
      "('2549.pdb', '( α / α ) 6 barrel')\n",
      "('3883.pdb', '( α / α ) 6 barrel')\n",
      "('5536.pdb', '( α / α ) 6 barrel')\n",
      "('6577.pdb', '( α / α ) 6 barrel')\n",
      "('2558.pdb', '( α / α ) 6 barrel')\n",
      "('3803.pdb', '( α / α ) 6 barrel')\n",
      "('3308.pdb', '( α / α ) 6 barrel')\n",
      "('5365.pdb', '( α / α ) 6 barrel')\n",
      "('5367.pdb', '( α / α ) 6 barrel')\n",
      "('6194.pdb', '( α / α ) 6 barrel')\n",
      "('3135.pdb', '( α / α ) 6 barrel')\n",
      "('1672.pdb', '( α / α ) 6 barrel')\n",
      "('3099.pdb', '( α / α ) 6 barrel')\n",
      "('3302.pdb', '( α / α ) 6 barrel')\n",
      "('5363.pdb', '( α / α ) 6 barrel')\n",
      "('5801.pdb', '( α / α ) 6 barrel')\n",
      "('3125.pdb', '( α / α ) 6 barrel')\n",
      "('2575.pdb', '( α / α ) 6 barrel')\n",
      "('3564.pdb', '( α / α ) 6 barrel')\n",
      "('5135.pdb', '( α / α ) 6 barrel')\n",
      "('5351.pdb', '( α / α ) 6 barrel')\n",
      "('5728.pdb', '( α / α ) 6 barrel')\n",
      "('6538.pdb', '( α / α ) 6 barrel')\n",
      "('1443.pdb', '( α / α ) 6 barrel')\n",
      "('5612.pdb', '( α / α ) 6 barrel')\n",
      "('2170.pdb', '( α / α ) 6 barrel')\n",
      "('5206.pdb', '( α / α ) 6 barrel')\n",
      "('5717.pdb', '( α / α ) 6 barrel')\n",
      "('1821.pdb', '( α / α ) 6 barrel')\n",
      "('325.pdb', '( α / α ) 6 barrel')\n",
      "('1452.pdb', '( α / α ) 6 barrel')\n"
     ]
    }
   ],
   "source": [
    "for hit in all_hits : \n",
    "    if hit[1] == \"( α / α ) 6 barrel\" : \n",
    "        print(hit)"
   ]
  },
  {
   "cell_type": "code",
   "execution_count": 46,
   "metadata": {},
   "outputs": [
    {
     "data": {
      "text/plain": [
       "Counter({'right-handed beta-helix': 828,\n",
       "         '6-bladed beta-propeller': 118,\n",
       "         '( β / α ) 8 barrel': 62,\n",
       "         '( α / α ) 6 barrel': 37,\n",
       "         '5-fold β-propeller': 17,\n",
       "         'parallel β-helix': 13,\n",
       "         'β-propeller': 12,\n",
       "         '6-bladed β-propeller': 10,\n",
       "         'β-jelly roll': 9,\n",
       "         'TIM beta/alpha-barrel': 7,\n",
       "         'Other': 4,\n",
       "         '( α / α ) 6 toroid + anti-parallel β-sheet': 2,\n",
       "         'lysozyme fold': 1,\n",
       "         '( β / α ) 7 barrel': 1})"
      ]
     },
     "execution_count": 46,
     "metadata": {},
     "output_type": "execute_result"
    }
   ],
   "source": [
    "from collections import Counter \n",
    "\n",
    "len(all_hits)\n",
    "dpos_folds_list = [item[1] for item in all_hits]\n",
    "Counter(dpos_folds_list)"
   ]
  },
  {
   "cell_type": "code",
   "execution_count": 62,
   "metadata": {},
   "outputs": [
    {
     "data": {
      "text/html": [
       "<div>\n",
       "<style scoped>\n",
       "    .dataframe tbody tr th:only-of-type {\n",
       "        vertical-align: middle;\n",
       "    }\n",
       "\n",
       "    .dataframe tbody tr th {\n",
       "        vertical-align: top;\n",
       "    }\n",
       "\n",
       "    .dataframe thead th {\n",
       "        text-align: right;\n",
       "    }\n",
       "</style>\n",
       "<table border=\"1\" class=\"dataframe\">\n",
       "  <thead>\n",
       "    <tr style=\"text-align: right;\">\n",
       "      <th></th>\n",
       "      <th>Groups</th>\n",
       "      <th>Folds</th>\n",
       "      <th>Protein</th>\n",
       "    </tr>\n",
       "  </thead>\n",
       "  <tbody>\n",
       "    <tr>\n",
       "      <th>0</th>\n",
       "      <td>PL6_1</td>\n",
       "      <td>parallel β-helix</td>\n",
       "      <td>5gkd.pdb</td>\n",
       "    </tr>\n",
       "    <tr>\n",
       "      <th>1</th>\n",
       "      <td>PL6_1</td>\n",
       "      <td>parallel β-helix</td>\n",
       "      <td>7dmk.pdb</td>\n",
       "    </tr>\n",
       "    <tr>\n",
       "      <th>2</th>\n",
       "      <td>PL6_1</td>\n",
       "      <td>parallel β-helix</td>\n",
       "      <td>5gkq.pdb</td>\n",
       "    </tr>\n",
       "    <tr>\n",
       "      <th>3</th>\n",
       "      <td>GH16_3</td>\n",
       "      <td>β-jelly roll</td>\n",
       "      <td>2vy0.pdb</td>\n",
       "    </tr>\n",
       "    <tr>\n",
       "      <th>4</th>\n",
       "      <td>GH94</td>\n",
       "      <td>( α / α ) 6 barrel</td>\n",
       "      <td>3qde.pdb</td>\n",
       "    </tr>\n",
       "    <tr>\n",
       "      <th>...</th>\n",
       "      <td>...</td>\n",
       "      <td>...</td>\n",
       "      <td>...</td>\n",
       "    </tr>\n",
       "    <tr>\n",
       "      <th>388</th>\n",
       "      <td>GH43_1</td>\n",
       "      <td>5-fold β-propeller</td>\n",
       "      <td>5gll.pdb</td>\n",
       "    </tr>\n",
       "    <tr>\n",
       "      <th>389</th>\n",
       "      <td>GH43_1</td>\n",
       "      <td>5-fold β-propeller</td>\n",
       "      <td>5glk.pdb</td>\n",
       "    </tr>\n",
       "    <tr>\n",
       "      <th>390</th>\n",
       "      <td>GH152</td>\n",
       "      <td>β-jelly roll</td>\n",
       "      <td>3zs3.pdb</td>\n",
       "    </tr>\n",
       "    <tr>\n",
       "      <th>391</th>\n",
       "      <td>GH152</td>\n",
       "      <td>β-jelly roll</td>\n",
       "      <td>7p20.pdb</td>\n",
       "    </tr>\n",
       "    <tr>\n",
       "      <th>392</th>\n",
       "      <td>GH152</td>\n",
       "      <td>β-jelly roll</td>\n",
       "      <td>1aun.pdb</td>\n",
       "    </tr>\n",
       "  </tbody>\n",
       "</table>\n",
       "<p>393 rows × 3 columns</p>\n",
       "</div>"
      ],
      "text/plain": [
       "     Groups               Folds   Protein\n",
       "0     PL6_1    parallel β-helix  5gkd.pdb\n",
       "1     PL6_1    parallel β-helix  7dmk.pdb\n",
       "2     PL6_1    parallel β-helix  5gkq.pdb\n",
       "3    GH16_3        β-jelly roll  2vy0.pdb\n",
       "4      GH94  ( α / α ) 6 barrel  3qde.pdb\n",
       "..      ...                 ...       ...\n",
       "388  GH43_1  5-fold β-propeller  5gll.pdb\n",
       "389  GH43_1  5-fold β-propeller  5glk.pdb\n",
       "390   GH152        β-jelly roll  3zs3.pdb\n",
       "391   GH152        β-jelly roll  7p20.pdb\n",
       "392   GH152        β-jelly roll  1aun.pdb\n",
       "\n",
       "[393 rows x 3 columns]"
      ]
     },
     "execution_count": 62,
     "metadata": {},
     "output_type": "execute_result"
    }
   ],
   "source": [
    "import pandas as pd\n",
    "import os \n",
    "\n",
    "path_project = \"/media/concha-eloko/Linux/depolymerase_building\"\n",
    "dir_out = f\"{path_project}/CAZY_seekfold\"\n",
    "\n",
    "path_info = f\"/media/concha-eloko/Linux/PhageDEPOdetection/PDB_files/folds_CAZY.tsv\"\n",
    "info_df = pd.read_csv(path_info , sep = \"\\t\", header = 0)\n",
    "\n",
    "dico_folds = {\"jelly-roll\" : [],\n",
    "              \"alpha/alpha toroid\" : [],\n",
    "              \"right-handed beta-helix\" : [] ,\n",
    "              \"TIM beta/alpha-barrel\" : [],\n",
    "              \"6-bladed beta-propeller\" : [] ,\n",
    "              \"Flavodoxin-like\" : [] ,\n",
    "              \"Alpha/Beta hydrolase fold\" : [] ,\n",
    "              \"Other\" : [],\n",
    "             }\n",
    "\n",
    "info_df"
   ]
  },
  {
   "cell_type": "code",
   "execution_count": 68,
   "metadata": {},
   "outputs": [],
   "source": [
    "import pandas as pd\n",
    "import os \n",
    "\n",
    "path_project = \"/media/concha-eloko/Linux/depolymerase_building\"\n",
    "dir_out = f\"{path_project}/CAZY_seekfold\"\n",
    "\n",
    "path_info = f\"/media/concha-eloko/Linux/PhageDEPOdetection/PDB_files/folds_CAZY.tsv\"\n",
    "info_df = pd.read_csv(path_info , sep = \"\\t\", header = 0)\n",
    "\n",
    "dico_folds = {\"jelly-roll\" : [],\n",
    "              \"alpha/alpha toroid\" : [],\n",
    "              \"right-handed beta-helix\" : [] ,\n",
    "              \"TIM beta/alpha-barrel\" : [],\n",
    "              \"6-bladed beta-propeller\" : [] ,\n",
    "              \"Flavodoxin-like\" : [] ,\n",
    "              \"Alpha/Beta hydrolase fold\" : [] ,\n",
    "              \"Other\" : [],\n",
    "             }\n",
    "\n",
    "outputs = [f\"{dir_out}/{file}\" for file in os.listdir(dir_out) if file[-3:]==\"out\"]\n",
    "header_seekfold = [\"query\",\"target\",\"pident\",\"alnlen\",\"gapopen\",\"qstart\",\"qend\",\"tstart\",\"tend\",\"bits\",\"prob\"]\n",
    "target_toroid = []\n",
    "\n",
    "for results in outputs :\n",
    "    try : \n",
    "        results_df = pd.read_csv(f\"{results}\", sep = \"\\t\" , names = header_seekfold)\n",
    "        for _,row in results_df.iterrows() :\n",
    "            fold = info_df[info_df[\"Protein\"] == row[\"target\"]][\"Folds\"].values[0]\n",
    "            if fold != \"jelly-roll\" and row[\"alnlen\"] >= 150 :\n",
    "                if row[\"prob\"] >= 0.5 :\n",
    "                    if fold.count(\"( α / α )\") >= 0 :\n",
    "                        target_toroid.append(row[\"target\"])  \n",
    "                        break\n",
    "    except Exception as e :\n",
    "        pass \n"
   ]
  },
  {
   "cell_type": "code",
   "execution_count": 66,
   "metadata": {},
   "outputs": [
    {
     "data": {
      "text/plain": [
       "Counter({'4yzp.pdb': 32,\n",
       "         '1wky.pdb': 23,\n",
       "         '2y8k.pdb': 11,\n",
       "         '1ug9.pdb': 7,\n",
       "         '6u4z.pdb': 6,\n",
       "         '6k0m.pdb': 3,\n",
       "         '5awo.pdb': 3,\n",
       "         '1nkg.pdb': 2,\n",
       "         '5mqs.pdb': 2,\n",
       "         '3a0n.pdb': 1,\n",
       "         '3pe7.pdb': 1,\n",
       "         '7fgz.pdb': 1,\n",
       "         '7nde.pdb': 1,\n",
       "         '3jug.pdb': 1,\n",
       "         '6kcw.pdb': 1,\n",
       "         '6num.pdb': 1,\n",
       "         '5jov.pdb': 1,\n",
       "         '1vd5.pdb': 1})"
      ]
     },
     "execution_count": 66,
     "metadata": {},
     "output_type": "execute_result"
    }
   ],
   "source": [
    "Counter(target_toroid)"
   ]
  },
  {
   "cell_type": "code",
   "execution_count": null,
   "metadata": {},
   "outputs": [],
   "source": [
    "dpos_folds = {item[1] for item in all_hits}\n",
    "dpos_folds"
   ]
  },
  {
   "cell_type": "code",
   "execution_count": 47,
   "metadata": {},
   "outputs": [
    {
     "data": {
      "text/plain": [
       "147"
      ]
     },
     "execution_count": 47,
     "metadata": {},
     "output_type": "execute_result"
    }
   ],
   "source": [
    "118+12+17"
   ]
  },
  {
   "cell_type": "code",
   "execution_count": null,
   "metadata": {},
   "outputs": [],
   "source": [
    "inclusion = ['( α / α ) 6 barrel',\n",
    " '( α / α ) 6 toroid + anti-parallel β-sheet',\n",
    " '( α / α ) 7 barrel',\n",
    " '( β / α ) 7 barrel',\n",
    " '( β / α ) 8 (inferred)',\n",
    " '( β / α ) 8 barrel',\n",
    " 'Other',\n",
    " 'TIM beta/alpha-barrel',\n",
    " 'β-sandwich + β-sheet']\n",
    "\n",
    "hits_originals = {item for item in all_hits if item[1] in inclusion}"
   ]
  },
  {
   "cell_type": "code",
   "execution_count": 37,
   "metadata": {},
   "outputs": [
    {
     "ename": "NameError",
     "evalue": "name 'hits_originals' is not defined",
     "output_type": "error",
     "traceback": [
      "\u001b[0;31m---------------------------------------------------------------------------\u001b[0m",
      "\u001b[0;31mNameError\u001b[0m                                 Traceback (most recent call last)",
      "Cell \u001b[0;32mIn[37], line 1\u001b[0m\n\u001b[0;32m----> 1\u001b[0m \u001b[38;5;28;01mfor\u001b[39;00m item \u001b[38;5;129;01min\u001b[39;00m \u001b[43mhits_originals\u001b[49m : \n\u001b[1;32m      2\u001b[0m     \u001b[38;5;28;01mif\u001b[39;00m item[\u001b[38;5;241m1\u001b[39m] \u001b[38;5;241m==\u001b[39m \u001b[38;5;124m\"\u001b[39m\u001b[38;5;124mβ-sandwich + β-sheet\u001b[39m\u001b[38;5;124m\"\u001b[39m :\n\u001b[1;32m      3\u001b[0m         \u001b[38;5;28mprint\u001b[39m(item)\n",
      "\u001b[0;31mNameError\u001b[0m: name 'hits_originals' is not defined"
     ]
    }
   ],
   "source": [
    "for item in hits_originals : \n",
    "    if item[1] == \"β-sandwich + β-sheet\" :\n",
    "        print(item)"
   ]
  },
  {
   "cell_type": "code",
   "execution_count": null,
   "metadata": {},
   "outputs": [],
   "source": [
    "from Bio import SeqIO\n",
    "\n",
    "def extract_sequence_from_pdb(pdb_path):\n",
    "    for record in SeqIO.parse(pdb_path, \"pdb-atom\"):\n",
    "        return str(record.seq)"
   ]
  },
  {
   "cell_type": "code",
   "execution_count": null,
   "metadata": {},
   "outputs": [],
   "source": [
    "with open(f\"{path_project}/rare_folds.tsv\" , \"w\") as outfile :\n",
    "    "
   ]
  },
  {
   "cell_type": "code",
   "execution_count": null,
   "metadata": {
    "scrolled": true
   },
   "outputs": [],
   "source": [
    "path_pdb = \"/media/concha-eloko/Linux/depolymerase_building/phagedepo_out\"\n",
    "\n",
    "with open(f\"{path_project}/rare_folds.tsv\" , \"w\") as outfile :    \n",
    "    outfile.write(f\"Fold\\tprotein_id\\taa_sequence\\n\")\n",
    "    for dpo_item in hits_originals :\n",
    "        try : \n",
    "            seq = extract_sequence_from_pdb(f\"{path_pdb}/{dpo_item[0]}\")\n",
    "            os.system(f\"cp {path_pdb}/{dpo_item[0]} /media/concha-eloko/Linux/depolymerase_building/rare_folds_pdb\")\n",
    "            outfile.write(f\"{dpo_item[1]}\\t{dpo_item[0]}\\t{seq}\\n\")\n",
    "        except Exception as e :\n",
    "            pass"
   ]
  },
  {
   "cell_type": "code",
   "execution_count": null,
   "metadata": {
    "tags": []
   },
   "outputs": [],
   "source": [
    "pp = pprint.PrettyPrinter(width = 100, sort_dicts = True, compact = True)\n",
    "\n",
    "pp.pprint(decipher_phagedepo)"
   ]
  },
  {
   "cell_type": "markdown",
   "metadata": {},
   "source": [
    "***\n",
    "# Make the CAZY DB"
   ]
  }
 ],
 "metadata": {
  "kernelspec": {
   "display_name": "Python 3 (ipykernel)",
   "language": "python",
   "name": "python3"
  },
  "language_info": {
   "codemirror_mode": {
    "name": "ipython",
    "version": 3
   },
   "file_extension": ".py",
   "mimetype": "text/x-python",
   "name": "python",
   "nbconvert_exporter": "python",
   "pygments_lexer": "ipython3",
   "version": "3.11.4"
  },
  "widgets": {
   "application/vnd.jupyter.widget-state+json": {
    "state": {},
    "version_major": 2,
    "version_minor": 0
   }
  }
 },
 "nbformat": 4,
 "nbformat_minor": 4
}
